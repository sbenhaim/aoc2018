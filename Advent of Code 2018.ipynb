{
 "cells": [
  {
   "cell_type": "markdown",
   "metadata": {},
   "source": [
    "# Day 1:1"
   ]
  },
  {
   "cell_type": "code",
   "execution_count": 75,
   "metadata": {},
   "outputs": [
    {
     "data": {
      "text/plain": [
       "500"
      ]
     },
     "execution_count": 75,
     "metadata": {},
     "output_type": "execute_result"
    }
   ],
   "source": [
    "d = [ 13, -18, 13, 10, 12, -4, 17, -16, -6, 10, 4, -1, 7, 13, -1, 16, -7, -6, 18, -6, 13, -8, 2, 16, -5, -14, -5, -2, 11, 17, 17, 9, -14, -17, 7, 16, -15, -13, -13, -11, 1, 6, -5, -4, -19, 9, -7, -18, 7, 8, -17, -6, -12, 9, -12, -13, 5, -12, 8, 9, 5, 11, -19, 11, -16, 15, -18, -12, 19, -18, -7, 5, -9, 13, 13, 8, -16, 3, -16, 7, -9, -12, -18, -12, 14, 18, -11, 2, 11, -18, -3, 5, -8, 18, 12, 18, 8, 4, 25, -13, 11, 7, -8, 16, 14, -7, -16, 22, -12, -8, 19, 6, 5, 8, 1, 26, 17, 14, 13, 18, 5, -17, -1, 6, -1, -3, -18, -6, 15, 16, 7, 18, 8, 13, 3, -18, -9, -17, 13, -5, 2, -5, 11, -9, 4, 13, 8, 2, -11, -11, -22, 13, -19, -19, 18, 10, 3, 10, 21, -13, 16, 1, 15, 17, 17, -5, 16, 17, 10, 4, 1, -3, -14, 18, -17, -6, -9, 17, -6, 1, -17, 7, -6, 2, 3, -11, -16, -17, -11, -1, -2, -17, 22, 3, 12, -13, 8, 20, 8, 6, -1, -4, 19, 17, 13, 8, 4, 6, 20, 9, 2, -3, 18, 6, -18, -8, 13, -4, 3, 13, 15, -7, 11, -15, 7, -17, 9, 18, 15, -12, 11, 6, 7, -17, 18, -4, -1, -15, -15, 4, -12, 11, 15, -12, -13, -17, 1, 2, 3, -17, 10, -7, -6, 10, -20, -11, -15, 8, -2, -12, 18, -16, -8, 4, 13, 20, -15, 11, 12, -16, 15, -12, -13, 12, -17, 16, 23, -18, -12, 2, 11, 3, -13, 17, 21, -24, 6, 11, -23, -18, -28, -1, -2, 16, 4, -13, 18, -16, -3, 5, 17, -4, -7, -13, -9, -16, -8, -7, 22, -19, -10, 6, 3, 23, -4, 5, -15, -17, -8, -8, 6, 6, -2, -15, 12, 6, -11, -9, -9, 15, -26, -6, -18, -7, -19, -2, 1, 3, 12, -11, -23, -4, -15, 9, -14, -5, -28, -9, 16, 22, 7, -16, 7, -1, 17, -12, 18, 12, -10, 4, -5, 14, -12, -6, 25, 13, -10, -9, 13, 21, -17, -9, -4, 18, -24, -1, -14, 10, 42, 24, -7, -6, 12, 8, 4, 24, -4, 18, 1, -24, 21, 17, 16, 51, -21, 70, -8, 15, 16, 2, -3, 10, 19, 15, 8, 21, 11, 10, -2, -7, -7, 5, -19, 7, -16, -1, 2, -14, -4, -14, 19, -7, -11, 7, 5, -10, -15, 4, -10, -11, -13, -11, 12, 13, -10, 3, 18, -9, 1, 12, 12, 18, -6, 4, -5, -3, 18, 1, -4, -33, 17, -4, 7, -13, 52, -3, -3, -18, -3, -5, 13, 9, 18, 23, -21, -15, -16, -23, -9, -4, -40, -3, 86, 18, -2, 27, -1, -12, 71, -8, 20, 37, -36, 43, -40, -69, -13, 35, 4, 6, -17, -178, -56, -14, -243, 3, 204, -22, 517, -71500, -244, -6, 19, -18, 1, 19, -23, -18, 10, 6, -14, 9, -7, 19, -11, -5, 23, 8, -6, -18, -20, -18, -7, 2, -11, 8, -18, 7, -14, 15, -19, -17, -10, -12, -6, 10, -6, 5, -7, 5, -11, -2, -15, 10, 1, -9, 18, 14, -10, -12, -13, 19, -15, -10, -5, -16, -12, 14, -15, -4, -9, -9, -11, -6, 2, 17, 11, -5, 19, 18, -19, 3, 3, 11, -3, 12, 7, 5, -10, -4, -6, -2, 7, -3, -7, 19, 2, 9, -8, 9, -15, -2, 18, -23, -23, -15, -6, 17, 17, -5, 14, -13, -18, -11, -10, -19, -5, -13, 12, -5, 16, 15, -6, -16, -8, -21, -2, 7, -3, -16, -6, 14, 7, 3, 5, -19, 6, 7, 11, -2, 4, -9, -16, -4, -15, -6, 7, -12, -8, -13, -8, 9, 3, 4, -6, 14, 13, -15, -18, -3, -2, 19, -1, 8, -14, 3, -17, -13, -2, 12, -2, 15, 13, 22, -3, 8, 16, -13, 15, -13, -6, -18, 10, -7, -5, 7, 12, -1, 5, 2, 10, 17, 22, -10, -5, 25, 5, -13, -10, -16, 19, -9, 5, 20, 10, -1, 9, -5, 23, -17, -14, -18, 9, -20, 14, 36, 16, 11, -24, -2, -3, -1, 20, -3, 8, 21, 11, 17, 14, 8, 3, 18, -15, 8, -16, 12, 8, 13, 16, -3, -16, 7, -15, 5, -2, 6, 10, -5, 2, -4, 18, 15, -3, -17, 4, 8, 15, -19, -11, 19, -1, 14, -19, 8, 3, 10, 16, -23, 2, -4, -9, 12, 18, -32, 8, -16, 25, 2, 4, -41, -8, -3, -19, 9, -2, 1, -9, 4, -17, -9, 11, 3, 20, -17, -9, 16, -18, -9, -12, 5, -3, 16, -23, 59, -23, 12, -16, -8, 15, 8, 25, -77, -48, 1, -26, 9, -17, -13, -29, -7, -3, -22, 18, -21, -26, -17, 2, 11, 11, 6, 11, 13, 13, 23, 24, 2, 17, -48, -38, -21, -10, 18, -27, -19, 6, 12, -14, -5, 2, 8, -14, -7, 2, -18, -10, -12, 13, 2, -18, 10, 3, 13, 6, -1, -4, -20, 4, -12, 9, -3, 1, 14, 17, -2, -12, 7, -16, -2, -14, -18, -5, 17, -10, 7, 5, -7, -3, -13, 15, 7, -5, -18, 4, -14, -9, -13, -16, -8, -6, 10, -1, 19, 14, -13, 4, 13, -9, 8, 6, -2, -15, 13, -8, 21, 11, -18, 16, -10, 6, 3, 20, 8, -9, -12, -20, 18, -12, -13, -13, 3, -2, -10, -1, 19, -4, -9, -7, 3, -4, -18, -16, 19, -12, 16, 5, 15, -11, -6, -21, 4, -19, -13, 10, 4, 7, -43, 34, 40, 23, 9, 14, 19, 11, 22, 9, -11, 22, 11, 11, -20, -17, 7, 15, -23, 6, -17, -8, -8, -4, 24, 18, 8, 17, -22, 19, 71889 ]\n",
    "sum( d )"
   ]
  },
  {
   "cell_type": "markdown",
   "metadata": {},
   "source": [
    "# Day 1:2"
   ]
  },
  {
   "cell_type": "code",
   "execution_count": 76,
   "metadata": {},
   "outputs": [
    {
     "name": "stdout",
     "output_type": "stream",
     "text": [
      "709\n"
     ]
    }
   ],
   "source": [
    "s = set()\n",
    "n = 0\n",
    "found = False\n",
    "\n",
    "while found == False:\n",
    "    for i in d:\n",
    "        n += i\n",
    "        if n in s:\n",
    "            print(n)\n",
    "            found = True\n",
    "            break\n",
    "\n",
    "        s.add( n )"
   ]
  },
  {
   "cell_type": "markdown",
   "metadata": {},
   "source": [
    "# Day 2:1"
   ]
  },
  {
   "cell_type": "code",
   "execution_count": 77,
   "metadata": {},
   "outputs": [
    {
     "data": {
      "text/plain": [
       "7533"
      ]
     },
     "execution_count": 77,
     "metadata": {},
     "output_type": "execute_result"
    }
   ],
   "source": [
    "s = {2: 0, 3:0}\n",
    "i = [ 'mphcuiszrnjzxwkbgdzqeoyxfa', 'mihcuisgrnjzxwkbgdtqeoylia', 'mphauisvrnjgxwkbgdtqeiylfa', 'mphcuisnrnjzxwkbgdgqeoylua', 'mphcuisurnjzxwkbgdtqeoilfi', 'mkhcuisvrnjzowkbgdteeoylfa', 'mphcoicvrnjzxwksgdtqeoylfa', 'mxhcuisvrndzxwkbgdtqeeylfa', 'dphcuisijnjzxwkbgdtqeoylfa', 'mihvuisvrqjzxwkbgdtqeoylfa', 'mphcuisrrnvzxwkbgdtqeodlfa', 'mphtuisdrnjzxskbgdtqeoylfa', 'mphcutmvsnjzxwkbgdtqeoylfa', 'mphcunsvrnjzswkggdtqeoylfa', 'mphcuisvrwjzxwkbpdtqeoylfr', 'mphcujsdrnjzxwkbgdtqeovlfa', 'mpfcuisvrdjzxwkbgdtteoylfa', 'mppcuisvrpjzxwkbgdtqeoywfa', 'mphcuisvrnjzxwkbfptqroylfa', 'mphcuisvrnjzxwkbgstoeoysfa', 'mphcufsvrnjzcwkbgdeqeoylfa', 'mphcuissrnjzxwkbgdkquoylfa', 'sphcuxsvrnjzxwkbgdtqioylfa', 'mphcuiivrhjzxwkbgdtqevylfa', 'echcuisvrnjzxwkbgltqeoylfa', 'mphcuisvrljexwkbvdtqeoylfa', 'mpjcuisvrnjzxwkhidtqeoylfa', 'mphcuisvrfjzmwkbgdtqeoylfl', 'mwhcuisvrnjzxwkbgdtqeoytfm', 'mphcuisvrsjzxwkbgdaqeoylfh', 'mohcuisvrnjzxwkbgdtqtoymfa', 'maycuisvrnjzxwkbgdtqboylfa', 'pphcuisvqnjzxwkbgdtqeoylfd', 'mprcuisvrnjtxwmbgdtqeoylfa', 'mfhcuisgrnjzxckbgdtqeoylfa', 'mphiubsvrnjzxwkbgdtqeoyufa', 'dphctisvrnjzxwkbgdtqeoylfk', 'mphcuisvrnjznwksgdtqeoyzfa', 'mpwcuisvrnjziwkbgdtqaoylfa', 'mphduzsvrnjznwkbgdtqeoylfa', 'mphccisvrnjzxwebgdtqeoylqa', 'xphcuisvrnjzxwkfvdtqeoylfa', 'mphcupsvrnjzxwkbgdtfeoylpa', 'mphcuisvrtjzjwkbgdtqeoylfe', 'mpbcuisvrnjzxwkbgdmieoylfa', 'mphcuisvrnjzxwkbgjtqetylaa', 'mphcuisvrnjzxwpbgdtgdoylfa', 'ophcufsvrqjzxwkbgdtqeoylfa', 'iphcuhsvrnjzxwkbgetqeoylfa', 'mphcuisvunjzxwwbgdtqeoylqa', 'mphcpisvrnjzowkbgdtveoylfa', 'mphcuisvrnjzxhkbgdtqeotlla', 'mphcuisvrnjzxwkbodtgeoylha', 'mphcuisvrjjzxwkbwdtqtoylfa', 'mphcwisvrnjnxwkbgjtqeoylfa', 'mplcuicqrnjzxwkbgdtqeoylfa', 'mphcuisvrnjzxydbgdtqeoylfn', 'ophckisvrnjzxwkbgdtqeozlfa', 'mphcuisvrkjzxwkbgdtteoblfa', 'yphcuisvrnjcxwkbggtqeoylfa', 'mphcuisvrnazxwfbqdtqeoylfa', 'mphcuisvrmjzxwkbgdtlwoylfa', 'mphctksvrnjzxwibgdtqeoylfa', 'mphcuisprnjzxlebgdtqeoylfa', 'mphcuisnrnjzxakbgdtueoylfa', 'mphcuiavrnjoxwtbgdtqeoylfa', 'nphcuisvrnjzxwkbgdtqzoylfk', 'mphcuisrrnjmxwkbgdtqdoylfa', 'mphcuisvrujzxwkvgdtqehylfa', 'mphcuisvrnfzxwkogdtqebylfa', 'mphcuisvrnjwdwkbgdtqeoyxfa', 'mphcuisvrntzxwkrgxtqeoylfa', 'mpzcuisvrnjzxwebgdtqeoylsa', 'aphcuikvrnjzxwwbgdtqeoylfa', 'mphcqisvrnjzxwkpgdtqeoelfa', 'mphcuusvrnjzxwkbgdtjeodlfa', 'mphcuisvrnjzewkbgdtteoylza', 'mphcuisvanjzxwkbgdtheoylfc', 'mphcjishrnjzxwkbgltqeoylfa', 'mpxcuislrnjzxwkbgdtqeoynfa', 'mphcuisvrnjjxwkbgdtmeoxlfa', 'mphcimsvrnjzxwkbsdtqeoylfa', 'mphcxisvcnjzxwjbgdtqeoylfa', 'mphcuisbrvjzxwkbgdtqeoymfa', 'mplcuisvrnjzxwkbgdtaenylfa', 'mphcuihvrnjzxwkygytqeoylfa', 'mphcbisvrnjzxhkbgdtqezylfa', 'mphcuisarnjzxwkbgatqeoylfv', 'mphcumsvrnjzxwkbgdrqebylfa', 'mlhcuisvrnwzxwkbgdtqeoylfx', 'mpkcuisvrkjzxwkbgdtqeoylfo', 'mphcuissrnjzxwkbgdtqmoylfc', 'mphcuiwvrnjuxwkfgdtqeoylfa', 'mphcuicvlnjzxwkbgdvqeoylfa', 'mphcuisvrvvzxwkbfdtqeoylfa', 'myhcuisvrnjpxwkbgntqeoylfa', 'mpocuisvrnjzxwtbgitqeoylfa', 'mphcuisvrnjzxwkbgdtwewyqfa', 'mphcuisvtnjzxwwbgdtqeoolfa', 'mphcuisvrnjzxgkbgdyqeoyyfa', 'mphcuisvrdjzxwkbgpyqeoylfa', 'bphcuisvrnjzxwkbgxtqefylfa', 'sphcuisvrdjzxwktgdtqeoylfa', 'mphcuvsvrnjmxwobgdtqeoylfa', 'mphcuisvrnjzxwkbsdtqeuylfb', 'mnhcmisvynjzxwkbgdtqeoylfa', 'mphckisvrnjzxwkhgdkqeoylfa', 'mpacuisvrnjzxwkbgdtqeoolaa', 'mpgcuisvrnjzxwkbzdtqeoynfa', 'mphcuisvrojzxwkbzdtqeoylga', 'mphcuisvknjfxwkbydtqeoylfa', 'mphcuistrnjzxwkbgdqqeuylfa', 'bpvcuiszrnjzxwkbgdtqeoylfa', 'mphcuxsvrnjzswkbgdtqeoelfa', 'mphcuisvbnjzxwlbgdtqeoylla', 'mphcuisvonczxwkbgktqeoylfa', 'mphcuisvrnkzxwvbgdtquoylfa', 'mphcuisvrnjzxokfgdtqeoylia', 'tphcuisvrnjzxwkbjdwqeoylfa', 'mihcuisvrnjzpwibgdtqeoylfa', 'mphcuisvrejzxwkbgdtqjuylfa', 'mprcuisvrnjixwkxgdtqeoylfa', 'mpqcuiszrnjzxwkbgdtqeodlfa', 'mphcuasvrnjzzakbgdtqeoylva', 'mphcuisvrnjzmwkbtdtqeoycfa', 'mphcuisvrnjzxwkbcdtqioylxa', 'mphckisvrnjzxwkbcdtqeoylfm', 'mphcuisvrnjuxwbogdtqeoylfa', 'mphcuisdrnjzxwkbldtqeoylfx', 'mphcuisvrnjoxwkbgdtqeyyyfa', 'mphcuicvqnjzxwkbgdtqeoylna', 'mpmcuisvrnjzxwkbgdtqktylfa', 'mphcuisvrnqzxwkggdtqeoykfa', 'mphcuisvryjzxwkbydtqejylfa', 'mphcugsvrnjzxwkbghtqeeylfa', 'rphcuusvrnjzxwkwgdtqeoylfa', 'zphwuiyvrnjzxwkbgdtqeoylfa', 'cphcuivvrnjzxwkbgdtqenylfa', 'mphcuisvrnjzxwkagotqevylfa', 'mprcuisvrcjzxwkbgdtqeoytfa', 'mphjugsvrnezxwkbgdtqeoylfa', 'mphcuisvryjzxwkbgltqeoylaa', 'mphcursvrnjzxfkbgdtqeoydfa', 'mphcuisvrcuzxwkbgdtqeoylfw', 'mphcuisvrijzxwkbgdtqeoelfh', 'xphcuisvenjzxjkbgdtqeoylfa', 'mphcuisvrnazxwkbgdeqeoylaa', 'mphcuisbrsjzxwkbgdtqeoygfa', 'mlhvuisvrnjzxwkbgdtqeoylfh', 'mphcuisvrnjzxukbgdtqeoyhfy', 'mpzcuilvrnjzawkbgdtqeoylfa', 'hphcuisjfnjzxwkbgdtqeoylfa', 'mahcuisvrnjzxwkegdtqeoylfi', 'mphcuixvrnjzcwkbgdtqetylfa', 'mphcuisvrnjzxwkdgdtqeoklfj', 'mlhcuisvrnjzxwkbgdteeoylka', 'mphcuifvrnjbxwkrgdtqeoylfa', 'mphcuasvrnjzzwkbgdtqeoylva', 'mphcuisvrnjzxwkboutqeoylba', 'mbhcuisvcnjzxwklgdtqeoylfa', 'mpbcuisvrnjzxgkbgdtqesylfa', 'mphcuisvrnjfswkbgdtqeoylfd', 'mphcuisvrnjzxwkbgdoweoysfa', 'uphcuisvrnjzrwkbgdtqelylfa', 'mphcuisvrnjzxwkbgdtqyoylsi', 'mpqcuiqvxnjzxwkbgdtqeoylfa', 'mphcuisorfjzxwkbgatqeoylfa', 'mphcuisvrntfxwkbzdtqeoylfa', 'mphcuisvrnrzxwkbgdtueoylfl', 'mphcuisvrnjzewkagdtyeoylfa', 'mpocuisdrnjzxwkbgdtqeozlfa', 'mphcuisvrnjjxwkbgdtoeoylfm', 'mphcuisvenjzxwkbgdtqwoylza', 'mpmcuisvrnjzxwkbgdtqeoxlfr', 'mphcuisvgnjhxwkbgdtqeoplfa', 'mphcuisvrnjzowkdgdtqeoyyfa', 'mphcuisqynjzxwkbgdtqeoylda', 'hphcuisvgnjzxwkbgdtbeoylfa', 'iphcuipvrnuzxwkbgdtqeoylfa', 'mphcuisvrnjzsikbpdtqeoylfa', 'mpwcuhsvrnjzxbkbgdtqeoylfa', 'mnhjuisvcnjzxwkbgdtqeoylfa', 'mphcudsvrnjzxwkbgdtqloilfa', 'mpncuiwvrwjzxwkbgdtqeoylfa', 'mphcuisvrnjgawkbgdtqeoylya', 'mphcuisvrnjzxwkbggtteoslfa', 'mphcuisvrnjzxwkbgdvqeoylpe', 'mphcuisvrnczxfkbgktqeoylfa', 'mphcuifvrnjzxwkbgdbmeoylfa', 'mphcuisvrnjytwkbgdtqeoylla', 'mphcuisvrnjzxwkbgdtjeoxlfn', 'mphjuisvrnjzxwkbghtqeoyffa', 'mphcuisvrnjzxkrbgdtqeoylaa', 'mphcbisvrnjzxwkbgttqeoylfs', 'mphkuksvbnjzxwkbgdtqeoylfa', 'nphcuidvrnjzxwhbgdtqeoylfa', 'mphguzsvrnjzxwkbgdaqeoylfa', 'mihcuisfrnjzxwkbgdtqhoylfa', 'mphcuisvrnrzxwpbgdtqesylfa', 'zphcuisvrnjzxwkbddtqeoylaa', 'mphcuigvmnjzxwkbgdtqeoylba', 'mjhcuisvrnjzxjkbgdtqeoylha', 'mphnuisvrnjznwkbgdtqnoylfa', 'mkhcuisvrnjcxwkbgdqqeoylfa', 'mphcuisvenjzxwbbqdtqeoylfa', 'qphcuisnrnjzawkbgdtqeoylfa', 'mphcuisvrdjzxwkbgdtqeoywca', 'mphcuzsvvnjzxwfbgdtqeoylfa', 'pphcuxsvrnjzxwkbgdtmeoylfa', 'mphiuvsvrnjzxlkbgdtqeoylfa', 'mphlqisvrnjzxkkbgdtqeoylfa', 'mmhcuisvrnjzxwkbgatqeoylea', 'mphduisrrnjoxwkbgdtqeoylfa', 'mphcuisvrnjnxwkvgdyqeoylfa', 'mphcuvsvrnjzxgkbgdtqeoylfz', 'mphcuisvryjzxwkbggtqkoylfa', 'iphcuisvrdjzxwkbgotqeoylfa', 'mphcuisvrnjzxwhbgdtqwoyofa', 'mphcorbvrnjzxwkbgdtqeoylfa', 'mghcuisvrnpzxykbgdtqeoylfa', 'mphauisvrnjnxwkbzdtqeoylfa', 'mphcgisvrnjzxwkwgdtqeoygfa', 'mphcuisvrnjzxwkggotqeoylba', 'mphcuesvrnjzxwkbgdwqebylfa', 'yphcuisvrnjzxwkbgdxqeoylja', 'ephyuisvrnjzywkbgdtqeoylfa', 'mfhcuisqrnjzxwkbgdlqeoylfa', 'mphkuisvrnjzxwkbertqeoylfa', 'mphcuusgrnjzxwkbggtqeoylfa', 'mphcuildrnjvxwkbgdtqeoylfa', 'mphcuiuvrnjzlwkbgwtqeoylfa', 'mppcuisvrljzxwkbgdtqeoylfw', 'mphcwiwvrnjzxwsbgdtqeoylfa', 'mphcubivrnjzxwkqgdtqeoylfa', 'mphcuisvrnjpxwkngdtqeoylpa', 'pchcuisvrgjzxwkbgdtqeoylfa', 'mphcuisvlnjzxwkbgdtmeoylfw', 'mphcuisvrnjzywkbgdvqeoylfj', 'mpzcuisvrnezxwktgdtqeoylfa', 'mphcuisvrnjbxwkbgzrqeoylfa', 'mphcuisvrnjzxwktgdtqeodtfa', 'jphcuiavrnjzxwkbgdtqeoylfv', 'mphcuisvrnjzxwkbddppeoylfa', 'mphcuissrkjzxwkbgxtqeoylfa', 'mphcuisvrhjzxwxbgdtqeoylxa', 'mphcvisvgnjjxwkbgdtqeoylfa', 'mphcuisprnjwxwtbgdtqeoylfa', 'mphcuissrnjzxqkbgdtqeoymfa', 'mphcuiabrnjzxokbgdtqeoylfa', 'mphcuisvrnczxwkbgmtpeoylfa'  ]\n",
    "\n",
    "for w in i:\n",
    "    \n",
    "    two = 0\n",
    "    three = 0\n",
    "\n",
    "    for l in set( w ):\n",
    "        if w.count(l) == 2:\n",
    "            two = 1 \n",
    "\n",
    "        if w.count(l) == 3:\n",
    "            three = 1 \n",
    "\n",
    "    s[2] += two\n",
    "    s[3] += three\n",
    "    \n",
    "s[2] * s[3]"
   ]
  },
  {
   "cell_type": "markdown",
   "metadata": {},
   "source": [
    "# Day 2:2"
   ]
  },
  {
   "cell_type": "code",
   "execution_count": 78,
   "metadata": {},
   "outputs": [
    {
     "name": "stdout",
     "output_type": "stream",
     "text": [
      "a\n",
      "mphcuasvrnjzzakbgdtqeoylva:mphcuasvrnjzzwkbgdtqeoylva\n"
     ]
    }
   ],
   "source": [
    "input = [ 'mphcuiszrnjzxwkbgdzqeoyxfa', 'mihcuisgrnjzxwkbgdtqeoylia', 'mphauisvrnjgxwkbgdtqeiylfa', 'mphcuisnrnjzxwkbgdgqeoylua', 'mphcuisurnjzxwkbgdtqeoilfi', 'mkhcuisvrnjzowkbgdteeoylfa', 'mphcoicvrnjzxwksgdtqeoylfa', 'mxhcuisvrndzxwkbgdtqeeylfa', 'dphcuisijnjzxwkbgdtqeoylfa', 'mihvuisvrqjzxwkbgdtqeoylfa', 'mphcuisrrnvzxwkbgdtqeodlfa', 'mphtuisdrnjzxskbgdtqeoylfa', 'mphcutmvsnjzxwkbgdtqeoylfa', 'mphcunsvrnjzswkggdtqeoylfa', 'mphcuisvrwjzxwkbpdtqeoylfr', 'mphcujsdrnjzxwkbgdtqeovlfa', 'mpfcuisvrdjzxwkbgdtteoylfa', 'mppcuisvrpjzxwkbgdtqeoywfa', 'mphcuisvrnjzxwkbfptqroylfa', 'mphcuisvrnjzxwkbgstoeoysfa', 'mphcufsvrnjzcwkbgdeqeoylfa', 'mphcuissrnjzxwkbgdkquoylfa', 'sphcuxsvrnjzxwkbgdtqioylfa', 'mphcuiivrhjzxwkbgdtqevylfa', 'echcuisvrnjzxwkbgltqeoylfa', 'mphcuisvrljexwkbvdtqeoylfa', 'mpjcuisvrnjzxwkhidtqeoylfa', 'mphcuisvrfjzmwkbgdtqeoylfl', 'mwhcuisvrnjzxwkbgdtqeoytfm', 'mphcuisvrsjzxwkbgdaqeoylfh', 'mohcuisvrnjzxwkbgdtqtoymfa', 'maycuisvrnjzxwkbgdtqboylfa', 'pphcuisvqnjzxwkbgdtqeoylfd', 'mprcuisvrnjtxwmbgdtqeoylfa', 'mfhcuisgrnjzxckbgdtqeoylfa', 'mphiubsvrnjzxwkbgdtqeoyufa', 'dphctisvrnjzxwkbgdtqeoylfk', 'mphcuisvrnjznwksgdtqeoyzfa', 'mpwcuisvrnjziwkbgdtqaoylfa', 'mphduzsvrnjznwkbgdtqeoylfa', 'mphccisvrnjzxwebgdtqeoylqa', 'xphcuisvrnjzxwkfvdtqeoylfa', 'mphcupsvrnjzxwkbgdtfeoylpa', 'mphcuisvrtjzjwkbgdtqeoylfe', 'mpbcuisvrnjzxwkbgdmieoylfa', 'mphcuisvrnjzxwkbgjtqetylaa', 'mphcuisvrnjzxwpbgdtgdoylfa', 'ophcufsvrqjzxwkbgdtqeoylfa', 'iphcuhsvrnjzxwkbgetqeoylfa', 'mphcuisvunjzxwwbgdtqeoylqa', 'mphcpisvrnjzowkbgdtveoylfa', 'mphcuisvrnjzxhkbgdtqeotlla', 'mphcuisvrnjzxwkbodtgeoylha', 'mphcuisvrjjzxwkbwdtqtoylfa', 'mphcwisvrnjnxwkbgjtqeoylfa', 'mplcuicqrnjzxwkbgdtqeoylfa', 'mphcuisvrnjzxydbgdtqeoylfn', 'ophckisvrnjzxwkbgdtqeozlfa', 'mphcuisvrkjzxwkbgdtteoblfa', 'yphcuisvrnjcxwkbggtqeoylfa', 'mphcuisvrnazxwfbqdtqeoylfa', 'mphcuisvrmjzxwkbgdtlwoylfa', 'mphctksvrnjzxwibgdtqeoylfa', 'mphcuisprnjzxlebgdtqeoylfa', 'mphcuisnrnjzxakbgdtueoylfa', 'mphcuiavrnjoxwtbgdtqeoylfa', 'nphcuisvrnjzxwkbgdtqzoylfk', 'mphcuisrrnjmxwkbgdtqdoylfa', 'mphcuisvrujzxwkvgdtqehylfa', 'mphcuisvrnfzxwkogdtqebylfa', 'mphcuisvrnjwdwkbgdtqeoyxfa', 'mphcuisvrntzxwkrgxtqeoylfa', 'mpzcuisvrnjzxwebgdtqeoylsa', 'aphcuikvrnjzxwwbgdtqeoylfa', 'mphcqisvrnjzxwkpgdtqeoelfa', 'mphcuusvrnjzxwkbgdtjeodlfa', 'mphcuisvrnjzewkbgdtteoylza', 'mphcuisvanjzxwkbgdtheoylfc', 'mphcjishrnjzxwkbgltqeoylfa', 'mpxcuislrnjzxwkbgdtqeoynfa', 'mphcuisvrnjjxwkbgdtmeoxlfa', 'mphcimsvrnjzxwkbsdtqeoylfa', 'mphcxisvcnjzxwjbgdtqeoylfa', 'mphcuisbrvjzxwkbgdtqeoymfa', 'mplcuisvrnjzxwkbgdtaenylfa', 'mphcuihvrnjzxwkygytqeoylfa', 'mphcbisvrnjzxhkbgdtqezylfa', 'mphcuisarnjzxwkbgatqeoylfv', 'mphcumsvrnjzxwkbgdrqebylfa', 'mlhcuisvrnwzxwkbgdtqeoylfx', 'mpkcuisvrkjzxwkbgdtqeoylfo', 'mphcuissrnjzxwkbgdtqmoylfc', 'mphcuiwvrnjuxwkfgdtqeoylfa', 'mphcuicvlnjzxwkbgdvqeoylfa', 'mphcuisvrvvzxwkbfdtqeoylfa', 'myhcuisvrnjpxwkbgntqeoylfa', 'mpocuisvrnjzxwtbgitqeoylfa', 'mphcuisvrnjzxwkbgdtwewyqfa', 'mphcuisvtnjzxwwbgdtqeoolfa', 'mphcuisvrnjzxgkbgdyqeoyyfa', 'mphcuisvrdjzxwkbgpyqeoylfa', 'bphcuisvrnjzxwkbgxtqefylfa', 'sphcuisvrdjzxwktgdtqeoylfa', 'mphcuvsvrnjmxwobgdtqeoylfa', 'mphcuisvrnjzxwkbsdtqeuylfb', 'mnhcmisvynjzxwkbgdtqeoylfa', 'mphckisvrnjzxwkhgdkqeoylfa', 'mpacuisvrnjzxwkbgdtqeoolaa', 'mpgcuisvrnjzxwkbzdtqeoynfa', 'mphcuisvrojzxwkbzdtqeoylga', 'mphcuisvknjfxwkbydtqeoylfa', 'mphcuistrnjzxwkbgdqqeuylfa', 'bpvcuiszrnjzxwkbgdtqeoylfa', 'mphcuxsvrnjzswkbgdtqeoelfa', 'mphcuisvbnjzxwlbgdtqeoylla', 'mphcuisvonczxwkbgktqeoylfa', 'mphcuisvrnkzxwvbgdtquoylfa', 'mphcuisvrnjzxokfgdtqeoylia', 'tphcuisvrnjzxwkbjdwqeoylfa', 'mihcuisvrnjzpwibgdtqeoylfa', 'mphcuisvrejzxwkbgdtqjuylfa', 'mprcuisvrnjixwkxgdtqeoylfa', 'mpqcuiszrnjzxwkbgdtqeodlfa', 'mphcuasvrnjzzakbgdtqeoylva', 'mphcuisvrnjzmwkbtdtqeoycfa', 'mphcuisvrnjzxwkbcdtqioylxa', 'mphckisvrnjzxwkbcdtqeoylfm', 'mphcuisvrnjuxwbogdtqeoylfa', 'mphcuisdrnjzxwkbldtqeoylfx', 'mphcuisvrnjoxwkbgdtqeyyyfa', 'mphcuicvqnjzxwkbgdtqeoylna', 'mpmcuisvrnjzxwkbgdtqktylfa', 'mphcuisvrnqzxwkggdtqeoykfa', 'mphcuisvryjzxwkbydtqejylfa', 'mphcugsvrnjzxwkbghtqeeylfa', 'rphcuusvrnjzxwkwgdtqeoylfa', 'zphwuiyvrnjzxwkbgdtqeoylfa', 'cphcuivvrnjzxwkbgdtqenylfa', 'mphcuisvrnjzxwkagotqevylfa', 'mprcuisvrcjzxwkbgdtqeoytfa', 'mphjugsvrnezxwkbgdtqeoylfa', 'mphcuisvryjzxwkbgltqeoylaa', 'mphcursvrnjzxfkbgdtqeoydfa', 'mphcuisvrcuzxwkbgdtqeoylfw', 'mphcuisvrijzxwkbgdtqeoelfh', 'xphcuisvenjzxjkbgdtqeoylfa', 'mphcuisvrnazxwkbgdeqeoylaa', 'mphcuisbrsjzxwkbgdtqeoygfa', 'mlhvuisvrnjzxwkbgdtqeoylfh', 'mphcuisvrnjzxukbgdtqeoyhfy', 'mpzcuilvrnjzawkbgdtqeoylfa', 'hphcuisjfnjzxwkbgdtqeoylfa', 'mahcuisvrnjzxwkegdtqeoylfi', 'mphcuixvrnjzcwkbgdtqetylfa', 'mphcuisvrnjzxwkdgdtqeoklfj', 'mlhcuisvrnjzxwkbgdteeoylka', 'mphcuifvrnjbxwkrgdtqeoylfa', 'mphcuasvrnjzzwkbgdtqeoylva', 'mphcuisvrnjzxwkboutqeoylba', 'mbhcuisvcnjzxwklgdtqeoylfa', 'mpbcuisvrnjzxgkbgdtqesylfa', 'mphcuisvrnjfswkbgdtqeoylfd', 'mphcuisvrnjzxwkbgdoweoysfa', 'uphcuisvrnjzrwkbgdtqelylfa', 'mphcuisvrnjzxwkbgdtqyoylsi', 'mpqcuiqvxnjzxwkbgdtqeoylfa', 'mphcuisorfjzxwkbgatqeoylfa', 'mphcuisvrntfxwkbzdtqeoylfa', 'mphcuisvrnrzxwkbgdtueoylfl', 'mphcuisvrnjzewkagdtyeoylfa', 'mpocuisdrnjzxwkbgdtqeozlfa', 'mphcuisvrnjjxwkbgdtoeoylfm', 'mphcuisvenjzxwkbgdtqwoylza', 'mpmcuisvrnjzxwkbgdtqeoxlfr', 'mphcuisvgnjhxwkbgdtqeoplfa', 'mphcuisvrnjzowkdgdtqeoyyfa', 'mphcuisqynjzxwkbgdtqeoylda', 'hphcuisvgnjzxwkbgdtbeoylfa', 'iphcuipvrnuzxwkbgdtqeoylfa', 'mphcuisvrnjzsikbpdtqeoylfa', 'mpwcuhsvrnjzxbkbgdtqeoylfa', 'mnhjuisvcnjzxwkbgdtqeoylfa', 'mphcudsvrnjzxwkbgdtqloilfa', 'mpncuiwvrwjzxwkbgdtqeoylfa', 'mphcuisvrnjgawkbgdtqeoylya', 'mphcuisvrnjzxwkbggtteoslfa', 'mphcuisvrnjzxwkbgdvqeoylpe', 'mphcuisvrnczxfkbgktqeoylfa', 'mphcuifvrnjzxwkbgdbmeoylfa', 'mphcuisvrnjytwkbgdtqeoylla', 'mphcuisvrnjzxwkbgdtjeoxlfn', 'mphjuisvrnjzxwkbghtqeoyffa', 'mphcuisvrnjzxkrbgdtqeoylaa', 'mphcbisvrnjzxwkbgttqeoylfs', 'mphkuksvbnjzxwkbgdtqeoylfa', 'nphcuidvrnjzxwhbgdtqeoylfa', 'mphguzsvrnjzxwkbgdaqeoylfa', 'mihcuisfrnjzxwkbgdtqhoylfa', 'mphcuisvrnrzxwpbgdtqesylfa', 'zphcuisvrnjzxwkbddtqeoylaa', 'mphcuigvmnjzxwkbgdtqeoylba', 'mjhcuisvrnjzxjkbgdtqeoylha', 'mphnuisvrnjznwkbgdtqnoylfa', 'mkhcuisvrnjcxwkbgdqqeoylfa', 'mphcuisvenjzxwbbqdtqeoylfa', 'qphcuisnrnjzawkbgdtqeoylfa', 'mphcuisvrdjzxwkbgdtqeoywca', 'mphcuzsvvnjzxwfbgdtqeoylfa', 'pphcuxsvrnjzxwkbgdtmeoylfa', 'mphiuvsvrnjzxlkbgdtqeoylfa', 'mphlqisvrnjzxkkbgdtqeoylfa', 'mmhcuisvrnjzxwkbgatqeoylea', 'mphduisrrnjoxwkbgdtqeoylfa', 'mphcuisvrnjnxwkvgdyqeoylfa', 'mphcuvsvrnjzxgkbgdtqeoylfz', 'mphcuisvryjzxwkbggtqkoylfa', 'iphcuisvrdjzxwkbgotqeoylfa', 'mphcuisvrnjzxwhbgdtqwoyofa', 'mphcorbvrnjzxwkbgdtqeoylfa', 'mghcuisvrnpzxykbgdtqeoylfa', 'mphauisvrnjnxwkbzdtqeoylfa', 'mphcgisvrnjzxwkwgdtqeoygfa', 'mphcuisvrnjzxwkggotqeoylba', 'mphcuesvrnjzxwkbgdwqebylfa', 'yphcuisvrnjzxwkbgdxqeoylja', 'ephyuisvrnjzywkbgdtqeoylfa', 'mfhcuisqrnjzxwkbgdlqeoylfa', 'mphkuisvrnjzxwkbertqeoylfa', 'mphcuusgrnjzxwkbggtqeoylfa', 'mphcuildrnjvxwkbgdtqeoylfa', 'mphcuiuvrnjzlwkbgwtqeoylfa', 'mppcuisvrljzxwkbgdtqeoylfw', 'mphcwiwvrnjzxwsbgdtqeoylfa', 'mphcubivrnjzxwkqgdtqeoylfa', 'mphcuisvrnjpxwkngdtqeoylpa', 'pchcuisvrgjzxwkbgdtqeoylfa', 'mphcuisvlnjzxwkbgdtmeoylfw', 'mphcuisvrnjzywkbgdvqeoylfj', 'mpzcuisvrnezxwktgdtqeoylfa', 'mphcuisvrnjbxwkbgzrqeoylfa', 'mphcuisvrnjzxwktgdtqeodtfa', 'jphcuiavrnjzxwkbgdtqeoylfv', 'mphcuisvrnjzxwkbddppeoylfa', 'mphcuissrkjzxwkbgxtqeoylfa', 'mphcuisvrhjzxwxbgdtqeoylxa', 'mphcvisvgnjjxwkbgdtqeoylfa', 'mphcuisprnjwxwtbgdtqeoylfa', 'mphcuissrnjzxqkbgdtqeoymfa', 'mphcuiabrnjzxokbgdtqeoylfa', 'mphcuisvrnczxwkbgmtpeoylfa'  ]\n",
    "\n",
    "for i in range( len( input ) ):\n",
    "    w1 = input[i]\n",
    "    for w2 in input[(i + 1):]:\n",
    "        diff = 0\n",
    "        for j in range( len( w1 ) ):\n",
    "            if w1[j] != w2[j]:\n",
    "                diff += 1\n",
    "                letter = w1[j]\n",
    "            if diff > 1:\n",
    "                break\n",
    "            \n",
    "        if diff == 1:\n",
    "            print( letter )\n",
    "            print( f\"{w1}:{w2}\" )\n",
    "    \n",
    "    "
   ]
  },
  {
   "cell_type": "markdown",
   "metadata": {},
   "source": [
    "# Day 3:1"
   ]
  },
  {
   "cell_type": "code",
   "execution_count": 115,
   "metadata": {},
   "outputs": [
    {
     "data": {
      "text/plain": [
       "97218"
      ]
     },
     "execution_count": 115,
     "metadata": {},
     "output_type": "execute_result"
    }
   ],
   "source": [
    "import itertools\n",
    "import re\n",
    "input = [ '#1 @ 565,109: 14x24', '#2 @ 413,723: 16x28', '#3 @ 136,229: 27x11', '#4 @ 640,187: 10x17', '#5 @ 666,879: 15x23', '#6 @ 20,696: 19x12', '#7 @ 543,767: 19x26', '#8 @ 92,312: 17x19', '#9 @ 833,99: 21x17', '#10 @ 795,572: 26x21', '#11 @ 801,965: 12x21', '#12 @ 385,951: 10x7', '#13 @ 18,241: 10x13', '#14 @ 86,656: 24x12', '#15 @ 505,955: 11x10', '#16 @ 744,538: 25x20', '#17 @ 91,488: 21x10', '#18 @ 266,291: 11x20', '#19 @ 618,42: 24x16', '#20 @ 377,422: 19x26', '#21 @ 469,38: 17x28', '#22 @ 559,768: 29x10', '#23 @ 493,151: 28x24', '#24 @ 222,123: 21x16', '#25 @ 473,797: 15x17', '#26 @ 434,107: 14x26', '#27 @ 627,844: 25x13', '#28 @ 146,715: 10x10', '#29 @ 297,86: 20x19', '#30 @ 813,476: 15x27', '#31 @ 428,417: 28x17', '#32 @ 202,163: 13x29', '#33 @ 934,273: 13x20', '#34 @ 418,254: 28x26', '#35 @ 918,798: 12x27', '#36 @ 486,798: 13x10', '#37 @ 652,31: 12x16', '#38 @ 456,898: 21x23', '#39 @ 330,300: 10x27', '#40 @ 901,713: 24x29', '#41 @ 337,809: 18x25', '#42 @ 966,349: 13x26', '#43 @ 69,782: 17x15', '#44 @ 364,954: 14x15', '#45 @ 780,50: 13x13', '#46 @ 378,632: 14x16', '#47 @ 847,186: 29x12', '#48 @ 143,18: 11x17', '#49 @ 519,65: 22x13', '#50 @ 137,871: 19x17', '#51 @ 242,133: 20x10', '#52 @ 517,715: 17x25', '#53 @ 674,378: 12x26', '#54 @ 921,787: 28x14', '#55 @ 383,711: 14x17', '#56 @ 691,82: 12x25', '#57 @ 600,656: 25x16', '#58 @ 399,291: 24x16', '#59 @ 345,679: 19x13', '#60 @ 599,311: 14x10', '#61 @ 181,410: 27x27', '#62 @ 415,718: 24x16', '#63 @ 567,945: 27x13', '#64 @ 113,9: 17x21', '#65 @ 639,492: 20x25', '#66 @ 425,414: 12x14', '#67 @ 805,970: 3x6', '#68 @ 575,489: 22x13', '#69 @ 897,117: 16x13', '#70 @ 722,393: 29x25', '#71 @ 56,120: 11x18', '#72 @ 698,724: 19x26', '#73 @ 737,490: 26x28', '#74 @ 129,628: 10x23', '#75 @ 656,488: 22x16', '#76 @ 805,804: 12x15', '#77 @ 701,325: 29x19', '#78 @ 846,51: 21x18', '#79 @ 368,612: 23x10', '#80 @ 218,308: 12x19', '#81 @ 567,702: 10x14', '#82 @ 11,273: 21x17', '#83 @ 959,371: 10x21', '#84 @ 311,123: 26x17', '#85 @ 180,88: 20x12', '#86 @ 573,502: 18x19', '#87 @ 611,233: 24x23', '#88 @ 304,126: 10x27', '#89 @ 363,714: 29x28', '#90 @ 753,584: 15x15', '#91 @ 452,210: 25x22', '#92 @ 200,197: 14x24', '#93 @ 732,961: 11x12', '#94 @ 643,43: 18x13', '#95 @ 56,779: 14x16', '#96 @ 160,938: 28x17', '#97 @ 271,674: 15x11', '#98 @ 100,782: 16x12', '#99 @ 694,772: 19x19', '#100 @ 608,917: 15x25', '#101 @ 967,381: 11x10', '#102 @ 578,124: 29x19', '#103 @ 954,84: 12x14', '#104 @ 76,872: 13x4', '#105 @ 803,150: 20x20', '#106 @ 690,789: 20x23', '#107 @ 626,130: 27x20', '#108 @ 236,547: 20x4', '#109 @ 878,655: 27x18', '#110 @ 911,726: 28x12', '#111 @ 284,165: 11x23', '#112 @ 191,111: 29x11', '#113 @ 530,703: 12x21', '#114 @ 386,36: 25x23', '#115 @ 110,859: 25x15', '#116 @ 399,871: 26x19', '#117 @ 373,163: 14x25', '#118 @ 572,501: 13x21', '#119 @ 132,401: 22x22', '#120 @ 288,304: 24x18', '#121 @ 835,42: 23x26', '#122 @ 767,211: 14x27', '#123 @ 174,88: 26x14', '#124 @ 399,407: 12x18', '#125 @ 396,32: 20x22', '#126 @ 852,58: 17x20', '#127 @ 971,620: 21x29', '#128 @ 64,710: 26x27', '#129 @ 297,176: 22x19', '#130 @ 751,343: 29x20', '#131 @ 23,610: 25x17', '#132 @ 155,53: 25x21', '#133 @ 606,439: 19x10', '#134 @ 511,143: 21x28', '#135 @ 306,21: 11x18', '#136 @ 844,67: 25x12', '#137 @ 966,884: 26x19', '#138 @ 845,12: 16x29', '#139 @ 214,406: 22x28', '#140 @ 186,113: 25x22', '#141 @ 458,886: 21x26', '#142 @ 442,99: 10x27', '#143 @ 652,796: 27x26', '#144 @ 4,218: 14x10', '#145 @ 174,135: 18x28', '#146 @ 491,895: 28x10', '#147 @ 736,954: 18x25', '#148 @ 194,412: 26x14', '#149 @ 642,135: 27x19', '#150 @ 637,223: 11x13', '#151 @ 549,404: 16x24', '#152 @ 662,354: 17x28', '#153 @ 211,963: 25x28', '#154 @ 377,881: 26x17', '#155 @ 116,374: 27x20', '#156 @ 6,948: 13x18', '#157 @ 828,2: 25x22', '#158 @ 283,968: 16x29', '#159 @ 852,22: 27x23', '#160 @ 395,937: 29x29', '#161 @ 357,636: 27x11', '#162 @ 265,9: 15x29', '#163 @ 647,147: 20x11', '#164 @ 512,880: 12x29', '#165 @ 572,30: 18x21', '#166 @ 964,663: 17x25', '#167 @ 828,633: 15x17', '#168 @ 839,173: 12x17', '#169 @ 295,175: 14x14', '#170 @ 455,645: 16x22', '#171 @ 92,305: 11x10', '#172 @ 868,289: 29x28', '#173 @ 434,181: 17x14', '#174 @ 21,692: 22x10', '#175 @ 486,918: 18x11', '#176 @ 359,189: 29x26', '#177 @ 231,642: 10x17', '#178 @ 446,164: 26x19', '#179 @ 812,878: 13x19', '#180 @ 401,613: 18x24', '#181 @ 140,218: 29x16', '#182 @ 223,825: 13x16', '#183 @ 863,337: 21x16', '#184 @ 568,464: 25x10', '#185 @ 417,475: 19x14', '#186 @ 486,894: 29x18', '#187 @ 70,522: 22x19', '#188 @ 657,438: 10x14', '#189 @ 156,885: 29x15', '#190 @ 219,328: 20x24', '#191 @ 9,585: 10x26', '#192 @ 904,667: 17x12', '#193 @ 137,298: 26x18', '#194 @ 947,93: 28x22', '#195 @ 359,712: 15x18', '#196 @ 663,694: 22x12', '#197 @ 786,310: 28x13', '#198 @ 823,920: 22x22', '#199 @ 621,337: 12x24', '#200 @ 44,504: 14x15', '#201 @ 526,637: 14x26', '#202 @ 731,778: 23x17', '#203 @ 681,909: 18x11', '#204 @ 636,290: 12x19', '#205 @ 201,205: 14x18', '#206 @ 451,482: 16x20', '#207 @ 975,373: 16x20', '#208 @ 819,920: 16x18', '#209 @ 104,407: 13x15', '#210 @ 596,291: 15x25', '#211 @ 882,71: 24x29', '#212 @ 729,174: 18x19', '#213 @ 54,269: 3x14', '#214 @ 395,482: 29x15', '#215 @ 745,379: 26x10', '#216 @ 208,91: 21x21', '#217 @ 897,812: 16x26', '#218 @ 857,690: 13x11', '#219 @ 455,711: 20x13', '#220 @ 502,304: 17x24', '#221 @ 978,639: 11x11', '#222 @ 725,170: 24x17', '#223 @ 774,540: 14x26', '#224 @ 553,26: 20x20', '#225 @ 741,947: 16x22', '#226 @ 440,169: 13x19', '#227 @ 180,81: 27x20', '#228 @ 974,440: 11x22', '#229 @ 766,232: 25x11', '#230 @ 27,518: 19x19', '#231 @ 690,313: 18x27', '#232 @ 343,271: 19x21', '#233 @ 486,561: 21x27', '#234 @ 148,69: 19x23', '#235 @ 657,562: 27x12', '#236 @ 403,121: 28x28', '#237 @ 664,614: 22x27', '#238 @ 63,23: 26x27', '#239 @ 353,886: 26x13', '#240 @ 96,440: 13x27', '#241 @ 689,738: 3x4', '#242 @ 456,694: 18x23', '#243 @ 673,497: 28x12', '#244 @ 288,256: 26x24', '#245 @ 433,849: 12x16', '#246 @ 871,297: 20x21', '#247 @ 694,771: 8x6', '#248 @ 301,46: 23x20', '#249 @ 871,596: 28x26', '#250 @ 743,162: 15x18', '#251 @ 95,490: 10x16', '#252 @ 401,885: 17x24', '#253 @ 596,133: 24x21', '#254 @ 373,522: 15x16', '#255 @ 593,746: 12x16', '#256 @ 243,812: 21x13', '#257 @ 543,855: 22x25', '#258 @ 218,817: 20x26', '#259 @ 19,353: 16x26', '#260 @ 846,142: 23x20', '#261 @ 671,365: 12x22', '#262 @ 470,331: 20x22', '#263 @ 380,518: 12x28', '#264 @ 671,177: 29x29', '#265 @ 693,875: 18x23', '#266 @ 50,734: 22x18', '#267 @ 385,218: 15x11', '#268 @ 671,489: 10x28', '#269 @ 422,32: 16x22', '#270 @ 583,152: 27x27', '#271 @ 153,78: 26x20', '#272 @ 748,748: 13x11', '#273 @ 909,163: 24x19', '#274 @ 527,422: 10x26', '#275 @ 494,167: 24x21', '#276 @ 612,748: 21x25', '#277 @ 135,51: 18x29', '#278 @ 187,231: 25x28', '#279 @ 899,338: 11x16', '#280 @ 478,385: 10x11', '#281 @ 150,294: 28x17', '#282 @ 432,645: 27x23', '#283 @ 247,806: 11x13', '#284 @ 8,606: 28x12', '#285 @ 65,308: 23x20', '#286 @ 106,763: 17x22', '#287 @ 175,461: 12x23', '#288 @ 497,156: 12x19', '#289 @ 142,546: 16x12', '#290 @ 10,517: 13x18', '#291 @ 788,968: 26x13', '#292 @ 104,646: 20x19', '#293 @ 388,640: 20x12', '#294 @ 558,38: 12x25', '#295 @ 62,538: 18x11', '#296 @ 965,378: 21x29', '#297 @ 209,967: 17x25', '#298 @ 1,130: 27x14', '#299 @ 354,230: 25x26', '#300 @ 61,515: 16x21', '#301 @ 471,921: 18x28', '#302 @ 155,233: 14x20', '#303 @ 459,670: 27x18', '#304 @ 749,530: 11x27', '#305 @ 354,248: 15x10', '#306 @ 66,701: 27x16', '#307 @ 409,558: 29x17', '#308 @ 653,377: 22x25', '#309 @ 213,37: 27x14', '#310 @ 898,335: 19x15', '#311 @ 721,93: 12x17', '#312 @ 535,443: 15x18', '#313 @ 170,99: 24x10', '#314 @ 50,264: 14x25', '#315 @ 553,481: 27x25', '#316 @ 579,329: 25x24', '#317 @ 642,375: 15x11', '#318 @ 646,128: 20x28', '#319 @ 435,243: 19x24', '#320 @ 880,392: 21x16', '#321 @ 921,304: 21x15', '#322 @ 383,949: 15x15', '#323 @ 782,510: 14x29', '#324 @ 613,329: 23x26', '#325 @ 234,84: 27x13', '#326 @ 916,289: 13x24', '#327 @ 658,811: 28x27', '#328 @ 649,879: 15x12', '#329 @ 87,799: 12x11', '#330 @ 842,799: 19x21', '#331 @ 687,759: 19x28', '#332 @ 451,691: 27x16', '#333 @ 206,885: 23x13', '#334 @ 714,86: 26x16', '#335 @ 68,130: 29x16', '#336 @ 746,334: 22x16', '#337 @ 577,586: 25x18', '#338 @ 720,220: 15x15', '#339 @ 274,643: 14x24', '#340 @ 64,807: 23x24', '#341 @ 147,123: 16x14', '#342 @ 588,386: 12x17', '#343 @ 867,508: 20x21', '#344 @ 680,854: 10x25', '#345 @ 453,276: 19x15', '#346 @ 725,780: 26x14', '#347 @ 28,466: 14x16', '#348 @ 583,189: 26x20', '#349 @ 428,610: 25x28', '#350 @ 133,778: 24x14', '#351 @ 86,820: 15x5', '#352 @ 437,792: 29x25', '#353 @ 296,203: 3x3', '#354 @ 185,186: 27x23', '#355 @ 634,793: 20x24', '#356 @ 850,108: 29x24', '#357 @ 431,58: 24x29', '#358 @ 541,603: 24x29', '#359 @ 879,984: 12x14', '#360 @ 29,712: 14x26', '#361 @ 631,341: 18x22', '#362 @ 27,354: 4x5', '#363 @ 970,256: 21x13', '#364 @ 177,592: 22x15', '#365 @ 54,303: 17x19', '#366 @ 444,468: 14x17', '#367 @ 663,443: 21x14', '#368 @ 128,710: 12x27', '#369 @ 848,712: 23x20', '#370 @ 297,746: 29x26', '#371 @ 951,894: 17x14', '#372 @ 655,889: 20x14', '#373 @ 59,91: 10x25', '#374 @ 911,527: 11x22', '#375 @ 159,291: 18x19', '#376 @ 472,889: 18x22', '#377 @ 432,791: 20x16', '#378 @ 817,570: 13x29', '#379 @ 392,109: 19x28', '#380 @ 853,177: 11x16', '#381 @ 321,562: 25x25', '#382 @ 174,840: 20x24', '#383 @ 589,386: 11x23', '#384 @ 82,797: 23x25', '#385 @ 579,137: 14x29', '#386 @ 399,765: 25x20', '#387 @ 600,932: 25x21', '#388 @ 396,937: 22x26', '#389 @ 104,851: 28x11', '#390 @ 904,119: 26x18', '#391 @ 213,350: 17x19', '#392 @ 177,86: 17x26', '#393 @ 560,826: 17x26', '#394 @ 364,729: 28x16', '#395 @ 724,756: 25x27', '#396 @ 219,648: 17x17', '#397 @ 818,27: 12x25', '#398 @ 765,24: 24x16', '#399 @ 335,420: 27x19', '#400 @ 68,41: 24x10', '#401 @ 132,114: 23x15', '#402 @ 1,908: 20x28', '#403 @ 866,876: 24x18', '#404 @ 702,806: 28x29', '#405 @ 911,118: 27x20', '#406 @ 198,812: 22x20', '#407 @ 418,570: 16x28', '#408 @ 65,531: 10x15', '#409 @ 350,250: 18x13', '#410 @ 804,136: 14x17', '#411 @ 825,169: 16x20', '#412 @ 467,945: 22x19', '#413 @ 269,159: 21x22', '#414 @ 974,98: 17x29', '#415 @ 377,603: 13x10', '#416 @ 772,923: 19x15', '#417 @ 732,338: 22x22', '#418 @ 244,674: 22x20', '#419 @ 818,883: 24x10', '#420 @ 24,699: 20x27', '#421 @ 734,587: 25x20', '#422 @ 366,63: 10x26', '#423 @ 454,111: 29x24', '#424 @ 735,170: 20x19', '#425 @ 133,390: 23x22', '#426 @ 338,481: 27x23', '#427 @ 238,675: 26x16', '#428 @ 596,432: 10x14', '#429 @ 63,803: 20x25', '#430 @ 914,913: 17x16', '#431 @ 7,271: 16x28', '#432 @ 453,464: 10x17', '#433 @ 8,806: 16x10', '#434 @ 519,182: 11x27', '#435 @ 15,516: 13x27', '#436 @ 358,723: 23x29', '#437 @ 346,212: 27x14', '#438 @ 745,743: 21x29', '#439 @ 869,876: 20x27', '#440 @ 669,857: 23x18', '#441 @ 441,700: 15x26', '#442 @ 243,585: 13x27', '#443 @ 641,811: 25x22', '#444 @ 254,226: 22x10', '#445 @ 90,95: 27x15', '#446 @ 901,163: 27x28', '#447 @ 909,339: 18x26', '#448 @ 268,374: 13x10', '#449 @ 704,327: 18x14', '#450 @ 267,669: 11x19', '#451 @ 472,39: 13x17', '#452 @ 902,481: 27x10', '#453 @ 716,194: 14x15', '#454 @ 908,519: 20x18', '#455 @ 34,445: 10x27', '#456 @ 106,499: 25x28', '#457 @ 613,631: 23x15', '#458 @ 163,116: 18x16', '#459 @ 356,957: 27x13', '#460 @ 733,511: 13x21', '#461 @ 24,807: 10x24', '#462 @ 583,291: 18x12', '#463 @ 136,32: 27x19', '#464 @ 631,296: 29x10', '#465 @ 85,439: 25x29', '#466 @ 145,805: 11x15', '#467 @ 368,739: 26x11', '#468 @ 813,701: 17x17', '#469 @ 611,358: 26x29', '#470 @ 292,193: 24x18', '#471 @ 829,392: 9x7', '#472 @ 923,148: 10x20', '#473 @ 816,360: 24x12', '#474 @ 406,710: 25x28', '#475 @ 349,627: 10x26', '#476 @ 295,137: 14x25', '#477 @ 415,456: 21x10', '#478 @ 74,870: 18x11', '#479 @ 135,377: 28x29', '#480 @ 259,570: 16x23', '#481 @ 809,808: 23x27', '#482 @ 159,290: 10x25', '#483 @ 791,533: 20x27', '#484 @ 620,34: 17x12', '#485 @ 136,406: 12x22', '#486 @ 416,44: 17x28', '#487 @ 576,256: 26x17', '#488 @ 588,317: 29x11', '#489 @ 964,435: 21x18', '#490 @ 620,561: 20x23', '#491 @ 167,849: 23x17', '#492 @ 159,752: 25x16', '#493 @ 950,922: 26x28', '#494 @ 584,587: 14x18', '#495 @ 907,489: 11x18', '#496 @ 406,51: 10x29', '#497 @ 21,779: 15x12', '#498 @ 381,309: 10x27', '#499 @ 240,348: 20x19', '#500 @ 287,655: 29x13', '#501 @ 295,265: 18x14', '#502 @ 772,401: 11x14', '#503 @ 187,808: 14x20', '#504 @ 336,937: 21x18', '#505 @ 183,162: 13x24', '#506 @ 86,305: 21x10', '#507 @ 958,853: 17x23', '#508 @ 223,463: 23x28', '#509 @ 0,498: 29x11', '#510 @ 737,851: 28x26', '#511 @ 411,349: 22x19', '#512 @ 39,461: 19x28', '#513 @ 610,268: 10x21', '#514 @ 378,22: 18x20', '#515 @ 332,629: 18x17', '#516 @ 20,781: 12x17', '#517 @ 190,84: 6x4', '#518 @ 961,260: 27x17', '#519 @ 388,755: 10x16', '#520 @ 203,101: 15x16', '#521 @ 606,187: 17x23', '#522 @ 817,274: 29x10', '#523 @ 718,909: 24x11', '#524 @ 154,706: 26x26', '#525 @ 402,878: 20x13', '#526 @ 541,410: 13x10', '#527 @ 266,974: 14x16', '#528 @ 0,961: 15x18', '#529 @ 33,681: 24x17', '#530 @ 785,178: 27x11', '#531 @ 5,703: 28x24', '#532 @ 703,783: 12x10', '#533 @ 876,868: 24x13', '#534 @ 843,902: 21x26', '#535 @ 143,795: 24x29', '#536 @ 910,522: 27x15', '#537 @ 403,250: 27x27', '#538 @ 902,813: 24x26', '#539 @ 93,469: 25x12', '#540 @ 629,723: 23x27', '#541 @ 783,910: 29x13', '#542 @ 757,245: 17x21', '#543 @ 818,366: 14x14', '#544 @ 430,408: 25x13', '#545 @ 311,219: 23x15', '#546 @ 875,870: 29x11', '#547 @ 403,134: 28x11', '#548 @ 663,863: 24x11', '#549 @ 441,961: 15x20', '#550 @ 910,672: 11x19', '#551 @ 187,187: 27x22', '#552 @ 733,902: 15x15', '#553 @ 6,962: 18x26', '#554 @ 96,126: 11x11', '#555 @ 276,244: 24x23', '#556 @ 262,365: 23x13', '#557 @ 163,76: 27x18', '#558 @ 133,893: 26x11', '#559 @ 933,690: 15x13', '#560 @ 711,848: 24x29', '#561 @ 370,333: 26x11', '#562 @ 832,788: 28x20', '#563 @ 0,422: 10x25', '#564 @ 826,49: 24x27', '#565 @ 736,936: 18x26', '#566 @ 536,601: 24x10', '#567 @ 948,690: 28x29', '#568 @ 233,26: 19x15', '#569 @ 956,237: 23x11', '#570 @ 758,967: 26x26', '#571 @ 241,202: 15x21', '#572 @ 650,169: 10x26', '#573 @ 479,880: 23x23', '#574 @ 257,161: 15x28', '#575 @ 646,470: 22x21', '#576 @ 420,693: 26x25', '#577 @ 370,913: 12x21', '#578 @ 753,303: 24x27', '#579 @ 39,171: 13x21', '#580 @ 647,155: 29x23', '#581 @ 860,51: 13x26', '#582 @ 607,212: 19x23', '#583 @ 658,487: 24x15', '#584 @ 645,530: 17x14', '#585 @ 884,276: 29x19', '#586 @ 860,187: 23x16', '#587 @ 103,18: 10x13', '#588 @ 101,493: 28x18', '#589 @ 944,752: 29x21', '#590 @ 66,124: 12x13', '#591 @ 970,537: 20x16', '#592 @ 890,788: 19x27', '#593 @ 314,421: 14x17', '#594 @ 676,235: 25x18', '#595 @ 415,395: 27x23', '#596 @ 150,708: 22x10', '#597 @ 459,946: 18x11', '#598 @ 495,575: 13x21', '#599 @ 598,657: 16x23', '#600 @ 475,873: 19x25', '#601 @ 670,758: 20x14', '#602 @ 372,691: 20x20', '#603 @ 312,707: 14x12', '#604 @ 130,720: 6x12', '#605 @ 280,941: 14x28', '#606 @ 692,701: 14x24', '#607 @ 624,78: 19x11', '#608 @ 784,493: 23x20', '#609 @ 176,234: 17x16', '#610 @ 467,402: 24x19', '#611 @ 733,932: 11x10', '#612 @ 6,409: 13x28', '#613 @ 44,240: 17x22', '#614 @ 639,847: 22x19', '#615 @ 221,226: 18x12', '#616 @ 649,139: 26x24', '#617 @ 55,165: 24x21', '#618 @ 661,528: 18x20', '#619 @ 313,926: 26x19', '#620 @ 588,153: 24x14', '#621 @ 378,920: 14x15', '#622 @ 506,970: 28x17', '#623 @ 831,202: 20x16', '#624 @ 365,9: 14x27', '#625 @ 131,755: 24x27', '#626 @ 648,513: 27x22', '#627 @ 740,357: 26x28', '#628 @ 277,163: 28x21', '#629 @ 737,979: 27x20', '#630 @ 154,521: 23x27', '#631 @ 221,896: 12x24', '#632 @ 942,682: 14x23', '#633 @ 649,861: 22x16', '#634 @ 330,136: 19x22', '#635 @ 17,688: 19x10', '#636 @ 618,75: 14x20', '#637 @ 9,569: 14x22', '#638 @ 662,221: 21x19', '#639 @ 972,552: 20x20', '#640 @ 723,243: 17x18', '#641 @ 414,132: 13x10', '#642 @ 167,443: 15x22', '#643 @ 251,284: 19x20', '#644 @ 541,468: 18x22', '#645 @ 556,36: 27x23', '#646 @ 502,411: 26x14', '#647 @ 855,147: 22x28', '#648 @ 259,659: 20x14', '#649 @ 214,483: 26x15', '#650 @ 282,205: 27x26', '#651 @ 564,775: 13x19', '#652 @ 953,930: 18x14', '#653 @ 584,946: 12x26', '#654 @ 769,410: 11x17', '#655 @ 188,186: 28x12', '#656 @ 87,25: 19x15', '#657 @ 231,545: 29x13', '#658 @ 755,239: 20x24', '#659 @ 719,816: 12x10', '#660 @ 461,619: 13x24', '#661 @ 272,799: 18x23', '#662 @ 648,868: 23x15', '#663 @ 246,278: 23x25', '#664 @ 176,369: 12x20', '#665 @ 945,977: 22x19', '#666 @ 457,280: 13x17', '#667 @ 165,89: 18x28', '#668 @ 548,501: 22x12', '#669 @ 223,835: 18x27', '#670 @ 171,110: 13x28', '#671 @ 598,751: 24x22', '#672 @ 972,660: 23x29', '#673 @ 862,681: 15x18', '#674 @ 790,785: 23x24', '#675 @ 914,91: 13x23', '#676 @ 846,12: 24x20', '#677 @ 938,291: 16x26', '#678 @ 624,575: 21x21', '#679 @ 524,550: 22x16', '#680 @ 872,401: 28x19', '#681 @ 362,890: 11x14', '#682 @ 143,127: 22x22', '#683 @ 622,334: 25x13', '#684 @ 50,91: 22x20', '#685 @ 410,598: 15x27', '#686 @ 823,2: 17x29', '#687 @ 365,704: 15x24', '#688 @ 704,340: 17x21', '#689 @ 28,725: 19x17', '#690 @ 378,902: 18x20', '#691 @ 918,530: 25x24', '#692 @ 294,93: 22x15', '#693 @ 415,648: 22x23', '#694 @ 150,395: 16x13', '#695 @ 153,236: 21x17', '#696 @ 607,420: 27x28', '#697 @ 379,116: 21x11', '#698 @ 523,50: 13x21', '#699 @ 129,135: 26x14', '#700 @ 336,298: 22x19', '#701 @ 972,533: 14x23', '#702 @ 323,203: 28x22', '#703 @ 14,198: 17x24', '#704 @ 97,972: 13x14', '#705 @ 392,296: 14x28', '#706 @ 169,164: 24x21', '#707 @ 344,484: 7x12', '#708 @ 263,770: 13x27', '#709 @ 783,534: 16x14', '#710 @ 509,3: 17x22', '#711 @ 208,925: 25x21', '#712 @ 846,22: 15x20', '#713 @ 82,361: 20x15', '#714 @ 258,761: 23x23', '#715 @ 530,318: 29x11', '#716 @ 750,753: 14x17', '#717 @ 200,551: 18x29', '#718 @ 273,676: 9x6', '#719 @ 124,732: 18x20', '#720 @ 660,905: 13x10', '#721 @ 123,820: 12x15', '#722 @ 106,797: 11x14', '#723 @ 427,454: 23x24', '#724 @ 829,930: 10x18', '#725 @ 479,455: 25x12', '#726 @ 484,40: 15x21', '#727 @ 47,721: 10x20', '#728 @ 708,425: 17x20', '#729 @ 224,71: 25x28', '#730 @ 399,901: 21x15', '#731 @ 296,575: 20x19', '#732 @ 150,79: 25x19', '#733 @ 1,799: 28x11', '#734 @ 699,254: 14x25', '#735 @ 484,552: 24x17', '#736 @ 190,806: 14x16', '#737 @ 119,426: 15x17', '#738 @ 618,550: 25x19', '#739 @ 38,405: 29x22', '#740 @ 855,126: 11x29', '#741 @ 485,505: 19x26', '#742 @ 885,358: 12x27', '#743 @ 563,315: 28x17', '#744 @ 878,476: 15x18', '#745 @ 641,148: 25x19', '#746 @ 459,272: 24x24', '#747 @ 497,863: 21x23', '#748 @ 435,687: 13x14', '#749 @ 657,625: 23x11', '#750 @ 763,571: 15x26', '#751 @ 377,591: 14x11', '#752 @ 299,80: 23x17', '#753 @ 138,539: 12x12', '#754 @ 567,478: 23x21', '#755 @ 59,588: 6x4', '#756 @ 635,565: 23x28', '#757 @ 262,580: 21x12', '#758 @ 426,175: 21x23', '#759 @ 548,449: 21x20', '#760 @ 118,720: 22x18', '#761 @ 974,782: 15x10', '#762 @ 56,586: 17x11', '#763 @ 215,49: 12x16', '#764 @ 217,156: 6x3', '#765 @ 656,229: 23x14', '#766 @ 558,860: 25x12', '#767 @ 464,131: 26x10', '#768 @ 917,262: 26x16', '#769 @ 243,230: 14x27', '#770 @ 735,335: 10x27', '#771 @ 467,929: 20x27', '#772 @ 944,972: 16x16', '#773 @ 443,465: 16x14', '#774 @ 85,432: 20x14', '#775 @ 924,775: 12x16', '#776 @ 667,234: 11x19', '#777 @ 658,693: 14x20', '#778 @ 532,892: 23x29', '#779 @ 194,147: 28x24', '#780 @ 513,945: 15x23', '#781 @ 801,905: 12x17', '#782 @ 168,869: 19x24', '#783 @ 532,432: 22x12', '#784 @ 762,550: 27x11', '#785 @ 334,193: 16x14', '#786 @ 71,785: 10x7', '#787 @ 10,116: 11x21', '#788 @ 229,421: 11x15', '#789 @ 637,278: 17x22', '#790 @ 709,184: 28x29', '#791 @ 179,698: 12x26', '#792 @ 209,43: 24x12', '#793 @ 423,912: 26x27', '#794 @ 187,363: 17x10', '#795 @ 624,842: 22x12', '#796 @ 77,561: 19x23', '#797 @ 422,345: 28x13', '#798 @ 958,220: 21x21', '#799 @ 805,977: 17x18', '#800 @ 905,579: 16x12', '#801 @ 188,363: 10x21', '#802 @ 383,607: 21x22', '#803 @ 769,213: 4x13', '#804 @ 503,905: 19x23', '#805 @ 575,821: 16x19', '#806 @ 200,974: 27x25', '#807 @ 123,390: 27x29', '#808 @ 776,11: 22x26', '#809 @ 921,770: 16x27', '#810 @ 694,781: 13x20', '#811 @ 369,947: 13x19', '#812 @ 971,677: 16x11', '#813 @ 727,381: 3x11', '#814 @ 571,312: 21x12', '#815 @ 520,646: 18x29', '#816 @ 769,866: 7x9', '#817 @ 677,919: 27x12', '#818 @ 822,630: 20x14', '#819 @ 657,618: 15x11', '#820 @ 978,515: 18x27', '#821 @ 13,230: 21x20', '#822 @ 163,117: 21x18', '#823 @ 87,716: 23x11', '#824 @ 720,937: 22x12', '#825 @ 677,223: 20x20', '#826 @ 446,625: 20x24', '#827 @ 509,431: 23x20', '#828 @ 737,549: 13x19', '#829 @ 697,57: 13x25', '#830 @ 734,869: 13x23', '#831 @ 337,375: 12x22', '#832 @ 750,338: 10x6', '#833 @ 251,301: 18x18', '#834 @ 386,226: 12x13', '#835 @ 514,908: 22x24', '#836 @ 761,857: 19x24', '#837 @ 390,18: 8x8', '#838 @ 851,69: 14x17', '#839 @ 910,911: 18x12', '#840 @ 506,308: 4x14', '#841 @ 146,62: 27x12', '#842 @ 421,30: 11x19', '#843 @ 130,542: 24x24', '#844 @ 127,388: 14x26', '#845 @ 860,908: 24x23', '#846 @ 516,53: 15x14', '#847 @ 360,211: 15x23', '#848 @ 227,314: 29x29', '#849 @ 27,387: 29x20', '#850 @ 167,846: 25x21', '#851 @ 133,646: 16x15', '#852 @ 420,956: 18x19', '#853 @ 943,684: 13x25', '#854 @ 84,816: 22x13', '#855 @ 200,767: 28x10', '#856 @ 148,50: 22x22', '#857 @ 931,159: 20x20', '#858 @ 674,240: 18x25', '#859 @ 390,643: 18x18', '#860 @ 155,862: 17x24', '#861 @ 545,873: 29x29', '#862 @ 851,192: 26x26', '#863 @ 688,880: 26x16', '#864 @ 170,27: 16x24', '#865 @ 755,555: 10x12', '#866 @ 204,43: 26x22', '#867 @ 626,633: 14x14', '#868 @ 315,709: 7x7', '#869 @ 284,944: 11x23', '#870 @ 361,115: 25x20', '#871 @ 580,510: 22x13', '#872 @ 107,457: 27x25', '#873 @ 728,227: 17x12', '#874 @ 584,962: 18x19', '#875 @ 976,629: 15x16', '#876 @ 100,655: 10x14', '#877 @ 686,734: 10x15', '#878 @ 805,958: 19x26', '#879 @ 870,254: 15x22', '#880 @ 429,972: 16x13', '#881 @ 958,922: 15x14', '#882 @ 773,150: 25x29', '#883 @ 908,821: 19x24', '#884 @ 626,289: 17x23', '#885 @ 582,546: 27x14', '#886 @ 895,787: 29x16', '#887 @ 474,489: 12x28', '#888 @ 736,241: 15x13', '#889 @ 130,435: 25x14', '#890 @ 773,916: 18x15', '#891 @ 597,882: 16x13', '#892 @ 864,581: 18x18', '#893 @ 366,925: 24x29', '#894 @ 139,266: 14x25', '#895 @ 549,851: 25x12', '#896 @ 812,483: 17x19', '#897 @ 320,115: 14x12', '#898 @ 590,350: 11x25', '#899 @ 930,121: 25x10', '#900 @ 174,75: 23x17', '#901 @ 366,409: 28x14', '#902 @ 795,169: 28x19', '#903 @ 391,604: 26x18', '#904 @ 624,187: 28x23', '#905 @ 322,365: 10x14', '#906 @ 406,421: 15x12', '#907 @ 290,72: 27x16', '#908 @ 811,161: 12x13', '#909 @ 862,806: 15x12', '#910 @ 679,867: 17x12', '#911 @ 242,661: 28x20', '#912 @ 354,790: 17x18', '#913 @ 149,781: 17x20', '#914 @ 355,92: 13x28', '#915 @ 165,858: 26x24', '#916 @ 790,691: 26x27', '#917 @ 124,926: 20x22', '#918 @ 843,269: 14x15', '#919 @ 235,828: 15x24', '#920 @ 896,146: 15x21', '#921 @ 884,466: 26x19', '#922 @ 71,544: 22x29', '#923 @ 218,161: 10x29', '#924 @ 556,87: 24x27', '#925 @ 385,884: 23x11', '#926 @ 380,583: 18x17', '#927 @ 134,202: 28x18', '#928 @ 971,617: 11x12', '#929 @ 422,932: 11x12', '#930 @ 432,498: 29x11', '#931 @ 409,642: 17x26', '#932 @ 634,845: 20x22', '#933 @ 583,515: 5x4', '#934 @ 466,628: 23x10', '#935 @ 265,818: 17x16', '#936 @ 453,667: 18x12', '#937 @ 841,203: 11x24', '#938 @ 849,324: 20x27', '#939 @ 549,325: 18x14', '#940 @ 164,23: 20x10', '#941 @ 351,275: 5x6', '#942 @ 463,908: 17x16', '#943 @ 972,650: 18x21', '#944 @ 249,808: 5x3', '#945 @ 933,770: 14x18', '#946 @ 626,471: 10x25', '#947 @ 336,389: 27x12', '#948 @ 238,209: 8x4', '#949 @ 879,202: 23x13', '#950 @ 847,746: 27x16', '#951 @ 102,796: 14x27', '#952 @ 448,453: 11x19', '#953 @ 387,764: 23x14', '#954 @ 597,438: 24x25', '#955 @ 295,33: 15x20', '#956 @ 972,394: 11x14', '#957 @ 623,939: 19x29', '#958 @ 507,199: 17x21', '#959 @ 84,968: 28x22', '#960 @ 765,619: 23x11', '#961 @ 948,493: 25x12', '#962 @ 365,906: 14x13', '#963 @ 741,536: 25x14', '#964 @ 87,479: 10x10', '#965 @ 963,504: 14x29', '#966 @ 648,838: 19x20', '#967 @ 580,261: 16x21', '#968 @ 579,150: 24x15', '#969 @ 395,113: 13x21', '#970 @ 196,22: 14x25', '#971 @ 19,352: 18x18', '#972 @ 875,81: 13x20', '#973 @ 17,577: 25x18', '#974 @ 843,221: 10x27', '#975 @ 825,165: 23x11', '#976 @ 575,308: 13x10', '#977 @ 867,652: 15x12', '#978 @ 259,809: 19x20', '#979 @ 724,379: 13x17', '#980 @ 9,573: 13x15', '#981 @ 419,752: 25x21', '#982 @ 13,607: 29x23', '#983 @ 963,938: 14x14', '#984 @ 908,724: 15x23', '#985 @ 507,36: 28x20', '#986 @ 168,712: 26x16', '#987 @ 925,146: 21x19', '#988 @ 155,583: 27x23', '#989 @ 758,731: 12x17', '#990 @ 666,903: 14x28', '#991 @ 375,649: 16x18', '#992 @ 658,151: 21x13', '#993 @ 393,58: 24x16', '#994 @ 57,976: 10x13', '#995 @ 14,933: 10x13', '#996 @ 293,190: 12x24', '#997 @ 672,238: 16x19', '#998 @ 388,15: 13x18', '#999 @ 698,823: 25x18', '#1000 @ 405,345: 20x15', '#1001 @ 418,231: 20x11', '#1002 @ 203,886: 23x14', '#1003 @ 798,475: 12x26', '#1004 @ 836,184: 13x12', '#1005 @ 286,617: 22x27', '#1006 @ 422,210: 26x22', '#1007 @ 304,267: 3x7', '#1008 @ 483,170: 21x23', '#1009 @ 118,29: 14x15', '#1010 @ 559,371: 23x11', '#1011 @ 817,152: 10x23', '#1012 @ 111,826: 13x13', '#1013 @ 366,243: 12x12', '#1014 @ 329,549: 18x17', '#1015 @ 248,682: 10x11', '#1016 @ 416,375: 17x11', '#1017 @ 652,44: 20x21', '#1018 @ 628,971: 3x6', '#1019 @ 378,155: 17x10', '#1020 @ 616,460: 28x23', '#1021 @ 359,407: 10x22', '#1022 @ 840,907: 18x24', '#1023 @ 267,590: 16x13', '#1024 @ 623,367: 17x12', '#1025 @ 299,574: 28x28', '#1026 @ 189,368: 24x20', '#1027 @ 949,375: 22x21', '#1028 @ 382,946: 20x12', '#1029 @ 186,952: 15x26', '#1030 @ 562,698: 14x21', '#1031 @ 102,933: 28x19', '#1032 @ 731,351: 24x14', '#1033 @ 695,70: 18x12', '#1034 @ 313,307: 13x14', '#1035 @ 589,889: 20x12', '#1036 @ 937,167: 29x10', '#1037 @ 816,39: 12x11', '#1038 @ 383,882: 19x21', '#1039 @ 624,35: 24x24', '#1040 @ 47,172: 26x10', '#1041 @ 436,182: 27x12', '#1042 @ 786,610: 23x10', '#1043 @ 232,206: 27x12', '#1044 @ 66,782: 21x10', '#1045 @ 287,743: 26x23', '#1046 @ 448,693: 28x17', '#1047 @ 272,169: 18x27', '#1048 @ 11,593: 15x15', '#1049 @ 8,950: 6x11', '#1050 @ 546,125: 19x12', '#1051 @ 865,750: 15x16', '#1052 @ 354,207: 18x12', '#1053 @ 202,823: 18x10', '#1054 @ 570,369: 18x24', '#1055 @ 311,60: 11x29', '#1056 @ 626,969: 10x11', '#1057 @ 252,970: 23x19', '#1058 @ 118,116: 17x27', '#1059 @ 796,187: 21x22', '#1060 @ 277,572: 28x18', '#1061 @ 804,581: 22x17', '#1062 @ 728,417: 10x11', '#1063 @ 577,958: 23x10', '#1064 @ 874,299: 25x21', '#1065 @ 239,217: 26x14', '#1066 @ 196,781: 11x11', '#1067 @ 705,842: 24x11', '#1068 @ 251,757: 27x28', '#1069 @ 463,379: 22x15', '#1070 @ 457,265: 23x13', '#1071 @ 827,388: 26x28', '#1072 @ 410,372: 14x22', '#1073 @ 56,812: 22x15', '#1074 @ 839,14: 10x13', '#1075 @ 158,691: 23x25', '#1076 @ 771,577: 20x15', '#1077 @ 505,554: 17x27', '#1078 @ 484,506: 23x23', '#1079 @ 895,794: 28x27', '#1080 @ 228,565: 16x27', '#1081 @ 601,965: 27x25', '#1082 @ 947,171: 17x15', '#1083 @ 372,699: 11x23', '#1084 @ 360,51: 18x15', '#1085 @ 850,528: 29x25', '#1086 @ 299,220: 21x25', '#1087 @ 519,11: 19x29', '#1088 @ 711,787: 17x20', '#1089 @ 717,412: 16x23', '#1090 @ 645,855: 11x20', '#1091 @ 653,151: 15x21', '#1092 @ 579,531: 26x16', '#1093 @ 226,83: 17x27', '#1094 @ 852,712: 16x14', '#1095 @ 677,237: 27x25', '#1096 @ 340,657: 19x29', '#1097 @ 275,187: 28x25', '#1098 @ 98,407: 12x19', '#1099 @ 220,931: 25x24', '#1100 @ 957,368: 23x23', '#1101 @ 440,753: 27x12', '#1102 @ 472,217: 13x14', '#1103 @ 869,268: 16x21', '#1104 @ 637,578: 27x15', '#1105 @ 916,587: 29x20', '#1106 @ 58,315: 24x21', '#1107 @ 198,884: 10x22', '#1108 @ 458,399: 16x15', '#1109 @ 442,731: 10x14', '#1110 @ 602,239: 20x19', '#1111 @ 302,295: 16x19', '#1112 @ 380,822: 25x13', '#1113 @ 567,219: 15x24', '#1114 @ 795,302: 17x14', '#1115 @ 82,698: 20x28', '#1116 @ 617,834: 18x27', '#1117 @ 210,217: 25x24', '#1118 @ 665,521: 11x24', '#1119 @ 272,29: 14x20', '#1120 @ 147,266: 22x11', '#1121 @ 30,830: 20x24', '#1122 @ 597,194: 26x23', '#1123 @ 784,32: 24x22', '#1124 @ 95,97: 19x14', '#1125 @ 688,769: 19x18', '#1126 @ 60,977: 22x11', '#1127 @ 480,493: 28x19', '#1128 @ 357,723: 20x20', '#1129 @ 145,939: 29x19', '#1130 @ 427,255: 14x27', '#1131 @ 636,625: 27x13', '#1132 @ 109,645: 15x17', '#1133 @ 873,182: 21x25', '#1134 @ 676,504: 10x29', '#1135 @ 469,251: 10x20', '#1136 @ 312,635: 21x22', '#1137 @ 129,132: 15x12', '#1138 @ 176,767: 22x19', '#1139 @ 751,347: 18x15', '#1140 @ 316,287: 20x21', '#1141 @ 808,577: 25x12', '#1142 @ 940,272: 19x22', '#1143 @ 253,767: 4x5', '#1144 @ 504,414: 20x5', '#1145 @ 574,762: 11x19', '#1146 @ 430,726: 24x22', '#1147 @ 470,267: 15x20', '#1148 @ 822,951: 26x13', '#1149 @ 829,234: 25x17', '#1150 @ 324,375: 25x25', '#1151 @ 670,234: 11x12', '#1152 @ 859,138: 28x20', '#1153 @ 669,681: 12x17', '#1154 @ 901,338: 17x29', '#1155 @ 58,805: 21x27', '#1156 @ 868,353: 20x28', '#1157 @ 861,470: 28x27', '#1158 @ 700,78: 17x18', '#1159 @ 967,117: 20x11', '#1160 @ 395,130: 12x15', '#1161 @ 764,264: 28x18', '#1162 @ 327,115: 20x16', '#1163 @ 150,105: 26x10', '#1164 @ 894,132: 13x18', '#1165 @ 39,177: 19x16', '#1166 @ 437,857: 13x15', '#1167 @ 483,459: 9x3', '#1168 @ 554,473: 25x16', '#1169 @ 17,471: 24x24', '#1170 @ 472,60: 16x27', '#1171 @ 636,537: 17x29', '#1172 @ 408,327: 16x26', '#1173 @ 679,669: 25x20', '#1174 @ 374,878: 13x15', '#1175 @ 873,977: 14x10', '#1176 @ 439,181: 10x19', '#1177 @ 602,310: 25x27', '#1178 @ 275,803: 29x11', '#1179 @ 440,745: 18x26', '#1180 @ 161,72: 22x18', '#1181 @ 500,174: 12x16', '#1182 @ 644,224: 11x22', '#1183 @ 264,168: 15x20', '#1184 @ 859,804: 24x17', '#1185 @ 568,812: 23x11', '#1186 @ 201,779: 20x16', '#1187 @ 266,166: 13x13', '#1188 @ 204,153: 26x10', '#1189 @ 650,384: 12x27', '#1190 @ 28,489: 12x21', '#1191 @ 560,126: 27x15', '#1192 @ 736,763: 19x28', '#1193 @ 567,208: 26x14', '#1194 @ 517,972: 20x14', '#1195 @ 238,807: 23x13', '#1196 @ 249,360: 28x11', '#1197 @ 968,831: 26x27', '#1198 @ 366,27: 25x16', '#1199 @ 416,42: 28x20', '#1200 @ 810,806: 17x26', '#1201 @ 764,897: 15x21', '#1202 @ 30,339: 12x28', '#1203 @ 347,641: 29x10', '#1204 @ 333,805: 27x24', '#1205 @ 913,98: 12x16', '#1206 @ 481,344: 18x15', '#1207 @ 41,225: 15x27', '#1208 @ 224,109: 11x17', '#1209 @ 611,275: 21x14', '#1210 @ 340,814: 14x18', '#1211 @ 150,188: 29x20', '#1212 @ 749,324: 20x24', '#1213 @ 645,539: 13x27', '#1214 @ 768,364: 15x22', '#1215 @ 966,789: 14x21', '#1216 @ 372,27: 10x20', '#1217 @ 685,204: 19x27', '#1218 @ 667,533: 6x3', '#1219 @ 764,927: 27x23', '#1220 @ 389,103: 22x22', '#1221 @ 878,736: 28x19', '#1222 @ 529,565: 23x15', '#1223 @ 273,958: 12x26', '#1224 @ 422,44: 18x10', '#1225 @ 162,850: 19x24', '#1226 @ 856,461: 27x13', '#1227 @ 97,370: 16x11', '#1228 @ 392,822: 18x10', '#1229 @ 302,427: 24x15', '#1230 @ 500,890: 17x23', '#1231 @ 138,789: 20x14', '#1232 @ 217,776: 25x19', '#1233 @ 923,156: 16x21' ]\n",
    "fabric = {}\n",
    "how_many = 0\n",
    "\n",
    "for entry in input:\n",
    "    m = re.match( \"#(\\d+) @ (\\d+),(\\d+): (\\d+)x(\\d+)\", entry )\n",
    "\n",
    "    id = int( m[1] )\n",
    "    x  = int( m[2] )\n",
    "    y  = int( m[3] )\n",
    "    w  = int( m[4] )\n",
    "    h  = int( m[5] )\n",
    "\n",
    "    for i in range( y, y + h ):\n",
    "        for j in range( x, x + w ):\n",
    "            fabric[(i,j)] = fabric.get((i,j), 0) + 1\n",
    "\n",
    "sum( [1 for v in fabric.values() if v > 1] )"
   ]
  },
  {
   "cell_type": "markdown",
   "metadata": {},
   "source": [
    "# Day 3:2"
   ]
  },
  {
   "cell_type": "code",
   "execution_count": 220,
   "metadata": {},
   "outputs": [
    {
     "data": {
      "text/plain": [
       "[717]"
      ]
     },
     "execution_count": 220,
     "metadata": {},
     "output_type": "execute_result"
    }
   ],
   "source": [
    "import re\n",
    "input = [ '#1 @ 565,109: 14x24', '#2 @ 413,723: 16x28', '#3 @ 136,229: 27x11', '#4 @ 640,187: 10x17', '#5 @ 666,879: 15x23', '#6 @ 20,696: 19x12', '#7 @ 543,767: 19x26', '#8 @ 92,312: 17x19', '#9 @ 833,99: 21x17', '#10 @ 795,572: 26x21', '#11 @ 801,965: 12x21', '#12 @ 385,951: 10x7', '#13 @ 18,241: 10x13', '#14 @ 86,656: 24x12', '#15 @ 505,955: 11x10', '#16 @ 744,538: 25x20', '#17 @ 91,488: 21x10', '#18 @ 266,291: 11x20', '#19 @ 618,42: 24x16', '#20 @ 377,422: 19x26', '#21 @ 469,38: 17x28', '#22 @ 559,768: 29x10', '#23 @ 493,151: 28x24', '#24 @ 222,123: 21x16', '#25 @ 473,797: 15x17', '#26 @ 434,107: 14x26', '#27 @ 627,844: 25x13', '#28 @ 146,715: 10x10', '#29 @ 297,86: 20x19', '#30 @ 813,476: 15x27', '#31 @ 428,417: 28x17', '#32 @ 202,163: 13x29', '#33 @ 934,273: 13x20', '#34 @ 418,254: 28x26', '#35 @ 918,798: 12x27', '#36 @ 486,798: 13x10', '#37 @ 652,31: 12x16', '#38 @ 456,898: 21x23', '#39 @ 330,300: 10x27', '#40 @ 901,713: 24x29', '#41 @ 337,809: 18x25', '#42 @ 966,349: 13x26', '#43 @ 69,782: 17x15', '#44 @ 364,954: 14x15', '#45 @ 780,50: 13x13', '#46 @ 378,632: 14x16', '#47 @ 847,186: 29x12', '#48 @ 143,18: 11x17', '#49 @ 519,65: 22x13', '#50 @ 137,871: 19x17', '#51 @ 242,133: 20x10', '#52 @ 517,715: 17x25', '#53 @ 674,378: 12x26', '#54 @ 921,787: 28x14', '#55 @ 383,711: 14x17', '#56 @ 691,82: 12x25', '#57 @ 600,656: 25x16', '#58 @ 399,291: 24x16', '#59 @ 345,679: 19x13', '#60 @ 599,311: 14x10', '#61 @ 181,410: 27x27', '#62 @ 415,718: 24x16', '#63 @ 567,945: 27x13', '#64 @ 113,9: 17x21', '#65 @ 639,492: 20x25', '#66 @ 425,414: 12x14', '#67 @ 805,970: 3x6', '#68 @ 575,489: 22x13', '#69 @ 897,117: 16x13', '#70 @ 722,393: 29x25', '#71 @ 56,120: 11x18', '#72 @ 698,724: 19x26', '#73 @ 737,490: 26x28', '#74 @ 129,628: 10x23', '#75 @ 656,488: 22x16', '#76 @ 805,804: 12x15', '#77 @ 701,325: 29x19', '#78 @ 846,51: 21x18', '#79 @ 368,612: 23x10', '#80 @ 218,308: 12x19', '#81 @ 567,702: 10x14', '#82 @ 11,273: 21x17', '#83 @ 959,371: 10x21', '#84 @ 311,123: 26x17', '#85 @ 180,88: 20x12', '#86 @ 573,502: 18x19', '#87 @ 611,233: 24x23', '#88 @ 304,126: 10x27', '#89 @ 363,714: 29x28', '#90 @ 753,584: 15x15', '#91 @ 452,210: 25x22', '#92 @ 200,197: 14x24', '#93 @ 732,961: 11x12', '#94 @ 643,43: 18x13', '#95 @ 56,779: 14x16', '#96 @ 160,938: 28x17', '#97 @ 271,674: 15x11', '#98 @ 100,782: 16x12', '#99 @ 694,772: 19x19', '#100 @ 608,917: 15x25', '#101 @ 967,381: 11x10', '#102 @ 578,124: 29x19', '#103 @ 954,84: 12x14', '#104 @ 76,872: 13x4', '#105 @ 803,150: 20x20', '#106 @ 690,789: 20x23', '#107 @ 626,130: 27x20', '#108 @ 236,547: 20x4', '#109 @ 878,655: 27x18', '#110 @ 911,726: 28x12', '#111 @ 284,165: 11x23', '#112 @ 191,111: 29x11', '#113 @ 530,703: 12x21', '#114 @ 386,36: 25x23', '#115 @ 110,859: 25x15', '#116 @ 399,871: 26x19', '#117 @ 373,163: 14x25', '#118 @ 572,501: 13x21', '#119 @ 132,401: 22x22', '#120 @ 288,304: 24x18', '#121 @ 835,42: 23x26', '#122 @ 767,211: 14x27', '#123 @ 174,88: 26x14', '#124 @ 399,407: 12x18', '#125 @ 396,32: 20x22', '#126 @ 852,58: 17x20', '#127 @ 971,620: 21x29', '#128 @ 64,710: 26x27', '#129 @ 297,176: 22x19', '#130 @ 751,343: 29x20', '#131 @ 23,610: 25x17', '#132 @ 155,53: 25x21', '#133 @ 606,439: 19x10', '#134 @ 511,143: 21x28', '#135 @ 306,21: 11x18', '#136 @ 844,67: 25x12', '#137 @ 966,884: 26x19', '#138 @ 845,12: 16x29', '#139 @ 214,406: 22x28', '#140 @ 186,113: 25x22', '#141 @ 458,886: 21x26', '#142 @ 442,99: 10x27', '#143 @ 652,796: 27x26', '#144 @ 4,218: 14x10', '#145 @ 174,135: 18x28', '#146 @ 491,895: 28x10', '#147 @ 736,954: 18x25', '#148 @ 194,412: 26x14', '#149 @ 642,135: 27x19', '#150 @ 637,223: 11x13', '#151 @ 549,404: 16x24', '#152 @ 662,354: 17x28', '#153 @ 211,963: 25x28', '#154 @ 377,881: 26x17', '#155 @ 116,374: 27x20', '#156 @ 6,948: 13x18', '#157 @ 828,2: 25x22', '#158 @ 283,968: 16x29', '#159 @ 852,22: 27x23', '#160 @ 395,937: 29x29', '#161 @ 357,636: 27x11', '#162 @ 265,9: 15x29', '#163 @ 647,147: 20x11', '#164 @ 512,880: 12x29', '#165 @ 572,30: 18x21', '#166 @ 964,663: 17x25', '#167 @ 828,633: 15x17', '#168 @ 839,173: 12x17', '#169 @ 295,175: 14x14', '#170 @ 455,645: 16x22', '#171 @ 92,305: 11x10', '#172 @ 868,289: 29x28', '#173 @ 434,181: 17x14', '#174 @ 21,692: 22x10', '#175 @ 486,918: 18x11', '#176 @ 359,189: 29x26', '#177 @ 231,642: 10x17', '#178 @ 446,164: 26x19', '#179 @ 812,878: 13x19', '#180 @ 401,613: 18x24', '#181 @ 140,218: 29x16', '#182 @ 223,825: 13x16', '#183 @ 863,337: 21x16', '#184 @ 568,464: 25x10', '#185 @ 417,475: 19x14', '#186 @ 486,894: 29x18', '#187 @ 70,522: 22x19', '#188 @ 657,438: 10x14', '#189 @ 156,885: 29x15', '#190 @ 219,328: 20x24', '#191 @ 9,585: 10x26', '#192 @ 904,667: 17x12', '#193 @ 137,298: 26x18', '#194 @ 947,93: 28x22', '#195 @ 359,712: 15x18', '#196 @ 663,694: 22x12', '#197 @ 786,310: 28x13', '#198 @ 823,920: 22x22', '#199 @ 621,337: 12x24', '#200 @ 44,504: 14x15', '#201 @ 526,637: 14x26', '#202 @ 731,778: 23x17', '#203 @ 681,909: 18x11', '#204 @ 636,290: 12x19', '#205 @ 201,205: 14x18', '#206 @ 451,482: 16x20', '#207 @ 975,373: 16x20', '#208 @ 819,920: 16x18', '#209 @ 104,407: 13x15', '#210 @ 596,291: 15x25', '#211 @ 882,71: 24x29', '#212 @ 729,174: 18x19', '#213 @ 54,269: 3x14', '#214 @ 395,482: 29x15', '#215 @ 745,379: 26x10', '#216 @ 208,91: 21x21', '#217 @ 897,812: 16x26', '#218 @ 857,690: 13x11', '#219 @ 455,711: 20x13', '#220 @ 502,304: 17x24', '#221 @ 978,639: 11x11', '#222 @ 725,170: 24x17', '#223 @ 774,540: 14x26', '#224 @ 553,26: 20x20', '#225 @ 741,947: 16x22', '#226 @ 440,169: 13x19', '#227 @ 180,81: 27x20', '#228 @ 974,440: 11x22', '#229 @ 766,232: 25x11', '#230 @ 27,518: 19x19', '#231 @ 690,313: 18x27', '#232 @ 343,271: 19x21', '#233 @ 486,561: 21x27', '#234 @ 148,69: 19x23', '#235 @ 657,562: 27x12', '#236 @ 403,121: 28x28', '#237 @ 664,614: 22x27', '#238 @ 63,23: 26x27', '#239 @ 353,886: 26x13', '#240 @ 96,440: 13x27', '#241 @ 689,738: 3x4', '#242 @ 456,694: 18x23', '#243 @ 673,497: 28x12', '#244 @ 288,256: 26x24', '#245 @ 433,849: 12x16', '#246 @ 871,297: 20x21', '#247 @ 694,771: 8x6', '#248 @ 301,46: 23x20', '#249 @ 871,596: 28x26', '#250 @ 743,162: 15x18', '#251 @ 95,490: 10x16', '#252 @ 401,885: 17x24', '#253 @ 596,133: 24x21', '#254 @ 373,522: 15x16', '#255 @ 593,746: 12x16', '#256 @ 243,812: 21x13', '#257 @ 543,855: 22x25', '#258 @ 218,817: 20x26', '#259 @ 19,353: 16x26', '#260 @ 846,142: 23x20', '#261 @ 671,365: 12x22', '#262 @ 470,331: 20x22', '#263 @ 380,518: 12x28', '#264 @ 671,177: 29x29', '#265 @ 693,875: 18x23', '#266 @ 50,734: 22x18', '#267 @ 385,218: 15x11', '#268 @ 671,489: 10x28', '#269 @ 422,32: 16x22', '#270 @ 583,152: 27x27', '#271 @ 153,78: 26x20', '#272 @ 748,748: 13x11', '#273 @ 909,163: 24x19', '#274 @ 527,422: 10x26', '#275 @ 494,167: 24x21', '#276 @ 612,748: 21x25', '#277 @ 135,51: 18x29', '#278 @ 187,231: 25x28', '#279 @ 899,338: 11x16', '#280 @ 478,385: 10x11', '#281 @ 150,294: 28x17', '#282 @ 432,645: 27x23', '#283 @ 247,806: 11x13', '#284 @ 8,606: 28x12', '#285 @ 65,308: 23x20', '#286 @ 106,763: 17x22', '#287 @ 175,461: 12x23', '#288 @ 497,156: 12x19', '#289 @ 142,546: 16x12', '#290 @ 10,517: 13x18', '#291 @ 788,968: 26x13', '#292 @ 104,646: 20x19', '#293 @ 388,640: 20x12', '#294 @ 558,38: 12x25', '#295 @ 62,538: 18x11', '#296 @ 965,378: 21x29', '#297 @ 209,967: 17x25', '#298 @ 1,130: 27x14', '#299 @ 354,230: 25x26', '#300 @ 61,515: 16x21', '#301 @ 471,921: 18x28', '#302 @ 155,233: 14x20', '#303 @ 459,670: 27x18', '#304 @ 749,530: 11x27', '#305 @ 354,248: 15x10', '#306 @ 66,701: 27x16', '#307 @ 409,558: 29x17', '#308 @ 653,377: 22x25', '#309 @ 213,37: 27x14', '#310 @ 898,335: 19x15', '#311 @ 721,93: 12x17', '#312 @ 535,443: 15x18', '#313 @ 170,99: 24x10', '#314 @ 50,264: 14x25', '#315 @ 553,481: 27x25', '#316 @ 579,329: 25x24', '#317 @ 642,375: 15x11', '#318 @ 646,128: 20x28', '#319 @ 435,243: 19x24', '#320 @ 880,392: 21x16', '#321 @ 921,304: 21x15', '#322 @ 383,949: 15x15', '#323 @ 782,510: 14x29', '#324 @ 613,329: 23x26', '#325 @ 234,84: 27x13', '#326 @ 916,289: 13x24', '#327 @ 658,811: 28x27', '#328 @ 649,879: 15x12', '#329 @ 87,799: 12x11', '#330 @ 842,799: 19x21', '#331 @ 687,759: 19x28', '#332 @ 451,691: 27x16', '#333 @ 206,885: 23x13', '#334 @ 714,86: 26x16', '#335 @ 68,130: 29x16', '#336 @ 746,334: 22x16', '#337 @ 577,586: 25x18', '#338 @ 720,220: 15x15', '#339 @ 274,643: 14x24', '#340 @ 64,807: 23x24', '#341 @ 147,123: 16x14', '#342 @ 588,386: 12x17', '#343 @ 867,508: 20x21', '#344 @ 680,854: 10x25', '#345 @ 453,276: 19x15', '#346 @ 725,780: 26x14', '#347 @ 28,466: 14x16', '#348 @ 583,189: 26x20', '#349 @ 428,610: 25x28', '#350 @ 133,778: 24x14', '#351 @ 86,820: 15x5', '#352 @ 437,792: 29x25', '#353 @ 296,203: 3x3', '#354 @ 185,186: 27x23', '#355 @ 634,793: 20x24', '#356 @ 850,108: 29x24', '#357 @ 431,58: 24x29', '#358 @ 541,603: 24x29', '#359 @ 879,984: 12x14', '#360 @ 29,712: 14x26', '#361 @ 631,341: 18x22', '#362 @ 27,354: 4x5', '#363 @ 970,256: 21x13', '#364 @ 177,592: 22x15', '#365 @ 54,303: 17x19', '#366 @ 444,468: 14x17', '#367 @ 663,443: 21x14', '#368 @ 128,710: 12x27', '#369 @ 848,712: 23x20', '#370 @ 297,746: 29x26', '#371 @ 951,894: 17x14', '#372 @ 655,889: 20x14', '#373 @ 59,91: 10x25', '#374 @ 911,527: 11x22', '#375 @ 159,291: 18x19', '#376 @ 472,889: 18x22', '#377 @ 432,791: 20x16', '#378 @ 817,570: 13x29', '#379 @ 392,109: 19x28', '#380 @ 853,177: 11x16', '#381 @ 321,562: 25x25', '#382 @ 174,840: 20x24', '#383 @ 589,386: 11x23', '#384 @ 82,797: 23x25', '#385 @ 579,137: 14x29', '#386 @ 399,765: 25x20', '#387 @ 600,932: 25x21', '#388 @ 396,937: 22x26', '#389 @ 104,851: 28x11', '#390 @ 904,119: 26x18', '#391 @ 213,350: 17x19', '#392 @ 177,86: 17x26', '#393 @ 560,826: 17x26', '#394 @ 364,729: 28x16', '#395 @ 724,756: 25x27', '#396 @ 219,648: 17x17', '#397 @ 818,27: 12x25', '#398 @ 765,24: 24x16', '#399 @ 335,420: 27x19', '#400 @ 68,41: 24x10', '#401 @ 132,114: 23x15', '#402 @ 1,908: 20x28', '#403 @ 866,876: 24x18', '#404 @ 702,806: 28x29', '#405 @ 911,118: 27x20', '#406 @ 198,812: 22x20', '#407 @ 418,570: 16x28', '#408 @ 65,531: 10x15', '#409 @ 350,250: 18x13', '#410 @ 804,136: 14x17', '#411 @ 825,169: 16x20', '#412 @ 467,945: 22x19', '#413 @ 269,159: 21x22', '#414 @ 974,98: 17x29', '#415 @ 377,603: 13x10', '#416 @ 772,923: 19x15', '#417 @ 732,338: 22x22', '#418 @ 244,674: 22x20', '#419 @ 818,883: 24x10', '#420 @ 24,699: 20x27', '#421 @ 734,587: 25x20', '#422 @ 366,63: 10x26', '#423 @ 454,111: 29x24', '#424 @ 735,170: 20x19', '#425 @ 133,390: 23x22', '#426 @ 338,481: 27x23', '#427 @ 238,675: 26x16', '#428 @ 596,432: 10x14', '#429 @ 63,803: 20x25', '#430 @ 914,913: 17x16', '#431 @ 7,271: 16x28', '#432 @ 453,464: 10x17', '#433 @ 8,806: 16x10', '#434 @ 519,182: 11x27', '#435 @ 15,516: 13x27', '#436 @ 358,723: 23x29', '#437 @ 346,212: 27x14', '#438 @ 745,743: 21x29', '#439 @ 869,876: 20x27', '#440 @ 669,857: 23x18', '#441 @ 441,700: 15x26', '#442 @ 243,585: 13x27', '#443 @ 641,811: 25x22', '#444 @ 254,226: 22x10', '#445 @ 90,95: 27x15', '#446 @ 901,163: 27x28', '#447 @ 909,339: 18x26', '#448 @ 268,374: 13x10', '#449 @ 704,327: 18x14', '#450 @ 267,669: 11x19', '#451 @ 472,39: 13x17', '#452 @ 902,481: 27x10', '#453 @ 716,194: 14x15', '#454 @ 908,519: 20x18', '#455 @ 34,445: 10x27', '#456 @ 106,499: 25x28', '#457 @ 613,631: 23x15', '#458 @ 163,116: 18x16', '#459 @ 356,957: 27x13', '#460 @ 733,511: 13x21', '#461 @ 24,807: 10x24', '#462 @ 583,291: 18x12', '#463 @ 136,32: 27x19', '#464 @ 631,296: 29x10', '#465 @ 85,439: 25x29', '#466 @ 145,805: 11x15', '#467 @ 368,739: 26x11', '#468 @ 813,701: 17x17', '#469 @ 611,358: 26x29', '#470 @ 292,193: 24x18', '#471 @ 829,392: 9x7', '#472 @ 923,148: 10x20', '#473 @ 816,360: 24x12', '#474 @ 406,710: 25x28', '#475 @ 349,627: 10x26', '#476 @ 295,137: 14x25', '#477 @ 415,456: 21x10', '#478 @ 74,870: 18x11', '#479 @ 135,377: 28x29', '#480 @ 259,570: 16x23', '#481 @ 809,808: 23x27', '#482 @ 159,290: 10x25', '#483 @ 791,533: 20x27', '#484 @ 620,34: 17x12', '#485 @ 136,406: 12x22', '#486 @ 416,44: 17x28', '#487 @ 576,256: 26x17', '#488 @ 588,317: 29x11', '#489 @ 964,435: 21x18', '#490 @ 620,561: 20x23', '#491 @ 167,849: 23x17', '#492 @ 159,752: 25x16', '#493 @ 950,922: 26x28', '#494 @ 584,587: 14x18', '#495 @ 907,489: 11x18', '#496 @ 406,51: 10x29', '#497 @ 21,779: 15x12', '#498 @ 381,309: 10x27', '#499 @ 240,348: 20x19', '#500 @ 287,655: 29x13', '#501 @ 295,265: 18x14', '#502 @ 772,401: 11x14', '#503 @ 187,808: 14x20', '#504 @ 336,937: 21x18', '#505 @ 183,162: 13x24', '#506 @ 86,305: 21x10', '#507 @ 958,853: 17x23', '#508 @ 223,463: 23x28', '#509 @ 0,498: 29x11', '#510 @ 737,851: 28x26', '#511 @ 411,349: 22x19', '#512 @ 39,461: 19x28', '#513 @ 610,268: 10x21', '#514 @ 378,22: 18x20', '#515 @ 332,629: 18x17', '#516 @ 20,781: 12x17', '#517 @ 190,84: 6x4', '#518 @ 961,260: 27x17', '#519 @ 388,755: 10x16', '#520 @ 203,101: 15x16', '#521 @ 606,187: 17x23', '#522 @ 817,274: 29x10', '#523 @ 718,909: 24x11', '#524 @ 154,706: 26x26', '#525 @ 402,878: 20x13', '#526 @ 541,410: 13x10', '#527 @ 266,974: 14x16', '#528 @ 0,961: 15x18', '#529 @ 33,681: 24x17', '#530 @ 785,178: 27x11', '#531 @ 5,703: 28x24', '#532 @ 703,783: 12x10', '#533 @ 876,868: 24x13', '#534 @ 843,902: 21x26', '#535 @ 143,795: 24x29', '#536 @ 910,522: 27x15', '#537 @ 403,250: 27x27', '#538 @ 902,813: 24x26', '#539 @ 93,469: 25x12', '#540 @ 629,723: 23x27', '#541 @ 783,910: 29x13', '#542 @ 757,245: 17x21', '#543 @ 818,366: 14x14', '#544 @ 430,408: 25x13', '#545 @ 311,219: 23x15', '#546 @ 875,870: 29x11', '#547 @ 403,134: 28x11', '#548 @ 663,863: 24x11', '#549 @ 441,961: 15x20', '#550 @ 910,672: 11x19', '#551 @ 187,187: 27x22', '#552 @ 733,902: 15x15', '#553 @ 6,962: 18x26', '#554 @ 96,126: 11x11', '#555 @ 276,244: 24x23', '#556 @ 262,365: 23x13', '#557 @ 163,76: 27x18', '#558 @ 133,893: 26x11', '#559 @ 933,690: 15x13', '#560 @ 711,848: 24x29', '#561 @ 370,333: 26x11', '#562 @ 832,788: 28x20', '#563 @ 0,422: 10x25', '#564 @ 826,49: 24x27', '#565 @ 736,936: 18x26', '#566 @ 536,601: 24x10', '#567 @ 948,690: 28x29', '#568 @ 233,26: 19x15', '#569 @ 956,237: 23x11', '#570 @ 758,967: 26x26', '#571 @ 241,202: 15x21', '#572 @ 650,169: 10x26', '#573 @ 479,880: 23x23', '#574 @ 257,161: 15x28', '#575 @ 646,470: 22x21', '#576 @ 420,693: 26x25', '#577 @ 370,913: 12x21', '#578 @ 753,303: 24x27', '#579 @ 39,171: 13x21', '#580 @ 647,155: 29x23', '#581 @ 860,51: 13x26', '#582 @ 607,212: 19x23', '#583 @ 658,487: 24x15', '#584 @ 645,530: 17x14', '#585 @ 884,276: 29x19', '#586 @ 860,187: 23x16', '#587 @ 103,18: 10x13', '#588 @ 101,493: 28x18', '#589 @ 944,752: 29x21', '#590 @ 66,124: 12x13', '#591 @ 970,537: 20x16', '#592 @ 890,788: 19x27', '#593 @ 314,421: 14x17', '#594 @ 676,235: 25x18', '#595 @ 415,395: 27x23', '#596 @ 150,708: 22x10', '#597 @ 459,946: 18x11', '#598 @ 495,575: 13x21', '#599 @ 598,657: 16x23', '#600 @ 475,873: 19x25', '#601 @ 670,758: 20x14', '#602 @ 372,691: 20x20', '#603 @ 312,707: 14x12', '#604 @ 130,720: 6x12', '#605 @ 280,941: 14x28', '#606 @ 692,701: 14x24', '#607 @ 624,78: 19x11', '#608 @ 784,493: 23x20', '#609 @ 176,234: 17x16', '#610 @ 467,402: 24x19', '#611 @ 733,932: 11x10', '#612 @ 6,409: 13x28', '#613 @ 44,240: 17x22', '#614 @ 639,847: 22x19', '#615 @ 221,226: 18x12', '#616 @ 649,139: 26x24', '#617 @ 55,165: 24x21', '#618 @ 661,528: 18x20', '#619 @ 313,926: 26x19', '#620 @ 588,153: 24x14', '#621 @ 378,920: 14x15', '#622 @ 506,970: 28x17', '#623 @ 831,202: 20x16', '#624 @ 365,9: 14x27', '#625 @ 131,755: 24x27', '#626 @ 648,513: 27x22', '#627 @ 740,357: 26x28', '#628 @ 277,163: 28x21', '#629 @ 737,979: 27x20', '#630 @ 154,521: 23x27', '#631 @ 221,896: 12x24', '#632 @ 942,682: 14x23', '#633 @ 649,861: 22x16', '#634 @ 330,136: 19x22', '#635 @ 17,688: 19x10', '#636 @ 618,75: 14x20', '#637 @ 9,569: 14x22', '#638 @ 662,221: 21x19', '#639 @ 972,552: 20x20', '#640 @ 723,243: 17x18', '#641 @ 414,132: 13x10', '#642 @ 167,443: 15x22', '#643 @ 251,284: 19x20', '#644 @ 541,468: 18x22', '#645 @ 556,36: 27x23', '#646 @ 502,411: 26x14', '#647 @ 855,147: 22x28', '#648 @ 259,659: 20x14', '#649 @ 214,483: 26x15', '#650 @ 282,205: 27x26', '#651 @ 564,775: 13x19', '#652 @ 953,930: 18x14', '#653 @ 584,946: 12x26', '#654 @ 769,410: 11x17', '#655 @ 188,186: 28x12', '#656 @ 87,25: 19x15', '#657 @ 231,545: 29x13', '#658 @ 755,239: 20x24', '#659 @ 719,816: 12x10', '#660 @ 461,619: 13x24', '#661 @ 272,799: 18x23', '#662 @ 648,868: 23x15', '#663 @ 246,278: 23x25', '#664 @ 176,369: 12x20', '#665 @ 945,977: 22x19', '#666 @ 457,280: 13x17', '#667 @ 165,89: 18x28', '#668 @ 548,501: 22x12', '#669 @ 223,835: 18x27', '#670 @ 171,110: 13x28', '#671 @ 598,751: 24x22', '#672 @ 972,660: 23x29', '#673 @ 862,681: 15x18', '#674 @ 790,785: 23x24', '#675 @ 914,91: 13x23', '#676 @ 846,12: 24x20', '#677 @ 938,291: 16x26', '#678 @ 624,575: 21x21', '#679 @ 524,550: 22x16', '#680 @ 872,401: 28x19', '#681 @ 362,890: 11x14', '#682 @ 143,127: 22x22', '#683 @ 622,334: 25x13', '#684 @ 50,91: 22x20', '#685 @ 410,598: 15x27', '#686 @ 823,2: 17x29', '#687 @ 365,704: 15x24', '#688 @ 704,340: 17x21', '#689 @ 28,725: 19x17', '#690 @ 378,902: 18x20', '#691 @ 918,530: 25x24', '#692 @ 294,93: 22x15', '#693 @ 415,648: 22x23', '#694 @ 150,395: 16x13', '#695 @ 153,236: 21x17', '#696 @ 607,420: 27x28', '#697 @ 379,116: 21x11', '#698 @ 523,50: 13x21', '#699 @ 129,135: 26x14', '#700 @ 336,298: 22x19', '#701 @ 972,533: 14x23', '#702 @ 323,203: 28x22', '#703 @ 14,198: 17x24', '#704 @ 97,972: 13x14', '#705 @ 392,296: 14x28', '#706 @ 169,164: 24x21', '#707 @ 344,484: 7x12', '#708 @ 263,770: 13x27', '#709 @ 783,534: 16x14', '#710 @ 509,3: 17x22', '#711 @ 208,925: 25x21', '#712 @ 846,22: 15x20', '#713 @ 82,361: 20x15', '#714 @ 258,761: 23x23', '#715 @ 530,318: 29x11', '#716 @ 750,753: 14x17', '#717 @ 200,551: 18x29', '#718 @ 273,676: 9x6', '#719 @ 124,732: 18x20', '#720 @ 660,905: 13x10', '#721 @ 123,820: 12x15', '#722 @ 106,797: 11x14', '#723 @ 427,454: 23x24', '#724 @ 829,930: 10x18', '#725 @ 479,455: 25x12', '#726 @ 484,40: 15x21', '#727 @ 47,721: 10x20', '#728 @ 708,425: 17x20', '#729 @ 224,71: 25x28', '#730 @ 399,901: 21x15', '#731 @ 296,575: 20x19', '#732 @ 150,79: 25x19', '#733 @ 1,799: 28x11', '#734 @ 699,254: 14x25', '#735 @ 484,552: 24x17', '#736 @ 190,806: 14x16', '#737 @ 119,426: 15x17', '#738 @ 618,550: 25x19', '#739 @ 38,405: 29x22', '#740 @ 855,126: 11x29', '#741 @ 485,505: 19x26', '#742 @ 885,358: 12x27', '#743 @ 563,315: 28x17', '#744 @ 878,476: 15x18', '#745 @ 641,148: 25x19', '#746 @ 459,272: 24x24', '#747 @ 497,863: 21x23', '#748 @ 435,687: 13x14', '#749 @ 657,625: 23x11', '#750 @ 763,571: 15x26', '#751 @ 377,591: 14x11', '#752 @ 299,80: 23x17', '#753 @ 138,539: 12x12', '#754 @ 567,478: 23x21', '#755 @ 59,588: 6x4', '#756 @ 635,565: 23x28', '#757 @ 262,580: 21x12', '#758 @ 426,175: 21x23', '#759 @ 548,449: 21x20', '#760 @ 118,720: 22x18', '#761 @ 974,782: 15x10', '#762 @ 56,586: 17x11', '#763 @ 215,49: 12x16', '#764 @ 217,156: 6x3', '#765 @ 656,229: 23x14', '#766 @ 558,860: 25x12', '#767 @ 464,131: 26x10', '#768 @ 917,262: 26x16', '#769 @ 243,230: 14x27', '#770 @ 735,335: 10x27', '#771 @ 467,929: 20x27', '#772 @ 944,972: 16x16', '#773 @ 443,465: 16x14', '#774 @ 85,432: 20x14', '#775 @ 924,775: 12x16', '#776 @ 667,234: 11x19', '#777 @ 658,693: 14x20', '#778 @ 532,892: 23x29', '#779 @ 194,147: 28x24', '#780 @ 513,945: 15x23', '#781 @ 801,905: 12x17', '#782 @ 168,869: 19x24', '#783 @ 532,432: 22x12', '#784 @ 762,550: 27x11', '#785 @ 334,193: 16x14', '#786 @ 71,785: 10x7', '#787 @ 10,116: 11x21', '#788 @ 229,421: 11x15', '#789 @ 637,278: 17x22', '#790 @ 709,184: 28x29', '#791 @ 179,698: 12x26', '#792 @ 209,43: 24x12', '#793 @ 423,912: 26x27', '#794 @ 187,363: 17x10', '#795 @ 624,842: 22x12', '#796 @ 77,561: 19x23', '#797 @ 422,345: 28x13', '#798 @ 958,220: 21x21', '#799 @ 805,977: 17x18', '#800 @ 905,579: 16x12', '#801 @ 188,363: 10x21', '#802 @ 383,607: 21x22', '#803 @ 769,213: 4x13', '#804 @ 503,905: 19x23', '#805 @ 575,821: 16x19', '#806 @ 200,974: 27x25', '#807 @ 123,390: 27x29', '#808 @ 776,11: 22x26', '#809 @ 921,770: 16x27', '#810 @ 694,781: 13x20', '#811 @ 369,947: 13x19', '#812 @ 971,677: 16x11', '#813 @ 727,381: 3x11', '#814 @ 571,312: 21x12', '#815 @ 520,646: 18x29', '#816 @ 769,866: 7x9', '#817 @ 677,919: 27x12', '#818 @ 822,630: 20x14', '#819 @ 657,618: 15x11', '#820 @ 978,515: 18x27', '#821 @ 13,230: 21x20', '#822 @ 163,117: 21x18', '#823 @ 87,716: 23x11', '#824 @ 720,937: 22x12', '#825 @ 677,223: 20x20', '#826 @ 446,625: 20x24', '#827 @ 509,431: 23x20', '#828 @ 737,549: 13x19', '#829 @ 697,57: 13x25', '#830 @ 734,869: 13x23', '#831 @ 337,375: 12x22', '#832 @ 750,338: 10x6', '#833 @ 251,301: 18x18', '#834 @ 386,226: 12x13', '#835 @ 514,908: 22x24', '#836 @ 761,857: 19x24', '#837 @ 390,18: 8x8', '#838 @ 851,69: 14x17', '#839 @ 910,911: 18x12', '#840 @ 506,308: 4x14', '#841 @ 146,62: 27x12', '#842 @ 421,30: 11x19', '#843 @ 130,542: 24x24', '#844 @ 127,388: 14x26', '#845 @ 860,908: 24x23', '#846 @ 516,53: 15x14', '#847 @ 360,211: 15x23', '#848 @ 227,314: 29x29', '#849 @ 27,387: 29x20', '#850 @ 167,846: 25x21', '#851 @ 133,646: 16x15', '#852 @ 420,956: 18x19', '#853 @ 943,684: 13x25', '#854 @ 84,816: 22x13', '#855 @ 200,767: 28x10', '#856 @ 148,50: 22x22', '#857 @ 931,159: 20x20', '#858 @ 674,240: 18x25', '#859 @ 390,643: 18x18', '#860 @ 155,862: 17x24', '#861 @ 545,873: 29x29', '#862 @ 851,192: 26x26', '#863 @ 688,880: 26x16', '#864 @ 170,27: 16x24', '#865 @ 755,555: 10x12', '#866 @ 204,43: 26x22', '#867 @ 626,633: 14x14', '#868 @ 315,709: 7x7', '#869 @ 284,944: 11x23', '#870 @ 361,115: 25x20', '#871 @ 580,510: 22x13', '#872 @ 107,457: 27x25', '#873 @ 728,227: 17x12', '#874 @ 584,962: 18x19', '#875 @ 976,629: 15x16', '#876 @ 100,655: 10x14', '#877 @ 686,734: 10x15', '#878 @ 805,958: 19x26', '#879 @ 870,254: 15x22', '#880 @ 429,972: 16x13', '#881 @ 958,922: 15x14', '#882 @ 773,150: 25x29', '#883 @ 908,821: 19x24', '#884 @ 626,289: 17x23', '#885 @ 582,546: 27x14', '#886 @ 895,787: 29x16', '#887 @ 474,489: 12x28', '#888 @ 736,241: 15x13', '#889 @ 130,435: 25x14', '#890 @ 773,916: 18x15', '#891 @ 597,882: 16x13', '#892 @ 864,581: 18x18', '#893 @ 366,925: 24x29', '#894 @ 139,266: 14x25', '#895 @ 549,851: 25x12', '#896 @ 812,483: 17x19', '#897 @ 320,115: 14x12', '#898 @ 590,350: 11x25', '#899 @ 930,121: 25x10', '#900 @ 174,75: 23x17', '#901 @ 366,409: 28x14', '#902 @ 795,169: 28x19', '#903 @ 391,604: 26x18', '#904 @ 624,187: 28x23', '#905 @ 322,365: 10x14', '#906 @ 406,421: 15x12', '#907 @ 290,72: 27x16', '#908 @ 811,161: 12x13', '#909 @ 862,806: 15x12', '#910 @ 679,867: 17x12', '#911 @ 242,661: 28x20', '#912 @ 354,790: 17x18', '#913 @ 149,781: 17x20', '#914 @ 355,92: 13x28', '#915 @ 165,858: 26x24', '#916 @ 790,691: 26x27', '#917 @ 124,926: 20x22', '#918 @ 843,269: 14x15', '#919 @ 235,828: 15x24', '#920 @ 896,146: 15x21', '#921 @ 884,466: 26x19', '#922 @ 71,544: 22x29', '#923 @ 218,161: 10x29', '#924 @ 556,87: 24x27', '#925 @ 385,884: 23x11', '#926 @ 380,583: 18x17', '#927 @ 134,202: 28x18', '#928 @ 971,617: 11x12', '#929 @ 422,932: 11x12', '#930 @ 432,498: 29x11', '#931 @ 409,642: 17x26', '#932 @ 634,845: 20x22', '#933 @ 583,515: 5x4', '#934 @ 466,628: 23x10', '#935 @ 265,818: 17x16', '#936 @ 453,667: 18x12', '#937 @ 841,203: 11x24', '#938 @ 849,324: 20x27', '#939 @ 549,325: 18x14', '#940 @ 164,23: 20x10', '#941 @ 351,275: 5x6', '#942 @ 463,908: 17x16', '#943 @ 972,650: 18x21', '#944 @ 249,808: 5x3', '#945 @ 933,770: 14x18', '#946 @ 626,471: 10x25', '#947 @ 336,389: 27x12', '#948 @ 238,209: 8x4', '#949 @ 879,202: 23x13', '#950 @ 847,746: 27x16', '#951 @ 102,796: 14x27', '#952 @ 448,453: 11x19', '#953 @ 387,764: 23x14', '#954 @ 597,438: 24x25', '#955 @ 295,33: 15x20', '#956 @ 972,394: 11x14', '#957 @ 623,939: 19x29', '#958 @ 507,199: 17x21', '#959 @ 84,968: 28x22', '#960 @ 765,619: 23x11', '#961 @ 948,493: 25x12', '#962 @ 365,906: 14x13', '#963 @ 741,536: 25x14', '#964 @ 87,479: 10x10', '#965 @ 963,504: 14x29', '#966 @ 648,838: 19x20', '#967 @ 580,261: 16x21', '#968 @ 579,150: 24x15', '#969 @ 395,113: 13x21', '#970 @ 196,22: 14x25', '#971 @ 19,352: 18x18', '#972 @ 875,81: 13x20', '#973 @ 17,577: 25x18', '#974 @ 843,221: 10x27', '#975 @ 825,165: 23x11', '#976 @ 575,308: 13x10', '#977 @ 867,652: 15x12', '#978 @ 259,809: 19x20', '#979 @ 724,379: 13x17', '#980 @ 9,573: 13x15', '#981 @ 419,752: 25x21', '#982 @ 13,607: 29x23', '#983 @ 963,938: 14x14', '#984 @ 908,724: 15x23', '#985 @ 507,36: 28x20', '#986 @ 168,712: 26x16', '#987 @ 925,146: 21x19', '#988 @ 155,583: 27x23', '#989 @ 758,731: 12x17', '#990 @ 666,903: 14x28', '#991 @ 375,649: 16x18', '#992 @ 658,151: 21x13', '#993 @ 393,58: 24x16', '#994 @ 57,976: 10x13', '#995 @ 14,933: 10x13', '#996 @ 293,190: 12x24', '#997 @ 672,238: 16x19', '#998 @ 388,15: 13x18', '#999 @ 698,823: 25x18', '#1000 @ 405,345: 20x15', '#1001 @ 418,231: 20x11', '#1002 @ 203,886: 23x14', '#1003 @ 798,475: 12x26', '#1004 @ 836,184: 13x12', '#1005 @ 286,617: 22x27', '#1006 @ 422,210: 26x22', '#1007 @ 304,267: 3x7', '#1008 @ 483,170: 21x23', '#1009 @ 118,29: 14x15', '#1010 @ 559,371: 23x11', '#1011 @ 817,152: 10x23', '#1012 @ 111,826: 13x13', '#1013 @ 366,243: 12x12', '#1014 @ 329,549: 18x17', '#1015 @ 248,682: 10x11', '#1016 @ 416,375: 17x11', '#1017 @ 652,44: 20x21', '#1018 @ 628,971: 3x6', '#1019 @ 378,155: 17x10', '#1020 @ 616,460: 28x23', '#1021 @ 359,407: 10x22', '#1022 @ 840,907: 18x24', '#1023 @ 267,590: 16x13', '#1024 @ 623,367: 17x12', '#1025 @ 299,574: 28x28', '#1026 @ 189,368: 24x20', '#1027 @ 949,375: 22x21', '#1028 @ 382,946: 20x12', '#1029 @ 186,952: 15x26', '#1030 @ 562,698: 14x21', '#1031 @ 102,933: 28x19', '#1032 @ 731,351: 24x14', '#1033 @ 695,70: 18x12', '#1034 @ 313,307: 13x14', '#1035 @ 589,889: 20x12', '#1036 @ 937,167: 29x10', '#1037 @ 816,39: 12x11', '#1038 @ 383,882: 19x21', '#1039 @ 624,35: 24x24', '#1040 @ 47,172: 26x10', '#1041 @ 436,182: 27x12', '#1042 @ 786,610: 23x10', '#1043 @ 232,206: 27x12', '#1044 @ 66,782: 21x10', '#1045 @ 287,743: 26x23', '#1046 @ 448,693: 28x17', '#1047 @ 272,169: 18x27', '#1048 @ 11,593: 15x15', '#1049 @ 8,950: 6x11', '#1050 @ 546,125: 19x12', '#1051 @ 865,750: 15x16', '#1052 @ 354,207: 18x12', '#1053 @ 202,823: 18x10', '#1054 @ 570,369: 18x24', '#1055 @ 311,60: 11x29', '#1056 @ 626,969: 10x11', '#1057 @ 252,970: 23x19', '#1058 @ 118,116: 17x27', '#1059 @ 796,187: 21x22', '#1060 @ 277,572: 28x18', '#1061 @ 804,581: 22x17', '#1062 @ 728,417: 10x11', '#1063 @ 577,958: 23x10', '#1064 @ 874,299: 25x21', '#1065 @ 239,217: 26x14', '#1066 @ 196,781: 11x11', '#1067 @ 705,842: 24x11', '#1068 @ 251,757: 27x28', '#1069 @ 463,379: 22x15', '#1070 @ 457,265: 23x13', '#1071 @ 827,388: 26x28', '#1072 @ 410,372: 14x22', '#1073 @ 56,812: 22x15', '#1074 @ 839,14: 10x13', '#1075 @ 158,691: 23x25', '#1076 @ 771,577: 20x15', '#1077 @ 505,554: 17x27', '#1078 @ 484,506: 23x23', '#1079 @ 895,794: 28x27', '#1080 @ 228,565: 16x27', '#1081 @ 601,965: 27x25', '#1082 @ 947,171: 17x15', '#1083 @ 372,699: 11x23', '#1084 @ 360,51: 18x15', '#1085 @ 850,528: 29x25', '#1086 @ 299,220: 21x25', '#1087 @ 519,11: 19x29', '#1088 @ 711,787: 17x20', '#1089 @ 717,412: 16x23', '#1090 @ 645,855: 11x20', '#1091 @ 653,151: 15x21', '#1092 @ 579,531: 26x16', '#1093 @ 226,83: 17x27', '#1094 @ 852,712: 16x14', '#1095 @ 677,237: 27x25', '#1096 @ 340,657: 19x29', '#1097 @ 275,187: 28x25', '#1098 @ 98,407: 12x19', '#1099 @ 220,931: 25x24', '#1100 @ 957,368: 23x23', '#1101 @ 440,753: 27x12', '#1102 @ 472,217: 13x14', '#1103 @ 869,268: 16x21', '#1104 @ 637,578: 27x15', '#1105 @ 916,587: 29x20', '#1106 @ 58,315: 24x21', '#1107 @ 198,884: 10x22', '#1108 @ 458,399: 16x15', '#1109 @ 442,731: 10x14', '#1110 @ 602,239: 20x19', '#1111 @ 302,295: 16x19', '#1112 @ 380,822: 25x13', '#1113 @ 567,219: 15x24', '#1114 @ 795,302: 17x14', '#1115 @ 82,698: 20x28', '#1116 @ 617,834: 18x27', '#1117 @ 210,217: 25x24', '#1118 @ 665,521: 11x24', '#1119 @ 272,29: 14x20', '#1120 @ 147,266: 22x11', '#1121 @ 30,830: 20x24', '#1122 @ 597,194: 26x23', '#1123 @ 784,32: 24x22', '#1124 @ 95,97: 19x14', '#1125 @ 688,769: 19x18', '#1126 @ 60,977: 22x11', '#1127 @ 480,493: 28x19', '#1128 @ 357,723: 20x20', '#1129 @ 145,939: 29x19', '#1130 @ 427,255: 14x27', '#1131 @ 636,625: 27x13', '#1132 @ 109,645: 15x17', '#1133 @ 873,182: 21x25', '#1134 @ 676,504: 10x29', '#1135 @ 469,251: 10x20', '#1136 @ 312,635: 21x22', '#1137 @ 129,132: 15x12', '#1138 @ 176,767: 22x19', '#1139 @ 751,347: 18x15', '#1140 @ 316,287: 20x21', '#1141 @ 808,577: 25x12', '#1142 @ 940,272: 19x22', '#1143 @ 253,767: 4x5', '#1144 @ 504,414: 20x5', '#1145 @ 574,762: 11x19', '#1146 @ 430,726: 24x22', '#1147 @ 470,267: 15x20', '#1148 @ 822,951: 26x13', '#1149 @ 829,234: 25x17', '#1150 @ 324,375: 25x25', '#1151 @ 670,234: 11x12', '#1152 @ 859,138: 28x20', '#1153 @ 669,681: 12x17', '#1154 @ 901,338: 17x29', '#1155 @ 58,805: 21x27', '#1156 @ 868,353: 20x28', '#1157 @ 861,470: 28x27', '#1158 @ 700,78: 17x18', '#1159 @ 967,117: 20x11', '#1160 @ 395,130: 12x15', '#1161 @ 764,264: 28x18', '#1162 @ 327,115: 20x16', '#1163 @ 150,105: 26x10', '#1164 @ 894,132: 13x18', '#1165 @ 39,177: 19x16', '#1166 @ 437,857: 13x15', '#1167 @ 483,459: 9x3', '#1168 @ 554,473: 25x16', '#1169 @ 17,471: 24x24', '#1170 @ 472,60: 16x27', '#1171 @ 636,537: 17x29', '#1172 @ 408,327: 16x26', '#1173 @ 679,669: 25x20', '#1174 @ 374,878: 13x15', '#1175 @ 873,977: 14x10', '#1176 @ 439,181: 10x19', '#1177 @ 602,310: 25x27', '#1178 @ 275,803: 29x11', '#1179 @ 440,745: 18x26', '#1180 @ 161,72: 22x18', '#1181 @ 500,174: 12x16', '#1182 @ 644,224: 11x22', '#1183 @ 264,168: 15x20', '#1184 @ 859,804: 24x17', '#1185 @ 568,812: 23x11', '#1186 @ 201,779: 20x16', '#1187 @ 266,166: 13x13', '#1188 @ 204,153: 26x10', '#1189 @ 650,384: 12x27', '#1190 @ 28,489: 12x21', '#1191 @ 560,126: 27x15', '#1192 @ 736,763: 19x28', '#1193 @ 567,208: 26x14', '#1194 @ 517,972: 20x14', '#1195 @ 238,807: 23x13', '#1196 @ 249,360: 28x11', '#1197 @ 968,831: 26x27', '#1198 @ 366,27: 25x16', '#1199 @ 416,42: 28x20', '#1200 @ 810,806: 17x26', '#1201 @ 764,897: 15x21', '#1202 @ 30,339: 12x28', '#1203 @ 347,641: 29x10', '#1204 @ 333,805: 27x24', '#1205 @ 913,98: 12x16', '#1206 @ 481,344: 18x15', '#1207 @ 41,225: 15x27', '#1208 @ 224,109: 11x17', '#1209 @ 611,275: 21x14', '#1210 @ 340,814: 14x18', '#1211 @ 150,188: 29x20', '#1212 @ 749,324: 20x24', '#1213 @ 645,539: 13x27', '#1214 @ 768,364: 15x22', '#1215 @ 966,789: 14x21', '#1216 @ 372,27: 10x20', '#1217 @ 685,204: 19x27', '#1218 @ 667,533: 6x3', '#1219 @ 764,927: 27x23', '#1220 @ 389,103: 22x22', '#1221 @ 878,736: 28x19', '#1222 @ 529,565: 23x15', '#1223 @ 273,958: 12x26', '#1224 @ 422,44: 18x10', '#1225 @ 162,850: 19x24', '#1226 @ 856,461: 27x13', '#1227 @ 97,370: 16x11', '#1228 @ 392,822: 18x10', '#1229 @ 302,427: 24x15', '#1230 @ 500,890: 17x23', '#1231 @ 138,789: 20x14', '#1232 @ 217,776: 25x19', '#1233 @ 923,156: 16x21' ]\n",
    "fabric = {}\n",
    "claim = {}\n",
    "how_many = 0\n",
    "\n",
    "for entry in input:\n",
    "    m = re.match( \"#(\\d+) @ (\\d+),(\\d+): (\\d+)x(\\d+)\", entry )\n",
    "\n",
    "    id = int( m[1] )\n",
    "    x  = int( m[2] )\n",
    "    y  = int( m[3] )\n",
    "    w  = int( m[4] )\n",
    "    h  = int( m[5] )\n",
    "\n",
    "\n",
    "    for i in range( y, y + h ):\n",
    "        for j in range( x, x + w ):\n",
    "            fabric[(i,j)] = fabric.get((i,j), 0) + 1\n",
    "            claim[id] = claim.get(id, [])\n",
    "            claim[id].append((i,j))\n",
    "            \n",
    "[id for id in claim.keys() if all([fabric[(x,y)] == 1 for (x,y) in claim[id]])]"
   ]
  },
  {
   "cell_type": "markdown",
   "metadata": {},
   "source": [
    "# Day 4:1"
   ]
  },
  {
   "cell_type": "code",
   "execution_count": 185,
   "metadata": {
    "tags": [
     "remove_cell"
    ]
   },
   "outputs": [],
   "source": [
    "log = \"\"\"[1518-05-12 00:46] wakes up\n",
    "[1518-11-17 00:21] wakes up\n",
    "[1518-06-13 00:02] falls asleep\n",
    "[1518-07-16 00:00] Guard #3209 begins shift\n",
    "[1518-03-18 23:57] Guard #857 begins shift\n",
    "[1518-05-05 00:22] wakes up\n",
    "[1518-03-20 00:25] wakes up\n",
    "[1518-04-20 00:52] wakes up\n",
    "[1518-04-11 00:01] Guard #3259 begins shift\n",
    "[1518-09-17 00:58] wakes up\n",
    "[1518-05-03 00:53] wakes up\n",
    "[1518-10-27 00:44] falls asleep\n",
    "[1518-06-03 00:52] wakes up\n",
    "[1518-03-31 00:02] Guard #1571 begins shift\n",
    "[1518-03-30 00:56] wakes up\n",
    "[1518-07-06 23:54] Guard #857 begins shift\n",
    "[1518-06-12 00:08] falls asleep\n",
    "[1518-10-17 23:47] Guard #541 begins shift\n",
    "[1518-04-07 00:55] falls asleep\n",
    "[1518-04-09 00:00] falls asleep\n",
    "[1518-06-19 00:50] wakes up\n",
    "[1518-07-02 00:59] wakes up\n",
    "[1518-08-29 00:00] falls asleep\n",
    "[1518-07-27 00:00] Guard #1571 begins shift\n",
    "[1518-09-30 00:31] falls asleep\n",
    "[1518-11-20 00:19] falls asleep\n",
    "[1518-08-12 00:18] wakes up\n",
    "[1518-05-12 00:45] falls asleep\n",
    "[1518-05-15 00:54] falls asleep\n",
    "[1518-10-28 23:51] Guard #1283 begins shift\n",
    "[1518-10-11 00:29] wakes up\n",
    "[1518-07-15 00:37] falls asleep\n",
    "[1518-11-04 00:31] wakes up\n",
    "[1518-04-04 00:02] falls asleep\n",
    "[1518-09-26 00:33] falls asleep\n",
    "[1518-08-31 00:02] falls asleep\n",
    "[1518-11-21 00:21] falls asleep\n",
    "[1518-09-03 00:01] Guard #89 begins shift\n",
    "[1518-10-26 00:57] falls asleep\n",
    "[1518-04-11 00:23] falls asleep\n",
    "[1518-03-29 00:37] wakes up\n",
    "[1518-03-25 00:38] wakes up\n",
    "[1518-11-18 00:15] falls asleep\n",
    "[1518-08-01 00:51] wakes up\n",
    "[1518-07-13 00:27] falls asleep\n",
    "[1518-10-05 23:58] Guard #541 begins shift\n",
    "[1518-04-23 00:04] Guard #1697 begins shift\n",
    "[1518-10-15 00:56] falls asleep\n",
    "[1518-03-19 00:23] falls asleep\n",
    "[1518-08-09 23:50] Guard #3533 begins shift\n",
    "[1518-08-15 00:31] wakes up\n",
    "[1518-03-26 00:37] falls asleep\n",
    "[1518-07-02 00:56] falls asleep\n",
    "[1518-10-07 00:48] wakes up\n",
    "[1518-08-12 23:56] Guard #1723 begins shift\n",
    "[1518-04-11 00:51] falls asleep\n",
    "[1518-06-27 00:53] wakes up\n",
    "[1518-08-20 00:03] Guard #1723 begins shift\n",
    "[1518-05-05 00:16] falls asleep\n",
    "[1518-05-30 23:56] Guard #3533 begins shift\n",
    "[1518-09-18 00:26] falls asleep\n",
    "[1518-04-25 00:42] wakes up\n",
    "[1518-06-05 00:49] falls asleep\n",
    "[1518-07-15 00:52] falls asleep\n",
    "[1518-08-05 00:19] wakes up\n",
    "[1518-04-13 00:19] falls asleep\n",
    "[1518-10-03 00:50] falls asleep\n",
    "[1518-08-05 00:15] falls asleep\n",
    "[1518-11-23 00:16] falls asleep\n",
    "[1518-11-23 00:27] wakes up\n",
    "[1518-05-18 23:56] Guard #1009 begins shift\n",
    "[1518-07-25 00:57] wakes up\n",
    "[1518-06-14 00:52] wakes up\n",
    "[1518-10-19 00:49] falls asleep\n",
    "[1518-09-08 00:50] falls asleep\n",
    "[1518-11-11 00:02] Guard #3209 begins shift\n",
    "[1518-10-29 00:13] wakes up\n",
    "[1518-07-10 00:50] wakes up\n",
    "[1518-04-20 00:03] Guard #1381 begins shift\n",
    "[1518-05-29 23:46] Guard #3259 begins shift\n",
    "[1518-11-09 00:52] falls asleep\n",
    "[1518-08-05 00:35] falls asleep\n",
    "[1518-06-07 00:56] wakes up\n",
    "[1518-09-23 00:21] wakes up\n",
    "[1518-09-23 23:56] Guard #2063 begins shift\n",
    "[1518-05-22 00:15] falls asleep\n",
    "[1518-08-04 00:02] Guard #3259 begins shift\n",
    "[1518-05-25 00:47] wakes up\n",
    "[1518-10-16 00:55] wakes up\n",
    "[1518-07-19 00:00] Guard #1697 begins shift\n",
    "[1518-03-14 00:00] Guard #857 begins shift\n",
    "[1518-11-14 00:45] wakes up\n",
    "[1518-09-29 00:00] Guard #1009 begins shift\n",
    "[1518-10-23 23:59] Guard #857 begins shift\n",
    "[1518-03-13 00:19] falls asleep\n",
    "[1518-05-15 00:58] wakes up\n",
    "[1518-10-11 00:22] falls asleep\n",
    "[1518-10-01 23:59] Guard #151 begins shift\n",
    "[1518-08-26 00:56] wakes up\n",
    "[1518-09-23 00:51] wakes up\n",
    "[1518-06-12 00:17] wakes up\n",
    "[1518-06-18 00:01] Guard #857 begins shift\n",
    "[1518-09-18 23:50] Guard #3259 begins shift\n",
    "[1518-03-26 23:54] Guard #1283 begins shift\n",
    "[1518-08-28 00:37] falls asleep\n",
    "[1518-05-25 23:59] Guard #2473 begins shift\n",
    "[1518-08-02 00:51] wakes up\n",
    "[1518-04-10 00:33] wakes up\n",
    "[1518-08-03 00:52] wakes up\n",
    "[1518-09-04 00:46] wakes up\n",
    "[1518-04-26 00:00] Guard #1723 begins shift\n",
    "[1518-03-10 00:36] wakes up\n",
    "[1518-09-29 00:57] wakes up\n",
    "[1518-11-18 23:56] Guard #2963 begins shift\n",
    "[1518-08-11 00:09] wakes up\n",
    "[1518-04-01 00:59] wakes up\n",
    "[1518-04-29 00:54] wakes up\n",
    "[1518-10-26 00:50] wakes up\n",
    "[1518-09-05 00:40] falls asleep\n",
    "[1518-04-10 00:23] falls asleep\n",
    "[1518-03-08 00:01] Guard #3137 begins shift\n",
    "[1518-05-27 00:28] wakes up\n",
    "[1518-07-18 00:26] falls asleep\n",
    "[1518-03-27 00:09] wakes up\n",
    "[1518-05-20 23:57] Guard #1571 begins shift\n",
    "[1518-08-15 00:22] falls asleep\n",
    "[1518-04-18 00:26] falls asleep\n",
    "[1518-11-17 23:58] Guard #1381 begins shift\n",
    "[1518-03-09 00:09] falls asleep\n",
    "[1518-03-12 00:54] falls asleep\n",
    "[1518-04-02 00:32] falls asleep\n",
    "[1518-04-02 00:01] Guard #1697 begins shift\n",
    "[1518-04-23 23:58] Guard #3469 begins shift\n",
    "[1518-04-02 00:46] wakes up\n",
    "[1518-05-04 00:01] Guard #3137 begins shift\n",
    "[1518-08-30 00:42] falls asleep\n",
    "[1518-08-13 00:23] falls asleep\n",
    "[1518-09-18 00:59] wakes up\n",
    "[1518-09-15 00:00] Guard #151 begins shift\n",
    "[1518-08-23 23:56] Guard #1283 begins shift\n",
    "[1518-06-07 00:02] Guard #1571 begins shift\n",
    "[1518-05-23 00:57] wakes up\n",
    "[1518-09-11 00:56] wakes up\n",
    "[1518-03-08 00:17] falls asleep\n",
    "[1518-06-11 00:08] falls asleep\n",
    "[1518-10-12 00:01] Guard #3469 begins shift\n",
    "[1518-07-02 00:49] wakes up\n",
    "[1518-04-16 00:43] falls asleep\n",
    "[1518-05-09 00:54] wakes up\n",
    "[1518-05-28 00:24] wakes up\n",
    "[1518-11-10 00:12] falls asleep\n",
    "[1518-09-21 00:21] falls asleep\n",
    "[1518-06-22 00:00] falls asleep\n",
    "[1518-10-21 23:47] Guard #1697 begins shift\n",
    "[1518-03-14 00:52] wakes up\n",
    "[1518-05-13 00:53] wakes up\n",
    "[1518-08-06 23:56] Guard #1723 begins shift\n",
    "[1518-04-09 00:56] wakes up\n",
    "[1518-10-27 23:58] Guard #3259 begins shift\n",
    "[1518-11-07 00:46] falls asleep\n",
    "[1518-06-12 00:31] falls asleep\n",
    "[1518-09-07 00:54] wakes up\n",
    "[1518-08-29 23:57] Guard #3533 begins shift\n",
    "[1518-09-19 00:49] falls asleep\n",
    "[1518-08-24 00:25] falls asleep\n",
    "[1518-10-10 00:24] falls asleep\n",
    "[1518-07-04 23:50] Guard #3137 begins shift\n",
    "[1518-03-17 00:04] Guard #3469 begins shift\n",
    "[1518-07-30 00:55] wakes up\n",
    "[1518-11-16 00:01] Guard #2963 begins shift\n",
    "[1518-03-20 23:57] Guard #3209 begins shift\n",
    "[1518-11-12 00:58] wakes up\n",
    "[1518-05-16 00:54] wakes up\n",
    "[1518-11-04 00:00] Guard #3259 begins shift\n",
    "[1518-09-20 00:57] wakes up\n",
    "[1518-06-03 00:00] falls asleep\n",
    "[1518-10-22 00:48] wakes up\n",
    "[1518-10-12 00:54] wakes up\n",
    "[1518-11-09 00:03] Guard #2251 begins shift\n",
    "[1518-03-19 00:40] wakes up\n",
    "[1518-11-10 00:57] wakes up\n",
    "[1518-04-21 00:25] falls asleep\n",
    "[1518-08-30 00:59] wakes up\n",
    "[1518-03-27 00:02] falls asleep\n",
    "[1518-07-09 00:08] falls asleep\n",
    "[1518-05-31 00:35] wakes up\n",
    "[1518-08-24 00:11] falls asleep\n",
    "[1518-10-21 00:14] falls asleep\n",
    "[1518-06-29 23:57] Guard #541 begins shift\n",
    "[1518-05-17 00:04] Guard #2251 begins shift\n",
    "[1518-05-31 23:58] Guard #857 begins shift\n",
    "[1518-07-04 00:59] wakes up\n",
    "[1518-07-24 00:55] falls asleep\n",
    "[1518-08-01 00:22] wakes up\n",
    "[1518-06-10 00:49] falls asleep\n",
    "[1518-06-27 00:59] wakes up\n",
    "[1518-09-16 00:24] falls asleep\n",
    "[1518-10-26 00:02] Guard #1723 begins shift\n",
    "[1518-09-15 00:28] falls asleep\n",
    "[1518-07-20 00:09] falls asleep\n",
    "[1518-04-24 00:57] wakes up\n",
    "[1518-06-09 23:58] Guard #1723 begins shift\n",
    "[1518-10-08 00:45] falls asleep\n",
    "[1518-08-22 00:01] Guard #3259 begins shift\n",
    "[1518-03-19 00:59] wakes up\n",
    "[1518-06-26 00:32] falls asleep\n",
    "[1518-11-04 00:49] wakes up\n",
    "[1518-09-23 00:20] falls asleep\n",
    "[1518-08-23 00:28] falls asleep\n",
    "[1518-11-04 00:38] falls asleep\n",
    "[1518-09-14 00:12] falls asleep\n",
    "[1518-06-30 00:59] wakes up\n",
    "[1518-06-10 00:40] wakes up\n",
    "[1518-07-01 00:41] falls asleep\n",
    "[1518-08-30 23:48] Guard #857 begins shift\n",
    "[1518-04-13 00:02] Guard #2411 begins shift\n",
    "[1518-05-11 23:59] Guard #2411 begins shift\n",
    "[1518-09-12 00:51] wakes up\n",
    "[1518-10-25 00:46] falls asleep\n",
    "[1518-06-29 00:38] falls asleep\n",
    "[1518-03-22 00:23] falls asleep\n",
    "[1518-07-30 00:02] Guard #2411 begins shift\n",
    "[1518-09-06 00:04] Guard #3469 begins shift\n",
    "[1518-03-09 23:56] Guard #2251 begins shift\n",
    "[1518-10-03 00:02] Guard #2963 begins shift\n",
    "[1518-09-10 00:10] falls asleep\n",
    "[1518-07-05 00:57] wakes up\n",
    "[1518-08-10 00:14] wakes up\n",
    "[1518-05-10 00:33] falls asleep\n",
    "[1518-09-17 00:15] wakes up\n",
    "[1518-07-17 00:40] wakes up\n",
    "[1518-09-10 23:58] Guard #1009 begins shift\n",
    "[1518-04-30 00:00] Guard #2473 begins shift\n",
    "[1518-11-08 00:49] wakes up\n",
    "[1518-09-16 00:59] wakes up\n",
    "[1518-06-07 00:48] wakes up\n",
    "[1518-06-20 00:59] wakes up\n",
    "[1518-04-02 23:50] Guard #1723 begins shift\n",
    "[1518-06-09 00:43] wakes up\n",
    "[1518-09-26 00:34] wakes up\n",
    "[1518-08-24 00:18] wakes up\n",
    "[1518-10-15 00:02] Guard #1723 begins shift\n",
    "[1518-04-21 00:57] wakes up\n",
    "[1518-04-10 00:00] Guard #1381 begins shift\n",
    "[1518-08-03 00:00] Guard #89 begins shift\n",
    "[1518-08-01 00:37] falls asleep\n",
    "[1518-10-13 23:51] Guard #2473 begins shift\n",
    "[1518-03-25 00:54] falls asleep\n",
    "[1518-11-19 00:33] falls asleep\n",
    "[1518-05-01 00:39] wakes up\n",
    "[1518-09-20 00:03] Guard #1697 begins shift\n",
    "[1518-11-07 23:50] Guard #3137 begins shift\n",
    "[1518-09-12 00:56] falls asleep\n",
    "[1518-05-31 00:10] falls asleep\n",
    "[1518-10-21 00:00] Guard #1283 begins shift\n",
    "[1518-05-19 00:53] falls asleep\n",
    "[1518-08-06 00:13] falls asleep\n",
    "[1518-10-15 00:59] wakes up\n",
    "[1518-05-11 00:58] wakes up\n",
    "[1518-11-16 00:58] wakes up\n",
    "[1518-09-23 00:39] falls asleep\n",
    "[1518-04-13 00:46] wakes up\n",
    "[1518-04-03 00:03] falls asleep\n",
    "[1518-05-16 00:52] falls asleep\n",
    "[1518-07-09 00:01] Guard #151 begins shift\n",
    "[1518-08-19 00:46] wakes up\n",
    "[1518-07-04 00:04] falls asleep\n",
    "[1518-08-24 00:30] wakes up\n",
    "[1518-05-30 00:30] wakes up\n",
    "[1518-05-02 00:07] falls asleep\n",
    "[1518-03-17 00:55] wakes up\n",
    "[1518-10-26 00:47] falls asleep\n",
    "[1518-06-04 23:58] Guard #3511 begins shift\n",
    "[1518-09-12 00:03] Guard #2251 begins shift\n",
    "[1518-10-03 00:26] falls asleep\n",
    "[1518-09-07 00:42] falls asleep\n",
    "[1518-10-19 23:56] Guard #1723 begins shift\n",
    "[1518-03-12 00:59] wakes up\n",
    "[1518-03-12 00:48] wakes up\n",
    "[1518-05-14 23:57] Guard #1571 begins shift\n",
    "[1518-07-15 00:56] wakes up\n",
    "[1518-07-17 00:26] falls asleep\n",
    "[1518-10-19 00:32] falls asleep\n",
    "[1518-04-29 00:40] falls asleep\n",
    "[1518-08-18 00:25] falls asleep\n",
    "[1518-05-23 00:30] wakes up\n",
    "[1518-07-26 00:58] wakes up\n",
    "[1518-11-07 00:26] falls asleep\n",
    "[1518-10-18 00:35] falls asleep\n",
    "[1518-08-04 00:54] falls asleep\n",
    "[1518-08-22 00:37] falls asleep\n",
    "[1518-10-22 00:05] falls asleep\n",
    "[1518-05-06 00:50] wakes up\n",
    "[1518-11-08 00:05] falls asleep\n",
    "[1518-05-22 00:03] Guard #857 begins shift\n",
    "[1518-11-02 00:47] wakes up\n",
    "[1518-05-04 00:41] wakes up\n",
    "[1518-05-02 00:39] wakes up\n",
    "[1518-06-13 00:57] wakes up\n",
    "[1518-06-11 00:48] wakes up\n",
    "[1518-05-30 00:04] falls asleep\n",
    "[1518-09-02 00:19] falls asleep\n",
    "[1518-06-04 00:27] falls asleep\n",
    "[1518-04-13 00:43] falls asleep\n",
    "[1518-07-03 23:47] Guard #1697 begins shift\n",
    "[1518-08-22 00:55] wakes up\n",
    "[1518-08-01 00:00] Guard #2411 begins shift\n",
    "[1518-05-21 00:30] falls asleep\n",
    "[1518-09-12 00:59] wakes up\n",
    "[1518-06-30 00:56] falls asleep\n",
    "[1518-10-10 00:00] Guard #3259 begins shift\n",
    "[1518-03-25 00:28] falls asleep\n",
    "[1518-06-01 00:45] falls asleep\n",
    "[1518-05-25 00:41] falls asleep\n",
    "[1518-04-27 00:29] falls asleep\n",
    "[1518-04-11 00:45] wakes up\n",
    "[1518-09-21 00:00] Guard #541 begins shift\n",
    "[1518-08-10 00:02] falls asleep\n",
    "[1518-10-28 00:15] falls asleep\n",
    "[1518-09-26 00:44] falls asleep\n",
    "[1518-07-03 00:56] wakes up\n",
    "[1518-10-29 00:00] falls asleep\n",
    "[1518-09-02 00:00] Guard #3259 begins shift\n",
    "[1518-05-04 23:57] Guard #1697 begins shift\n",
    "[1518-03-22 00:54] wakes up\n",
    "[1518-10-20 00:33] falls asleep\n",
    "[1518-09-22 00:08] falls asleep\n",
    "[1518-04-17 00:01] Guard #2473 begins shift\n",
    "[1518-10-21 00:41] wakes up\n",
    "[1518-08-08 00:02] Guard #1571 begins shift\n",
    "[1518-09-09 00:21] wakes up\n",
    "[1518-08-23 00:31] wakes up\n",
    "[1518-07-21 00:00] Guard #1697 begins shift\n",
    "[1518-04-16 00:51] wakes up\n",
    "[1518-05-02 23:57] Guard #3469 begins shift\n",
    "[1518-11-17 00:36] wakes up\n",
    "[1518-07-19 23:57] Guard #3209 begins shift\n",
    "[1518-05-29 00:58] wakes up\n",
    "[1518-09-25 00:49] wakes up\n",
    "[1518-10-09 00:34] falls asleep\n",
    "[1518-07-13 00:56] wakes up\n",
    "[1518-07-31 00:36] falls asleep\n",
    "[1518-06-11 00:45] falls asleep\n",
    "[1518-03-24 00:36] wakes up\n",
    "[1518-09-08 00:09] falls asleep\n",
    "[1518-07-01 00:03] Guard #857 begins shift\n",
    "[1518-04-27 00:19] wakes up\n",
    "[1518-10-04 23:57] Guard #541 begins shift\n",
    "[1518-04-13 00:30] wakes up\n",
    "[1518-05-17 00:54] wakes up\n",
    "[1518-07-07 00:57] wakes up\n",
    "[1518-06-26 00:57] wakes up\n",
    "[1518-06-02 23:49] Guard #1381 begins shift\n",
    "[1518-10-06 00:35] falls asleep\n",
    "[1518-03-19 00:46] falls asleep\n",
    "[1518-11-05 00:03] Guard #3347 begins shift\n",
    "[1518-10-07 23:48] Guard #2473 begins shift\n",
    "[1518-10-31 23:58] Guard #3347 begins shift\n",
    "[1518-07-21 00:42] falls asleep\n",
    "[1518-06-27 00:00] Guard #3533 begins shift\n",
    "[1518-07-31 00:41] wakes up\n",
    "[1518-07-22 00:56] wakes up\n",
    "[1518-08-02 00:28] falls asleep\n",
    "[1518-08-18 00:59] wakes up\n",
    "[1518-03-08 00:56] wakes up\n",
    "[1518-04-30 00:50] wakes up\n",
    "[1518-07-24 00:04] Guard #1381 begins shift\n",
    "[1518-10-15 00:35] falls asleep\n",
    "[1518-11-22 23:56] Guard #1571 begins shift\n",
    "[1518-11-13 00:23] falls asleep\n",
    "[1518-07-01 00:07] falls asleep\n",
    "[1518-05-07 00:33] falls asleep\n",
    "[1518-06-20 00:43] wakes up\n",
    "[1518-11-04 00:29] falls asleep\n",
    "[1518-03-13 00:54] falls asleep\n",
    "[1518-11-12 00:32] falls asleep\n",
    "[1518-04-23 00:06] falls asleep\n",
    "[1518-05-19 00:33] wakes up\n",
    "[1518-03-08 00:32] falls asleep\n",
    "[1518-05-09 00:02] Guard #857 begins shift\n",
    "[1518-07-15 00:18] falls asleep\n",
    "[1518-06-04 00:51] wakes up\n",
    "[1518-08-24 00:43] falls asleep\n",
    "[1518-05-19 00:54] wakes up\n",
    "[1518-09-06 00:50] falls asleep\n",
    "[1518-10-10 00:57] wakes up\n",
    "[1518-05-01 00:54] falls asleep\n",
    "[1518-10-05 00:41] falls asleep\n",
    "[1518-06-20 23:59] Guard #3209 begins shift\n",
    "[1518-10-16 23:59] Guard #857 begins shift\n",
    "[1518-10-16 00:54] falls asleep\n",
    "[1518-09-06 00:36] wakes up\n",
    "[1518-04-25 00:37] falls asleep\n",
    "[1518-03-28 00:48] falls asleep\n",
    "[1518-05-04 00:50] falls asleep\n",
    "[1518-08-09 00:01] Guard #2063 begins shift\n",
    "[1518-04-25 00:52] falls asleep\n",
    "[1518-07-28 00:14] falls asleep\n",
    "[1518-10-06 23:46] Guard #1283 begins shift\n",
    "[1518-10-05 00:47] wakes up\n",
    "[1518-11-19 00:59] wakes up\n",
    "[1518-11-22 00:12] falls asleep\n",
    "[1518-03-17 00:43] falls asleep\n",
    "[1518-10-09 00:51] wakes up\n",
    "[1518-08-11 00:03] falls asleep\n",
    "[1518-06-19 00:06] falls asleep\n",
    "[1518-03-29 00:03] Guard #1723 begins shift\n",
    "[1518-09-08 00:33] wakes up\n",
    "[1518-07-23 00:29] wakes up\n",
    "[1518-08-23 00:06] falls asleep\n",
    "[1518-05-16 00:46] wakes up\n",
    "[1518-10-31 00:16] falls asleep\n",
    "[1518-07-16 23:59] Guard #1723 begins shift\n",
    "[1518-03-10 00:56] wakes up\n",
    "[1518-07-08 00:13] falls asleep\n",
    "[1518-10-02 00:56] wakes up\n",
    "[1518-08-24 00:51] wakes up\n",
    "[1518-07-19 00:43] falls asleep\n",
    "[1518-06-29 00:18] falls asleep\n",
    "[1518-10-18 00:46] wakes up\n",
    "[1518-05-22 23:58] Guard #2473 begins shift\n",
    "[1518-10-01 00:04] falls asleep\n",
    "[1518-08-31 00:19] wakes up\n",
    "[1518-10-30 23:56] Guard #2411 begins shift\n",
    "[1518-05-20 00:04] Guard #1697 begins shift\n",
    "[1518-11-03 00:04] Guard #2411 begins shift\n",
    "[1518-06-27 00:57] falls asleep\n",
    "[1518-06-26 00:09] falls asleep\n",
    "[1518-04-08 00:57] wakes up\n",
    "[1518-04-14 23:59] Guard #2963 begins shift\n",
    "[1518-03-09 00:56] wakes up\n",
    "[1518-10-13 00:47] wakes up\n",
    "[1518-06-28 00:00] Guard #1697 begins shift\n",
    "[1518-04-22 00:03] Guard #1009 begins shift\n",
    "[1518-04-28 23:57] Guard #3137 begins shift\n",
    "[1518-09-08 00:02] Guard #2251 begins shift\n",
    "[1518-08-04 00:28] wakes up\n",
    "[1518-11-20 00:03] Guard #1571 begins shift\n",
    "[1518-09-30 23:51] Guard #3209 begins shift\n",
    "[1518-07-13 00:47] falls asleep\n",
    "[1518-11-02 00:01] Guard #3209 begins shift\n",
    "[1518-06-21 00:52] wakes up\n",
    "[1518-03-11 00:04] Guard #857 begins shift\n",
    "[1518-11-16 00:20] falls asleep\n",
    "[1518-04-19 00:28] wakes up\n",
    "[1518-10-01 00:26] falls asleep\n",
    "[1518-04-04 00:54] wakes up\n",
    "[1518-05-04 00:55] wakes up\n",
    "[1518-07-29 00:41] wakes up\n",
    "[1518-10-06 00:56] wakes up\n",
    "[1518-11-17 00:25] falls asleep\n",
    "[1518-10-18 00:03] falls asleep\n",
    "[1518-04-24 23:57] Guard #1723 begins shift\n",
    "[1518-07-26 00:14] wakes up\n",
    "[1518-09-09 00:42] falls asleep\n",
    "[1518-04-20 00:08] falls asleep\n",
    "[1518-09-24 23:57] Guard #2963 begins shift\n",
    "[1518-04-16 00:55] falls asleep\n",
    "[1518-03-14 00:49] falls asleep\n",
    "[1518-08-27 00:01] Guard #2063 begins shift\n",
    "[1518-10-07 00:07] wakes up\n",
    "[1518-10-12 00:49] falls asleep\n",
    "[1518-10-19 00:53] wakes up\n",
    "[1518-10-01 00:45] falls asleep\n",
    "[1518-05-02 00:00] Guard #3259 begins shift\n",
    "[1518-10-30 00:58] wakes up\n",
    "[1518-08-15 00:43] wakes up\n",
    "[1518-07-11 00:59] wakes up\n",
    "[1518-08-18 23:57] Guard #3469 begins shift\n",
    "[1518-05-01 00:32] falls asleep\n",
    "[1518-09-06 00:59] wakes up\n",
    "[1518-05-19 00:42] falls asleep\n",
    "[1518-10-07 00:34] falls asleep\n",
    "[1518-09-26 00:03] Guard #1381 begins shift\n",
    "[1518-08-26 00:15] falls asleep\n",
    "[1518-10-31 00:47] wakes up\n",
    "[1518-04-12 00:56] falls asleep\n",
    "[1518-04-10 00:54] falls asleep\n",
    "[1518-11-09 00:30] falls asleep\n",
    "[1518-06-03 23:58] Guard #3511 begins shift\n",
    "[1518-10-07 00:00] falls asleep\n",
    "[1518-04-26 00:35] falls asleep\n",
    "[1518-07-13 00:04] Guard #151 begins shift\n",
    "[1518-04-08 00:46] wakes up\n",
    "[1518-07-01 00:58] wakes up\n",
    "[1518-04-22 00:57] wakes up\n",
    "[1518-05-05 00:51] wakes up\n",
    "[1518-09-13 23:56] Guard #2411 begins shift\n",
    "[1518-11-07 00:41] wakes up\n",
    "[1518-09-12 00:42] falls asleep\n",
    "[1518-04-19 00:09] falls asleep\n",
    "[1518-05-03 00:49] falls asleep\n",
    "[1518-10-27 00:08] falls asleep\n",
    "[1518-04-04 23:57] Guard #2963 begins shift\n",
    "[1518-09-15 00:11] falls asleep\n",
    "[1518-07-27 00:28] falls asleep\n",
    "[1518-05-02 00:53] wakes up\n",
    "[1518-08-30 00:44] wakes up\n",
    "[1518-06-30 00:13] falls asleep\n",
    "[1518-03-21 00:18] falls asleep\n",
    "[1518-10-14 00:51] wakes up\n",
    "[1518-06-15 23:56] Guard #3469 begins shift\n",
    "[1518-05-11 00:03] Guard #1723 begins shift\n",
    "[1518-03-10 00:39] falls asleep\n",
    "[1518-11-03 00:56] wakes up\n",
    "[1518-08-21 00:48] wakes up\n",
    "[1518-07-16 00:41] wakes up\n",
    "[1518-08-04 23:48] Guard #89 begins shift\n",
    "[1518-03-11 00:44] wakes up\n",
    "[1518-04-03 00:08] wakes up\n",
    "[1518-03-13 00:58] wakes up\n",
    "[1518-07-19 00:52] wakes up\n",
    "[1518-11-11 00:28] wakes up\n",
    "[1518-06-08 00:19] falls asleep\n",
    "[1518-10-01 00:06] wakes up\n",
    "[1518-03-12 00:02] falls asleep\n",
    "[1518-05-13 00:26] falls asleep\n",
    "[1518-10-30 00:50] falls asleep\n",
    "[1518-03-12 00:17] wakes up\n",
    "[1518-11-06 00:47] wakes up\n",
    "[1518-05-19 00:32] falls asleep\n",
    "[1518-07-13 23:53] Guard #857 begins shift\n",
    "[1518-07-04 00:41] falls asleep\n",
    "[1518-07-02 00:02] Guard #3209 begins shift\n",
    "[1518-04-17 00:41] falls asleep\n",
    "[1518-11-09 23:59] Guard #3259 begins shift\n",
    "[1518-04-30 00:56] wakes up\n",
    "[1518-04-11 00:59] wakes up\n",
    "[1518-10-23 00:36] falls asleep\n",
    "[1518-05-28 00:03] Guard #2411 begins shift\n",
    "[1518-08-16 00:50] wakes up\n",
    "[1518-03-07 00:01] Guard #89 begins shift\n",
    "[1518-10-21 00:40] falls asleep\n",
    "[1518-04-22 00:40] falls asleep\n",
    "[1518-07-13 00:40] wakes up\n",
    "[1518-06-08 00:57] wakes up\n",
    "[1518-08-05 00:00] falls asleep\n",
    "[1518-11-13 00:35] wakes up\n",
    "[1518-07-18 00:31] wakes up\n",
    "[1518-06-12 23:46] Guard #3209 begins shift\n",
    "[1518-05-19 00:46] wakes up\n",
    "[1518-07-09 00:49] wakes up\n",
    "[1518-06-15 00:54] wakes up\n",
    "[1518-10-25 00:53] wakes up\n",
    "[1518-08-10 00:45] wakes up\n",
    "[1518-07-28 00:52] wakes up\n",
    "[1518-07-01 00:32] wakes up\n",
    "[1518-04-14 00:41] wakes up\n",
    "[1518-04-16 00:57] wakes up\n",
    "[1518-06-06 00:03] Guard #3209 begins shift\n",
    "[1518-05-15 23:47] Guard #3259 begins shift\n",
    "[1518-10-19 00:45] wakes up\n",
    "[1518-10-16 00:50] wakes up\n",
    "[1518-04-15 23:56] Guard #1283 begins shift\n",
    "[1518-07-12 00:15] falls asleep\n",
    "[1518-05-22 00:53] wakes up\n",
    "[1518-07-25 00:21] falls asleep\n",
    "[1518-09-14 00:48] wakes up\n",
    "[1518-06-11 00:57] falls asleep\n",
    "[1518-08-16 00:39] falls asleep\n",
    "[1518-06-18 00:29] falls asleep\n",
    "[1518-07-27 23:56] Guard #3259 begins shift\n",
    "[1518-07-14 23:59] Guard #3511 begins shift\n",
    "[1518-08-06 00:01] Guard #3259 begins shift\n",
    "[1518-04-27 00:06] falls asleep\n",
    "[1518-05-25 00:50] falls asleep\n",
    "[1518-08-11 00:32] falls asleep\n",
    "[1518-03-17 23:59] Guard #857 begins shift\n",
    "[1518-07-23 00:03] Guard #3511 begins shift\n",
    "[1518-04-08 00:42] falls asleep\n",
    "[1518-08-14 00:16] falls asleep\n",
    "[1518-06-22 23:56] Guard #3511 begins shift\n",
    "[1518-06-26 00:17] wakes up\n",
    "[1518-06-23 00:08] falls asleep\n",
    "[1518-03-11 00:21] falls asleep\n",
    "[1518-09-25 00:48] falls asleep\n",
    "[1518-05-02 00:59] wakes up\n",
    "[1518-11-15 00:58] wakes up\n",
    "[1518-10-23 00:47] falls asleep\n",
    "[1518-08-11 23:48] Guard #2411 begins shift\n",
    "[1518-08-19 00:18] falls asleep\n",
    "[1518-07-30 23:59] Guard #1009 begins shift\n",
    "[1518-05-24 00:04] Guard #3347 begins shift\n",
    "[1518-03-28 00:50] wakes up\n",
    "[1518-10-21 00:48] falls asleep\n",
    "[1518-06-30 00:50] wakes up\n",
    "[1518-08-31 23:58] Guard #857 begins shift\n",
    "[1518-07-02 23:50] Guard #3209 begins shift\n",
    "[1518-09-19 00:00] falls asleep\n",
    "[1518-07-11 00:41] falls asleep\n",
    "[1518-11-12 23:58] Guard #3137 begins shift\n",
    "[1518-04-07 00:57] wakes up\n",
    "[1518-07-30 00:48] falls asleep\n",
    "[1518-04-17 23:57] Guard #857 begins shift\n",
    "[1518-06-22 00:52] falls asleep\n",
    "[1518-08-04 00:49] wakes up\n",
    "[1518-06-10 00:23] wakes up\n",
    "[1518-08-27 23:57] Guard #2473 begins shift\n",
    "[1518-10-15 00:40] wakes up\n",
    "[1518-06-16 00:30] falls asleep\n",
    "[1518-09-06 23:58] Guard #1571 begins shift\n",
    "[1518-07-29 00:03] falls asleep\n",
    "[1518-05-05 00:26] falls asleep\n",
    "[1518-08-21 00:13] falls asleep\n",
    "[1518-06-06 00:58] wakes up\n",
    "[1518-06-28 00:25] falls asleep\n",
    "[1518-07-18 00:44] falls asleep\n",
    "[1518-04-06 23:59] Guard #3469 begins shift\n",
    "[1518-06-10 00:52] wakes up\n",
    "[1518-05-16 00:01] falls asleep\n",
    "[1518-03-29 00:06] falls asleep\n",
    "[1518-08-12 00:00] falls asleep\n",
    "[1518-10-07 00:36] wakes up\n",
    "[1518-09-16 00:57] falls asleep\n",
    "[1518-09-13 00:18] falls asleep\n",
    "[1518-04-28 00:48] wakes up\n",
    "[1518-10-29 23:59] Guard #2963 begins shift\n",
    "[1518-05-06 00:03] Guard #857 begins shift\n",
    "[1518-04-15 00:57] wakes up\n",
    "[1518-08-23 00:51] wakes up\n",
    "[1518-05-11 00:38] falls asleep\n",
    "[1518-10-14 00:01] falls asleep\n",
    "[1518-03-26 00:51] wakes up\n",
    "[1518-03-31 00:35] wakes up\n",
    "[1518-03-30 00:01] Guard #3533 begins shift\n",
    "[1518-08-23 00:00] Guard #1283 begins shift\n",
    "[1518-08-05 00:02] wakes up\n",
    "[1518-03-28 00:00] Guard #2963 begins shift\n",
    "[1518-04-30 23:56] Guard #3533 begins shift\n",
    "[1518-04-19 00:37] falls asleep\n",
    "[1518-11-15 00:00] Guard #857 begins shift\n",
    "[1518-10-13 00:04] Guard #1283 begins shift\n",
    "[1518-05-11 00:57] falls asleep\n",
    "[1518-09-27 00:33] falls asleep\n",
    "[1518-08-30 00:54] falls asleep\n",
    "[1518-05-02 00:42] falls asleep\n",
    "[1518-06-25 00:46] wakes up\n",
    "[1518-09-01 00:58] wakes up\n",
    "[1518-08-07 00:40] wakes up\n",
    "[1518-07-12 00:57] wakes up\n",
    "[1518-09-26 00:48] wakes up\n",
    "[1518-10-07 00:47] falls asleep\n",
    "[1518-04-20 23:59] Guard #3259 begins shift\n",
    "[1518-09-27 00:16] falls asleep\n",
    "[1518-09-27 00:52] wakes up\n",
    "[1518-08-17 00:17] falls asleep\n",
    "[1518-08-28 00:54] wakes up\n",
    "[1518-11-11 00:09] falls asleep\n",
    "[1518-10-03 00:55] wakes up\n",
    "[1518-03-16 00:50] wakes up\n",
    "[1518-08-03 00:12] falls asleep\n",
    "[1518-11-22 00:30] falls asleep\n",
    "[1518-09-23 00:01] Guard #857 begins shift\n",
    "[1518-07-15 00:26] wakes up\n",
    "[1518-06-10 23:58] Guard #3209 begins shift\n",
    "[1518-10-10 23:58] Guard #3209 begins shift\n",
    "[1518-09-30 00:22] falls asleep\n",
    "[1518-07-10 00:34] falls asleep\n",
    "[1518-11-05 23:50] Guard #857 begins shift\n",
    "[1518-09-17 23:58] Guard #3259 begins shift\n",
    "[1518-05-08 00:49] wakes up\n",
    "[1518-06-24 23:58] Guard #3469 begins shift\n",
    "[1518-10-26 00:58] wakes up\n",
    "[1518-08-23 00:18] wakes up\n",
    "[1518-10-16 00:00] Guard #3511 begins shift\n",
    "[1518-06-14 00:00] Guard #151 begins shift\n",
    "[1518-10-26 00:34] falls asleep\n",
    "[1518-09-02 00:26] wakes up\n",
    "[1518-10-28 00:59] wakes up\n",
    "[1518-03-31 00:22] falls asleep\n",
    "[1518-07-26 00:33] falls asleep\n",
    "[1518-09-15 00:40] wakes up\n",
    "[1518-07-11 00:52] wakes up\n",
    "[1518-04-26 00:41] wakes up\n",
    "[1518-04-07 23:51] Guard #3137 begins shift\n",
    "[1518-10-01 00:53] wakes up\n",
    "[1518-09-27 23:56] Guard #3347 begins shift\n",
    "[1518-09-04 00:17] falls asleep\n",
    "[1518-03-07 00:15] falls asleep\n",
    "[1518-04-12 00:57] wakes up\n",
    "[1518-09-09 00:19] falls asleep\n",
    "[1518-04-05 00:53] wakes up\n",
    "[1518-09-20 00:27] falls asleep\n",
    "[1518-09-08 00:54] wakes up\n",
    "[1518-07-18 00:48] wakes up\n",
    "[1518-08-08 00:33] falls asleep\n",
    "[1518-03-09 00:50] falls asleep\n",
    "[1518-03-15 00:56] wakes up\n",
    "[1518-09-19 00:53] wakes up\n",
    "[1518-05-12 23:59] Guard #3469 begins shift\n",
    "[1518-03-12 23:58] Guard #2473 begins shift\n",
    "[1518-11-21 00:55] wakes up\n",
    "[1518-04-08 23:46] Guard #1697 begins shift\n",
    "[1518-07-27 00:52] wakes up\n",
    "[1518-06-08 00:02] Guard #2411 begins shift\n",
    "[1518-04-06 00:00] Guard #3469 begins shift\n",
    "[1518-04-02 00:52] falls asleep\n",
    "[1518-08-08 00:57] wakes up\n",
    "[1518-07-15 00:38] wakes up\n",
    "[1518-11-18 00:59] wakes up\n",
    "[1518-11-22 00:27] wakes up\n",
    "[1518-03-12 00:22] falls asleep\n",
    "[1518-11-06 00:01] falls asleep\n",
    "[1518-08-13 00:30] wakes up\n",
    "[1518-06-07 00:06] falls asleep\n",
    "[1518-10-23 00:57] wakes up\n",
    "[1518-07-04 00:29] wakes up\n",
    "[1518-05-06 00:53] falls asleep\n",
    "[1518-08-07 00:32] falls asleep\n",
    "[1518-08-22 00:33] wakes up\n",
    "[1518-03-24 00:56] wakes up\n",
    "[1518-03-11 23:50] Guard #89 begins shift\n",
    "[1518-07-12 00:01] Guard #3533 begins shift\n",
    "[1518-03-05 23:57] Guard #2963 begins shift\n",
    "[1518-03-23 00:38] falls asleep\n",
    "[1518-07-11 00:04] Guard #151 begins shift\n",
    "[1518-07-08 00:24] wakes up\n",
    "[1518-08-01 00:20] falls asleep\n",
    "[1518-03-10 00:16] falls asleep\n",
    "[1518-07-26 00:05] wakes up\n",
    "[1518-04-08 00:05] falls asleep\n",
    "[1518-05-29 00:26] falls asleep\n",
    "[1518-08-29 00:58] wakes up\n",
    "[1518-07-20 00:15] wakes up\n",
    "[1518-05-14 00:55] wakes up\n",
    "[1518-06-18 23:58] Guard #151 begins shift\n",
    "[1518-10-18 00:17] wakes up\n",
    "[1518-04-23 00:56] wakes up\n",
    "[1518-11-17 00:03] Guard #541 begins shift\n",
    "[1518-06-12 00:03] Guard #3137 begins shift\n",
    "[1518-06-29 00:28] wakes up\n",
    "[1518-10-21 00:37] wakes up\n",
    "[1518-06-05 00:56] wakes up\n",
    "[1518-04-30 00:41] falls asleep\n",
    "[1518-05-17 00:15] falls asleep\n",
    "[1518-09-26 23:56] Guard #3533 begins shift\n",
    "[1518-07-24 00:57] wakes up\n",
    "[1518-03-07 00:33] wakes up\n",
    "[1518-03-23 23:58] Guard #3533 begins shift\n",
    "[1518-06-22 00:41] wakes up\n",
    "[1518-10-16 00:06] falls asleep\n",
    "[1518-03-29 00:33] falls asleep\n",
    "[1518-09-16 00:01] Guard #151 begins shift\n",
    "[1518-03-20 00:23] falls asleep\n",
    "[1518-05-18 00:02] falls asleep\n",
    "[1518-06-14 23:58] Guard #1283 begins shift\n",
    "[1518-04-18 23:59] Guard #2473 begins shift\n",
    "[1518-10-08 00:16] falls asleep\n",
    "[1518-08-10 00:35] falls asleep\n",
    "[1518-06-18 00:51] wakes up\n",
    "[1518-04-23 00:28] wakes up\n",
    "[1518-08-15 00:00] Guard #1723 begins shift\n",
    "[1518-10-27 00:00] Guard #1009 begins shift\n",
    "[1518-04-03 00:42] wakes up\n",
    "[1518-08-23 00:49] falls asleep\n",
    "[1518-10-23 00:03] Guard #1723 begins shift\n",
    "[1518-11-21 00:01] Guard #3469 begins shift\n",
    "[1518-08-15 00:37] falls asleep\n",
    "[1518-06-22 00:55] wakes up\n",
    "[1518-03-06 00:46] wakes up\n",
    "[1518-08-16 23:58] Guard #89 begins shift\n",
    "[1518-04-03 00:33] falls asleep\n",
    "[1518-06-02 00:24] falls asleep\n",
    "[1518-07-19 00:34] wakes up\n",
    "[1518-08-04 00:37] falls asleep\n",
    "[1518-04-15 00:56] falls asleep\n",
    "[1518-10-08 00:55] wakes up\n",
    "[1518-03-09 00:20] wakes up\n",
    "[1518-04-18 00:50] wakes up\n",
    "[1518-06-09 00:15] falls asleep\n",
    "[1518-09-16 23:58] Guard #1723 begins shift\n",
    "[1518-06-29 00:01] Guard #1283 begins shift\n",
    "[1518-05-09 00:44] falls asleep\n",
    "[1518-03-18 00:44] wakes up\n",
    "[1518-10-17 00:19] falls asleep\n",
    "[1518-09-30 00:04] Guard #2473 begins shift\n",
    "[1518-10-30 00:11] falls asleep\n",
    "[1518-10-26 00:39] wakes up\n",
    "[1518-05-08 00:00] falls asleep\n",
    "[1518-09-19 00:36] wakes up\n",
    "[1518-07-23 00:25] falls asleep\n",
    "[1518-05-20 00:57] wakes up\n",
    "[1518-07-19 00:29] falls asleep\n",
    "[1518-05-20 00:37] falls asleep\n",
    "[1518-03-15 00:12] falls asleep\n",
    "[1518-05-07 00:48] wakes up\n",
    "[1518-04-08 00:24] wakes up\n",
    "[1518-08-04 00:19] falls asleep\n",
    "[1518-05-29 00:01] Guard #2473 begins shift\n",
    "[1518-05-06 00:07] falls asleep\n",
    "[1518-06-21 23:54] Guard #2473 begins shift\n",
    "[1518-07-25 23:47] Guard #1381 begins shift\n",
    "[1518-08-14 00:02] Guard #857 begins shift\n",
    "[1518-07-05 00:01] falls asleep\n",
    "[1518-06-02 00:30] wakes up\n",
    "[1518-03-25 00:03] Guard #2411 begins shift\n",
    "[1518-11-09 00:45] wakes up\n",
    "[1518-06-24 00:51] falls asleep\n",
    "[1518-05-10 00:00] Guard #3533 begins shift\n",
    "[1518-07-14 00:05] falls asleep\n",
    "[1518-03-15 00:04] Guard #2473 begins shift\n",
    "[1518-06-24 00:53] wakes up\n",
    "[1518-11-02 00:38] falls asleep\n",
    "[1518-09-22 00:34] wakes up\n",
    "[1518-08-04 00:59] wakes up\n",
    "[1518-05-26 00:57] falls asleep\n",
    "[1518-10-04 00:00] Guard #1571 begins shift\n",
    "[1518-11-12 00:02] Guard #857 begins shift\n",
    "[1518-07-26 00:03] falls asleep\n",
    "[1518-11-20 00:52] wakes up\n",
    "[1518-07-03 00:00] falls asleep\n",
    "[1518-09-03 00:16] falls asleep\n",
    "[1518-09-17 00:29] falls asleep\n",
    "[1518-05-28 00:18] falls asleep\n",
    "[1518-08-02 00:00] Guard #541 begins shift\n",
    "[1518-06-24 00:01] Guard #3533 begins shift\n",
    "[1518-09-06 00:23] falls asleep\n",
    "[1518-05-24 23:56] Guard #3533 begins shift\n",
    "[1518-10-17 00:55] wakes up\n",
    "[1518-10-20 00:49] wakes up\n",
    "[1518-11-14 00:28] wakes up\n",
    "[1518-11-14 00:44] falls asleep\n",
    "[1518-09-11 00:51] falls asleep\n",
    "[1518-06-17 00:03] Guard #1723 begins shift\n",
    "[1518-10-06 00:28] wakes up\n",
    "[1518-03-22 00:04] Guard #2473 begins shift\n",
    "[1518-06-12 00:44] wakes up\n",
    "[1518-04-17 00:58] wakes up\n",
    "[1518-03-13 00:36] wakes up\n",
    "[1518-06-23 00:51] wakes up\n",
    "[1518-06-11 00:38] wakes up\n",
    "[1518-11-13 23:59] Guard #1381 begins shift\n",
    "[1518-06-27 00:39] falls asleep\n",
    "[1518-05-17 23:50] Guard #2473 begins shift\n",
    "[1518-06-17 00:06] falls asleep\n",
    "[1518-09-03 00:59] wakes up\n",
    "[1518-06-06 00:25] falls asleep\n",
    "[1518-07-16 00:19] falls asleep\n",
    "[1518-04-19 00:55] wakes up\n",
    "[1518-03-06 00:25] falls asleep\n",
    "[1518-04-14 00:03] Guard #3533 begins shift\n",
    "[1518-06-20 00:02] falls asleep\n",
    "[1518-09-13 00:26] wakes up\n",
    "[1518-07-07 00:05] falls asleep\n",
    "[1518-03-24 00:53] falls asleep\n",
    "[1518-06-14 00:15] falls asleep\n",
    "[1518-09-05 00:00] Guard #2963 begins shift\n",
    "[1518-03-21 00:43] wakes up\n",
    "[1518-06-16 00:51] wakes up\n",
    "[1518-07-06 00:01] Guard #151 begins shift\n",
    "[1518-09-16 00:40] wakes up\n",
    "[1518-08-17 00:31] wakes up\n",
    "[1518-06-15 00:30] falls asleep\n",
    "[1518-04-12 00:00] Guard #1009 begins shift\n",
    "[1518-03-28 00:10] falls asleep\n",
    "[1518-09-17 00:07] falls asleep\n",
    "[1518-07-14 00:48] wakes up\n",
    "[1518-10-03 00:27] wakes up\n",
    "[1518-08-25 00:03] Guard #3347 begins shift\n",
    "[1518-06-10 00:35] falls asleep\n",
    "[1518-10-08 00:02] falls asleep\n",
    "[1518-05-01 00:57] wakes up\n",
    "[1518-08-10 23:52] Guard #1009 begins shift\n",
    "[1518-11-07 00:52] wakes up\n",
    "[1518-05-27 00:07] falls asleep\n",
    "[1518-04-08 00:56] falls asleep\n",
    "[1518-04-03 23:46] Guard #2473 begins shift\n",
    "[1518-04-05 00:06] falls asleep\n",
    "[1518-06-25 00:31] falls asleep\n",
    "[1518-06-28 00:51] wakes up\n",
    "[1518-10-08 00:18] wakes up\n",
    "[1518-05-07 23:51] Guard #1723 begins shift\n",
    "[1518-04-23 00:45] falls asleep\n",
    "[1518-06-02 00:04] Guard #3209 begins shift\n",
    "[1518-07-28 23:52] Guard #857 begins shift\n",
    "[1518-05-23 00:37] falls asleep\n",
    "[1518-07-25 00:03] Guard #857 begins shift\n",
    "[1518-05-14 00:08] falls asleep\n",
    "[1518-04-06 00:40] falls asleep\n",
    "[1518-06-21 00:08] falls asleep\n",
    "[1518-09-27 00:29] wakes up\n",
    "[1518-09-03 23:58] Guard #2963 begins shift\n",
    "[1518-04-30 00:55] falls asleep\n",
    "[1518-04-26 23:59] Guard #2473 begins shift\n",
    "[1518-04-28 00:28] falls asleep\n",
    "[1518-07-21 00:48] wakes up\n",
    "[1518-04-25 00:58] wakes up\n",
    "[1518-09-05 00:53] wakes up\n",
    "[1518-10-24 23:56] Guard #2251 begins shift\n",
    "[1518-06-26 00:00] Guard #1697 begins shift\n",
    "[1518-09-10 00:58] wakes up\n",
    "[1518-03-16 00:33] falls asleep\n",
    "[1518-09-21 23:57] Guard #1381 begins shift\n",
    "[1518-09-29 00:50] falls asleep\n",
    "[1518-08-21 00:03] Guard #3209 begins shift\n",
    "[1518-07-06 00:37] wakes up\n",
    "[1518-09-09 23:59] Guard #151 begins shift\n",
    "[1518-03-28 00:44] wakes up\n",
    "[1518-11-14 00:26] falls asleep\n",
    "[1518-03-30 00:25] falls asleep\n",
    "[1518-03-18 00:26] falls asleep\n",
    "[1518-11-15 00:30] falls asleep\n",
    "[1518-07-02 00:43] falls asleep\n",
    "[1518-06-09 00:03] Guard #1723 begins shift\n",
    "[1518-10-27 00:45] wakes up\n",
    "[1518-10-23 00:41] wakes up\n",
    "[1518-08-02 00:45] wakes up\n",
    "[1518-05-13 23:58] Guard #2251 begins shift\n",
    "[1518-06-11 00:58] wakes up\n",
    "[1518-04-02 00:59] wakes up\n",
    "[1518-06-17 00:47] wakes up\n",
    "[1518-05-31 00:57] wakes up\n",
    "[1518-03-23 00:46] wakes up\n",
    "[1518-09-21 00:41] wakes up\n",
    "[1518-10-24 00:45] falls asleep\n",
    "[1518-11-03 00:20] falls asleep\n",
    "[1518-10-19 00:03] Guard #1381 begins shift\n",
    "[1518-09-12 23:56] Guard #2473 begins shift\n",
    "[1518-11-07 00:00] Guard #3469 begins shift\n",
    "[1518-09-01 00:33] falls asleep\n",
    "[1518-10-24 00:58] wakes up\n",
    "[1518-05-18 00:40] wakes up\n",
    "[1518-11-17 00:20] falls asleep\n",
    "[1518-08-14 00:21] wakes up\n",
    "[1518-07-04 00:11] wakes up\n",
    "[1518-10-04 00:59] wakes up\n",
    "[1518-06-29 00:42] wakes up\n",
    "[1518-06-20 00:53] falls asleep\n",
    "[1518-10-06 00:09] falls asleep\n",
    "[1518-10-30 00:29] wakes up\n",
    "[1518-03-08 00:24] wakes up\n",
    "[1518-06-19 23:47] Guard #2411 begins shift\n",
    "[1518-05-26 00:58] wakes up\n",
    "[1518-08-22 00:30] falls asleep\n",
    "[1518-09-30 00:54] wakes up\n",
    "[1518-05-10 00:41] wakes up\n",
    "[1518-06-07 00:54] falls asleep\n",
    "[1518-10-21 00:49] wakes up\n",
    "[1518-05-27 00:02] Guard #1381 begins shift\n",
    "[1518-07-10 00:02] Guard #857 begins shift\n",
    "[1518-07-04 00:15] falls asleep\n",
    "[1518-03-26 00:01] Guard #541 begins shift\n",
    "[1518-05-04 00:39] falls asleep\n",
    "[1518-11-09 00:55] wakes up\n",
    "[1518-08-18 00:00] Guard #3533 begins shift\n",
    "[1518-04-01 00:52] falls asleep\n",
    "[1518-03-29 00:27] wakes up\n",
    "[1518-05-06 23:59] Guard #1697 begins shift\n",
    "[1518-05-25 00:55] wakes up\n",
    "[1518-07-18 00:38] wakes up\n",
    "[1518-03-22 23:58] Guard #1723 begins shift\n",
    "[1518-08-20 00:40] wakes up\n",
    "[1518-10-08 00:10] wakes up\n",
    "[1518-10-13 00:24] falls asleep\n",
    "[1518-03-25 00:55] wakes up\n",
    "[1518-07-11 00:55] falls asleep\n",
    "[1518-07-22 00:08] falls asleep\n",
    "[1518-05-11 00:43] wakes up\n",
    "[1518-11-22 00:57] wakes up\n",
    "[1518-05-02 00:57] falls asleep\n",
    "[1518-08-20 00:15] falls asleep\n",
    "[1518-07-26 00:08] falls asleep\n",
    "[1518-04-28 00:04] Guard #1723 begins shift\n",
    "[1518-07-30 00:18] falls asleep\n",
    "[1518-07-07 23:58] Guard #2963 begins shift\n",
    "[1518-07-22 00:00] Guard #1009 begins shift\n",
    "[1518-08-05 00:45] wakes up\n",
    "[1518-03-31 23:56] Guard #3533 begins shift\n",
    "[1518-11-21 23:56] Guard #2411 begins shift\n",
    "[1518-05-06 00:55] wakes up\n",
    "[1518-05-31 00:38] falls asleep\n",
    "[1518-10-08 23:59] Guard #1723 begins shift\n",
    "[1518-05-30 00:55] wakes up\n",
    "[1518-07-18 00:01] Guard #2963 begins shift\n",
    "[1518-05-21 00:52] wakes up\n",
    "[1518-08-06 00:59] wakes up\n",
    "[1518-07-06 00:22] falls asleep\n",
    "[1518-08-26 00:03] Guard #2473 begins shift\n",
    "[1518-04-27 00:57] wakes up\n",
    "[1518-04-14 00:29] falls asleep\n",
    "[1518-05-23 00:26] falls asleep\n",
    "[1518-10-01 00:40] wakes up\n",
    "[1518-03-16 00:00] Guard #1571 begins shift\n",
    "[1518-10-04 00:43] falls asleep\n",
    "[1518-08-02 00:48] falls asleep\n",
    "[1518-07-30 00:30] wakes up\n",
    "[1518-04-10 00:56] wakes up\n",
    "[1518-10-27 00:27] wakes up\n",
    "[1518-03-08 23:56] Guard #3511 begins shift\n",
    "[1518-03-24 00:10] falls asleep\n",
    "[1518-04-24 00:22] falls asleep\n",
    "[1518-08-11 00:54] wakes up\n",
    "[1518-09-15 00:24] wakes up\n",
    "[1518-08-28 23:52] Guard #1571 begins shift\n",
    "[1518-04-06 00:52] wakes up\n",
    "[1518-09-30 00:24] wakes up\n",
    "[1518-09-09 00:04] Guard #3469 begins shift\n",
    "[1518-07-18 00:37] falls asleep\n",
    "[1518-03-20 00:00] Guard #2473 begins shift\n",
    "[1518-06-10 00:14] falls asleep\n",
    "[1518-10-02 00:06] falls asleep\n",
    "[1518-08-16 00:04] Guard #2963 begins shift\n",
    "[1518-05-30 00:48] falls asleep\n",
    "[1518-09-09 00:43] wakes up\n",
    "[1518-06-01 00:47] wakes up\"\"\""
   ]
  },
  {
   "cell_type": "code",
   "execution_count": 221,
   "metadata": {},
   "outputs": [
    {
     "data": {
      "text/plain": [
       "'857 x 46: 39422'"
      ]
     },
     "metadata": {},
     "output_type": "display_data"
    },
    {
     "data": {
      "text/plain": [
       "39422"
      ]
     },
     "execution_count": 221,
     "metadata": {},
     "output_type": "execute_result"
    }
   ],
   "source": [
    "import re\n",
    "\n",
    "srted = log.splitlines()\n",
    "srted.sort()\n",
    "elfID = None\n",
    "parsedLog = {}\n",
    "\n",
    "for l in srted:\n",
    "    m = re.match( \"\\[\\d{4}-\\d{2}-\\d{2} \\d{2}:(\\d{2})\\] (?:Guard #(\\d+) )?(begins shift|wakes up|falls asleep)\", l )\n",
    "    elfID = int( m[2] ) if m[2] else elfID\n",
    "    parsedLog[elfID] = parsedLog.get( elfID, [] )\n",
    "    parsedLog[elfID].append( {'minute': int(m[1] ), 'action': m[3] } )\n",
    " \n",
    "\n",
    "sleep = {}\n",
    "\n",
    "for elfID in parsedLog.keys():\n",
    "    sleep[elfID] = {}\n",
    "    \n",
    "    for r in parsedLog[elfID]:\n",
    "        if r['action'] == 'falls asleep':\n",
    "            start = r['minute']\n",
    "        if r['action'] == 'wakes up':\n",
    "            end = r['minute']\n",
    "        \n",
    "            for m in range( start, end ):\n",
    "                sleep[elfID][m] = sleep[elfID].get( m, 0 ) + 1\n",
    "                \n",
    "totals = [(sum( sleep[elfID].values() ), elfID, max( sleep[elfID], key = sleep[elfID].get, default=0 ) ) for elfID in sleep.keys() ]\n",
    "\n",
    "_, elfID, minute = max( totals )\n",
    "display(f\"{elfID} x {minute}: {elfID * minute}\")\n",
    "elfID * minute"
   ]
  },
  {
   "cell_type": "markdown",
   "metadata": {},
   "source": [
    "# Day 4:2"
   ]
  },
  {
   "cell_type": "code",
   "execution_count": 74,
   "metadata": {},
   "outputs": [
    {
     "data": {
      "text/plain": [
       "65474"
      ]
     },
     "execution_count": 74,
     "metadata": {},
     "output_type": "execute_result"
    }
   ],
   "source": [
    "maxMinutes = [( elfID, max( sleep[elfID], key=sleep[elfID].get, default = None ) ) for elfID in sleep.keys() ]\n",
    "_, elfID, minute = max( [ ( sleep[elfID][m], elfID, m ) for ( elfID, m ) in maxMinutes if m != None ] )\n",
    "elfID * minute"
   ]
  },
  {
   "cell_type": "markdown",
   "metadata": {},
   "source": [
    "# Day 5:1"
   ]
  },
  {
   "cell_type": "code",
   "execution_count": 1,
   "metadata": {},
   "outputs": [
    {
     "data": {
      "text/plain": [
       "50000"
      ]
     },
     "execution_count": 1,
     "metadata": {},
     "output_type": "execute_result"
    }
   ],
   "source": [
    "poly = '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'\n",
    "len( poly )"
   ]
  },
  {
   "cell_type": "code",
   "execution_count": 2,
   "metadata": {},
   "outputs": [
    {
     "data": {
      "text/plain": [
       "10804"
      ]
     },
     "execution_count": 2,
     "metadata": {},
     "output_type": "execute_result"
    }
   ],
   "source": [
    "def reactPoly( poly ):\n",
    "    repeat = False\n",
    "    i = 0\n",
    "\n",
    "    while True:\n",
    "        a,b = poly[i:i+2]\n",
    "\n",
    "        if a.upper() == b.upper() and a != b:\n",
    "            poly = poly[0:i] + poly[i+2:]\n",
    "            i = max( i - 1, 0 )\n",
    "\n",
    "        else:\n",
    "            i += 1\n",
    "\n",
    "        if i == len( poly ) - 1:\n",
    "            break\n",
    "                \n",
    "    return poly\n",
    "\n",
    "len( reactPoly( poly ) )"
   ]
  },
  {
   "cell_type": "markdown",
   "metadata": {},
   "source": [
    "# Day 5.2"
   ]
  },
  {
   "cell_type": "code",
   "execution_count": 162,
   "metadata": {},
   "outputs": [
    {
     "name": "stdout",
     "output_type": "stream",
     "text": [
      "x: 10414\n",
      "r: 10398\n",
      "i: 10424\n",
      "p: 6650\n",
      "d: 10400\n",
      "c: 10366\n",
      "y: 10374\n",
      "l: 10438\n",
      "h: 10374\n",
      "m: 10362\n",
      "z: 10362\n",
      "k: 10310\n",
      "o: 10374\n",
      "a: 10416\n",
      "g: 10408\n",
      "u: 10362\n",
      "f: 10360\n",
      "e: 10334\n",
      "w: 10356\n",
      "q: 10336\n",
      "b: 10384\n",
      "n: 10384\n",
      "j: 10328\n",
      "t: 10378\n",
      "s: 10368\n",
      "v: 10368\n"
     ]
    }
   ],
   "source": [
    "letters = set( poly.lower() )\n",
    "\n",
    "for l in letters:\n",
    "    subpoly = re.sub( l, '', poly, flags=re.IGNORECASE )\n",
    "    print( f\"{l}: {len(reactPoly(subpoly))}\")"
   ]
  },
  {
   "cell_type": "markdown",
   "metadata": {},
   "source": [
    "# Day 6.1"
   ]
  },
  {
   "cell_type": "code",
   "execution_count": 112,
   "metadata": {},
   "outputs": [],
   "source": [
    "coordInput = \"\"\"181, 184\n",
    "230, 153\n",
    "215, 179\n",
    "84, 274\n",
    "294, 274\n",
    "127, 259\n",
    "207, 296\n",
    "76, 54\n",
    "187, 53\n",
    "318, 307\n",
    "213, 101\n",
    "111, 71\n",
    "310, 295\n",
    "40, 140\n",
    "176, 265\n",
    "98, 261\n",
    "315, 234\n",
    "106, 57\n",
    "40, 188\n",
    "132, 292\n",
    "132, 312\n",
    "97, 334\n",
    "292, 293\n",
    "124, 65\n",
    "224, 322\n",
    "257, 162\n",
    "266, 261\n",
    "116, 122\n",
    "80, 319\n",
    "271, 326\n",
    "278, 231\n",
    "191, 115\n",
    "277, 184\n",
    "329, 351\n",
    "58, 155\n",
    "193, 147\n",
    "45, 68\n",
    "310, 237\n",
    "171, 132\n",
    "234, 152\n",
    "158, 189\n",
    "212, 100\n",
    "346, 225\n",
    "257, 159\n",
    "330, 112\n",
    "204, 320\n",
    "199, 348\n",
    "207, 189\n",
    "130, 289\n",
    "264, 223\"\"\""
   ]
  },
  {
   "cell_type": "code",
   "execution_count": 114,
   "metadata": {},
   "outputs": [
    {
     "name": "stdout",
     "output_type": "stream",
     "text": [
      "49:4011\n"
     ]
    }
   ],
   "source": [
    "import numpy as np\n",
    "import math\n",
    "\n",
    "coords = []\n",
    "xs = []\n",
    "ys = []\n",
    "\n",
    "for c in coordInput.splitlines():\n",
    "    x, y = c.split(\", \")\n",
    "    x, y = ( int(x), int(y) )\n",
    "    coords.append( (x,y) )\n",
    "    xs.append( x )\n",
    "    ys.append( y )\n",
    "\n",
    "w = max(xs)\n",
    "h = max(ys)\n",
    "\n",
    "def distance( c1, c2 ):\n",
    "    x1, y1 = c1\n",
    "    x2, y2 = c2\n",
    "    return abs( x2 - x1 ) + abs( y2 - y1 )\n",
    "\n",
    "closests = np.full((h, w), -1)\n",
    "\n",
    "for y in range(h):\n",
    "    for x in range(w):\n",
    "        minDistance = 1e10\n",
    "        closest = -1\n",
    "        for (i,c) in enumerate( coords ):\n",
    "            d = distance( c, (x, y) )\n",
    "            if d < minDistance:\n",
    "                minDistance = d\n",
    "                closest = i\n",
    "            elif d == minDistance:\n",
    "                closest = -1\n",
    "                \n",
    "        closests[y][x] = closest\n",
    "        \n",
    "top = set( closests[0,:] )\n",
    "left = set( closests[:,0] )\n",
    "right = set( closests[:,w-1] )\n",
    "bottom = set( closests[h-1,:] )\n",
    "\n",
    "edges = set.union( top, left, right, bottom )\n",
    "counts = np.unique(closests, return_counts=True)\n",
    "\n",
    "largest = 0\n",
    "for i in range( len( counts[0] ) ):\n",
    "    c = counts[0][i]\n",
    "    if c in edges:\n",
    "        continue\n",
    "    \n",
    "    size = counts[1][i]\n",
    "    if size > largest:\n",
    "        largest = size\n",
    "        coord = c\n",
    "        \n",
    "print( f\"{c}:{largest}\")"
   ]
  },
  {
   "cell_type": "markdown",
   "metadata": {},
   "source": [
    "# Day 6.2"
   ]
  },
  {
   "cell_type": "code",
   "execution_count": 183,
   "metadata": {},
   "outputs": [
    {
     "data": {
      "text/plain": [
       "46054.0"
      ]
     },
     "execution_count": 183,
     "metadata": {},
     "output_type": "execute_result"
    }
   ],
   "source": [
    "closests = np.zeros((h, w))\n",
    "maxDistance = 10000\n",
    "\n",
    "for y in range(h):\n",
    "    for x in range(w):\n",
    "        if sum( [distance( c, (x, y) ) for c in coords] ) < maxDistance:\n",
    "            closests[y][x] = 1\n",
    "            \n",
    "\n",
    "np.sum( closests )"
   ]
  },
  {
   "cell_type": "markdown",
   "metadata": {},
   "source": [
    "# Day 7.1"
   ]
  },
  {
   "cell_type": "code",
   "execution_count": 1,
   "metadata": {},
   "outputs": [],
   "source": [
    "graphText = \"\"\"Step F must be finished before step N can begin.\n",
    "Step V must be finished before step Y can begin.\n",
    "Step B must be finished before step W can begin.\n",
    "Step K must be finished before step O can begin.\n",
    "Step E must be finished before step H can begin.\n",
    "Step A must be finished before step P can begin.\n",
    "Step Y must be finished before step S can begin.\n",
    "Step T must be finished before step L can begin.\n",
    "Step G must be finished before step R can begin.\n",
    "Step I must be finished before step H can begin.\n",
    "Step X must be finished before step M can begin.\n",
    "Step N must be finished before step C can begin.\n",
    "Step O must be finished before step R can begin.\n",
    "Step Z must be finished before step R can begin.\n",
    "Step R must be finished before step D can begin.\n",
    "Step M must be finished before step C can begin.\n",
    "Step H must be finished before step D can begin.\n",
    "Step C must be finished before step U can begin.\n",
    "Step J must be finished before step D can begin.\n",
    "Step L must be finished before step Q can begin.\n",
    "Step D must be finished before step U can begin.\n",
    "Step S must be finished before step U can begin.\n",
    "Step U must be finished before step Q can begin.\n",
    "Step P must be finished before step Q can begin.\n",
    "Step W must be finished before step Q can begin.\n",
    "Step X must be finished before step R can begin.\n",
    "Step P must be finished before step W can begin.\n",
    "Step B must be finished before step U can begin.\n",
    "Step E must be finished before step J can begin.\n",
    "Step T must be finished before step R can begin.\n",
    "Step M must be finished before step L can begin.\n",
    "Step M must be finished before step P can begin.\n",
    "Step V must be finished before step T can begin.\n",
    "Step T must be finished before step U can begin.\n",
    "Step R must be finished before step W can begin.\n",
    "Step V must be finished before step A can begin.\n",
    "Step X must be finished before step S can begin.\n",
    "Step V must be finished before step U can begin.\n",
    "Step C must be finished before step P can begin.\n",
    "Step J must be finished before step S can begin.\n",
    "Step F must be finished before step D can begin.\n",
    "Step Y must be finished before step U can begin.\n",
    "Step L must be finished before step W can begin.\n",
    "Step F must be finished before step T can begin.\n",
    "Step B must be finished before step E can begin.\n",
    "Step F must be finished before step J can begin.\n",
    "Step R must be finished before step M can begin.\n",
    "Step Z must be finished before step W can begin.\n",
    "Step K must be finished before step E can begin.\n",
    "Step S must be finished before step W can begin.\n",
    "Step U must be finished before step P can begin.\n",
    "Step S must be finished before step P can begin.\n",
    "Step D must be finished before step W can begin.\n",
    "Step Z must be finished before step P can begin.\n",
    "Step U must be finished before step W can begin.\n",
    "Step M must be finished before step J can begin.\n",
    "Step M must be finished before step W can begin.\n",
    "Step H must be finished before step U can begin.\n",
    "Step E must be finished before step C can begin.\n",
    "Step C must be finished before step Q can begin.\n",
    "Step L must be finished before step U can begin.\n",
    "Step Y must be finished before step R can begin.\n",
    "Step E must be finished before step D can begin.\n",
    "Step A must be finished before step S can begin.\n",
    "Step Z must be finished before step J can begin.\n",
    "Step X must be finished before step W can begin.\n",
    "Step C must be finished before step D can begin.\n",
    "Step C must be finished before step S can begin.\n",
    "Step G must be finished before step N can begin.\n",
    "Step K must be finished before step Z can begin.\n",
    "Step T must be finished before step I can begin.\n",
    "Step H must be finished before step W can begin.\n",
    "Step E must be finished before step Q can begin.\n",
    "Step R must be finished before step J can begin.\n",
    "Step O must be finished before step H can begin.\n",
    "Step O must be finished before step J can begin.\n",
    "Step L must be finished before step S can begin.\n",
    "Step A must be finished before step H can begin.\n",
    "Step K must be finished before step G can begin.\n",
    "Step I must be finished before step X can begin.\n",
    "Step T must be finished before step W can begin.\n",
    "Step O must be finished before step W can begin.\n",
    "Step N must be finished before step Q can begin.\n",
    "Step V must be finished before step Z can begin.\n",
    "Step H must be finished before step S can begin.\n",
    "Step F must be finished before step L can begin.\n",
    "Step X must be finished before step Z can begin.\n",
    "Step I must be finished before step U can begin.\n",
    "Step T must be finished before step J can begin.\n",
    "Step G must be finished before step S can begin.\n",
    "Step E must be finished before step U can begin.\n",
    "Step M must be finished before step U can begin.\n",
    "Step J must be finished before step U can begin.\n",
    "Step E must be finished before step P can begin.\n",
    "Step F must be finished before step C can begin.\n",
    "Step O must be finished before step Q can begin.\n",
    "Step D must be finished before step Q can begin.\n",
    "Step A must be finished before step L can begin.\n",
    "Step H must be finished before step J can begin.\n",
    "Step I must be finished before step P can begin.\n",
    "Step Y must be finished before step D can begin.\"\"\""
   ]
  },
  {
   "cell_type": "code",
   "execution_count": 3,
   "metadata": {},
   "outputs": [
    {
     "data": {
      "text/plain": [
       "'BFKEGNOVATIHXYZRMCJDLSUPWQ'"
      ]
     },
     "metadata": {},
     "output_type": "display_data"
    }
   ],
   "source": [
    "import re\n",
    "deps = {}\n",
    "\n",
    "for l in graphText.splitlines():\n",
    "    m = re.match( \"Step (.) must be finished before step (.) can begin.\", l )\n",
    "    node = m[2]\n",
    "    dependsOn = m[1]\n",
    "    \n",
    "    deps[node] = deps.get(node, set())\n",
    "    deps[dependsOn] = deps.get(dependsOn, set())\n",
    "    \n",
    "    deps[node].add( dependsOn )\n",
    "\n",
    "order = ''\n",
    "\n",
    "while True:\n",
    "    queue = [n for (n,d) in deps.items() if len(d) == 0]\n",
    "\n",
    "    if len(queue) == 0:\n",
    "        break\n",
    "\n",
    "    queue.sort()\n",
    "    node = queue[0]\n",
    "    deps.pop(node)\n",
    "    order += node\n",
    "\n",
    "    for n in deps.keys():\n",
    "        if node in deps[n]:\n",
    "            deps[n].remove(node)\n",
    "        \n",
    "display( order )"
   ]
  },
  {
   "cell_type": "markdown",
   "metadata": {},
   "source": [
    "# 7.2"
   ]
  },
  {
   "cell_type": "code",
   "execution_count": 4,
   "metadata": {},
   "outputs": [
    {
     "data": {
      "text/plain": [
       "'BFKVEGAOTYNIHXZRMCJLDSUPWQ'"
      ]
     },
     "metadata": {},
     "output_type": "display_data"
    },
    {
     "data": {
      "text/plain": [
       "1020"
      ]
     },
     "metadata": {},
     "output_type": "display_data"
    }
   ],
   "source": [
    "deps = {}\n",
    "import string\n",
    "work_time = {l:i+61 for (i,l) in enumerate( string.ascii_uppercase )}\n",
    "\n",
    "def node_init( n ):\n",
    "    return {'effort': work_time[n], 'depends_on': set().copy() }\n",
    "\n",
    "for l in graphText.splitlines():\n",
    "    m = re.match( \"Step (.) must be finished before step (.) can begin.\", l )\n",
    "    node = m[2]\n",
    "    depends_on = m[1]\n",
    "    \n",
    "    deps[node] = deps.get(node, node_init( node ))\n",
    "    deps[depends_on] = deps.get(depends_on, node_init( depends_on ))\n",
    "    \n",
    "    deps[node]['depends_on'].add( depends_on )\n",
    "\n",
    "WORKERS = 15\n",
    "time = 0\n",
    "complete = ''\n",
    "\n",
    "while True:\n",
    "    \n",
    "    queue = [n for (n,d) in deps.items() if len(d['depends_on']) == 0]\n",
    "\n",
    "    if len(queue) == 0:\n",
    "        break\n",
    "\n",
    "    queue.sort()\n",
    "    queue = queue[:WORKERS]\n",
    "    \n",
    "    for n in queue:\n",
    "        deps[n]['effort'] -= 1\n",
    "        \n",
    "        if deps[n]['effort'] == 0:\n",
    "            complete += n\n",
    "            deps.pop(n)\n",
    "            \n",
    "            for d in deps.keys():\n",
    "                if n in deps[d]['depends_on']:\n",
    "                    deps[d]['depends_on'].remove(n)\n",
    "                    \n",
    "    time += 1\n",
    "        \n",
    "display( complete )\n",
    "display( time )"
   ]
  },
  {
   "cell_type": "markdown",
   "metadata": {},
   "source": [
    "# Day 8.1"
   ]
  },
  {
   "cell_type": "code",
   "execution_count": 1,
   "metadata": {},
   "outputs": [],
   "source": [
    "tree_input = \"\"\"8 11 6 2 4 5 3 5 1 9 0 6 9 3 4 1 5 6 1 2 1 2 3 1 1 1 3 1 8 0 7 5 7 4 2 1 8 1 1 3 1 3 2 2 1 1 1 6 0 9 9 7 1 1 6 7 5 2 3 3 1 3 1 3 2 3 3 1 2 4 3 7 1 7 0 9 9 1 2 6 5 7 1 5 9 2 1 3 1 3 1 3 1 9 0 11 5 8 3 7 3 8 1 5 8 7 6 3 1 2 1 3 3 1 1 3 1 6 0 10 5 1 4 3 4 3 9 1 3 1 1 1 3 2 1 1 5 4 5 1 4 2 2 3 6 1 7 0 9 3 2 7 8 4 1 1 1 9 2 2 2 2 1 2 1 1 7 0 11 1 3 7 8 4 7 4 9 1 2 5 2 1 1 3 3 1 1 1 8 0 9 4 7 1 1 6 6 1 8 8 3 2 1 1 1 1 1 1 2 1 3 2 4 5 3 7 1 8 0 11 5 5 9 1 3 7 4 8 9 8 9 1 1 1 2 1 1 2 3 1 6 0 11 1 2 9 9 5 1 4 6 7 9 4 2 3 3 1 1 1 1 9 0 7 1 7 6 9 5 6 6 2 3 2 2 3 1 3 1 3 5 2 4 4 5 1 2 3 6 2 6 3 4 4 3 4 1 8 0 6 2 7 2 1 7 3 1 1 2 1 3 1 1 1 1 9 0 9 8 1 3 5 7 1 7 3 3 1 1 1 2 3 2 1 2 3 1 5 0 11 2 3 2 1 8 9 6 6 4 4 6 3 2 1 1 2 4 1 2 4 3 6 1 9 0 10 6 9 4 1 1 9 2 6 2 8 3 1 1 1 1 3 3 3 1 1 7 0 7 3 6 1 5 1 9 3 2 2 3 1 3 3 2 1 6 0 9 1 5 1 9 1 3 6 2 9 3 1 2 2 1 1 3 2 5 5 1 3 3 4 1 8 0 10 8 7 1 3 1 2 2 9 9 1 3 1 3 1 1 3 2 2 1 8 0 6 5 1 9 9 3 5 2 1 2 3 2 2 2 1 1 7 0 11 7 4 5 1 7 2 8 7 7 6 2 1 1 1 3 3 3 2 3 3 1 5 3 4 1 8 0 11 1 9 3 7 4 5 5 3 4 2 5 2 2 3 3 1 2 2 3 1 6 0 9 1 2 9 6 1 5 6 2 9 2 3 1 1 2 2 1 8 0 10 4 7 2 7 1 1 5 9 4 4 3 3 1 3 2 1 2 1 1 5 1 2 3 1 2 4 5 4 3 5 1 5 0 7 1 8 2 2 6 7 1 1 3 2 1 2 1 8 0 11 3 3 3 2 3 1 3 5 5 7 8 3 1 1 2 1 1 1 1 1 6 0 10 5 3 1 1 6 5 7 6 3 9 1 1 2 1 1 2 3 4 2 4 2 3 6 1 7 0 10 5 5 3 1 1 6 4 9 6 1 3 1 1 3 1 1 3 1 9 0 7 1 9 1 8 7 1 9 1 3 2 2 1 1 3 2 2 1 5 0 9 5 1 3 8 9 8 9 2 3 3 3 1 3 3 3 3 1 2 3 2 3 6 1 7 0 7 1 3 2 7 5 7 6 3 3 1 1 3 3 1 1 9 0 8 5 6 4 1 2 2 5 5 3 3 3 1 1 2 1 1 3 1 7 0 10 2 3 4 7 7 6 9 1 8 6 1 1 3 2 1 1 3 2 5 5 4 2 3 3 4 1 5 0 10 1 2 3 7 8 4 8 2 2 5 3 1 3 2 1 1 5 0 7 9 1 4 9 5 6 2 2 3 1 1 1 1 8 0 10 6 1 6 5 8 3 8 1 3 7 3 1 2 2 3 3 2 1 1 5 4 3 3 5 1 6 0 10 3 3 5 1 1 3 2 4 4 5 2 3 1 3 1 1 1 8 0 6 2 5 1 5 8 1 1 1 1 3 2 1 1 3 1 8 0 8 5 3 9 1 5 9 3 5 1 3 1 1 2 2 2 1 3 2 2 1 3 5 5 1 5 4 3 3 5 1 5 0 10 8 4 1 6 3 8 1 1 7 5 1 1 1 1 1 1 8 0 9 6 5 7 9 1 2 9 3 2 2 2 3 3 3 1 2 1 1 9 0 6 4 1 4 4 1 3 1 3 1 1 1 2 3 2 3 5 2 1 3 5 3 6 1 7 0 11 1 3 4 5 3 8 4 3 2 9 3 3 3 3 1 1 1 1 1 5 0 11 6 9 1 4 6 7 7 3 1 4 1 3 1 2 1 3 1 8 0 9 8 5 5 6 4 1 2 5 1 1 2 3 3 1 2 1 3 5 5 2 5 3 2 3 7 1 8 0 9 6 8 9 7 2 1 8 5 1 2 3 1 1 2 1 3 2 1 5 0 11 3 1 7 8 9 1 2 6 1 3 1 1 3 3 2 1 1 9 0 8 3 8 4 3 3 8 4 1 3 1 1 2 2 3 2 3 1 5 1 3 4 1 3 4 3 5 1 8 0 11 3 3 3 5 4 8 1 2 5 1 9 3 3 2 2 1 2 3 3 1 9 0 6 1 7 3 9 7 3 3 1 3 1 3 1 2 1 1 1 7 0 9 1 7 2 7 1 1 1 5 7 1 3 3 1 1 3 3 2 5 1 2 3 1 5 1 5 5 3 5 1 8 0 6 6 1 1 7 4 7 1 1 1 2 1 2 1 1 1 5 0 6 1 6 1 1 9 7 1 3 1 1 2 1 9 0 8 3 3 1 8 4 8 7 3 1 1 2 2 3 1 1 1 1 1 1 3 1 4 3 7 1 5 0 6 1 5 5 6 9 3 1 3 1 2 2 1 8 0 10 8 3 5 3 8 6 8 1 9 3 3 2 2 1 2 1 3 1 1 5 0 7 2 5 8 5 6 3 1 2 2 1 1 3 2 3 2 1 2 5 2 3 6 1 8 0 6 5 4 1 1 4 1 3 3 2 1 3 1 3 2 1 7 0 7 7 3 5 1 6 9 6 3 1 3 1 3 3 2 1 5 0 7 1 2 6 8 8 3 1 1 3 2 3 1 2 2 5 3 4 3 3 4 1 8 0 7 1 9 9 2 9 5 2 1 1 1 2 2 2 2 3 1 5 0 8 1 7 7 3 1 1 3 1 1 2 3 3 1 1 5 0 9 5 9 1 6 5 9 5 6 9 3 1 1 1 1 1 4 4 4 3 7 1 9 0 6 2 2 4 5 9 1 1 1 1 1 1 1 3 2 2 1 6 0 9 1 7 1 3 1 5 9 7 2 1 1 2 2 3 1 1 6 0 6 6 3 8 1 7 4 1 2 3 1 2 1 1 5 5 1 1 2 2 6 2 7 7 1 4 4 3 6 1 5 0 11 9 9 7 8 8 9 5 1 2 7 4 3 1 2 1 1 1 5 0 8 9 7 7 5 1 8 1 7 1 3 2 1 2 1 9 0 11 8 6 6 2 8 3 1 9 4 8 2 2 1 1 1 2 2 2 3 3 2 3 5 5 2 5 3 7 1 9 0 10 5 9 5 6 1 7 4 5 9 6 1 1 3 2 3 3 3 2 1 1 6 0 7 1 3 7 6 1 2 4 1 1 1 2 3 2 1 9 0 9 1 1 4 7 7 3 1 4 4 3 3 1 2 3 3 1 3 2 4 4 1 1 4 2 2 3 7 1 9 0 6 7 1 1 8 8 4 2 1 1 2 2 3 3 1 1 1 5 0 6 8 2 4 8 1 8 2 3 2 1 1 1 6 0 7 3 3 4 6 8 1 9 2 2 1 2 2 3 4 1 4 1 4 3 2 3 6 1 8 0 6 5 9 8 1 5 1 1 1 1 2 2 2 3 3 1 6 0 7 1 5 6 8 5 1 3 2 2 2 1 1 3 1 7 0 10 3 6 5 8 8 1 1 7 3 5 1 1 1 2 3 2 3 4 2 2 3 1 3 6 1 2 5 4 2 6 2 4 4 3 6 1 7 0 10 8 1 1 8 8 3 5 3 5 7 1 1 3 1 1 2 1 1 5 0 11 1 6 8 4 3 8 4 5 1 8 8 1 1 3 3 1 1 7 0 11 5 1 8 1 8 1 2 7 7 3 1 1 3 2 1 3 2 1 2 4 3 3 4 5 3 6 1 7 0 7 8 1 3 4 6 7 2 1 1 2 1 3 3 1 1 6 0 10 1 8 2 2 8 5 9 3 2 5 3 2 3 2 3 1 1 9 0 10 2 8 5 9 6 4 5 1 3 3 1 1 3 1 1 2 1 1 3 3 5 4 2 5 3 3 7 1 8 0 7 4 2 9 6 1 6 3 1 1 2 2 3 2 3 3 1 7 0 11 2 5 3 6 4 7 7 1 2 9 6 1 3 1 3 1 2 1 1 6 0 9 5 8 9 1 3 3 5 1 1 1 2 1 2 1 2 5 2 2 1 4 3 5 3 5 1 9 0 10 2 5 7 2 1 7 3 2 1 5 3 3 2 1 3 1 2 1 1 1 9 0 7 1 5 5 3 1 1 6 3 2 3 3 3 2 1 2 1 1 7 0 11 6 9 2 9 3 6 4 6 3 9 1 2 2 1 2 3 3 3 2 2 3 3 1 2 1 2 5 4 3 3 6 1 8 0 10 8 5 3 2 2 7 1 4 5 1 1 2 2 1 3 1 2 1 1 7 0 11 6 1 9 5 2 3 4 5 5 4 2 1 1 1 1 1 2 3 1 5 0 7 8 1 6 2 7 8 3 1 2 2 2 1 3 1 3 3 3 3 3 6 1 9 0 6 2 1 2 9 8 7 1 1 1 1 3 3 2 1 2 1 5 0 8 2 3 9 1 8 8 9 9 1 3 3 2 3 1 6 0 6 9 7 8 6 8 1 3 1 3 1 2 2 4 4 3 5 1 1 3 6 1 7 0 9 6 1 5 2 5 3 6 5 5 2 1 3 3 3 1 3 1 8 0 6 3 5 9 3 1 1 2 2 2 1 2 1 1 2 1 7 0 9 1 9 9 1 4 4 5 3 7 1 1 1 3 3 2 1 2 1 3 1 4 2 3 5 1 7 0 8 3 1 9 9 9 1 8 4 2 2 1 2 3 2 3 1 5 0 10 6 9 1 9 5 8 7 3 9 2 3 2 2 1 2 1 5 0 8 5 8 6 3 7 8 7 1 1 3 2 3 1 4 2 3 2 3 4 1 5 4 5 3 5 1 6 0 7 8 5 9 6 1 1 8 2 1 1 3 3 2 1 8 0 8 6 4 4 8 1 2 9 6 1 1 1 2 2 3 2 1 1 6 0 9 1 5 4 5 1 1 1 1 9 3 1 2 1 3 2 2 4 3 4 3 3 7 1 9 0 11 7 4 7 2 4 6 3 1 6 8 8 1 3 3 2 2 2 3 2 2 1 5 0 10 1 1 5 5 4 6 5 3 5 2 3 1 1 2 1 1 6 0 6 8 1 3 3 6 9 3 3 1 3 3 2 5 1 4 2 5 3 2 3 4 1 8 0 6 8 1 7 6 7 9 2 1 1 3 1 1 2 3 1 5 0 7 3 1 1 9 4 6 3 3 2 1 1 3 1 8 0 6 3 1 5 5 1 1 1 1 1 2 3 1 1 3 4 5 4 3 3 5 1 7 0 10 7 4 4 9 1 4 3 4 4 1 2 3 3 1 1 1 1 1 9 0 11 1 1 4 6 1 7 1 6 3 8 2 1 3 1 2 1 1 3 2 1 1 9 0 7 1 8 4 8 2 2 9 1 1 2 2 2 1 2 1 1 1 2 3 5 3 1 5 5 1 1 5 4 3 7 1 6 0 6 1 9 3 3 9 4 3 1 1 1 2 1 1 8 0 10 2 2 6 1 7 5 5 1 1 1 1 3 2 3 2 2 1 1 1 9 0 10 8 7 8 8 6 8 7 1 2 7 1 3 2 3 2 1 1 3 2 4 3 1 2 2 3 1 3 6 1 9 0 8 6 1 7 8 6 4 4 5 2 1 3 3 3 1 2 3 2 1 9 0 10 4 1 9 3 4 1 2 3 9 7 1 1 2 2 2 1 1 1 3 1 8 0 10 5 1 5 1 9 1 9 6 6 8 1 3 2 3 1 1 3 2 1 5 2 3 3 2 3 6 1 9 0 10 5 2 5 1 8 8 6 6 6 6 2 3 1 2 1 2 1 2 1 1 8 0 7 9 1 5 9 1 3 3 3 3 3 2 2 1 1 2 1 8 0 10 1 1 7 2 1 8 6 1 4 1 1 1 1 2 2 3 3 1 1 4 5 3 1 1 3 5 1 6 0 8 8 5 4 7 5 1 2 6 2 2 2 1 3 3 1 7 0 10 1 6 6 5 5 3 2 3 1 8 1 3 1 1 3 2 3 1 5 0 6 8 3 1 3 6 6 3 2 3 2 1 2 3 4 1 3 3 4 1 7 0 11 6 5 4 1 2 2 3 1 1 1 7 2 3 3 2 3 1 2 1 6 0 6 1 5 7 5 2 1 2 2 1 1 1 3 1 7 0 9 3 9 6 9 9 3 2 2 1 1 1 2 3 3 1 3 1 4 1 1 4 2 1 3 5 4 3 4 1 8 0 9 9 1 2 6 2 9 5 5 3 3 3 3 3 3 3 1 1 1 7 0 7 6 9 9 5 4 8 1 3 1 3 3 2 3 1 1 8 0 7 1 2 6 6 2 1 1 1 1 2 1 3 3 1 1 1 5 1 1 3 4 1 6 0 11 3 1 8 4 7 3 3 5 7 7 3 3 1 3 1 2 3 1 9 0 8 6 1 1 9 6 5 6 7 3 3 3 2 1 3 1 2 3 1 5 0 7 6 9 1 5 3 6 1 1 3 1 2 2 1 2 1 1 3 6 1 8 0 10 8 7 1 8 8 6 3 3 2 1 1 3 1 3 1 2 3 2 1 8 0 6 9 3 3 7 1 7 1 1 3 2 3 3 2 1 1 9 0 11 7 6 2 3 3 5 9 3 1 1 9 1 2 3 3 2 1 1 3 1 2 3 4 2 5 2 3 6 1 5 0 10 1 6 4 2 5 1 1 6 5 5 2 1 1 3 3 1 6 0 7 1 4 3 1 3 9 7 2 2 1 1 2 1 1 5 0 6 9 1 9 3 5 4 3 3 2 1 3 4 3 4 1 3 1 3 5 1 6 0 8 3 3 2 3 1 7 2 5 1 1 2 3 2 2 1 9 0 7 2 3 3 1 6 1 1 3 1 1 1 2 1 1 1 3 1 9 0 8 9 5 5 8 8 3 9 1 3 1 1 1 3 3 2 3 1 3 1 2 2 1 2 4 3 3 5 4 3 7 1 8 0 9 5 3 9 4 1 1 7 1 6 1 1 1 1 1 3 1 1 1 8 0 6 1 6 5 2 7 5 3 1 1 1 1 2 1 3 1 8 0 6 9 4 1 5 2 7 2 2 1 3 1 1 2 3 3 1 5 5 3 3 2 3 5 1 8 0 8 6 9 8 1 2 6 9 7 1 1 1 1 3 1 3 2 1 9 0 9 2 5 7 8 1 1 3 8 6 2 2 2 2 1 3 1 1 2 1 9 0 6 8 7 5 1 2 9 2 1 2 2 3 3 3 3 2 2 1 2 4 3 3 5 1 5 0 6 1 1 5 1 9 4 1 3 1 1 1 1 8 0 7 5 1 2 3 5 3 1 3 3 1 1 2 3 1 1 1 6 0 8 8 2 7 9 1 8 7 8 3 1 1 3 3 3 1 4 4 2 2 3 6 1 7 0 11 8 5 3 6 6 1 7 2 8 5 1 2 3 3 1 1 1 1 1 6 0 10 9 4 2 1 3 6 7 7 1 4 3 1 1 1 2 3 1 9 0 11 6 3 1 5 1 7 6 8 1 3 4 3 1 2 2 3 1 3 1 3 2 4 1 4 4 1 3 6 1 5 0 10 3 4 1 3 3 7 3 5 1 1 2 1 1 3 2 1 5 0 6 3 3 6 4 1 5 3 1 1 3 2 1 5 0 8 9 3 1 6 8 1 8 5 1 1 1 2 2 1 2 3 2 5 1 1 1 5 6 6 2 6 2 4 3 3 5 1 6 0 11 2 8 2 6 5 2 2 9 1 5 5 3 1 2 3 1 2 1 8 0 7 5 5 3 1 8 3 5 1 1 1 3 1 2 2 2 1 5 0 10 1 2 8 2 6 5 7 9 6 4 2 2 2 1 3 4 5 5 1 1 3 7 1 7 0 7 1 5 4 9 5 5 7 1 2 1 1 3 1 2 1 5 0 7 4 1 1 1 6 3 1 2 3 3 1 3 1 9 0 7 7 6 8 8 1 4 6 2 2 2 3 3 3 1 3 3 3 3 2 1 5 5 1 3 5 1 6 0 11 7 1 5 3 5 9 8 3 4 1 8 2 2 2 1 2 2 1 7 0 11 3 7 6 1 3 2 3 1 5 7 3 2 1 3 1 3 3 2 1 5 0 6 6 4 7 1 1 7 3 3 1 2 2 3 1 3 4 1 3 4 1 9 0 7 6 9 7 4 6 1 1 1 3 1 2 1 1 3 1 1 1 5 0 9 9 4 1 2 6 6 6 5 1 2 2 3 1 2 1 7 0 11 3 3 4 7 6 8 1 6 9 1 2 1 3 1 3 2 1 1 3 4 3 3 2 2 3 5 4 3 4 1 5 0 9 6 1 9 8 5 8 8 2 3 1 1 3 2 2 1 7 0 10 3 5 7 8 5 9 3 8 4 1 3 3 1 1 1 3 1 1 6 0 8 9 4 2 1 2 7 5 1 1 2 2 1 1 1 1 2 3 3 3 5 1 9 0 10 9 1 8 7 4 5 8 1 8 7 1 3 3 3 2 3 2 1 1 1 5 0 9 9 1 1 1 7 6 7 8 6 3 2 3 1 3 1 7 0 7 4 6 7 8 1 6 9 1 1 2 1 3 1 1 2 3 1 3 1 3 5 1 9 0 7 3 9 1 6 2 7 6 2 2 1 1 3 3 2 2 2 1 5 0 10 6 7 3 8 1 5 4 1 3 8 3 1 1 1 3 1 6 0 6 2 7 1 5 1 3 1 1 2 1 1 1 1 1 4 1 2 3 6 1 9 0 9 5 9 4 4 1 5 8 9 1 1 1 1 2 2 1 3 1 3 1 6 0 8 3 8 9 1 3 1 3 7 2 1 1 2 3 2 1 6 0 11 5 3 1 3 5 8 2 3 7 6 7 1 1 2 3 2 3 3 3 3 4 3 2 3 5 1 5 0 10 7 8 9 4 4 9 9 2 6 1 3 3 2 1 1 1 8 0 9 6 7 7 2 8 1 5 9 2 2 3 1 3 2 2 1 2 1 6 0 10 7 5 1 1 1 5 8 7 8 1 1 1 3 3 3 1 3 5 2 3 4 7 5 3 3 4 3 3 6 1 9 0 9 6 3 5 6 4 8 1 1 1 3 1 1 3 1 1 1 3 3 1 7 0 11 5 1 6 7 3 4 8 1 7 5 5 3 3 2 2 1 1 1 1 7 0 8 2 6 1 3 9 5 6 3 2 3 3 3 3 3 1 1 3 5 2 1 3 3 4 1 7 0 6 1 9 2 2 4 8 2 3 1 2 1 1 1 1 7 0 7 1 4 3 6 1 4 4 2 2 3 1 3 3 1 1 8 0 10 8 4 7 8 1 4 3 8 3 3 2 3 3 3 1 2 1 1 3 2 5 1 3 5 1 7 0 6 2 1 1 9 4 3 1 1 2 1 2 1 1 1 7 0 6 4 3 2 3 9 1 1 1 1 3 1 2 1 1 8 0 9 2 7 8 1 9 4 5 1 9 1 1 2 1 2 3 3 2 1 2 2 5 1 3 6 1 9 0 6 8 1 1 6 3 7 2 1 2 2 3 2 1 1 1 1 8 0 6 1 3 1 2 2 3 2 1 2 1 2 1 3 3 1 9 0 6 4 4 4 6 1 9 1 2 2 3 2 2 2 2 2 2 3 5 5 2 5 2 1 3 5 4 3 7 1 5 0 9 3 1 5 8 7 4 8 2 8 1 1 1 2 2 1 9 0 6 8 6 2 1 1 6 3 1 2 2 1 1 1 1 1 1 7 0 10 7 4 7 1 3 5 3 7 7 6 1 2 3 1 3 1 1 1 1 5 4 5 2 1 3 4 1 9 0 11 5 1 1 6 9 9 2 2 8 1 6 1 2 2 2 2 1 3 2 3 1 5 0 11 8 6 8 5 4 1 9 1 4 2 5 2 1 1 1 1 1 6 0 11 8 1 4 2 6 1 6 4 1 5 5 2 2 1 3 3 2 3 4 2 5 3 5 1 9 0 11 9 9 1 1 5 8 6 4 1 9 6 3 1 3 3 1 1 1 2 3 1 6 0 9 7 9 7 4 3 9 1 8 5 2 1 1 2 3 1 1 8 0 7 4 4 8 1 3 5 8 2 3 1 2 3 3 1 3 3 3 5 4 1 3 5 1 8 0 8 1 3 4 4 1 1 2 2 1 1 1 2 3 1 3 1 1 6 0 10 5 4 5 1 4 5 2 3 8 6 3 2 1 3 2 2 1 7 0 11 6 5 1 1 2 6 5 6 4 9 8 2 2 3 2 2 1 2 5 1 4 4 3 3 5 1 5 0 11 7 2 3 9 1 7 1 6 5 4 6 1 1 2 3 1 1 7 0 8 2 7 1 1 7 3 8 4 1 1 3 2 1 3 3 1 9 0 8 5 2 6 3 1 4 9 2 3 2 2 2 1 3 2 1 1 3 4 1 3 1 1 2 4 2 5 4 3 6 1 6 0 6 9 4 3 1 3 6 2 1 1 3 1 1 1 8 0 9 1 3 9 7 8 1 8 8 6 3 3 2 3 3 1 1 1 1 9 0 8 8 6 8 3 1 6 5 3 3 1 3 1 1 2 1 1 3 1 5 4 2 4 2 3 6 1 6 0 8 7 7 1 7 4 9 1 9 1 3 1 1 3 2 1 5 0 9 4 1 9 1 6 2 4 6 6 1 1 2 3 2 1 5 0 7 1 3 6 6 3 5 3 3 1 3 2 2 3 1 4 1 4 3 3 7 1 7 0 10 1 3 4 3 5 7 4 1 5 7 1 3 2 2 1 3 1 1 8 0 9 8 1 8 6 4 6 3 9 9 3 1 3 2 3 3 1 3 1 6 0 9 6 5 5 3 5 3 1 6 3 1 1 1 3 3 2 3 4 1 3 4 4 2 3 5 1 6 0 10 4 3 1 4 2 9 4 7 3 4 3 1 1 2 1 3 1 5 0 8 6 6 6 4 8 1 8 6 1 2 2 3 1 1 7 0 10 5 1 3 8 5 5 7 3 1 5 1 2 3 2 1 1 3 5 5 5 3 3 3 5 1 8 0 10 5 1 1 6 1 4 8 3 2 1 1 3 2 1 2 3 2 3 1 6 0 6 1 2 1 9 3 1 1 1 2 2 2 3 1 7 0 11 6 7 7 1 1 4 1 2 9 9 7 3 3 1 3 2 3 1 4 3 1 1 2 1 1 7 4 5 5 3 7 1 7 0 8 9 9 5 4 5 2 8 1 2 3 1 3 3 1 2 1 8 0 11 2 9 9 3 5 4 9 7 1 2 1 1 2 2 2 2 1 2 2 1 9 0 11 3 1 7 7 8 9 7 6 7 1 6 1 2 2 2 3 2 3 1 3 4 3 5 3 3 3 1 3 5 1 8 0 9 4 1 4 8 3 5 9 1 1 3 1 2 2 1 3 3 1 1 8 0 9 1 1 6 6 6 2 4 9 6 2 2 1 1 1 2 3 2 1 9 0 10 5 5 9 3 1 9 6 4 7 1 1 1 3 1 2 1 3 1 1 5 1 5 1 3 3 5 1 8 0 8 5 3 3 3 7 3 1 2 2 1 3 1 2 1 1 3 1 9 0 10 1 8 9 3 8 4 3 9 6 2 1 2 1 3 2 3 3 1 1 1 7 0 6 2 9 5 1 6 7 3 3 1 3 1 3 2 1 5 3 4 3 3 5 1 6 0 9 1 3 1 4 1 9 1 8 4 3 1 3 1 3 1 1 6 0 7 6 5 1 8 3 2 9 2 1 2 3 1 2 1 7 0 6 1 9 8 4 9 8 1 2 2 2 3 3 3 2 4 1 2 4 3 5 1 5 0 10 1 8 7 5 7 6 1 9 8 6 1 3 2 3 1 1 7 0 6 1 1 8 8 7 3 1 3 3 1 2 1 2 1 6 0 8 2 9 2 7 1 8 9 1 1 1 3 2 2 3 2 4 4 5 2 7 5 1 3 1 3 2 7 3 5 3 3 4 1 8 0 10 6 4 7 1 9 1 4 6 3 2 3 1 3 2 3 1 3 1 1 7 0 9 4 8 8 6 4 3 4 1 8 1 2 1 2 3 3 3 1 9 0 6 8 2 1 8 1 9 1 1 3 3 3 1 3 2 3 4 2 2 3 3 6 1 5 0 7 4 4 9 1 6 1 5 1 1 2 1 3 1 9 0 11 1 4 8 1 3 8 2 9 4 3 4 1 3 3 2 2 2 2 3 2 1 8 0 9 2 6 4 7 1 9 8 8 3 3 2 1 1 1 3 3 1 4 4 1 3 3 4 3 5 1 8 0 11 5 6 6 3 5 7 4 3 7 1 9 3 1 1 3 3 1 3 3 1 6 0 6 1 1 7 7 3 8 2 2 1 1 3 3 1 8 0 7 8 1 2 1 2 1 5 1 3 1 3 2 1 1 2 5 2 4 5 2 3 4 1 5 0 7 2 1 8 1 6 9 6 1 1 1 3 1 1 9 0 6 4 5 4 5 1 4 1 2 2 1 2 3 2 3 1 1 8 0 6 1 4 1 3 9 6 2 3 1 2 2 1 1 3 1 3 3 2 3 6 1 7 0 11 9 6 3 1 1 1 7 7 1 4 8 3 1 1 1 1 2 3 1 5 0 7 2 8 2 4 7 5 1 1 2 2 2 1 1 9 0 6 4 4 1 4 4 3 3 1 1 3 1 2 3 1 1 4 1 5 3 5 3 2 2 7 5 4 3 7 1 6 0 9 5 8 6 5 5 1 1 6 6 3 1 1 3 2 3 1 6 0 6 9 8 3 3 8 1 2 3 3 1 1 1 1 9 0 8 6 1 6 6 9 7 4 7 2 1 2 1 2 3 3 3 1 2 2 5 5 3 3 5 3 5 1 9 0 8 4 5 7 1 7 8 9 2 2 3 3 2 1 1 1 2 1 1 8 0 10 2 5 3 5 9 3 1 8 1 4 1 1 3 1 3 1 1 3 1 7 0 8 1 3 6 3 5 1 9 9 3 1 2 2 1 1 1 4 2 2 4 2 3 5 1 6 0 8 4 6 5 4 7 2 1 2 1 2 3 1 1 2 1 7 0 6 9 7 7 7 1 3 3 3 2 3 1 3 2 1 5 0 10 7 3 7 4 7 2 1 9 6 7 1 1 3 2 3 2 5 1 1 3 3 4 1 5 0 10 9 2 2 7 4 5 1 8 3 1 1 1 2 1 1 1 7 0 6 1 1 4 1 1 8 3 1 3 2 3 2 2 1 5 0 7 6 9 1 4 3 7 8 3 3 2 1 3 4 3 5 4 3 5 1 5 0 10 9 1 9 8 4 1 2 3 2 3 1 3 3 3 1 1 5 0 6 1 1 3 8 7 1 1 1 3 2 1 1 8 0 6 1 8 4 4 1 8 3 1 3 1 1 3 1 2 5 1 1 5 1 7 5 7 4 5 4 3 4 1 5 0 6 4 6 5 1 7 3 1 3 2 3 1 1 5 0 11 2 4 1 6 7 8 3 1 7 8 7 1 3 1 2 1 1 8 0 7 8 7 1 3 7 9 8 1 3 2 2 3 1 2 1 5 4 4 3 3 4 1 8 0 6 7 3 5 5 1 4 1 3 2 3 3 1 1 2 1 5 0 6 1 4 6 9 2 7 2 1 3 3 3 1 5 0 11 7 2 6 1 4 6 4 4 3 4 8 1 1 1 2 1 4 1 2 3 3 7 1 6 0 11 9 1 5 7 9 4 1 7 6 4 4 3 2 1 2 3 1 1 5 0 11 3 4 6 5 2 8 7 7 1 5 3 1 1 3 2 1 1 6 0 8 2 2 1 9 4 9 4 8 1 1 2 2 1 2 1 3 1 4 2 2 5 3 5 1 7 0 10 1 3 1 6 3 8 8 3 4 9 2 1 1 1 2 2 1 1 6 0 6 8 5 1 8 8 9 3 2 3 3 2 1 1 6 0 7 3 1 8 1 4 1 6 2 1 3 1 2 2 1 1 3 2 5 3 6 1 7 0 6 7 2 4 9 1 9 1 1 1 2 3 1 3 1 5 0 11 8 4 1 2 8 5 9 9 7 4 9 2 2 1 1 1 1 9 0 9 1 7 5 7 5 1 7 3 7 2 2 1 2 2 1 2 3 2 5 3 5 5 4 3 2 1 5 4 5 3 3 4 1 9 0 9 1 1 4 7 7 6 4 9 2 1 3 1 2 2 1 3 3 1 1 6 0 7 7 3 6 6 1 6 5 3 3 1 1 1 2 1 6 0 10 3 5 3 3 5 7 9 4 2 1 1 3 1 1 3 1 4 1 2 2 3 6 1 6 0 8 8 4 7 1 3 2 6 5 3 1 2 3 1 3 1 9 0 8 1 3 8 3 4 9 1 1 1 1 3 1 1 3 2 3 2 1 7 0 11 4 7 6 3 4 9 1 6 7 1 4 2 3 3 1 1 2 1 4 3 2 2 5 2 3 4 1 7 0 7 5 3 5 9 7 1 1 3 2 1 1 1 3 3 1 5 0 11 9 9 9 9 1 7 1 8 9 1 5 1 2 2 1 1 1 6 0 6 2 1 1 9 3 9 1 2 1 3 2 2 2 3 2 3 3 7 1 7 0 10 1 3 1 4 1 6 1 6 4 6 2 1 3 2 3 1 3 1 8 0 10 1 9 8 3 9 5 4 6 6 9 2 1 1 1 1 1 2 1 1 5 0 6 6 1 7 5 6 6 1 2 2 3 1 3 5 3 3 4 3 3 3 4 1 9 0 10 1 5 5 9 1 5 5 7 9 5 3 3 3 3 1 3 3 1 1 1 9 0 9 5 1 1 3 7 9 4 9 9 2 2 1 1 2 2 2 3 3 1 8 0 10 3 8 2 4 7 3 2 3 5 1 1 3 2 1 1 1 1 3 1 3 1 1 2 3 7 5 3 3 5 1 5 0 9 2 5 1 2 9 3 6 1 9 3 2 1 3 1 1 8 0 9 1 1 3 4 3 3 7 3 8 3 1 2 2 2 2 1 3 1 7 0 9 8 9 4 9 8 5 1 3 7 3 3 1 2 3 1 3 1 4 3 2 4 3 5 1 7 0 9 7 1 1 3 7 1 1 4 6 1 2 2 3 1 3 3 1 5 0 11 1 1 3 1 3 1 7 9 4 2 6 2 1 1 1 2 1 7 0 9 3 2 1 7 1 7 9 9 3 3 3 3 1 1 1 2 4 2 5 5 3 3 4 1 7 0 11 5 8 1 2 5 6 4 4 9 7 2 2 3 2 3 1 2 1 1 9 0 6 1 2 5 2 5 3 1 3 1 3 2 2 2 1 1 1 7 0 10 5 7 9 1 6 6 5 5 8 4 2 2 3 3 1 3 3 5 3 2 2 3 6 1 8 0 8 4 4 7 5 1 1 1 2 3 1 1 1 1 3 1 2 1 9 0 6 3 6 6 5 1 2 2 1 2 1 3 2 2 1 3 1 7 0 9 5 8 7 6 7 9 1 1 5 3 1 2 2 1 1 2 1 2 2 2 3 1 3 5 1 8 0 8 6 7 4 5 8 1 4 1 1 2 1 1 3 1 3 2 1 6 0 11 7 6 8 1 1 9 1 4 3 1 9 1 3 2 1 1 1 1 5 0 7 1 3 8 9 9 9 4 1 2 3 2 1 5 2 1 2 5 7 3 4 5 3 3 7 1 8 0 11 4 4 7 2 9 6 5 8 6 1 2 3 3 3 2 1 1 1 2 1 5 0 11 3 1 4 8 4 6 1 1 8 3 9 3 1 1 3 3 1 6 0 10 4 1 5 1 4 6 5 3 9 8 1 3 3 2 1 1 3 5 5 3 3 2 5 3 5 1 8 0 7 5 1 1 6 2 8 2 3 1 2 3 3 1 3 3 1 8 0 8 1 8 1 1 1 4 3 3 1 2 3 3 1 3 2 3 1 9 0 8 1 4 6 5 9 1 9 5 1 1 3 1 1 3 3 2 3 3 3 4 3 5 3 4 1 7 0 7 1 2 2 6 7 1 5 1 2 2 3 1 1 2 1 6 0 7 9 1 7 8 8 1 5 2 2 1 2 1 2 1 6 0 9 4 1 4 3 8 1 1 8 2 1 1 1 1 3 3 5 1 5 5 3 5 1 5 0 6 1 5 4 1 5 2 1 2 2 2 1 1 8 0 9 9 6 1 2 3 8 4 9 2 2 2 2 3 3 1 1 3 1 5 0 11 5 9 7 4 3 1 3 5 9 9 2 3 1 2 2 3 1 4 2 1 2 3 5 1 5 0 8 6 5 8 3 7 1 6 6 2 3 1 1 1 1 7 0 6 8 5 1 9 6 2 1 1 2 1 1 2 3 1 8 0 7 5 2 1 1 4 3 2 1 1 1 2 2 2 3 3 4 2 2 1 4 1 5 1 5 4 3 4 1 7 0 11 2 6 2 8 8 1 7 5 9 1 1 1 3 3 2 3 2 3 1 5 0 11 2 4 4 6 3 1 5 9 4 8 2 2 2 3 1 1 1 9 0 8 9 6 6 1 1 6 2 4 1 2 1 3 3 3 3 3 3 5 4 2 4 3 4 1 7 0 10 9 5 1 4 1 8 2 2 2 8 1 2 2 1 3 2 1 1 8 0 7 6 6 8 1 8 6 6 1 2 1 3 3 1 1 2 1 5 0 6 1 8 6 6 5 6 2 1 3 3 1 3 5 2 1 3 6 1 7 0 10 7 5 9 7 1 4 4 5 9 3 2 3 2 1 3 1 3 1 5 0 10 1 7 9 3 1 7 4 4 1 6 2 3 1 3 3 1 9 0 10 7 3 8 9 1 5 5 7 8 7 2 1 3 2 2 1 3 3 2 2 2 5 3 2 3 3 5 1 6 0 6 1 3 9 3 3 7 3 3 1 2 1 1 1 7 0 9 4 1 7 4 3 6 1 4 4 3 1 1 1 2 3 3 1 8 0 8 6 5 6 5 9 3 1 1 3 2 1 3 1 2 1 2 2 4 4 3 1 3 6 1 7 0 10 6 9 2 7 4 5 1 5 9 1 2 2 2 1 3 1 1 1 7 0 9 1 8 7 7 1 9 2 3 6 3 1 1 2 3 3 3 1 6 0 8 2 1 3 6 2 8 9 8 1 1 2 3 2 1 5 2 3 4 2 4 4 7 1 4 5 4 5 7 3 5 4 3 4 1 8 0 7 1 6 7 1 2 1 9 1 3 3 3 3 1 3 1 1 6 0 8 3 1 9 8 4 2 4 2 1 3 3 2 1 1 1 7 0 11 1 9 4 8 1 2 4 3 1 2 1 1 1 2 1 1 3 1 4 1 4 5 3 5 1 8 0 8 6 5 7 8 7 3 1 1 2 2 1 2 3 3 1 3 1 9 0 10 1 5 6 2 6 1 7 6 7 8 3 1 1 1 1 1 1 3 1 1 6 0 10 5 9 5 3 3 6 9 9 2 1 2 1 3 1 1 1 3 2 2 1 1 3 4 1 9 0 10 1 5 9 7 8 6 9 6 4 8 2 3 1 2 3 3 3 3 1 1 8 0 10 1 1 5 3 5 7 5 5 2 7 3 1 1 2 2 3 3 2 1 7 0 6 2 4 2 1 6 8 1 2 1 2 3 3 1 3 2 1 5 3 5 1 5 0 8 9 7 9 5 8 7 1 5 1 1 2 2 3 1 7 0 8 6 7 6 4 1 7 8 3 2 3 1 1 2 2 1 1 7 0 7 8 9 1 7 2 4 5 3 2 1 3 1 1 1 4 3 2 4 4 3 5 1 8 0 11 1 7 8 4 1 9 8 6 1 7 9 3 1 1 3 2 1 3 2 1 5 0 9 5 9 1 1 8 9 7 2 4 1 2 2 1 2 1 7 0 7 6 7 8 8 3 7 1 1 1 2 2 3 1 1 5 2 1 3 2 3 3 4 5 5 4 3 4 1 9 0 7 9 3 1 2 1 5 7 3 1 1 1 2 3 1 3 1 1 5 0 9 4 5 6 3 3 6 1 1 5 3 1 1 1 3 1 9 0 10 1 5 7 2 9 8 9 2 1 2 1 2 2 1 3 3 1 3 3 3 5 2 5 3 6 1 7 0 11 1 5 3 5 4 5 3 5 1 8 1 1 3 3 3 3 2 2 1 5 0 7 3 9 3 9 1 9 1 1 3 1 3 3 1 6 0 11 6 5 9 6 2 7 9 5 1 3 9 3 1 3 3 1 2 4 4 2 5 3 2 3 5 1 6 0 6 5 3 7 8 4 1 3 3 3 1 1 2 1 9 0 6 1 1 4 7 9 9 3 3 1 1 1 3 1 1 2 1 7 0 9 5 3 6 4 1 6 1 6 8 3 1 1 2 1 3 1 2 4 2 4 3 3 5 1 9 0 7 7 8 9 4 8 6 1 3 3 1 1 1 2 1 1 3 1 8 0 9 4 1 4 3 6 8 1 3 2 2 1 2 3 1 3 1 2 1 7 0 11 1 8 6 7 7 5 2 7 9 3 3 2 3 2 1 1 1 3 5 2 5 1 1 3 5 1 6 0 9 1 6 7 5 8 5 1 8 4 2 1 3 1 2 1 1 8 0 8 9 8 7 1 5 1 6 2 1 2 3 3 1 2 3 3 1 8 0 7 2 5 4 3 9 6 1 2 1 2 2 3 1 2 1 3 2 1 2 2 2 2 1 4 5 3 3 6 1 7 0 10 7 7 2 6 9 7 2 1 9 6 2 2 2 2 1 1 2 1 6 0 8 9 6 6 4 1 1 5 1 2 1 2 3 1 1 1 9 0 11 3 6 8 7 1 6 1 3 4 2 3 1 1 2 1 2 3 2 3 2 2 5 2 5 4 5 3 5 1 6 0 8 8 2 2 9 3 2 3 1 1 2 1 2 1 3 1 8 0 7 5 9 5 1 6 1 1 2 1 3 2 2 1 1 2 1 6 0 11 7 9 8 7 1 9 1 7 1 2 9 3 2 2 1 3 3 2 3 2 4 1 3 7 1 7 0 6 1 3 5 4 4 1 1 2 3 3 1 1 2 1 7 0 11 6 9 6 9 5 6 9 6 4 1 9 2 1 2 1 3 2 2 1 7 0 6 6 8 2 8 7 1 1 2 3 1 3 2 1 2 3 1 1 3 2 1 3 6 1 8 0 6 5 5 1 6 7 1 3 3 3 2 3 1 1 1 1 9 0 7 4 7 6 8 3 1 9 2 2 2 3 1 3 1 2 1 1 9 0 7 6 8 2 1 1 1 4 2 1 1 2 2 1 3 1 1 1 3 2 5 3 5 3 6 1 5 0 9 1 6 7 1 4 7 6 8 1 2 2 2 2 1 1 8 0 10 4 5 9 4 5 1 5 1 2 8 1 1 3 3 1 1 1 2 1 5 0 11 3 5 4 4 9 4 1 1 3 1 2 3 1 1 3 3 3 1 4 2 2 5 2 5 1 4 3 3 4 1 5 0 6 3 2 1 6 4 1 1 1 2 1 1 1 5 0 7 9 5 3 1 3 2 4 3 3 1 3 1 1 8 0 6 5 3 6 3 1 5 2 3 1 1 3 2 3 1 1 3 5 1 3 6 1 6 0 6 3 6 1 8 4 1 1 2 2 1 1 2 1 6 0 8 2 1 1 6 3 1 2 8 1 1 1 1 2 1 1 8 0 7 3 6 8 9 9 1 8 1 3 1 2 2 3 1 3 5 1 1 4 1 2 3 4 1 7 0 10 3 3 1 1 4 1 5 9 4 1 1 3 3 2 3 1 1 1 5 0 6 8 3 2 7 1 6 2 1 3 1 1 1 7 0 7 1 7 1 6 9 3 4 1 3 2 2 1 1 2 5 4 4 3 3 6 1 9 0 6 3 4 1 9 8 2 3 1 3 2 3 2 2 1 2 1 5 0 6 4 1 6 1 9 1 2 2 1 1 1 1 8 0 7 1 4 3 9 7 2 6 1 1 1 1 3 1 3 2 1 1 4 2 2 2 2 5 4 5 4 3 4 1 8 0 10 4 3 7 6 5 1 7 3 6 1 1 1 1 2 2 1 1 2 1 7 0 8 1 8 5 7 8 6 6 7 1 2 3 1 2 2 3 1 8 0 11 7 2 5 5 7 6 4 3 9 2 1 2 2 1 1 2 2 1 2 1 1 3 3 3 6 1 8 0 10 8 3 6 6 2 8 1 9 8 4 2 3 1 2 2 1 2 2 1 5 0 9 4 7 6 6 9 1 6 3 5 2 3 1 1 2 1 6 0 7 1 5 6 9 7 2 4 3 2 1 1 3 1 2 2 2 5 2 2 3 4 1 5 0 11 9 9 1 7 1 4 2 9 5 4 5 3 1 1 1 2 1 7 0 11 2 8 8 9 1 8 9 4 7 8 8 1 3 1 2 2 2 3 1 6 0 9 5 9 6 3 1 9 2 1 6 1 1 3 1 2 3 1 5 2 3 3 7 1 6 0 10 1 6 5 1 1 5 6 2 3 8 2 2 3 1 2 1 1 7 0 11 3 1 5 5 3 1 4 2 5 9 2 3 2 1 1 3 1 3 1 8 0 10 9 7 4 1 1 2 4 9 7 5 1 3 2 1 1 1 2 3 2 1 3 2 4 5 3 3 4 1 6 0 9 7 4 1 9 6 1 4 3 9 1 1 2 1 1 1 1 9 0 10 2 1 1 3 4 2 3 2 1 1 3 3 1 1 1 3 2 2 3 1 9 0 8 9 1 5 3 7 5 1 4 3 2 2 1 2 1 2 3 1 2 5 3 2 3 3 5 1 5 3 3 6 1 8 0 8 6 1 6 7 7 8 7 4 2 2 1 2 1 1 2 1 1 6 0 7 2 1 6 2 5 5 1 2 3 1 1 2 1 1 6 0 11 7 9 5 2 9 5 1 8 6 5 7 1 3 1 3 1 3 3 5 1 4 1 1 3 4 1 9 0 6 8 7 1 7 7 5 3 1 2 2 2 2 3 2 1 1 9 0 10 8 6 6 1 1 4 2 2 3 9 3 3 2 3 1 1 1 3 1 1 9 0 11 9 1 4 4 2 9 4 4 3 1 8 1 1 3 2 2 2 1 3 1 1 1 3 5 3 7 1 7 0 6 6 7 3 3 1 1 2 2 1 2 1 2 2 1 8 0 9 1 1 1 8 1 6 8 1 3 1 2 2 1 1 1 1 1 1 7 0 11 1 9 5 7 8 7 4 9 3 1 2 1 1 3 3 1 3 1 2 3 2 2 4 2 2 3 5 1 8 0 9 4 8 1 1 2 9 4 1 4 1 1 1 1 2 3 3 1 1 7 0 6 9 5 2 2 1 5 2 2 3 3 1 2 3 1 6 0 7 8 4 1 8 9 7 6 3 2 3 3 1 3 2 1 2 2 3 3 5 1 9 0 6 2 1 8 2 6 2 1 2 1 2 1 2 2 1 1 1 6 0 11 6 2 2 1 4 5 9 6 3 1 6 2 2 1 1 1 1 1 6 0 9 1 1 8 3 1 8 3 6 6 3 1 2 3 2 2 5 3 4 3 3 3 4 1 5 5 3 7 1 5 0 10 8 1 8 1 5 5 4 5 8 2 2 2 3 2 1 1 7 0 7 4 6 1 1 7 4 3 1 1 3 2 2 3 2 1 9 0 8 1 1 3 1 2 7 8 7 2 3 3 1 1 1 3 3 3 1 2 2 5 1 1 1 3 5 1 5 0 7 1 4 7 2 1 9 1 1 3 3 3 1 1 7 0 10 1 6 6 1 4 1 3 3 4 4 3 2 3 1 1 2 2 1 7 0 11 6 4 8 6 9 4 2 5 5 1 4 3 3 1 3 3 1 1 4 3 3 1 1 3 4 1 8 0 7 1 8 6 6 2 9 7 1 2 1 3 1 2 3 2 1 8 0 6 9 1 8 9 5 2 2 2 3 3 1 3 2 1 1 8 0 11 9 7 2 1 7 1 6 7 2 7 3 2 2 1 1 2 3 3 1 1 5 3 2 3 7 1 9 0 10 9 1 4 5 4 1 2 8 1 5 2 3 1 3 1 2 1 3 3 1 9 0 7 5 7 1 4 1 6 4 1 2 3 2 1 1 3 3 3 1 6 0 9 2 8 9 2 6 6 1 4 9 1 2 3 1 1 1 4 4 1 2 1 2 5 3 7 1 7 0 6 3 1 5 1 7 5 1 1 1 3 2 1 3 1 8 0 6 1 1 5 1 6 4 2 1 3 3 1 1 1 1 1 9 0 7 7 4 8 7 6 7 1 2 3 2 1 1 3 1 1 1 3 3 3 2 4 2 1 3 2 5 1 1 3 7 3 6 2 5 5 3 6 1 5 0 7 7 1 3 1 9 6 7 1 1 2 1 1 1 6 0 11 4 1 3 1 1 2 5 2 5 7 2 3 1 2 1 2 3 1 9 0 10 4 8 4 9 1 5 7 2 8 1 1 1 2 2 1 3 3 1 3 2 2 3 3 3 1 3 7 1 6 0 11 7 7 5 9 1 9 7 2 1 7 1 2 2 2 1 1 1 1 7 0 9 7 6 2 4 8 5 2 1 9 2 1 2 1 1 1 2 1 9 0 11 2 8 7 4 1 4 3 7 5 3 1 2 3 2 1 1 1 1 2 2 5 3 4 4 1 2 2 3 5 1 5 0 8 9 3 3 3 5 9 6 1 1 1 1 3 3 1 8 0 6 3 9 1 4 2 1 3 2 2 1 1 2 3 1 1 7 0 9 1 9 7 5 5 8 9 1 2 3 1 1 1 1 2 3 1 1 4 4 2 3 7 1 5 0 8 4 2 5 6 2 1 9 8 2 1 2 3 2 1 6 0 11 2 2 5 7 5 7 1 9 1 1 1 1 1 3 1 3 1 1 7 0 7 5 9 1 2 4 7 3 1 3 2 3 1 1 3 4 2 3 1 5 4 2 3 4 1 9 0 6 6 9 8 5 1 3 3 2 3 1 2 2 2 2 3 1 7 0 9 1 1 3 2 6 4 3 7 1 2 3 3 1 2 2 1 1 8 0 7 4 8 1 6 8 9 1 1 2 1 1 2 3 3 1 2 1 1 2 2 7 5 2 7 5 4 3 5 1 9 0 11 7 9 1 8 7 2 2 3 9 1 7 2 3 1 1 2 2 1 2 3 1 7 0 8 1 8 9 9 7 6 8 8 1 3 1 1 3 1 3 1 5 0 11 2 2 1 9 8 3 6 1 9 4 6 3 1 3 1 2 1 4 1 5 4 3 4 1 7 0 11 6 2 1 7 7 7 1 1 8 4 3 1 1 2 1 3 3 1 1 6 0 9 8 5 1 5 6 6 9 1 1 3 2 1 2 3 2 1 6 0 11 5 6 1 8 1 4 2 3 3 1 6 1 2 3 2 1 2 4 1 3 1 3 6 1 5 0 11 2 1 6 1 9 7 1 3 1 7 5 2 1 2 2 3 1 8 0 6 5 1 3 4 8 2 2 1 1 2 1 1 3 3 1 8 0 11 4 7 8 9 1 1 1 1 8 9 1 2 2 3 1 3 3 3 3 2 1 2 4 2 5 3 7 1 7 0 10 4 6 6 1 1 2 9 8 4 8 3 3 1 3 3 2 1 1 9 0 11 7 3 9 2 9 3 1 4 9 7 1 1 3 1 2 3 2 1 2 1 1 8 0 7 1 7 5 5 2 1 8 2 1 3 1 1 1 2 3 3 1 5 5 4 2 2 3 5 1 7 0 11 6 9 2 4 3 3 1 8 1 9 5 3 3 2 1 3 1 3 1 6 0 7 1 6 7 7 4 1 3 2 1 2 2 3 2 1 8 0 11 9 1 4 3 2 7 1 8 3 7 8 1 1 2 3 3 3 2 3 5 4 2 4 4 1 5 7 4 4 4 3 4 1 8 0 10 7 2 1 1 8 2 5 4 2 4 3 2 3 1 1 2 1 3 1 6 0 9 1 2 2 1 8 9 9 9 1 1 1 1 3 3 1 1 6 0 8 7 5 3 1 5 1 9 9 1 3 1 3 3 3 1 3 1 1 3 4 1 7 0 11 5 9 8 5 1 1 3 8 9 3 5 2 2 2 1 2 1 1 1 8 0 6 3 8 9 8 7 1 2 3 2 3 3 1 1 3 1 6 0 7 5 9 9 1 9 6 1 3 2 3 1 3 3 4 2 4 5 3 5 1 6 0 10 6 5 7 5 1 8 1 5 6 4 3 1 3 3 2 3 1 6 0 9 1 8 3 5 1 2 8 3 6 2 1 1 2 1 1 1 9 0 10 4 4 2 1 8 2 2 1 9 1 3 1 2 2 2 3 1 3 1 2 3 5 5 4 3 5 1 9 0 11 4 9 7 1 7 1 9 9 7 6 5 3 1 2 1 3 1 1 2 2 1 8 0 6 3 1 7 3 2 4 1 1 3 1 2 2 1 1 1 6 0 9 8 6 6 9 1 3 9 5 9 2 2 1 1 1 1 1 2 2 2 2 3 4 5 3 4 3 3 6 1 6 0 6 8 3 1 3 2 9 3 3 2 1 2 3 1 6 0 7 7 6 5 4 1 4 1 3 1 2 1 1 3 1 9 0 8 4 8 1 1 5 6 1 2 2 1 3 3 2 3 2 2 3 4 5 2 3 1 5 3 4 1 5 0 10 9 1 2 6 8 3 7 1 3 2 3 3 3 3 1 1 8 0 8 4 1 5 2 2 4 1 9 1 3 3 1 1 2 3 1 1 5 0 9 1 8 8 2 1 7 6 2 6 1 1 1 1 1 2 2 3 5 3 4 1 9 0 10 9 7 8 2 8 4 7 5 9 1 2 2 1 1 1 3 2 1 2 1 9 0 7 7 1 4 4 5 3 2 1 2 1 1 1 2 3 3 1 1 8 0 6 6 1 1 1 4 6 1 2 1 3 2 2 1 1 1 2 3 4 3 5 1 6 0 7 8 1 6 1 9 6 5 2 1 2 1 3 2 1 8 0 8 5 6 1 6 4 4 4 6 1 3 2 2 3 2 1 1 1 7 0 8 9 1 3 3 1 9 1 3 1 3 2 2 1 2 3 1 4 1 1 3 6 1 4 5 5 3 6 1 6 0 6 7 1 1 9 5 5 2 1 3 1 3 2 1 8 0 10 1 6 1 8 6 3 4 4 1 8 3 1 1 3 3 3 1 2 1 5 0 8 1 8 1 6 1 8 8 5 3 3 1 1 2 5 5 3 4 1 2 3 4 1 5 0 9 1 4 7 7 3 4 5 8 7 3 1 3 2 1 1 8 0 7 2 3 6 2 5 3 1 2 2 2 3 3 1 3 1 1 5 0 8 2 1 5 1 3 4 7 1 1 2 2 2 1 2 3 2 4 3 6 1 5 0 11 1 8 9 9 7 7 1 7 8 3 2 1 1 2 1 3 1 8 0 11 4 3 3 4 4 1 8 1 1 3 7 1 1 3 2 3 3 2 3 1 7 0 6 4 8 9 9 7 1 2 2 2 1 1 3 1 1 3 3 4 4 2 3 6 1 8 0 6 1 1 1 8 3 1 2 2 1 3 2 2 1 1 1 7 0 6 9 1 2 3 5 1 3 2 2 2 2 2 1 1 8 0 6 8 1 7 5 2 3 2 2 2 3 3 1 3 1 5 3 4 1 5 3 3 6 1 7 0 8 1 6 1 1 3 7 7 7 1 2 1 3 2 2 1 1 7 0 7 2 4 1 4 4 4 1 1 3 2 1 2 2 3 1 8 0 10 1 1 9 7 1 7 9 5 4 1 3 2 1 3 3 2 1 2 4 5 3 2 2 5 2 2 5 3 6 5 3 3 5 1 9 0 11 1 7 5 7 6 4 9 2 6 4 4 2 1 1 2 1 2 3 1 1 1 5 0 10 9 1 3 6 1 2 7 9 6 1 3 3 1 1 3 1 6 0 8 6 1 1 8 1 6 1 7 1 2 1 2 3 1 4 2 4 4 2 3 4 1 8 0 9 2 4 9 9 4 4 1 9 2 1 2 1 2 3 1 3 1 1 9 0 7 6 6 1 7 4 3 1 1 1 1 1 3 3 2 2 2 1 7 0 8 1 7 7 5 4 8 1 1 2 2 3 1 1 2 1 2 2 1 3 3 6 1 8 0 7 1 2 7 5 1 8 5 2 3 2 2 1 3 1 2 1 8 0 9 6 1 1 7 8 1 8 9 4 1 1 1 3 1 1 1 3 1 8 0 6 2 9 4 1 1 5 1 2 1 2 2 1 3 2 1 2 4 2 4 1 3 5 1 5 0 11 2 3 4 5 6 4 5 9 5 1 9 1 1 1 2 1 1 7 0 11 4 8 5 9 1 7 7 5 8 2 3 1 2 3 3 3 3 3 1 8 0 9 2 6 8 8 5 6 8 8 1 2 1 3 1 1 3 1 1 3 1 2 1 2 3 4 1 9 0 10 2 1 2 4 6 7 8 9 6 1 3 1 2 1 3 1 2 1 1 1 7 0 11 2 1 6 6 1 4 1 8 1 3 9 1 1 2 1 3 2 3 1 7 0 9 9 9 1 1 5 4 3 1 8 3 2 3 3 2 1 3 3 5 5 2 5 7 4 5 6 6 2 5 5 3 5 1 5 0 8 3 1 9 5 8 6 9 3 1 2 1 1 3 1 9 0 9 6 1 1 9 5 7 4 7 5 1 1 1 1 3 3 2 3 2 1 7 0 6 5 1 4 7 2 2 3 1 3 1 2 3 1 2 5 2 2 1 3 7 1 5 0 6 7 4 4 1 9 7 3 2 1 1 1 1 6 0 7 9 1 1 2 6 7 7 2 1 3 2 2 2 1 8 0 6 6 5 6 3 1 1 3 2 1 1 1 2 1 3 3 5 2 2 2 1 4 3 7 1 5 0 7 7 1 9 7 5 3 3 1 1 3 3 1 1 9 0 9 1 4 8 3 4 8 7 7 5 1 2 3 3 3 2 3 3 1 1 5 0 7 7 1 4 9 2 1 3 3 1 3 2 2 3 4 5 2 2 5 3 3 4 1 7 0 7 2 5 1 5 8 9 1 1 3 3 2 3 1 3 1 9 0 10 4 1 1 6 4 9 2 9 9 7 3 1 1 1 3 3 1 3 2 1 8 0 7 2 9 7 2 1 7 9 1 2 1 1 1 1 1 1 4 3 1 4 3 4 1 5 0 6 5 4 1 1 2 1 1 1 3 2 3 1 8 0 8 1 7 1 1 7 1 2 2 1 1 3 2 1 1 1 1 1 6 0 7 2 8 1 7 4 1 8 1 2 3 3 2 3 1 1 5 4 4 6 4 3 5 4 4 3 7 1 9 0 6 8 4 8 1 5 8 1 2 2 3 1 1 1 3 1 1 8 0 7 6 1 4 6 7 9 7 3 2 2 1 2 3 3 1 1 8 0 6 2 9 6 5 3 1 3 2 1 1 2 3 1 3 2 2 3 3 4 3 2 3 5 1 5 0 11 5 1 2 2 2 7 9 9 6 2 6 2 1 3 1 1 1 7 0 8 6 4 5 9 8 1 5 3 1 3 1 3 3 1 3 1 6 0 11 9 5 7 7 2 9 4 1 6 4 3 1 1 3 2 2 1 3 3 1 3 1 3 5 1 5 0 7 4 7 7 4 3 1 1 2 2 1 1 3 1 8 0 10 1 1 7 7 7 1 2 7 2 1 2 3 3 1 1 3 1 2 1 8 0 11 1 2 6 2 2 7 8 3 3 7 9 3 1 3 1 2 2 3 1 2 1 3 3 2 3 6 1 8 0 7 1 6 9 1 3 2 3 3 1 1 3 2 2 3 2 1 5 0 6 4 4 7 2 1 8 1 1 1 1 3 1 5 0 7 9 1 4 6 5 2 9 1 2 3 1 2 1 2 2 2 2 4 6 4 3 1 5 3 3 6 1 7 0 6 1 5 6 7 9 1 2 1 2 1 3 2 2 1 9 0 10 3 3 1 8 9 4 8 5 1 7 3 3 1 1 3 2 3 1 2 1 9 0 11 8 9 1 5 2 5 5 6 1 7 4 1 3 1 2 2 3 3 2 2 1 2 3 5 5 4 3 7 1 8 0 9 9 7 9 4 6 2 3 3 1 1 3 1 3 2 3 1 3 1 9 0 7 1 3 5 9 3 1 4 1 2 1 3 1 1 2 1 3 1 7 0 7 8 5 9 1 4 4 2 3 1 2 1 2 2 3 5 5 3 1 1 5 3 3 7 1 7 0 11 1 6 9 7 8 8 4 1 1 1 6 3 1 1 3 1 3 3 1 7 0 9 2 3 1 1 1 6 4 6 2 2 3 3 3 3 1 3 1 5 0 9 2 5 1 1 9 3 8 6 7 1 3 1 2 1 5 2 3 2 2 3 3 3 5 1 5 0 6 9 7 1 8 5 4 3 2 3 1 2 1 6 0 11 6 1 9 2 2 9 2 3 8 3 1 2 3 1 1 1 3 1 5 0 8 9 2 3 4 1 1 2 7 2 3 1 1 2 5 3 1 3 2 3 5 1 5 0 9 1 2 9 9 8 2 4 1 3 1 2 3 2 1 1 7 0 6 6 6 3 7 1 1 1 3 3 2 3 2 1 1 8 0 11 6 1 5 7 1 4 7 4 7 1 7 2 3 1 2 1 3 1 3 2 2 4 5 4 1 4 2 4 4 3 6 1 6 0 11 1 8 8 7 6 5 1 7 7 7 7 2 1 1 1 2 1 1 5 0 10 1 5 2 1 7 4 7 1 3 9 1 1 3 3 1 1 8 0 9 3 2 9 1 3 5 8 2 7 2 1 2 2 1 1 2 1 5 1 5 2 1 1 3 5 1 6 0 6 5 6 5 2 7 1 2 1 2 3 1 2 1 5 0 10 2 6 9 8 4 5 7 7 6 1 3 1 3 3 2 1 5 0 8 1 4 9 5 3 2 2 4 1 2 2 3 1 3 2 1 2 3 3 6 1 7 0 11 1 1 3 7 1 1 5 3 9 2 8 2 3 1 2 3 1 3 1 8 0 9 1 1 1 5 9 3 8 5 4 2 1 2 3 3 3 1 3 1 6 0 10 4 4 8 9 2 6 5 1 5 5 2 3 3 1 3 1 2 4 1 5 4 1 3 4 1 7 0 6 1 9 8 1 7 4 2 1 1 3 1 1 3 1 7 0 9 6 5 9 7 6 4 1 9 3 1 3 1 3 3 1 1 1 5 0 7 8 2 4 6 3 1 1 3 2 1 1 2 3 5 5 1 6 5 3 3 4 3 3 7 1 6 0 8 2 1 7 4 2 3 5 7 1 3 3 3 1 1 1 9 0 6 5 4 1 2 7 1 3 1 2 1 3 1 3 3 3 1 9 0 9 8 4 1 1 5 7 6 2 9 3 3 2 3 1 1 2 3 3 5 2 1 4 4 4 3 3 6 1 9 0 6 6 8 8 1 1 4 1 1 3 1 2 1 1 3 3 1 9 0 11 2 4 8 1 6 1 1 4 3 9 4 1 3 2 1 3 1 2 3 2 1 6 0 8 1 1 1 1 6 3 8 1 2 1 1 2 1 1 3 3 5 5 5 2 3 7 1 9 0 7 6 2 1 7 7 1 1 1 1 2 1 1 3 2 3 1 1 7 0 7 7 5 4 9 1 3 1 3 1 1 3 2 2 1 1 9 0 6 8 6 5 4 9 1 2 3 2 2 1 2 1 3 2 2 5 3 4 3 3 5 3 6 1 6 0 7 4 6 1 8 1 1 1 1 1 1 3 3 2 1 7 0 10 6 2 9 1 7 6 2 8 6 1 2 2 2 1 3 2 1 1 7 0 9 1 8 8 5 9 4 2 8 1 1 3 1 2 3 2 1 2 1 2 3 3 3 4 4 1 4 3 3 5 1 8 0 10 9 1 8 8 9 2 6 2 1 1 1 2 2 3 2 3 2 3 1 9 0 7 1 2 9 1 2 5 4 1 1 3 2 3 2 3 2 3 1 5 0 7 3 8 5 1 8 1 3 3 3 2 2 1 2 3 5 5 1 3 4 1 8 0 6 5 6 1 9 3 7 1 2 3 3 1 1 1 1 1 9 0 10 2 8 2 1 9 3 1 4 5 3 3 3 1 3 1 1 2 3 3 1 8 0 6 4 5 2 8 1 7 2 2 2 1 1 1 3 2 3 3 1 4 3 6 1 8 0 6 9 7 8 4 8 1 2 3 2 2 1 1 3 1 1 7 0 9 7 9 9 2 8 1 4 2 1 1 1 1 2 1 1 2 1 7 0 6 8 1 3 6 6 7 2 1 2 2 2 2 3 1 3 4 1 1 5 3 5 1 9 0 9 8 1 2 6 5 9 6 7 7 1 3 2 2 1 2 3 1 1 1 8 0 6 6 2 2 1 2 7 1 2 2 1 3 1 3 3 1 7 0 8 9 8 1 1 2 7 3 4 3 3 1 1 1 1 2 4 4 3 1 4 3 4 2 6 2 6 2 5 3 3 6 1 9 0 11 2 5 1 5 4 6 1 7 4 4 4 1 3 2 1 3 3 1 3 1 1 8 0 11 7 4 9 3 3 1 3 5 5 2 4 1 2 3 1 3 3 3 1 1 8 0 11 2 6 2 6 9 1 4 7 2 1 8 1 3 2 1 1 2 3 2 1 4 2 3 1 3 3 6 1 7 0 9 1 8 3 1 1 5 8 8 8 1 1 3 3 3 2 1 1 8 0 11 7 1 6 8 1 8 4 6 7 6 7 2 1 1 1 2 3 1 3 1 9 0 8 5 4 1 1 8 9 1 4 2 1 2 1 3 2 2 1 3 1 5 1 5 4 3 3 7 1 8 0 10 1 8 9 4 1 8 5 5 4 7 3 1 1 1 3 1 2 1 1 5 0 10 4 1 5 3 6 2 3 3 4 6 1 3 2 2 3 1 8 0 10 5 8 1 3 8 6 7 1 1 5 3 1 1 3 2 1 2 2 1 3 3 2 5 5 4 3 5 1 9 0 8 1 3 2 6 7 1 9 7 3 2 2 2 3 1 3 2 3 1 6 0 7 1 5 6 1 6 6 4 2 3 1 1 2 3 1 6 0 8 5 9 6 5 1 1 1 1 2 1 1 1 1 2 2 1 2 3 2 3 6 1 6 0 11 2 9 3 1 2 5 6 1 7 7 4 1 1 1 2 2 2 1 6 0 11 6 6 9 4 5 8 1 7 2 1 3 2 2 3 1 1 1 1 7 0 11 5 4 6 1 1 4 4 1 2 6 6 1 1 3 2 2 3 3 5 3 2 1 1 2 4 2 2 5 4 3 5 1 5 0 9 2 4 9 5 1 4 9 7 9 1 3 1 1 2 1 7 0 10 8 5 4 1 6 6 4 2 9 1 1 2 2 1 1 2 3 1 6 0 8 2 7 1 9 3 7 9 9 2 1 3 1 3 2 1 5 2 5 3 3 6 1 9 0 9 2 3 1 4 2 9 2 1 4 1 3 1 2 3 3 3 3 2 1 9 0 6 1 1 5 6 1 1 1 3 3 2 2 1 1 3 3 1 7 0 9 1 4 7 9 8 9 3 5 4 3 2 3 1 2 2 1 1 4 4 1 1 4 3 4 1 7 0 7 1 9 3 9 8 9 6 1 3 2 3 1 2 1 1 5 0 6 1 9 9 1 9 2 2 1 2 1 2 1 5 0 9 2 6 3 1 7 1 6 1 1 2 1 1 1 1 4 3 1 3 3 7 1 5 0 6 8 1 5 8 6 9 1 1 1 1 1 1 9 0 9 6 1 3 7 1 4 3 5 1 1 2 2 1 1 1 1 2 3 1 7 0 10 1 9 8 1 3 3 1 1 7 4 1 1 2 3 1 2 2 5 1 1 3 3 3 1 3 6 1 9 0 9 1 8 5 3 9 5 5 1 9 3 1 1 1 3 3 1 1 3 1 6 0 8 7 1 8 1 2 1 1 2 3 2 3 1 3 3 1 9 0 10 3 7 8 9 3 1 6 1 1 1 2 3 1 2 1 2 1 3 3 2 5 1 4 1 3 3 2 6 7 5 5 3 6 1 5 0 8 7 1 3 6 6 8 6 4 2 3 1 1 1 1 6 0 8 8 5 5 2 9 5 2 1 1 1 3 1 3 3 1 7 0 7 1 6 1 6 7 8 1 1 1 1 3 3 1 2 1 3 4 5 4 5 3 6 1 6 0 7 7 4 9 8 1 7 8 1 1 1 1 3 2 1 7 0 11 5 3 9 6 4 5 1 2 7 9 6 3 1 1 1 2 3 3 1 7 0 10 3 5 2 5 8 7 1 6 3 1 3 3 3 1 3 1 1 3 2 2 1 2 2 3 6 1 7 0 10 6 8 8 9 9 7 8 2 1 8 2 2 2 1 3 3 3 1 9 0 8 1 8 6 4 4 3 6 3 3 1 1 3 3 2 3 2 3 1 9 0 6 1 8 3 8 8 6 2 3 1 2 1 1 2 2 3 3 1 2 4 1 2 3 6 1 6 0 9 4 5 6 1 5 3 4 3 1 3 3 1 2 2 1 1 7 0 8 1 6 2 6 8 8 7 5 3 2 3 1 2 1 3 1 7 0 6 9 5 1 1 5 7 1 2 1 3 1 1 3 2 2 1 3 2 2 3 7 1 5 0 9 7 1 3 9 1 9 3 7 8 1 1 3 2 2 1 9 0 7 4 1 6 1 1 8 1 2 2 3 1 1 3 1 1 2 1 6 0 8 1 8 5 1 4 1 2 6 1 1 3 2 3 2 1 3 4 4 3 4 1 5 5 2 5 2 5 3 3 7 1 7 0 10 8 7 1 7 9 5 7 7 6 5 3 3 1 2 1 3 1 1 7 0 8 1 9 8 8 5 6 2 4 3 2 1 1 1 2 3 1 5 0 6 2 9 7 4 6 1 3 2 1 2 1 3 1 4 3 4 2 5 3 4 1 8 0 9 2 8 4 4 8 5 8 1 9 1 3 1 3 1 3 3 1 1 9 0 9 8 8 1 7 1 6 3 3 6 3 2 2 2 1 3 2 3 3 1 7 0 9 5 9 1 2 3 9 3 6 7 1 2 3 1 1 2 1 5 5 5 1 3 7 1 5 0 11 1 1 6 1 9 2 4 9 2 6 1 3 1 3 1 1 1 5 0 8 2 8 5 3 8 1 4 2 2 1 1 2 2 1 9 0 6 1 2 5 5 2 5 1 1 2 2 2 2 1 1 3 1 1 5 4 2 4 5 3 7 1 7 0 8 1 2 9 6 7 6 1 2 3 1 1 2 2 3 2 1 9 0 9 2 2 3 1 1 7 3 5 1 1 1 2 2 1 2 3 2 1 1 5 0 10 1 3 4 2 7 9 7 7 8 1 1 3 1 1 3 4 2 1 4 4 3 4 3 4 1 9 0 11 8 5 1 4 6 7 2 9 1 4 1 1 2 2 1 2 1 1 1 2 1 5 0 8 7 1 1 7 1 7 4 2 3 1 2 3 3 1 8 0 10 5 3 9 8 3 2 1 1 4 1 1 3 3 3 2 2 3 1 1 3 1 4 6 5 1 4 4 3 5 1 5 0 7 1 2 6 5 7 5 7 1 1 2 3 1 1 9 0 7 1 5 6 9 4 2 1 3 1 3 2 1 3 1 2 3 1 9 0 8 3 8 7 9 4 1 2 4 3 1 3 3 1 2 2 3 3 5 1 2 5 1 3 7 1 8 0 10 1 3 7 9 7 5 4 6 3 2 3 3 2 1 1 1 1 1 1 6 0 9 2 2 6 4 2 1 8 8 5 3 1 1 2 2 3 1 8 0 8 5 1 9 3 1 8 2 6 1 2 1 3 1 1 1 1 3 4 2 1 2 1 5 3 6 1 9 0 10 8 6 9 6 9 9 7 3 1 4 1 2 1 1 3 3 3 2 2 1 9 0 11 5 8 4 7 8 6 4 3 4 8 1 1 1 1 1 1 1 3 1 3 1 7 0 11 2 4 1 8 8 1 1 6 1 2 1 1 1 2 1 3 3 1 5 3 2 4 2 4 3 7 1 6 0 8 6 6 6 2 2 1 5 6 1 3 1 3 3 1 1 9 0 9 7 5 5 3 4 5 5 7 1 3 3 3 1 2 2 1 3 2 1 8 0 7 4 7 1 7 4 4 9 1 2 1 3 2 1 1 2 5 2 4 1 2 3 1 4 6 4 2 5 3 3 4 1 5 0 8 1 9 1 4 3 9 8 5 1 1 3 1 2 1 6 0 7 2 6 8 1 1 3 7 3 2 1 2 1 2 1 7 0 9 1 9 5 9 4 3 3 2 7 1 1 3 2 1 2 1 1 3 1 1 3 5 1 8 0 10 1 3 7 5 3 1 9 8 9 4 2 2 1 3 1 1 1 3 1 8 0 11 3 1 7 7 3 9 8 1 8 1 7 3 3 1 1 1 2 3 1 1 7 0 9 6 8 4 5 7 4 4 1 7 2 1 1 3 1 1 1 1 3 3 1 3 3 7 1 8 0 8 8 2 7 4 5 4 1 4 2 2 1 3 1 1 1 3 1 5 0 7 1 9 4 9 8 1 1 1 1 1 1 3 1 8 0 9 9 6 8 8 8 9 9 1 7 2 3 3 1 2 3 1 1 2 5 4 1 3 5 2 3 7 1 6 0 11 6 2 6 2 1 1 5 3 9 6 9 2 3 1 1 3 2 1 8 0 6 1 5 3 5 1 4 1 3 2 3 3 2 2 2 1 5 0 6 9 5 1 6 6 5 1 2 3 3 3 4 2 3 3 4 2 4 3 6 1 7 0 9 8 9 2 7 2 8 6 1 9 2 3 3 3 1 3 1 1 8 0 8 6 3 9 9 8 1 8 3 2 3 3 2 1 1 1 3 1 8 0 10 7 2 4 7 3 1 7 1 8 1 1 2 3 2 2 3 1 1 5 5 3 5 2 2 1 7 7 6 4 7 5 1 6 4 9 4 4 9 10 7\"\"\"\n",
    "data = [int(n) for n in tree_input.split()]"
   ]
  },
  {
   "cell_type": "code",
   "execution_count": 2,
   "metadata": {},
   "outputs": [],
   "source": [
    "def process_node( data, pos ):\n",
    "    n_children = data[pos]\n",
    "    pos += 1\n",
    "    n_meta = data[pos]\n",
    "    pos += 1\n",
    "    children = []\n",
    "    sum_meta = 0\n",
    "    \n",
    "    if n_children > 0:\n",
    "        for i in range( n_children ): \n",
    "            child, sum_meta_child, pos = process_node( data, pos )\n",
    "            children.append( child )\n",
    "            sum_meta += sum_meta_child\n",
    "    \n",
    "    metadata = data[pos:pos + n_meta]\n",
    "    sum_meta += sum( metadata )\n",
    "    pos += n_meta\n",
    "    \n",
    "    return ( {'children': children, 'meta': metadata}, sum_meta, pos )"
   ]
  },
  {
   "cell_type": "code",
   "execution_count": 3,
   "metadata": {},
   "outputs": [
    {
     "data": {
      "text/plain": [
       "40701"
      ]
     },
     "execution_count": 3,
     "metadata": {},
     "output_type": "execute_result"
    }
   ],
   "source": [
    "tree, sum_meta, _ = process_node(data, 0)\n",
    "\n",
    "sum_meta"
   ]
  },
  {
   "cell_type": "markdown",
   "metadata": {},
   "source": [
    "# Day 8.2"
   ]
  },
  {
   "cell_type": "code",
   "execution_count": 5,
   "metadata": {},
   "outputs": [],
   "source": [
    "def process_node_value( data, pos ):\n",
    "    n_children = data[pos]\n",
    "    pos += 1\n",
    "    n_meta = data[pos]\n",
    "    pos += 1\n",
    "    children = []\n",
    "    value = 0\n",
    "    \n",
    "    if n_children > 0:\n",
    "        for i in range( n_children ): \n",
    "            child, pos = process_node_value( data, pos )\n",
    "            children.append( child )\n",
    "    \n",
    "    metadata = data[pos:pos + n_meta]\n",
    "    \n",
    "    if n_children > 0:\n",
    "        for i in metadata:\n",
    "            if i > 0 and i <= len( children ):\n",
    "                value += children[i-1]['value']\n",
    "    else:\n",
    "        value = sum( metadata )\n",
    "        \n",
    "    pos += n_meta\n",
    "    \n",
    "    return ( {'children': children, 'meta': metadata, 'value': value}, pos )"
   ]
  },
  {
   "cell_type": "code",
   "execution_count": 6,
   "metadata": {},
   "outputs": [
    {
     "data": {
      "text/plain": [
       "21399"
      ]
     },
     "execution_count": 6,
     "metadata": {},
     "output_type": "execute_result"
    }
   ],
   "source": [
    "tree, _ = process_node_value(data, 0)\n",
    "tree['value']"
   ]
  },
  {
   "cell_type": "markdown",
   "metadata": {},
   "source": [
    "# Day 9.1"
   ]
  },
  {
   "cell_type": "code",
   "execution_count": 283,
   "metadata": {},
   "outputs": [
    {
     "name": "stdout",
     "output_type": "stream",
     "text": [
      "393229\n"
     ]
    }
   ],
   "source": [
    "PLAYERS = 441\n",
    "LAST = 71032\n",
    "\n",
    "circle = [0]\n",
    "pos = 1\n",
    "scores = {}\n",
    "\n",
    "for marble in range( 1, LAST + 1 ):\n",
    "    \n",
    "    player = marble % PLAYERS\n",
    "    \n",
    "    if marble % 23 == 0:\n",
    "        scores[player] = scores.get( player, 0 )\n",
    "        scores[player] += marble\n",
    "        pos = ( pos - 7 ) % len( circle )\n",
    "        removed = circle[pos]\n",
    "        scores[player] += circle[pos]\n",
    "        del circle[pos]\n",
    "            \n",
    "        prev = removed\n",
    "        \n",
    "        if pos == len( circle ):\n",
    "            pos -= 1\n",
    "    else:\n",
    "        pos = ( pos + 2 ) % len( circle )\n",
    "        if pos == 0:\n",
    "            pos = len( circle )\n",
    "            circle.append( marble )\n",
    "        else:\n",
    "            circle.insert(pos, marble)\n",
    "    \n",
    "print( max( scores.values() ) )"
   ]
  },
  {
   "cell_type": "markdown",
   "metadata": {},
   "source": [
    "# Day 9.2"
   ]
  },
  {
   "cell_type": "code",
   "execution_count": 278,
   "metadata": {},
   "outputs": [],
   "source": [
    "class Circle:\n",
    "    \n",
    "    class Node:\n",
    "        def __init__(self, marble, next_index=None, prev_index=None):\n",
    "            self.marble = marble\n",
    "            self.next_index = next_index\n",
    "            self.prev_index = prev_index\n",
    "    \n",
    "    def __init__(self):\n",
    "        self.active_index = 0\n",
    "        self.nodes = [self.Node(0, 0, 0)]\n",
    "    \n",
    "    def get_active_node( self ):\n",
    "        return self.nodes[self.active_index]\n",
    "    \n",
    "    def insert( self, marble ):\n",
    "        \n",
    "        prev_node = self.get_active_node()\n",
    "        next_node = self.nodes[prev_node.next_index]\n",
    "\n",
    "        prev_index = next_node.prev_index\n",
    "        next_index = prev_node.next_index\n",
    "\n",
    "        index = len( self.nodes )\n",
    "\n",
    "        self.nodes.append(self.Node( marble, next_index, prev_index ))\n",
    "\n",
    "        prev_node.next_index = index\n",
    "        next_node.prev_index = index\n",
    "        self.active_index = index\n",
    "        \n",
    "    def remove( self ):\n",
    "        node = self.get_active_node()\n",
    "        \n",
    "        prev_node = self.nodes[node.prev_index]\n",
    "        prev_node.next_index = node.next_index\n",
    "        \n",
    "        next_node = self.nodes[node.next_index]\n",
    "        next_node.prev_index = node.prev_index\n",
    "        \n",
    "        self.active_index = node.next_index\n",
    "        \n",
    "    def move( self, n ):\n",
    "        node = self.get_active_node()\n",
    "        if n > 0:\n",
    "            for i in range(n):\n",
    "                active = node.next_index\n",
    "                node = self.nodes[node.next_index]\n",
    "        else:\n",
    "            for i in range(abs(n)):\n",
    "                active = node.prev_index\n",
    "                node = self.nodes[node.prev_index]\n",
    "\n",
    "        self.active_index = active\n",
    "        return node"
   ]
  },
  {
   "cell_type": "code",
   "execution_count": 282,
   "metadata": {},
   "outputs": [
    {
     "name": "stdout",
     "output_type": "stream",
     "text": [
      "3273405195\n"
     ]
    }
   ],
   "source": [
    "PLAYERS = 441\n",
    "LAST = 7103200\n",
    "\n",
    "circle = Circle()\n",
    "scores = {}\n",
    "\n",
    "for marble in range( 1, LAST + 1 ):\n",
    "    \n",
    "    player = marble % PLAYERS\n",
    "    \n",
    "    if marble % 23 != 0:\n",
    "        circle.move( 1 )\n",
    "        circle.insert( marble )\n",
    "        \n",
    "    else:\n",
    "        scores[player] = scores.get( player, 0 )\n",
    "        scores[player] += marble\n",
    "        \n",
    "        dead_node = circle.move( -7 )\n",
    "        scores[player] += dead_node.marble\n",
    "        circle.remove()   \n",
    "        \n",
    "print( max( scores.values() ) )"
   ]
  },
  {
   "cell_type": "markdown",
   "metadata": {},
   "source": [
    "# Day 10.1"
   ]
  },
  {
   "cell_type": "code",
   "execution_count": 78,
   "metadata": {},
   "outputs": [],
   "source": [
    "data = \"\"\"position=<-30052,  -9918> velocity=< 3,  1>\n",
    "position=< 20349, -50260> velocity=<-2,  5>\n",
    "position=< 40505, -40169> velocity=<-4,  4>\n",
    "position=< 30444,  50599> velocity=<-3, -5>\n",
    "position=< 40549, -50259> velocity=<-4,  5>\n",
    "position=< 30454, -30087> velocity=<-3,  3>\n",
    "position=< 50623,  20347> velocity=<-5, -2>\n",
    "position=< 30439, -50262> velocity=<-3,  5>\n",
    "position=< 50623,  40516> velocity=<-5, -4>\n",
    "position=<-40143, -30090> velocity=< 4,  3>\n",
    "position=< 50594,  50602> velocity=<-5, -5>\n",
    "position=< -9884, -30087> velocity=< 1,  3>\n",
    "position=<-19958, -40168> velocity=< 2,  4>\n",
    "position=< 20357,  40513> velocity=<-2, -4>\n",
    "position=<-50240,  30431> velocity=< 5, -3>\n",
    "position=< 20351,  40516> velocity=<-2, -4>\n",
    "position=<-50257, -20005> velocity=< 5,  2>\n",
    "position=<-30073,  10253> velocity=< 3, -1>\n",
    "position=<-50265,  50597> velocity=< 5, -5>\n",
    "position=<-40154,  50601> velocity=< 4, -5>\n",
    "position=<-19987, -40168> velocity=< 2,  4>\n",
    "position=<-19987, -30087> velocity=< 2,  3>\n",
    "position=<-50257,  30425> velocity=< 5, -3>\n",
    "position=< 40558,  30425> velocity=<-4, -3>\n",
    "position=<-19990,  10256> velocity=< 2, -1>\n",
    "position=<-19979,  30425> velocity=< 2, -3>\n",
    "position=<-19976, -50254> velocity=< 2,  5>\n",
    "position=< 30446, -40172> velocity=<-3,  4>\n",
    "position=<-40157,  40515> velocity=< 4, -4>\n",
    "position=<-40143,  20342> velocity=< 4, -2>\n",
    "position=< 30467, -50255> velocity=<-3,  5>\n",
    "position=<-30040,  50606> velocity=< 3, -5>\n",
    "position=<-30037,  50605> velocity=< 3, -5>\n",
    "position=< 20382, -30086> velocity=<-2,  3>\n",
    "position=< 50594,  10262> velocity=<-5, -1>\n",
    "position=< 20342,  40515> velocity=<-2, -4>\n",
    "position=<-19963, -50258> velocity=< 2,  5>\n",
    "position=<-40135,  50599> velocity=< 4, -5>\n",
    "position=< 40558,  10262> velocity=<-4, -1>\n",
    "position=< 20366, -40177> velocity=<-2,  4>\n",
    "position=< -9888,  -9919> velocity=< 1,  1>\n",
    "position=<-19998,  40511> velocity=< 2, -4>\n",
    "position=< 50608,  40516> velocity=<-5, -4>\n",
    "position=< 10263,  40520> velocity=<-1, -4>\n",
    "position=< 40521, -40171> velocity=<-4,  4>\n",
    "position=< 30427, -20005> velocity=<-3,  2>\n",
    "position=< 20333,  -9916> velocity=<-2,  1>\n",
    "position=< -9909,  -9913> velocity=< 1,  1>\n",
    "position=< 50628,  40511> velocity=<-5, -4>\n",
    "position=< 50610,  30430> velocity=<-5, -3>\n",
    "position=<-50248,  30433> velocity=< 5, -3>\n",
    "position=< 50612,  50599> velocity=<-5, -5>\n",
    "position=<-50253, -40170> velocity=< 5,  4>\n",
    "position=< -9880,  40513> velocity=< 1, -4>\n",
    "position=< 20362,  10256> velocity=<-2, -1>\n",
    "position=< -9877, -30087> velocity=< 1,  3>\n",
    "position=<-40182, -30082> velocity=< 4,  3>\n",
    "position=<-50240, -20003> velocity=< 5,  2>\n",
    "position=<-40138,  10255> velocity=< 4, -1>\n",
    "position=<-50221,  20348> velocity=< 5, -2>\n",
    "position=< -9896,  -9917> velocity=< 1,  1>\n",
    "position=<-50209,  40516> velocity=< 5, -4>\n",
    "position=< 20352,  50602> velocity=<-2, -5>\n",
    "position=< 50607, -19998> velocity=<-5,  2>\n",
    "position=<-19995, -30087> velocity=< 2,  3>\n",
    "position=<-20003,  40517> velocity=< 2, -4>\n",
    "position=<-50219,  30431> velocity=< 5, -3>\n",
    "position=< 40521, -20001> velocity=<-4,  2>\n",
    "position=<-30036,  20339> velocity=< 3, -2>\n",
    "position=< 50624,  10257> velocity=<-5, -1>\n",
    "position=<-50224,  40517> velocity=< 5, -4>\n",
    "position=< -9907,  20344> velocity=< 1, -2>\n",
    "position=< 40534, -40169> velocity=<-4,  4>\n",
    "position=<-30065, -20003> velocity=< 3,  2>\n",
    "position=< -9922,  20339> velocity=< 1, -2>\n",
    "position=<-30052,  50602> velocity=< 3, -5>\n",
    "position=< 10276, -50263> velocity=<-1,  5>\n",
    "position=< 50594,  10258> velocity=<-5, -1>\n",
    "position=< -9876,  10258> velocity=< 1, -1>\n",
    "position=<-20001, -30091> velocity=< 2,  3>\n",
    "position=<-50253,  50602> velocity=< 5, -5>\n",
    "position=<-40159, -20002> velocity=< 4,  2>\n",
    "position=<-50224, -30091> velocity=< 5,  3>\n",
    "position=<-20001,  40511> velocity=< 2, -4>\n",
    "position=< 20357, -40173> velocity=<-2,  4>\n",
    "position=< 50615,  10255> velocity=<-5, -1>\n",
    "position=< -9877, -50254> velocity=< 1,  5>\n",
    "position=< 30440,  40516> velocity=<-3, -4>\n",
    "position=< 30427,  50605> velocity=<-3, -5>\n",
    "position=< 30419, -30090> velocity=<-3,  3>\n",
    "position=< 20376, -20001> velocity=<-2,  2>\n",
    "position=< 10255,  20344> velocity=<-1, -2>\n",
    "position=< 30419,  20344> velocity=<-3, -2>\n",
    "position=< 50595, -40169> velocity=<-5,  4>\n",
    "position=<-30081,  40513> velocity=< 3, -4>\n",
    "position=<-40143, -30090> velocity=< 4,  3>\n",
    "position=< 40553,  20344> velocity=<-4, -2>\n",
    "position=< 40529, -40170> velocity=<-4,  4>\n",
    "position=< 30427, -50262> velocity=<-3,  5>\n",
    "position=<-50240, -19996> velocity=< 5,  2>\n",
    "position=<-50245, -30090> velocity=< 5,  3>\n",
    "position=< 30448, -30087> velocity=<-3,  3>\n",
    "position=< -9875, -40171> velocity=< 1,  4>\n",
    "position=< -9900,  50599> velocity=< 1, -5>\n",
    "position=<-19954, -40168> velocity=< 2,  4>\n",
    "position=< 40526,  40518> velocity=<-4, -4>\n",
    "position=<-20011,  30428> velocity=< 2, -3>\n",
    "position=< 10283,  10257> velocity=<-1, -1>\n",
    "position=<-40175,  40520> velocity=< 4, -4>\n",
    "position=< 50636,  -9915> velocity=<-5,  1>\n",
    "position=< -9904,  10255> velocity=< 1, -1>\n",
    "position=< 30435,  40520> velocity=<-3, -4>\n",
    "position=< 30424, -50254> velocity=<-3,  5>\n",
    "position=< 20393,  50602> velocity=<-2, -5>\n",
    "position=<-50261, -30083> velocity=< 5,  3>\n",
    "position=<-30065,  10254> velocity=< 3, -1>\n",
    "position=<-30052, -40177> velocity=< 3,  4>\n",
    "position=< 50625, -50263> velocity=<-5,  5>\n",
    "position=<-40142, -20001> velocity=< 4,  2>\n",
    "position=< 20338, -19996> velocity=<-2,  2>\n",
    "position=< 50599,  50604> velocity=<-5, -5>\n",
    "position=< 40534, -40176> velocity=<-4,  4>\n",
    "position=<-50235,  20339> velocity=< 5, -2>\n",
    "position=<-30068,  -9918> velocity=< 3,  1>\n",
    "position=<-40173,  20339> velocity=< 4, -2>\n",
    "position=<-30054,  -9915> velocity=< 3,  1>\n",
    "position=< 10255,  20348> velocity=<-1, -2>\n",
    "position=<-40162,  40520> velocity=< 4, -4>\n",
    "position=<-40158,  -9918> velocity=< 4,  1>\n",
    "position=< 40508,  20348> velocity=<-4, -2>\n",
    "position=< 10307, -40177> velocity=<-1,  4>\n",
    "position=< 40545, -50261> velocity=<-4,  5>\n",
    "position=<-30073, -40172> velocity=< 3,  4>\n",
    "position=<-50209,  -9918> velocity=< 5,  1>\n",
    "position=< -9913,  40515> velocity=< 1, -4>\n",
    "position=< -9873, -50262> velocity=< 1,  5>\n",
    "position=< -9877,  10261> velocity=< 1, -1>\n",
    "position=<-50245, -30084> velocity=< 5,  3>\n",
    "position=< 30440,  50606> velocity=<-3, -5>\n",
    "position=<-40167,  40514> velocity=< 4, -4>\n",
    "position=<-30076, -50255> velocity=< 3,  5>\n",
    "position=< -9891, -19996> velocity=< 1,  2>\n",
    "position=< -9877,  20340> velocity=< 1, -2>\n",
    "position=< 20365,  -9911> velocity=<-2,  1>\n",
    "position=<-50256,  10253> velocity=< 5, -1>\n",
    "position=< -9909, -19996> velocity=< 1,  2>\n",
    "position=< 30479,  -9919> velocity=<-3,  1>\n",
    "position=<-30065,  10257> velocity=< 3, -1>\n",
    "position=< 50652,  -9919> velocity=<-5,  1>\n",
    "position=< 20338,  -9914> velocity=<-2,  1>\n",
    "position=<-30062,  20339> velocity=< 3, -2>\n",
    "position=< 20360,  10259> velocity=<-2, -1>\n",
    "position=< 40537,  50604> velocity=<-4, -5>\n",
    "position=<-50221,  50603> velocity=< 5, -5>\n",
    "position=< 40505, -30090> velocity=<-4,  3>\n",
    "position=< -9890,  20339> velocity=< 1, -2>\n",
    "position=<-30097, -50261> velocity=< 3,  5>\n",
    "position=<-19995, -30086> velocity=< 2,  3>\n",
    "position=< 20341,  10255> velocity=<-2, -1>\n",
    "position=<-19977, -20005> velocity=< 2,  2>\n",
    "position=<-30053, -50259> velocity=< 3,  5>\n",
    "position=<-30065, -40173> velocity=< 3,  4>\n",
    "position=< 50617,  50601> velocity=<-5, -5>\n",
    "position=< 50631, -40171> velocity=<-5,  4>\n",
    "position=< -9925,  -9915> velocity=< 1,  1>\n",
    "position=<-40150,  10262> velocity=< 4, -1>\n",
    "position=< 40526,  40516> velocity=<-4, -4>\n",
    "position=<-30055,  -9915> velocity=< 3,  1>\n",
    "position=<-50264,  30432> velocity=< 5, -3>\n",
    "position=< 10287, -20003> velocity=<-1,  2>\n",
    "position=< 40534,  20348> velocity=<-4, -2>\n",
    "position=<-19960, -19998> velocity=< 2,  2>\n",
    "position=< 30464, -40173> velocity=<-3,  4>\n",
    "position=<-50220, -50259> velocity=< 5,  5>\n",
    "position=< 40537,  -9919> velocity=<-4,  1>\n",
    "position=< 20357,  20346> velocity=<-2, -2>\n",
    "position=< 40510,  50598> velocity=<-4, -5>\n",
    "position=< 50607, -40172> velocity=<-5,  4>\n",
    "position=< 40537, -19996> velocity=<-4,  2>\n",
    "position=< 50636,  10261> velocity=<-5, -1>\n",
    "position=< -9896,  30425> velocity=< 1, -3>\n",
    "position=< -9917,  10255> velocity=< 1, -1>\n",
    "position=<-50248,  50606> velocity=< 5, -5>\n",
    "position=<-50237,  -9919> velocity=< 5,  1>\n",
    "position=<-30073, -20005> velocity=< 3,  2>\n",
    "position=< 40529,  50606> velocity=<-4, -5>\n",
    "position=< 50650, -30082> velocity=<-5,  3>\n",
    "position=<-30093,  10258> velocity=< 3, -1>\n",
    "position=< 30456, -40177> velocity=<-3,  4>\n",
    "position=< 40521, -40170> velocity=<-4,  4>\n",
    "position=< 30468,  10257> velocity=<-3, -1>\n",
    "position=< 10276, -50261> velocity=<-1,  5>\n",
    "position=< 30421,  -9919> velocity=<-3,  1>\n",
    "position=< -9877,  20346> velocity=< 1, -2>\n",
    "position=< 10258, -40177> velocity=<-1,  4>\n",
    "position=<-50264,  40516> velocity=< 5, -4>\n",
    "position=< -9883, -40173> velocity=< 1,  4>\n",
    "position=<-40127, -50256> velocity=< 4,  5>\n",
    "position=< -9885,  20343> velocity=< 1, -2>\n",
    "position=< 20382,  -9914> velocity=<-2,  1>\n",
    "position=<-30076, -19998> velocity=< 3,  2>\n",
    "position=<-30073,  50601> velocity=< 3, -5>\n",
    "position=< -9893,  20345> velocity=< 1, -2>\n",
    "position=< -9904,  10258> velocity=< 1, -1>\n",
    "position=< 20393, -40171> velocity=<-2,  4>\n",
    "position=<-19984,  50603> velocity=< 2, -5>\n",
    "position=< -9889,  20343> velocity=< 1, -2>\n",
    "position=<-19982,  40512> velocity=< 2, -4>\n",
    "position=<-20009, -40168> velocity=< 2,  4>\n",
    "position=<-30069, -19997> velocity=< 3,  2>\n",
    "position=<-19987, -30085> velocity=< 2,  3>\n",
    "position=< 10252,  10259> velocity=<-1, -1>\n",
    "position=< -9917,  30428> velocity=< 1, -3>\n",
    "position=< 10287,  20342> velocity=<-1, -2>\n",
    "position=<-50245, -20000> velocity=< 5,  2>\n",
    "position=<-40165, -40177> velocity=< 4,  4>\n",
    "position=<-40135, -50262> velocity=< 4,  5>\n",
    "position=<-19984, -30085> velocity=< 2,  3>\n",
    "position=< 30428, -30091> velocity=<-3,  3>\n",
    "position=<-30089,  30431> velocity=< 3, -3>\n",
    "position=< 30467,  20344> velocity=<-3, -2>\n",
    "position=<-19987,  40520> velocity=< 2, -4>\n",
    "position=<-30037,  40512> velocity=< 3, -4>\n",
    "position=< 40557, -50255> velocity=<-4,  5>\n",
    "position=< 40550,  10254> velocity=<-4, -1>\n",
    "position=<-40159,  10258> velocity=< 4, -1>\n",
    "position=< 40539,  20343> velocity=<-4, -2>\n",
    "position=< 30440,  50605> velocity=<-3, -5>\n",
    "position=< 30453,  30434> velocity=<-3, -3>\n",
    "position=< 40550, -30088> velocity=<-4,  3>\n",
    "position=<-40151,  10256> velocity=< 4, -1>\n",
    "position=< 10276,  40514> velocity=<-1, -4>\n",
    "position=< 10280,  20348> velocity=<-1, -2>\n",
    "position=<-20009, -30091> velocity=< 2,  3>\n",
    "position=< 30467,  50601> velocity=<-3, -5>\n",
    "position=< 30439, -20000> velocity=<-3,  2>\n",
    "position=< 10276, -20005> velocity=<-1,  2>\n",
    "position=< 40562, -30082> velocity=<-4,  3>\n",
    "position=<-19986, -20004> velocity=< 2,  2>\n",
    "position=< 20333,  10259> velocity=<-2, -1>\n",
    "position=<-50224,  -9911> velocity=< 5,  1>\n",
    "position=< -9872,  -9919> velocity=< 1,  1>\n",
    "position=< 10295, -30085> velocity=<-1,  3>\n",
    "position=<-19990,  30429> velocity=< 2, -3>\n",
    "position=< 10295, -30084> velocity=<-1,  3>\n",
    "position=< 30429,  40515> velocity=<-3, -4>\n",
    "position=< 20365, -30086> velocity=<-2,  3>\n",
    "position=< 50618,  10258> velocity=<-5, -1>\n",
    "position=<-20010,  -9910> velocity=< 2,  1>\n",
    "position=< 20373, -40169> velocity=<-2,  4>\n",
    "position=< 10307, -50261> velocity=<-1,  5>\n",
    "position=< 20381,  10256> velocity=<-2, -1>\n",
    "position=< 40513,  40517> velocity=<-4, -4>\n",
    "position=< -9865,  20345> velocity=< 1, -2>\n",
    "position=< -9909,  20347> velocity=< 1, -2>\n",
    "position=< 10284,  20348> velocity=<-1, -2>\n",
    "position=<-30073,  20342> velocity=< 3, -2>\n",
    "position=<-30078,  30425> velocity=< 3, -3>\n",
    "position=< -9899,  20342> velocity=< 1, -2>\n",
    "position=< 20333,  30429> velocity=<-2, -3>\n",
    "position=< 10306,  10253> velocity=<-1, -1>\n",
    "position=<-50261,  10260> velocity=< 5, -1>\n",
    "position=< 30459,  -9912> velocity=<-3,  1>\n",
    "position=< 10292, -40176> velocity=<-1,  4>\n",
    "position=< 20389, -30083> velocity=<-2,  3>\n",
    "position=<-40166,  20340> velocity=< 4, -2>\n",
    "position=< -9901,  20345> velocity=< 1, -2>\n",
    "position=< 40557, -20004> velocity=<-4,  2>\n",
    "position=<-40158, -30090> velocity=< 4,  3>\n",
    "position=<-50209,  10255> velocity=< 5, -1>\n",
    "position=<-50265, -40172> velocity=< 5,  4>\n",
    "position=<-50245,  50605> velocity=< 5, -5>\n",
    "position=< 30443, -40177> velocity=<-3,  4>\n",
    "position=< -9916,  20339> velocity=< 1, -2>\n",
    "position=< 50640,  50601> velocity=<-5, -5>\n",
    "position=<-19971, -20005> velocity=< 2,  2>\n",
    "position=< 40522,  -9914> velocity=<-4,  1>\n",
    "position=< 50607, -19999> velocity=<-5,  2>\n",
    "position=<-50243,  40515> velocity=< 5, -4>\n",
    "position=<-50240,  10260> velocity=< 5, -1>\n",
    "position=< 40561, -19998> velocity=<-4,  2>\n",
    "position=<-50211, -50254> velocity=< 5,  5>\n",
    "position=<-40143,  30431> velocity=< 4, -3>\n",
    "position=< 30430, -50259> velocity=<-3,  5>\n",
    "position=< 30479, -20002> velocity=<-3,  2>\n",
    "position=<-30092,  20344> velocity=< 3, -2>\n",
    "position=<-30092, -40168> velocity=< 3,  4>\n",
    "position=< 50601,  10257> velocity=<-5, -1>\n",
    "position=< 20373,  40515> velocity=<-2, -4>\n",
    "position=< 30479, -19997> velocity=<-3,  2>\n",
    "position=<-40175,  50605> velocity=< 4, -5>\n",
    "position=< -9880, -40173> velocity=< 1,  4>\n",
    "position=< 20349, -50255> velocity=<-2,  5>\n",
    "position=< 20362,  -9914> velocity=<-2,  1>\n",
    "position=<-30089,  50601> velocity=< 3, -5>\n",
    "position=< 30467,  10253> velocity=<-3, -1>\n",
    "position=< 40565,  30429> velocity=<-4, -3>\n",
    "position=<-40142,  10257> velocity=< 4, -1>\n",
    "position=< 50609, -50263> velocity=<-5,  5>\n",
    "position=< -9881, -40173> velocity=< 1,  4>\n",
    "position=< 50639,  40515> velocity=<-5, -4>\n",
    "position=<-50269, -40170> velocity=< 5,  4>\n",
    "position=< 40553,  -9910> velocity=<-4,  1>\n",
    "position=< 30455,  30434> velocity=<-3, -3>\n",
    "position=< 20362,  10258> velocity=<-2, -1>\n",
    "position=< 40505,  50603> velocity=<-4, -5>\n",
    "position=<-19990,  10260> velocity=< 2, -1>\n",
    "position=< 30447, -19998> velocity=<-3,  2>\n",
    "position=<-40150, -30087> velocity=< 4,  3>\n",
    "position=< -9907, -40172> velocity=< 1,  4>\n",
    "position=<-30044,  20348> velocity=< 3, -2>\n",
    "position=<-40178,  -9913> velocity=< 4,  1>\n",
    "position=<-50261,  30428> velocity=< 5, -3>\n",
    "position=<-40151,  20348> velocity=< 4, -2>\n",
    "position=<-50224,  30432> velocity=< 5, -3>\n",
    "position=< 50652, -50263> velocity=<-5,  5>\n",
    "position=<-19952,  50606> velocity=< 2, -5>\n",
    "position=< 30431,  40511> velocity=<-3, -4>\n",
    "position=< 30459, -30088> velocity=<-3,  3>\n",
    "position=< 50651,  20347> velocity=<-5, -2>\n",
    "position=< 10292, -30082> velocity=<-1,  3>\n",
    "position=< 20366,  10257> velocity=<-2, -1>\n",
    "position=<-19987,  -9913> velocity=< 2,  1>\n",
    "position=< -9865, -40170> velocity=< 1,  4>\n",
    "position=< -9889,  50597> velocity=< 1, -5>\n",
    "position=<-30065, -50262> velocity=< 3,  5>\n",
    "position=< -9921,  20347> velocity=< 1, -2>\n",
    "position=<-30084,  10253> velocity=< 3, -1>\n",
    "position=< 10248, -20005> velocity=<-1,  2>\n",
    "position=< 20345,  -9915> velocity=<-2,  1>\n",
    "position=< -9882,  -9915> velocity=< 1,  1>\n",
    "position=<-30065,  50602> velocity=< 3, -5>\n",
    "position=< 40565,  50599> velocity=<-4, -5>\n",
    "position=< 20349, -50261> velocity=<-2,  5>\n",
    "position=<-19960, -19998> velocity=< 2,  2>\n",
    "position=< 10255, -50258> velocity=<-1,  5>\n",
    "position=< -9901, -50255> velocity=< 1,  5>\n",
    "position=<-50219,  -9916> velocity=< 5,  1>\n",
    "position=< 40524, -30086> velocity=<-4,  3>\n",
    "position=< 40550,  50600> velocity=<-4, -5>\n",
    "position=<-50233, -30091> velocity=< 5,  3>\n",
    "position=< 30440, -50257> velocity=<-3,  5>\n",
    "position=< -9920,  50605> velocity=< 1, -5>\n",
    "position=< 40507,  20339> velocity=<-4, -2>\n",
    "position=< 10264,  30426> velocity=<-1, -3>\n",
    "position=< 40556,  20341> velocity=<-4, -2>\n",
    "position=< -9875,  -9913> velocity=< 1,  1>\n",
    "position=<-30068, -50254> velocity=< 3,  5>\n",
    "position=< -9889,  30425> velocity=< 1, -3>\n",
    "position=<-20011, -40172> velocity=< 2,  4>\n",
    "position=<-50269,  10259> velocity=< 5, -1>\n",
    "position=<-40132,  30432> velocity=< 4, -3>\n",
    "position=< 40553,  -9913> velocity=<-4,  1>\n",
    "position=<-30073,  10256> velocity=< 3, -1>\n",
    "position=<-30092,  20340> velocity=< 3, -2>\n",
    "position=< 40542,  50606> velocity=<-4, -5>\n",
    "position=<-50224,  20347> velocity=< 5, -2>\n",
    "position=<-40143,  50606> velocity=< 4, -5>\n",
    "position=<-19971, -20000> velocity=< 2,  2>\n",
    "position=< 40553,  20340> velocity=<-4, -2>\n",
    "position=<-30081, -20001> velocity=< 3,  2>\n",
    "position=<-30037, -40172> velocity=< 3,  4>\n",
    "position=< -9865,  30428> velocity=< 1, -3>\n",
    "position=< 30479,  20340> velocity=<-3, -2>\n",
    "position=< 30429,  20343> velocity=<-3, -2>\n",
    "position=<-19971, -40172> velocity=< 2,  4>\n",
    "position=< 30431,  50601> velocity=<-3, -5>\n",
    "position=<-19982,  10256> velocity=< 2, -1>\n",
    "position=< 20344,  20343> velocity=<-2, -2>\"\"\""
   ]
  },
  {
   "cell_type": "code",
   "execution_count": 79,
   "metadata": {},
   "outputs": [],
   "source": [
    "import re\n",
    "regx = \"position=< *(-?\\d+), *(-?\\d+)> *velocity=< *(-?\\d+), *(-?\\d+)>\"\n",
    "#re.match( regx, data.splitlines()[1])\n",
    "data = [(int(m[1]), int(m[2]), int(m[3]), int(m[4])) for m in \n",
    "          [re.match(regx, m) for m in data.splitlines()]]"
   ]
  },
  {
   "cell_type": "code",
   "execution_count": 80,
   "metadata": {},
   "outputs": [],
   "source": [
    "%matplotlib inline\n",
    "import matplotlib.pyplot as plt\n",
    "from matplotlib import animation, rc\n",
    "from IPython.display import HTML"
   ]
  },
  {
   "cell_type": "code",
   "execution_count": 81,
   "metadata": {},
   "outputs": [],
   "source": [
    "step = 0"
   ]
  },
  {
   "cell_type": "code",
   "execution_count": 86,
   "metadata": {},
   "outputs": [
    {
     "data": {
      "image/png": "[encoded data removed]",
      "text/plain": [
       "<Figure size 432x288 with 1 Axes>"
      ]
     },
     "metadata": {
      "needs_background": "light"
     },
     "output_type": "display_data"
    }
   ],
   "source": [
    "start = 9750\n",
    "x = [i[0] for i in data]# <= -47500 and i[1] >= 47500]\n",
    "y = [i[1] for i in data]# <= -47500 and i[1] >= 47500]\n",
    "\n",
    "fig, ax = plt.subplots()\n",
    "ax.set_xlim( 130, 250 )\n",
    "ax.set_ylim( 200, 150 )\n",
    "\n",
    "scatter, = plt.plot( x, y, '.' )\n",
    "\n",
    "def init():\n",
    "    scatter.set_data(x,y)\n",
    "    return (scatter,)\n",
    "    \n",
    "def animate(step):\n",
    "    x = [i[0] + i[2] * (step + start) for i in data]\n",
    "    y = [i[1] + i[3] * (step + start) for i in data]\n",
    "    scatter.set_data(x,y)\n",
    "    return (scatter,)\n",
    "\n",
    "anim = animation.FuncAnimation( fig, animate, init_func=init, frames=500, interval=20, blit=True )\n"
   ]
  },
  {
   "cell_type": "code",
   "execution_count": 41,
   "metadata": {},
   "outputs": [],
   "source": [
    "HTML(anim.to_jshtml())"
   ]
  },
  {
   "cell_type": "markdown",
   "metadata": {},
   "source": [
    "# Day 10.2"
   ]
  },
  {
   "cell_type": "code",
   "execution_count": 85,
   "metadata": {},
   "outputs": [
    {
     "data": {
      "text/plain": [
       "10086"
      ]
     },
     "metadata": {},
     "output_type": "display_data"
    },
    {
     "data": {
      "text/plain": [
       "[<matplotlib.lines.Line2D at 0x112b21c50>]"
      ]
     },
     "execution_count": 85,
     "metadata": {},
     "output_type": "execute_result"
    },
    {
     "data": {
      "image/png": "[encoded data removed]",
      "text/plain": [
       "<Figure size 432x288 with 1 Axes>"
      ]
     },
     "metadata": {
      "needs_background": "light"
     },
     "output_type": "display_data"
    }
   ],
   "source": [
    "steps = 20_000\n",
    "step_xs = [(step, [i[0] + i[2] * step for i in data], [(i[1] + i[3] * step) for i in data]) for step in range(steps)]\n",
    "\n",
    "_, step, xs, ys = min( [(max( xs ) - min( xs ), step, xs, ys) for (step, xs, ys) in step_xs] )\n",
    "\n",
    "fig, ax = plt.subplots()\n",
    "ax.set_xlim( 130, 250 )\n",
    "ax.set_ylim( 200, 150 )\n",
    "display( step )\n",
    "plt.plot( xs, ys, '.' )"
   ]
  },
  {
   "cell_type": "code",
   "execution_count": 1,
   "metadata": {},
   "outputs": [],
   "source": [
    "import math\n",
    "\n",
    "def hundreds(n):\n",
    "    return math.floor( n / 100 ) - math.floor( n / 1000 ) * 10"
   ]
  },
  {
   "cell_type": "code",
   "execution_count": null,
   "metadata": {},
   "outputs": [],
   "source": [
    "import numpy as np\n",
    "serial_number = 9110\n",
    "\n",
    "def pl( serial, coords ):\n",
    "    x,y = coords\n",
    "    rackID = x + 10\n",
    "    pl = rackID\n",
    "    pl *= y\n",
    "    pl += serial\n",
    "    pl *= rackID\n",
    "    pl = hundreds(pl)\n",
    "    pl -= 5\n",
    "    return pl\n",
    "    \n",
    "\n",
    "grid = np.zeros((300, 300))\n",
    "\n",
    "power_levels = [[pl( serial_number, (x + 1,y + 1)) for x in range(300)] for y in range(300)]\n",
    "power_levels = np.array( power_levels )"
   ]
  },
  {
   "cell_type": "code",
   "execution_count": 42,
   "metadata": {},
   "outputs": [
    {
     "data": {
      "text/plain": [
       "(28, 21, 13)"
      ]
     },
     "execution_count": 42,
     "metadata": {},
     "output_type": "execute_result"
    }
   ],
   "source": [
    "max([(np.sum( power_levels[y:y+3,x:x+3] ), x + 1, y + 1) for x in range(297) for y in range(297)])"
   ]
  },
  {
   "cell_type": "markdown",
   "metadata": {},
   "source": [
    "# Day 11.2"
   ]
  },
  {
   "cell_type": "code",
   "execution_count": 43,
   "metadata": {},
   "outputs": [
    {
     "data": {
      "text/plain": [
       "(4, 299, 293, 1)"
      ]
     },
     "metadata": {},
     "output_type": "display_data"
    },
    {
     "data": {
      "text/plain": [
       "(16, 34, 279, 2)"
      ]
     },
     "metadata": {},
     "output_type": "display_data"
    },
    {
     "data": {
      "text/plain": [
       "(28, 21, 13, 3)"
      ]
     },
     "metadata": {},
     "output_type": "display_data"
    },
    {
     "data": {
      "text/plain": [
       "(41, 19, 14, 4)"
      ]
     },
     "metadata": {},
     "output_type": "display_data"
    },
    {
     "data": {
      "text/plain": [
       "(45, 243, 112, 5)"
      ]
     },
     "metadata": {},
     "output_type": "display_data"
    },
    {
     "data": {
      "text/plain": [
       "(52, 243, 111, 6)"
      ]
     },
     "metadata": {},
     "output_type": "display_data"
    },
    {
     "data": {
      "text/plain": [
       "(65, 243, 111, 7)"
      ]
     },
     "metadata": {},
     "output_type": "display_data"
    },
    {
     "data": {
      "text/plain": [
       "(65, 241, 109, 8)"
      ]
     },
     "metadata": {},
     "output_type": "display_data"
    },
    {
     "data": {
      "text/plain": [
       "(78, 241, 109, 9)"
      ]
     },
     "metadata": {},
     "output_type": "display_data"
    },
    {
     "data": {
      "text/plain": [
       "(61, 241, 108, 10)"
      ]
     },
     "metadata": {},
     "output_type": "display_data"
    },
    {
     "data": {
      "text/plain": [
       "(73, 235, 267, 11)"
      ]
     },
     "metadata": {},
     "output_type": "display_data"
    },
    {
     "data": {
      "text/plain": [
       "(67, 235, 266, 12)"
      ]
     },
     "metadata": {},
     "output_type": "display_data"
    },
    {
     "data": {
      "text/plain": [
       "(80, 235, 268, 13)"
      ]
     },
     "metadata": {},
     "output_type": "display_data"
    },
    {
     "data": {
      "text/plain": [
       "(73, 234, 267, 14)"
      ]
     },
     "metadata": {},
     "output_type": "display_data"
    },
    {
     "data": {
      "text/plain": [
       "(62, 234, 267, 15)"
      ]
     },
     "metadata": {},
     "output_type": "display_data"
    },
    {
     "data": {
      "text/plain": [
       "(50, 233, 265, 16)"
      ]
     },
     "metadata": {},
     "output_type": "display_data"
    },
    {
     "data": {
      "text/plain": [
       "(34, 232, 265, 17)"
      ]
     },
     "metadata": {},
     "output_type": "display_data"
    },
    {
     "data": {
      "text/plain": [
       "(23, 231, 263, 18)"
      ]
     },
     "metadata": {},
     "output_type": "display_data"
    },
    {
     "data": {
      "text/plain": [
       "(0, 228, 259, 19)"
      ]
     },
     "metadata": {},
     "output_type": "display_data"
    },
    {
     "data": {
      "text/plain": [
       "(-19, 228, 261, 20)"
      ]
     },
     "metadata": {},
     "output_type": "display_data"
    },
    {
     "data": {
      "text/plain": [
       "(-28, 217, 67, 21)"
      ]
     },
     "metadata": {},
     "output_type": "display_data"
    },
    {
     "data": {
      "text/plain": [
       "(-30, 218, 259, 22)"
      ]
     },
     "metadata": {},
     "output_type": "display_data"
    },
    {
     "data": {
      "text/plain": [
       "(-50, 217, 257, 23)"
      ]
     },
     "metadata": {},
     "output_type": "display_data"
    },
    {
     "data": {
      "text/plain": [
       "(-35, 218, 257, 24)"
      ]
     },
     "metadata": {},
     "output_type": "display_data"
    },
    {
     "data": {
      "text/plain": [
       "(-58, 218, 262, 25)"
      ]
     },
     "metadata": {},
     "output_type": "display_data"
    },
    {
     "data": {
      "text/plain": [
       "(-71, 217, 259, 26)"
      ]
     },
     "metadata": {},
     "output_type": "display_data"
    },
    {
     "data": {
      "text/plain": [
       "(-85, 216, 259, 27)"
      ]
     },
     "metadata": {},
     "output_type": "display_data"
    },
    {
     "data": {
      "text/plain": [
       "(-118, 215, 259, 28)"
      ]
     },
     "metadata": {},
     "output_type": "display_data"
    },
    {
     "data": {
      "text/plain": [
       "(-143, 214, 259, 29)"
      ]
     },
     "metadata": {},
     "output_type": "display_data"
    },
    {
     "data": {
      "text/plain": [
       "(-168, 213, 262, 30)"
      ]
     },
     "metadata": {},
     "output_type": "display_data"
    },
    {
     "data": {
      "text/plain": [
       "(-174, 212, 259, 31)"
      ]
     },
     "metadata": {},
     "output_type": "display_data"
    },
    {
     "data": {
      "text/plain": [
       "(-198, 211, 259, 32)"
      ]
     },
     "metadata": {},
     "output_type": "display_data"
    },
    {
     "data": {
      "text/plain": [
       "(-231, 209, 259, 33)"
      ]
     },
     "metadata": {},
     "output_type": "display_data"
    },
    {
     "data": {
      "text/plain": [
       "(-258, 209, 258, 34)"
      ]
     },
     "metadata": {},
     "output_type": "display_data"
    },
    {
     "data": {
      "text/plain": [
       "(-276, 208, 259, 35)"
      ]
     },
     "metadata": {},
     "output_type": "display_data"
    },
    {
     "data": {
      "text/plain": [
       "(-284, 207, 259, 36)"
      ]
     },
     "metadata": {},
     "output_type": "display_data"
    },
    {
     "data": {
      "text/plain": [
       "(-325, 206, 259, 37)"
      ]
     },
     "metadata": {},
     "output_type": "display_data"
    },
    {
     "data": {
      "text/plain": [
       "(-358, 205, 257, 38)"
      ]
     },
     "metadata": {},
     "output_type": "display_data"
    },
    {
     "data": {
      "text/plain": [
       "(-412, 204, 257, 39)"
      ]
     },
     "metadata": {},
     "output_type": "display_data"
    },
    {
     "data": {
      "text/plain": [
       "(-460, 203, 257, 40)"
      ]
     },
     "metadata": {},
     "output_type": "display_data"
    },
    {
     "data": {
      "text/plain": [
       "(-497, 202, 259, 41)"
      ]
     },
     "metadata": {},
     "output_type": "display_data"
    },
    {
     "data": {
      "text/plain": [
       "(-534, 201, 258, 42)"
      ]
     },
     "metadata": {},
     "output_type": "display_data"
    },
    {
     "data": {
      "text/plain": [
       "(-571, 200, 257, 43)"
      ]
     },
     "metadata": {},
     "output_type": "display_data"
    },
    {
     "data": {
      "text/plain": [
       "(-644, 199, 256, 44)"
      ]
     },
     "metadata": {},
     "output_type": "display_data"
    },
    {
     "data": {
      "text/plain": [
       "(-719, 198, 255, 45)"
      ]
     },
     "metadata": {},
     "output_type": "display_data"
    },
    {
     "data": {
      "text/plain": [
       "(-757, 241, 175, 46)"
      ]
     },
     "metadata": {},
     "output_type": "display_data"
    },
    {
     "data": {
      "text/plain": [
       "(-810, 241, 174, 47)"
      ]
     },
     "metadata": {},
     "output_type": "display_data"
    },
    {
     "data": {
      "text/plain": [
       "(-856, 241, 174, 48)"
      ]
     },
     "metadata": {},
     "output_type": "display_data"
    },
    {
     "data": {
      "text/plain": [
       "(-917, 194, 248, 49)"
      ]
     },
     "metadata": {},
     "output_type": "display_data"
    },
    {
     "data": {
      "text/plain": [
       "(-950, 193, 245, 50)"
      ]
     },
     "metadata": {},
     "output_type": "display_data"
    },
    {
     "data": {
      "text/plain": [
       "(-988, 192, 244, 51)"
      ]
     },
     "metadata": {},
     "output_type": "display_data"
    },
    {
     "data": {
      "text/plain": [
       "(-1016, 191, 244, 52)"
      ]
     },
     "metadata": {},
     "output_type": "display_data"
    },
    {
     "data": {
      "text/plain": [
       "(-1165, 237, 247, 53)"
      ]
     },
     "metadata": {},
     "output_type": "display_data"
    },
    {
     "data": {
      "text/plain": [
       "(-1232, 231, 149, 54)"
      ]
     },
     "metadata": {},
     "output_type": "display_data"
    },
    {
     "data": {
      "text/plain": [
       "(-1311, 234, 149, 55)"
      ]
     },
     "metadata": {},
     "output_type": "display_data"
    },
    {
     "data": {
      "text/plain": [
       "(-1367, 191, 234, 56)"
      ]
     },
     "metadata": {},
     "output_type": "display_data"
    },
    {
     "data": {
      "text/plain": [
       "(-1401, 191, 224, 57)"
      ]
     },
     "metadata": {},
     "output_type": "display_data"
    },
    {
     "data": {
      "text/plain": [
       "(-1459, 191, 223, 58)"
      ]
     },
     "metadata": {},
     "output_type": "display_data"
    },
    {
     "data": {
      "text/plain": [
       "(-1507, 191, 236, 59)"
      ]
     },
     "metadata": {},
     "output_type": "display_data"
    },
    {
     "data": {
      "text/plain": [
       "(-1564, 183, 236, 60)"
      ]
     },
     "metadata": {},
     "output_type": "display_data"
    },
    {
     "data": {
      "text/plain": [
       "(-1606, 182, 234, 61)"
      ]
     },
     "metadata": {},
     "output_type": "display_data"
    },
    {
     "data": {
      "text/plain": [
       "(-1665, 181, 234, 62)"
      ]
     },
     "metadata": {},
     "output_type": "display_data"
    },
    {
     "data": {
      "text/plain": [
       "(-1724, 180, 234, 63)"
      ]
     },
     "metadata": {},
     "output_type": "display_data"
    },
    {
     "data": {
      "text/plain": [
       "(-1763, 179, 236, 64)"
      ]
     },
     "metadata": {},
     "output_type": "display_data"
    },
    {
     "data": {
      "text/plain": [
       "(-1844, 178, 235, 65)"
      ]
     },
     "metadata": {},
     "output_type": "display_data"
    },
    {
     "data": {
      "text/plain": [
       "(-1895, 177, 234, 66)"
      ]
     },
     "metadata": {},
     "output_type": "display_data"
    },
    {
     "data": {
      "text/plain": [
       "(-2011, 176, 233, 67)"
      ]
     },
     "metadata": {},
     "output_type": "display_data"
    },
    {
     "data": {
      "text/plain": [
       "(-2119, 191, 232, 68)"
      ]
     },
     "metadata": {},
     "output_type": "display_data"
    },
    {
     "data": {
      "text/plain": [
       "(-2196, 191, 231, 69)"
      ]
     },
     "metadata": {},
     "output_type": "display_data"
    },
    {
     "data": {
      "text/plain": [
       "(-2262, 191, 225, 70)"
      ]
     },
     "metadata": {},
     "output_type": "display_data"
    },
    {
     "data": {
      "text/plain": [
       "(-2317, 191, 224, 71)"
      ]
     },
     "metadata": {},
     "output_type": "display_data"
    },
    {
     "data": {
      "text/plain": [
       "(-2415, 191, 224, 72)"
      ]
     },
     "metadata": {},
     "output_type": "display_data"
    },
    {
     "data": {
      "text/plain": [
       "(-2490, 191, 224, 73)"
      ]
     },
     "metadata": {},
     "output_type": "display_data"
    },
    {
     "data": {
      "text/plain": [
       "(-2584, 191, 226, 74)"
      ]
     },
     "metadata": {},
     "output_type": "display_data"
    },
    {
     "data": {
      "text/plain": [
       "(-2684, 191, 224, 75)"
      ]
     },
     "metadata": {},
     "output_type": "display_data"
    },
    {
     "data": {
      "text/plain": [
       "(-2748, 166, 224, 76)"
      ]
     },
     "metadata": {},
     "output_type": "display_data"
    },
    {
     "data": {
      "text/plain": [
       "(-2835, 191, 223, 77)"
      ]
     },
     "metadata": {},
     "output_type": "display_data"
    },
    {
     "data": {
      "text/plain": [
       "(-2938, 191, 222, 78)"
      ]
     },
     "metadata": {},
     "output_type": "display_data"
    },
    {
     "data": {
      "text/plain": [
       "(-3044, 191, 221, 79)"
      ]
     },
     "metadata": {},
     "output_type": "display_data"
    },
    {
     "data": {
      "text/plain": [
       "(-3150, 210, 211, 80)"
      ]
     },
     "metadata": {},
     "output_type": "display_data"
    },
    {
     "data": {
      "text/plain": [
       "(-3248, 209, 211, 81)"
      ]
     },
     "metadata": {},
     "output_type": "display_data"
    },
    {
     "data": {
      "text/plain": [
       "(-3294, 208, 209, 82)"
      ]
     },
     "metadata": {},
     "output_type": "display_data"
    },
    {
     "data": {
      "text/plain": [
       "(-3376, 207, 208, 83)"
      ]
     },
     "metadata": {},
     "output_type": "display_data"
    },
    {
     "data": {
      "text/plain": [
       "(-3496, 206, 208, 84)"
      ]
     },
     "metadata": {},
     "output_type": "display_data"
    },
    {
     "data": {
      "text/plain": [
       "(-3589, 191, 194, 85)"
      ]
     },
     "metadata": {},
     "output_type": "display_data"
    },
    {
     "data": {
      "text/plain": [
       "(-3672, 191, 194, 86)"
      ]
     },
     "metadata": {},
     "output_type": "display_data"
    },
    {
     "data": {
      "text/plain": [
       "(-3747, 191, 194, 87)"
      ]
     },
     "metadata": {},
     "output_type": "display_data"
    },
    {
     "data": {
      "text/plain": [
       "(-3856, 191, 185, 88)"
      ]
     },
     "metadata": {},
     "output_type": "display_data"
    },
    {
     "data": {
      "text/plain": [
       "(-3937, 191, 184, 89)"
      ]
     },
     "metadata": {},
     "output_type": "display_data"
    },
    {
     "data": {
      "text/plain": [
       "(-3995, 191, 185, 90)"
      ]
     },
     "metadata": {},
     "output_type": "display_data"
    },
    {
     "data": {
      "text/plain": [
       "(-4088, 191, 185, 91)"
      ]
     },
     "metadata": {},
     "output_type": "display_data"
    },
    {
     "data": {
      "text/plain": [
       "(-4149, 191, 185, 92)"
      ]
     },
     "metadata": {},
     "output_type": "display_data"
    },
    {
     "data": {
      "text/plain": [
       "(-4203, 191, 185, 93)"
      ]
     },
     "metadata": {},
     "output_type": "display_data"
    },
    {
     "data": {
      "text/plain": [
       "(-4306, 191, 185, 94)"
      ]
     },
     "metadata": {},
     "output_type": "display_data"
    },
    {
     "data": {
      "text/plain": [
       "(-4442, 191, 185, 95)"
      ]
     },
     "metadata": {},
     "output_type": "display_data"
    },
    {
     "data": {
      "text/plain": [
       "(-4525, 191, 185, 96)"
      ]
     },
     "metadata": {},
     "output_type": "display_data"
    },
    {
     "data": {
      "text/plain": [
       "(-4623, 191, 194, 97)"
      ]
     },
     "metadata": {},
     "output_type": "display_data"
    },
    {
     "data": {
      "text/plain": [
       "(-4739, 191, 194, 98)"
      ]
     },
     "metadata": {},
     "output_type": "display_data"
    },
    {
     "data": {
      "text/plain": [
       "(-4820, 191, 194, 99)"
      ]
     },
     "metadata": {},
     "output_type": "display_data"
    },
    {
     "data": {
      "text/plain": [
       "(-5210, 142, 197, 100)"
      ]
     },
     "metadata": {},
     "output_type": "display_data"
    },
    {
     "data": {
      "text/plain": [
       "(-5309, 157, 198, 101)"
      ]
     },
     "metadata": {},
     "output_type": "display_data"
    },
    {
     "data": {
      "text/plain": [
       "(-5405, 155, 198, 102)"
      ]
     },
     "metadata": {},
     "output_type": "display_data"
    },
    {
     "data": {
      "text/plain": [
       "(-5504, 155, 197, 103)"
      ]
     },
     "metadata": {},
     "output_type": "display_data"
    },
    {
     "data": {
      "text/plain": [
       "(-5644, 161, 185, 104)"
      ]
     },
     "metadata": {},
     "output_type": "display_data"
    },
    {
     "data": {
      "text/plain": [
       "(-5726, 159, 185, 105)"
      ]
     },
     "metadata": {},
     "output_type": "display_data"
    },
    {
     "data": {
      "text/plain": [
       "(-5788, 157, 185, 106)"
      ]
     },
     "metadata": {},
     "output_type": "display_data"
    },
    {
     "data": {
      "text/plain": [
       "(-5893, 157, 185, 107)"
      ]
     },
     "metadata": {},
     "output_type": "display_data"
    },
    {
     "data": {
      "text/plain": [
       "(-6037, 157, 183, 108)"
      ]
     },
     "metadata": {},
     "output_type": "display_data"
    },
    {
     "data": {
      "text/plain": [
       "(-6169, 155, 183, 109)"
      ]
     },
     "metadata": {},
     "output_type": "display_data"
    },
    {
     "data": {
      "text/plain": [
       "(-6245, 154, 185, 110)"
      ]
     },
     "metadata": {},
     "output_type": "display_data"
    },
    {
     "data": {
      "text/plain": [
       "(-6366, 152, 185, 111)"
      ]
     },
     "metadata": {},
     "output_type": "display_data"
    },
    {
     "data": {
      "text/plain": [
       "(-6471, 151, 185, 112)"
      ]
     },
     "metadata": {},
     "output_type": "display_data"
    },
    {
     "data": {
      "text/plain": [
       "(-6603, 151, 184, 113)"
      ]
     },
     "metadata": {},
     "output_type": "display_data"
    },
    {
     "data": {
      "text/plain": [
       "(-6695, 151, 185, 114)"
      ]
     },
     "metadata": {},
     "output_type": "display_data"
    },
    {
     "data": {
      "text/plain": [
       "(-6824, 175, 185, 115)"
      ]
     },
     "metadata": {},
     "output_type": "display_data"
    },
    {
     "data": {
      "text/plain": [
       "(-6969, 174, 184, 116)"
      ]
     },
     "metadata": {},
     "output_type": "display_data"
    },
    {
     "data": {
      "text/plain": [
       "(-7097, 173, 183, 117)"
      ]
     },
     "metadata": {},
     "output_type": "display_data"
    },
    {
     "data": {
      "text/plain": [
       "(-7273, 172, 182, 118)"
      ]
     },
     "metadata": {},
     "output_type": "display_data"
    },
    {
     "data": {
      "text/plain": [
       "(-7398, 171, 181, 119)"
      ]
     },
     "metadata": {},
     "output_type": "display_data"
    },
    {
     "data": {
      "text/plain": [
       "(-7571, 166, 180, 120)"
      ]
     },
     "metadata": {},
     "output_type": "display_data"
    },
    {
     "data": {
      "text/plain": [
       "(-7729, 169, 179, 121)"
      ]
     },
     "metadata": {},
     "output_type": "display_data"
    },
    {
     "data": {
      "text/plain": [
       "(-7852, 168, 177, 122)"
      ]
     },
     "metadata": {},
     "output_type": "display_data"
    },
    {
     "data": {
      "text/plain": [
       "(-7927, 167, 177, 123)"
      ]
     },
     "metadata": {},
     "output_type": "display_data"
    },
    {
     "data": {
      "text/plain": [
       "(-8027, 166, 176, 124)"
      ]
     },
     "metadata": {},
     "output_type": "display_data"
    },
    {
     "data": {
      "text/plain": [
       "(-8221, 165, 175, 125)"
      ]
     },
     "metadata": {},
     "output_type": "display_data"
    },
    {
     "data": {
      "text/plain": [
       "(-8355, 164, 174, 126)"
      ]
     },
     "metadata": {},
     "output_type": "display_data"
    },
    {
     "data": {
      "text/plain": [
       "(-8543, 163, 173, 127)"
      ]
     },
     "metadata": {},
     "output_type": "display_data"
    },
    {
     "data": {
      "text/plain": [
       "(-8699, 162, 172, 128)"
      ]
     },
     "metadata": {},
     "output_type": "display_data"
    },
    {
     "data": {
      "text/plain": [
       "(-8862, 161, 171, 129)"
      ]
     },
     "metadata": {},
     "output_type": "display_data"
    },
    {
     "data": {
      "text/plain": [
       "(-8999, 160, 170, 130)"
      ]
     },
     "metadata": {},
     "output_type": "display_data"
    },
    {
     "data": {
      "text/plain": [
       "(-9126, 159, 169, 131)"
      ]
     },
     "metadata": {},
     "output_type": "display_data"
    },
    {
     "data": {
      "text/plain": [
       "(-9275, 158, 168, 132)"
      ]
     },
     "metadata": {},
     "output_type": "display_data"
    },
    {
     "data": {
      "text/plain": [
       "(-9420, 157, 167, 133)"
      ]
     },
     "metadata": {},
     "output_type": "display_data"
    },
    {
     "data": {
      "text/plain": [
       "(-9569, 156, 166, 134)"
      ]
     },
     "metadata": {},
     "output_type": "display_data"
    },
    {
     "data": {
      "text/plain": [
       "(-9737, 155, 165, 135)"
      ]
     },
     "metadata": {},
     "output_type": "display_data"
    },
    {
     "data": {
      "text/plain": [
       "(-9900, 154, 164, 136)"
      ]
     },
     "metadata": {},
     "output_type": "display_data"
    },
    {
     "data": {
      "text/plain": [
       "(-10111, 153, 163, 137)"
      ]
     },
     "metadata": {},
     "output_type": "display_data"
    },
    {
     "data": {
      "text/plain": [
       "(-10256, 152, 162, 138)"
      ]
     },
     "metadata": {},
     "output_type": "display_data"
    },
    {
     "data": {
      "text/plain": [
       "(-10404, 151, 152, 139)"
      ]
     },
     "metadata": {},
     "output_type": "display_data"
    },
    {
     "data": {
      "text/plain": [
       "(-10546, 142, 151, 140)"
      ]
     },
     "metadata": {},
     "output_type": "display_data"
    },
    {
     "data": {
      "text/plain": [
       "(-10657, 142, 150, 141)"
      ]
     },
     "metadata": {},
     "output_type": "display_data"
    },
    {
     "data": {
      "text/plain": [
       "(-10794, 142, 149, 142)"
      ]
     },
     "metadata": {},
     "output_type": "display_data"
    },
    {
     "data": {
      "text/plain": [
       "(-10963, 142, 149, 143)"
      ]
     },
     "metadata": {},
     "output_type": "display_data"
    },
    {
     "data": {
      "text/plain": [
       "(-11136, 143, 148, 144)"
      ]
     },
     "metadata": {},
     "output_type": "display_data"
    },
    {
     "data": {
      "text/plain": [
       "(-11304, 142, 147, 145)"
      ]
     },
     "metadata": {},
     "output_type": "display_data"
    },
    {
     "data": {
      "text/plain": [
       "(-11454, 143, 145, 146)"
      ]
     },
     "metadata": {},
     "output_type": "display_data"
    },
    {
     "data": {
      "text/plain": [
       "(-11600, 143, 149, 147)"
      ]
     },
     "metadata": {},
     "output_type": "display_data"
    },
    {
     "data": {
      "text/plain": [
       "(-11744, 142, 151, 148)"
      ]
     },
     "metadata": {},
     "output_type": "display_data"
    },
    {
     "data": {
      "text/plain": [
       "(-11887, 141, 150, 149)"
      ]
     },
     "metadata": {},
     "output_type": "display_data"
    },
    {
     "data": {
      "text/plain": [
       "(-12098, 93, 150, 150)"
      ]
     },
     "metadata": {},
     "output_type": "display_data"
    },
    {
     "data": {
      "text/plain": [
       "(-12256, 92, 145, 151)"
      ]
     },
     "metadata": {},
     "output_type": "display_data"
    },
    {
     "data": {
      "text/plain": [
       "(-12355, 91, 145, 152)"
      ]
     },
     "metadata": {},
     "output_type": "display_data"
    },
    {
     "data": {
      "text/plain": [
       "(-12599, 91, 147, 153)"
      ]
     },
     "metadata": {},
     "output_type": "display_data"
    },
    {
     "data": {
      "text/plain": [
       "(-12734, 91, 145, 154)"
      ]
     },
     "metadata": {},
     "output_type": "display_data"
    },
    {
     "data": {
      "text/plain": [
       "(-12908, 91, 145, 155)"
      ]
     },
     "metadata": {},
     "output_type": "display_data"
    },
    {
     "data": {
      "text/plain": [
       "(-13085, 93, 144, 156)"
      ]
     },
     "metadata": {},
     "output_type": "display_data"
    },
    {
     "data": {
      "text/plain": [
       "(-13279, 91, 142, 157)"
      ]
     },
     "metadata": {},
     "output_type": "display_data"
    },
    {
     "data": {
      "text/plain": [
       "(-13451, 91, 142, 158)"
      ]
     },
     "metadata": {},
     "output_type": "display_data"
    },
    {
     "data": {
      "text/plain": [
       "(-13679, 91, 141, 159)"
      ]
     },
     "metadata": {},
     "output_type": "display_data"
    },
    {
     "data": {
      "text/plain": [
       "(-13901, 91, 135, 160)"
      ]
     },
     "metadata": {},
     "output_type": "display_data"
    },
    {
     "data": {
      "text/plain": [
       "(-14061, 101, 139, 161)"
      ]
     },
     "metadata": {},
     "output_type": "display_data"
    },
    {
     "data": {
      "text/plain": [
       "(-14198, 91, 135, 162)"
      ]
     },
     "metadata": {},
     "output_type": "display_data"
    },
    {
     "data": {
      "text/plain": [
       "(-14364, 91, 134, 163)"
      ]
     },
     "metadata": {},
     "output_type": "display_data"
    },
    {
     "data": {
      "text/plain": [
       "(-14500, 91, 135, 164)"
      ]
     },
     "metadata": {},
     "output_type": "display_data"
    },
    {
     "data": {
      "text/plain": [
       "(-14678, 91, 135, 165)"
      ]
     },
     "metadata": {},
     "output_type": "display_data"
    },
    {
     "data": {
      "text/plain": [
       "(-14863, 91, 134, 166)"
      ]
     },
     "metadata": {},
     "output_type": "display_data"
    },
    {
     "data": {
      "text/plain": [
       "(-15026, 91, 132, 167)"
      ]
     },
     "metadata": {},
     "output_type": "display_data"
    },
    {
     "data": {
      "text/plain": [
       "(-15221, 91, 132, 168)"
      ]
     },
     "metadata": {},
     "output_type": "display_data"
    },
    {
     "data": {
      "text/plain": [
       "(-15478, 91, 131, 169)"
      ]
     },
     "metadata": {},
     "output_type": "display_data"
    },
    {
     "data": {
      "text/plain": [
       "(-15695, 91, 129, 170)"
      ]
     },
     "metadata": {},
     "output_type": "display_data"
    },
    {
     "data": {
      "text/plain": [
       "(-15858, 91, 128, 171)"
      ]
     },
     "metadata": {},
     "output_type": "display_data"
    },
    {
     "data": {
      "text/plain": [
       "(-16038, 91, 128, 172)"
      ]
     },
     "metadata": {},
     "output_type": "display_data"
    },
    {
     "data": {
      "text/plain": [
       "(-16225, 91, 126, 173)"
      ]
     },
     "metadata": {},
     "output_type": "display_data"
    },
    {
     "data": {
      "text/plain": [
       "(-16393, 91, 125, 174)"
      ]
     },
     "metadata": {},
     "output_type": "display_data"
    },
    {
     "data": {
      "text/plain": [
       "(-16669, 91, 125, 175)"
      ]
     },
     "metadata": {},
     "output_type": "display_data"
    },
    {
     "data": {
      "text/plain": [
       "(-16893, 92, 124, 176)"
      ]
     },
     "metadata": {},
     "output_type": "display_data"
    },
    {
     "data": {
      "text/plain": [
       "(-17070, 91, 114, 177)"
      ]
     },
     "metadata": {},
     "output_type": "display_data"
    },
    {
     "data": {
      "text/plain": [
       "(-17242, 91, 114, 178)"
      ]
     },
     "metadata": {},
     "output_type": "display_data"
    },
    {
     "data": {
      "text/plain": [
       "(-17466, 91, 114, 179)"
      ]
     },
     "metadata": {},
     "output_type": "display_data"
    },
    {
     "data": {
      "text/plain": [
       "(-17747, 95, 114, 180)"
      ]
     },
     "metadata": {},
     "output_type": "display_data"
    },
    {
     "data": {
      "text/plain": [
       "(-17923, 91, 114, 181)"
      ]
     },
     "metadata": {},
     "output_type": "display_data"
    },
    {
     "data": {
      "text/plain": [
       "(-18116, 91, 114, 182)"
      ]
     },
     "metadata": {},
     "output_type": "display_data"
    },
    {
     "data": {
      "text/plain": [
       "(-18279, 91, 116, 183)"
      ]
     },
     "metadata": {},
     "output_type": "display_data"
    },
    {
     "data": {
      "text/plain": [
       "(-18470, 91, 116, 184)"
      ]
     },
     "metadata": {},
     "output_type": "display_data"
    },
    {
     "data": {
      "text/plain": [
       "(-18630, 91, 114, 185)"
      ]
     },
     "metadata": {},
     "output_type": "display_data"
    },
    {
     "data": {
      "text/plain": [
       "(-18826, 91, 114, 186)"
      ]
     },
     "metadata": {},
     "output_type": "display_data"
    },
    {
     "data": {
      "text/plain": [
       "(-19072, 91, 113, 187)"
      ]
     },
     "metadata": {},
     "output_type": "display_data"
    },
    {
     "data": {
      "text/plain": [
       "(-19300, 92, 112, 188)"
      ]
     },
     "metadata": {},
     "output_type": "display_data"
    },
    {
     "data": {
      "text/plain": [
       "(-19519, 91, 111, 189)"
      ]
     },
     "metadata": {},
     "output_type": "display_data"
    },
    {
     "data": {
      "text/plain": [
       "(-19740, 91, 110, 190)"
      ]
     },
     "metadata": {},
     "output_type": "display_data"
    },
    {
     "data": {
      "text/plain": [
       "(-19940, 95, 109, 191)"
      ]
     },
     "metadata": {},
     "output_type": "display_data"
    },
    {
     "data": {
      "text/plain": [
       "(-20166, 91, 107, 192)"
      ]
     },
     "metadata": {},
     "output_type": "display_data"
    },
    {
     "data": {
      "text/plain": [
       "(-20356, 93, 107, 193)"
      ]
     },
     "metadata": {},
     "output_type": "display_data"
    },
    {
     "data": {
      "text/plain": [
       "(-20568, 92, 106, 194)"
      ]
     },
     "metadata": {},
     "output_type": "display_data"
    },
    {
     "data": {
      "text/plain": [
       "(-20800, 91, 104, 195)"
      ]
     },
     "metadata": {},
     "output_type": "display_data"
    },
    {
     "data": {
      "text/plain": [
       "(-21002, 92, 104, 196)"
      ]
     },
     "metadata": {},
     "output_type": "display_data"
    },
    {
     "data": {
      "text/plain": [
       "(-21271, 91, 103, 197)"
      ]
     },
     "metadata": {},
     "output_type": "display_data"
    },
    {
     "data": {
      "text/plain": [
       "(-21476, 91, 102, 198)"
      ]
     },
     "metadata": {},
     "output_type": "display_data"
    },
    {
     "data": {
      "text/plain": [
       "(-21687, 91, 100, 199)"
      ]
     },
     "metadata": {},
     "output_type": "display_data"
    },
    {
     "data": {
      "text/plain": [
       "(-22780, 74, 99, 200)"
      ]
     },
     "metadata": {},
     "output_type": "display_data"
    },
    {
     "data": {
      "text/plain": [
       "(-22945, 53, 98, 201)"
      ]
     },
     "metadata": {},
     "output_type": "display_data"
    },
    {
     "data": {
      "text/plain": [
       "(-23158, 52, 98, 202)"
      ]
     },
     "metadata": {},
     "output_type": "display_data"
    },
    {
     "data": {
      "text/plain": [
       "(-23378, 51, 96, 203)"
      ]
     },
     "metadata": {},
     "output_type": "display_data"
    },
    {
     "data": {
      "text/plain": [
       "(-23597, 53, 96, 204)"
      ]
     },
     "metadata": {},
     "output_type": "display_data"
    },
    {
     "data": {
      "text/plain": [
       "(-23895, 52, 95, 205)"
      ]
     },
     "metadata": {},
     "output_type": "display_data"
    },
    {
     "data": {
      "text/plain": [
       "(-24151, 79, 85, 206)"
      ]
     },
     "metadata": {},
     "output_type": "display_data"
    },
    {
     "data": {
      "text/plain": [
       "(-24365, 79, 85, 207)"
      ]
     },
     "metadata": {},
     "output_type": "display_data"
    },
    {
     "data": {
      "text/plain": [
       "(-24629, 79, 84, 208)"
      ]
     },
     "metadata": {},
     "output_type": "display_data"
    },
    {
     "data": {
      "text/plain": [
       "(-24872, 53, 91, 209)"
      ]
     },
     "metadata": {},
     "output_type": "display_data"
    },
    {
     "data": {
      "text/plain": [
       "(-25098, 79, 85, 210)"
      ]
     },
     "metadata": {},
     "output_type": "display_data"
    },
    {
     "data": {
      "text/plain": [
       "(-25308, 79, 88, 211)"
      ]
     },
     "metadata": {},
     "output_type": "display_data"
    },
    {
     "data": {
      "text/plain": [
       "(-25489, 78, 87, 212)"
      ]
     },
     "metadata": {},
     "output_type": "display_data"
    },
    {
     "data": {
      "text/plain": [
       "(-25725, 77, 87, 213)"
      ]
     },
     "metadata": {},
     "output_type": "display_data"
    },
    {
     "data": {
      "text/plain": [
       "(-25892, 76, 85, 214)"
      ]
     },
     "metadata": {},
     "output_type": "display_data"
    },
    {
     "data": {
      "text/plain": [
       "(-26110, 75, 85, 215)"
      ]
     },
     "metadata": {},
     "output_type": "display_data"
    },
    {
     "data": {
      "text/plain": [
       "(-26375, 74, 76, 216)"
      ]
     },
     "metadata": {},
     "output_type": "display_data"
    },
    {
     "data": {
      "text/plain": [
       "(-26640, 73, 75, 217)"
      ]
     },
     "metadata": {},
     "output_type": "display_data"
    },
    {
     "data": {
      "text/plain": [
       "(-26883, 72, 74, 218)"
      ]
     },
     "metadata": {},
     "output_type": "display_data"
    },
    {
     "data": {
      "text/plain": [
       "(-27133, 71, 73, 219)"
      ]
     },
     "metadata": {},
     "output_type": "display_data"
    },
    {
     "data": {
      "text/plain": [
       "(-27489, 70, 76, 220)"
      ]
     },
     "metadata": {},
     "output_type": "display_data"
    },
    {
     "data": {
      "text/plain": [
       "(-27677, 69, 76, 221)"
      ]
     },
     "metadata": {},
     "output_type": "display_data"
    },
    {
     "data": {
      "text/plain": [
       "(-27909, 68, 75, 222)"
      ]
     },
     "metadata": {},
     "output_type": "display_data"
    },
    {
     "data": {
      "text/plain": [
       "(-28105, 67, 76, 223)"
      ]
     },
     "metadata": {},
     "output_type": "display_data"
    },
    {
     "data": {
      "text/plain": [
       "(-28323, 66, 76, 224)"
      ]
     },
     "metadata": {},
     "output_type": "display_data"
    },
    {
     "data": {
      "text/plain": [
       "(-28667, 65, 75, 225)"
      ]
     },
     "metadata": {},
     "output_type": "display_data"
    },
    {
     "data": {
      "text/plain": [
       "(-28922, 60, 74, 226)"
      ]
     },
     "metadata": {},
     "output_type": "display_data"
    },
    {
     "data": {
      "text/plain": [
       "(-29182, 59, 73, 227)"
      ]
     },
     "metadata": {},
     "output_type": "display_data"
    },
    {
     "data": {
      "text/plain": [
       "(-29493, 62, 72, 228)"
      ]
     },
     "metadata": {},
     "output_type": "display_data"
    },
    {
     "data": {
      "text/plain": [
       "(-29794, 61, 71, 229)"
      ]
     },
     "metadata": {},
     "output_type": "display_data"
    },
    {
     "data": {
      "text/plain": [
       "(-30066, 60, 70, 230)"
      ]
     },
     "metadata": {},
     "output_type": "display_data"
    },
    {
     "data": {
      "text/plain": [
       "(-30308, 55, 68, 231)"
      ]
     },
     "metadata": {},
     "output_type": "display_data"
    },
    {
     "data": {
      "text/plain": [
       "(-30536, 58, 67, 232)"
      ]
     },
     "metadata": {},
     "output_type": "display_data"
    },
    {
     "data": {
      "text/plain": [
       "(-30779, 53, 67, 233)"
      ]
     },
     "metadata": {},
     "output_type": "display_data"
    },
    {
     "data": {
      "text/plain": [
       "(-31030, 56, 66, 234)"
      ]
     },
     "metadata": {},
     "output_type": "display_data"
    },
    {
     "data": {
      "text/plain": [
       "(-31358, 51, 64, 235)"
      ]
     },
     "metadata": {},
     "output_type": "display_data"
    },
    {
     "data": {
      "text/plain": [
       "(-31603, 51, 64, 236)"
      ]
     },
     "metadata": {},
     "output_type": "display_data"
    },
    {
     "data": {
      "text/plain": [
       "(-31895, 53, 63, 237)"
      ]
     },
     "metadata": {},
     "output_type": "display_data"
    },
    {
     "data": {
      "text/plain": [
       "(-32189, 52, 62, 238)"
      ]
     },
     "metadata": {},
     "output_type": "display_data"
    },
    {
     "data": {
      "text/plain": [
       "(-32405, 51, 60, 239)"
      ]
     },
     "metadata": {},
     "output_type": "display_data"
    },
    {
     "data": {
      "text/plain": [
       "(-32770, 50, 60, 240)"
      ]
     },
     "metadata": {},
     "output_type": "display_data"
    },
    {
     "data": {
      "text/plain": [
       "(-33017, 49, 58, 241)"
      ]
     },
     "metadata": {},
     "output_type": "display_data"
    },
    {
     "data": {
      "text/plain": [
       "(-33247, 48, 57, 242)"
      ]
     },
     "metadata": {},
     "output_type": "display_data"
    },
    {
     "data": {
      "text/plain": [
       "(-33509, 47, 57, 243)"
      ]
     },
     "metadata": {},
     "output_type": "display_data"
    },
    {
     "data": {
      "text/plain": [
       "(-33796, 46, 56, 244)"
      ]
     },
     "metadata": {},
     "output_type": "display_data"
    },
    {
     "data": {
      "text/plain": [
       "(-34040, 45, 54, 245)"
      ]
     },
     "metadata": {},
     "output_type": "display_data"
    },
    {
     "data": {
      "text/plain": [
       "(-34297, 44, 54, 246)"
      ]
     },
     "metadata": {},
     "output_type": "display_data"
    },
    {
     "data": {
      "text/plain": [
       "(-34611, 43, 53, 247)"
      ]
     },
     "metadata": {},
     "output_type": "display_data"
    },
    {
     "data": {
      "text/plain": [
       "(-34927, 42, 52, 248)"
      ]
     },
     "metadata": {},
     "output_type": "display_data"
    },
    {
     "data": {
      "text/plain": [
       "(-35175, 41, 50, 249)"
      ]
     },
     "metadata": {},
     "output_type": "display_data"
    },
    {
     "ename": "KeyboardInterrupt",
     "evalue": "",
     "output_type": "error",
     "traceback": [
      "\u001b[0;31m---------------------------------------------------------------------------\u001b[0m",
      "\u001b[0;31mKeyboardInterrupt\u001b[0m                         Traceback (most recent call last)",
      "\u001b[0;32m<ipython-input-43-2073a93cf767>\u001b[0m in \u001b[0;36m<module>\u001b[0;34m\u001b[0m\n\u001b[1;32m      1\u001b[0m \u001b[0mlargest\u001b[0m \u001b[0;34m=\u001b[0m \u001b[0;34m(\u001b[0m\u001b[0;36m0\u001b[0m\u001b[0;34m,\u001b[0m\u001b[0;36m0\u001b[0m\u001b[0;34m,\u001b[0m\u001b[0;36m0\u001b[0m\u001b[0;34m,\u001b[0m\u001b[0;36m0\u001b[0m\u001b[0;34m)\u001b[0m\u001b[0;34m\u001b[0m\u001b[0m\n\u001b[1;32m      2\u001b[0m \u001b[0;32mfor\u001b[0m \u001b[0mn\u001b[0m \u001b[0;32min\u001b[0m \u001b[0mrange\u001b[0m\u001b[0;34m(\u001b[0m \u001b[0;36m1\u001b[0m\u001b[0;34m,\u001b[0m \u001b[0;36m301\u001b[0m \u001b[0;34m)\u001b[0m\u001b[0;34m:\u001b[0m\u001b[0;34m\u001b[0m\u001b[0m\n\u001b[0;32m----> 3\u001b[0;31m     \u001b[0mres\u001b[0m \u001b[0;34m=\u001b[0m \u001b[0mmax\u001b[0m\u001b[0;34m(\u001b[0m\u001b[0;34m[\u001b[0m\u001b[0;34m(\u001b[0m\u001b[0mnp\u001b[0m\u001b[0;34m.\u001b[0m\u001b[0msum\u001b[0m\u001b[0;34m(\u001b[0m \u001b[0mpower_levels\u001b[0m\u001b[0;34m[\u001b[0m\u001b[0my\u001b[0m\u001b[0;34m:\u001b[0m\u001b[0my\u001b[0m\u001b[0;34m+\u001b[0m\u001b[0mn\u001b[0m\u001b[0;34m,\u001b[0m\u001b[0mx\u001b[0m\u001b[0;34m:\u001b[0m\u001b[0mx\u001b[0m\u001b[0;34m+\u001b[0m\u001b[0mn\u001b[0m\u001b[0;34m]\u001b[0m \u001b[0;34m)\u001b[0m\u001b[0;34m,\u001b[0m \u001b[0mx\u001b[0m \u001b[0;34m+\u001b[0m \u001b[0;36m1\u001b[0m\u001b[0;34m,\u001b[0m \u001b[0my\u001b[0m \u001b[0;34m+\u001b[0m \u001b[0;36m1\u001b[0m\u001b[0;34m,\u001b[0m \u001b[0mn\u001b[0m\u001b[0;34m)\u001b[0m \u001b[0;32mfor\u001b[0m \u001b[0mx\u001b[0m \u001b[0;32min\u001b[0m \u001b[0mrange\u001b[0m\u001b[0;34m(\u001b[0m\u001b[0;36m300\u001b[0m\u001b[0;34m-\u001b[0m\u001b[0mn\u001b[0m\u001b[0;34m)\u001b[0m \u001b[0;32mfor\u001b[0m \u001b[0my\u001b[0m \u001b[0;32min\u001b[0m \u001b[0mrange\u001b[0m\u001b[0;34m(\u001b[0m\u001b[0;36m300\u001b[0m\u001b[0;34m-\u001b[0m\u001b[0mn\u001b[0m\u001b[0;34m)\u001b[0m\u001b[0;34m]\u001b[0m \u001b[0;34m)\u001b[0m\u001b[0;34m\u001b[0m\u001b[0m\n\u001b[0m\u001b[1;32m      4\u001b[0m     \u001b[0mdisplay\u001b[0m\u001b[0;34m(\u001b[0m \u001b[0mres\u001b[0m \u001b[0;34m)\u001b[0m\u001b[0;34m\u001b[0m\u001b[0m\n\u001b[1;32m      5\u001b[0m     \u001b[0;32mif\u001b[0m \u001b[0mres\u001b[0m\u001b[0;34m[\u001b[0m\u001b[0;36m0\u001b[0m\u001b[0;34m]\u001b[0m \u001b[0;34m>\u001b[0m \u001b[0mlargest\u001b[0m\u001b[0;34m[\u001b[0m\u001b[0;36m0\u001b[0m\u001b[0;34m]\u001b[0m\u001b[0;34m:\u001b[0m\u001b[0;34m\u001b[0m\u001b[0m\n",
      "\u001b[0;32m<ipython-input-43-2073a93cf767>\u001b[0m in \u001b[0;36m<listcomp>\u001b[0;34m(.0)\u001b[0m\n\u001b[1;32m      1\u001b[0m \u001b[0mlargest\u001b[0m \u001b[0;34m=\u001b[0m \u001b[0;34m(\u001b[0m\u001b[0;36m0\u001b[0m\u001b[0;34m,\u001b[0m\u001b[0;36m0\u001b[0m\u001b[0;34m,\u001b[0m\u001b[0;36m0\u001b[0m\u001b[0;34m,\u001b[0m\u001b[0;36m0\u001b[0m\u001b[0;34m)\u001b[0m\u001b[0;34m\u001b[0m\u001b[0m\n\u001b[1;32m      2\u001b[0m \u001b[0;32mfor\u001b[0m \u001b[0mn\u001b[0m \u001b[0;32min\u001b[0m \u001b[0mrange\u001b[0m\u001b[0;34m(\u001b[0m \u001b[0;36m1\u001b[0m\u001b[0;34m,\u001b[0m \u001b[0;36m301\u001b[0m \u001b[0;34m)\u001b[0m\u001b[0;34m:\u001b[0m\u001b[0;34m\u001b[0m\u001b[0m\n\u001b[0;32m----> 3\u001b[0;31m     \u001b[0mres\u001b[0m \u001b[0;34m=\u001b[0m \u001b[0mmax\u001b[0m\u001b[0;34m(\u001b[0m\u001b[0;34m[\u001b[0m\u001b[0;34m(\u001b[0m\u001b[0mnp\u001b[0m\u001b[0;34m.\u001b[0m\u001b[0msum\u001b[0m\u001b[0;34m(\u001b[0m \u001b[0mpower_levels\u001b[0m\u001b[0;34m[\u001b[0m\u001b[0my\u001b[0m\u001b[0;34m:\u001b[0m\u001b[0my\u001b[0m\u001b[0;34m+\u001b[0m\u001b[0mn\u001b[0m\u001b[0;34m,\u001b[0m\u001b[0mx\u001b[0m\u001b[0;34m:\u001b[0m\u001b[0mx\u001b[0m\u001b[0;34m+\u001b[0m\u001b[0mn\u001b[0m\u001b[0;34m]\u001b[0m \u001b[0;34m)\u001b[0m\u001b[0;34m,\u001b[0m \u001b[0mx\u001b[0m \u001b[0;34m+\u001b[0m \u001b[0;36m1\u001b[0m\u001b[0;34m,\u001b[0m \u001b[0my\u001b[0m \u001b[0;34m+\u001b[0m \u001b[0;36m1\u001b[0m\u001b[0;34m,\u001b[0m \u001b[0mn\u001b[0m\u001b[0;34m)\u001b[0m \u001b[0;32mfor\u001b[0m \u001b[0mx\u001b[0m \u001b[0;32min\u001b[0m \u001b[0mrange\u001b[0m\u001b[0;34m(\u001b[0m\u001b[0;36m300\u001b[0m\u001b[0;34m-\u001b[0m\u001b[0mn\u001b[0m\u001b[0;34m)\u001b[0m \u001b[0;32mfor\u001b[0m \u001b[0my\u001b[0m \u001b[0;32min\u001b[0m \u001b[0mrange\u001b[0m\u001b[0;34m(\u001b[0m\u001b[0;36m300\u001b[0m\u001b[0;34m-\u001b[0m\u001b[0mn\u001b[0m\u001b[0;34m)\u001b[0m\u001b[0;34m]\u001b[0m \u001b[0;34m)\u001b[0m\u001b[0;34m\u001b[0m\u001b[0m\n\u001b[0m\u001b[1;32m      4\u001b[0m     \u001b[0mdisplay\u001b[0m\u001b[0;34m(\u001b[0m \u001b[0mres\u001b[0m \u001b[0;34m)\u001b[0m\u001b[0;34m\u001b[0m\u001b[0m\n\u001b[1;32m      5\u001b[0m     \u001b[0;32mif\u001b[0m \u001b[0mres\u001b[0m\u001b[0;34m[\u001b[0m\u001b[0;36m0\u001b[0m\u001b[0;34m]\u001b[0m \u001b[0;34m>\u001b[0m \u001b[0mlargest\u001b[0m\u001b[0;34m[\u001b[0m\u001b[0;36m0\u001b[0m\u001b[0;34m]\u001b[0m\u001b[0;34m:\u001b[0m\u001b[0;34m\u001b[0m\u001b[0m\n",
      "\u001b[0;32m~/anaconda3/lib/python3.6/site-packages/numpy/core/fromnumeric.py\u001b[0m in \u001b[0;36msum\u001b[0;34m(a, axis, dtype, out, keepdims, initial)\u001b[0m\n\u001b[1;32m   1928\u001b[0m \u001b[0;34m\u001b[0m\u001b[0m\n\u001b[1;32m   1929\u001b[0m     return _wrapreduction(a, np.add, 'sum', axis, dtype, out, keepdims=keepdims,\n\u001b[0;32m-> 1930\u001b[0;31m                           initial=initial)\n\u001b[0m\u001b[1;32m   1931\u001b[0m \u001b[0;34m\u001b[0m\u001b[0m\n\u001b[1;32m   1932\u001b[0m \u001b[0;34m\u001b[0m\u001b[0m\n",
      "\u001b[0;32m~/anaconda3/lib/python3.6/site-packages/numpy/core/fromnumeric.py\u001b[0m in \u001b[0;36m_wrapreduction\u001b[0;34m(obj, ufunc, method, axis, dtype, out, **kwargs)\u001b[0m\n\u001b[1;32m     81\u001b[0m                 \u001b[0;32mreturn\u001b[0m \u001b[0mreduction\u001b[0m\u001b[0;34m(\u001b[0m\u001b[0maxis\u001b[0m\u001b[0;34m=\u001b[0m\u001b[0maxis\u001b[0m\u001b[0;34m,\u001b[0m \u001b[0mout\u001b[0m\u001b[0;34m=\u001b[0m\u001b[0mout\u001b[0m\u001b[0;34m,\u001b[0m \u001b[0;34m**\u001b[0m\u001b[0mpasskwargs\u001b[0m\u001b[0;34m)\u001b[0m\u001b[0;34m\u001b[0m\u001b[0m\n\u001b[1;32m     82\u001b[0m \u001b[0;34m\u001b[0m\u001b[0m\n\u001b[0;32m---> 83\u001b[0;31m     \u001b[0;32mreturn\u001b[0m \u001b[0mufunc\u001b[0m\u001b[0;34m.\u001b[0m\u001b[0mreduce\u001b[0m\u001b[0;34m(\u001b[0m\u001b[0mobj\u001b[0m\u001b[0;34m,\u001b[0m \u001b[0maxis\u001b[0m\u001b[0;34m,\u001b[0m \u001b[0mdtype\u001b[0m\u001b[0;34m,\u001b[0m \u001b[0mout\u001b[0m\u001b[0;34m,\u001b[0m \u001b[0;34m**\u001b[0m\u001b[0mpasskwargs\u001b[0m\u001b[0;34m)\u001b[0m\u001b[0;34m\u001b[0m\u001b[0m\n\u001b[0m\u001b[1;32m     84\u001b[0m \u001b[0;34m\u001b[0m\u001b[0m\n\u001b[1;32m     85\u001b[0m \u001b[0;34m\u001b[0m\u001b[0m\n",
      "\u001b[0;31mKeyboardInterrupt\u001b[0m: "
     ]
    }
   ],
   "source": [
    "# Not terribly fast\n",
    "largest = (0,0,0,0)\n",
    "for n in range( 1, 301 ):\n",
    "    res = max([(np.sum( power_levels[y:y+n,x:x+n] ), x + 1, y + 1, n) for x in range(300-n) for y in range(300-n)] )\n",
    "    display( res )\n",
    "    if res[0] > largest[0]:\n",
    "        largest = res\n",
    "\n",
    "display( f\"largest: {largest}\")"
   ]
  },
  {
   "cell_type": "markdown",
   "metadata": {},
   "source": [
    "# Day 12.1"
   ]
  },
  {
   "cell_type": "code",
   "execution_count": 16,
   "metadata": {},
   "outputs": [],
   "source": [
    "init=\"#.##.###.#.##...##..#..##....#.#.#.#.##....##..#..####..###.####.##.#..#...#..######.#.....#..##...#\"\n",
    "\n",
    "rule_strings = \"\"\".#.#. => .\n",
    "...#. => #\n",
    "..##. => .\n",
    "....# => .\n",
    "##.#. => #\n",
    ".##.# => #\n",
    ".#### => #\n",
    "#.#.# => #\n",
    "#..#. => #\n",
    "##..# => .\n",
    "##### => .\n",
    "...## => .\n",
    ".#... => .\n",
    "###.. => #\n",
    "#..## => .\n",
    "#...# => .\n",
    ".#..# => #\n",
    ".#.## => .\n",
    "#.#.. => #\n",
    "..... => .\n",
    "####. => .\n",
    "##.## => #\n",
    "..### => #\n",
    "#.... => .\n",
    "###.# => .\n",
    ".##.. => #\n",
    "#.### => #\n",
    "..#.# => .\n",
    ".###. => #\n",
    "##... => #\n",
    "#.##. => #\n",
    "..#.. => #\"\"\"\n"
   ]
  },
  {
   "cell_type": "code",
   "execution_count": 76,
   "metadata": {},
   "outputs": [
    {
     "data": {
      "text/plain": [
       "31655"
      ]
     },
     "metadata": {},
     "output_type": "display_data"
    }
   ],
   "source": [
    "import re\n",
    "rules = [(re.sub( \" =>.*\", \"\", r), re.sub( \".* => \", \"\", r)) for r in rule_strings.splitlines()]\n",
    "\n",
    "cur_gen = init\n",
    "next_gen = \"\"\n",
    "index_offset = 0\n",
    "scores = []\n",
    "\n",
    "for gen in range( 500 ):#50_000_000_000 ):\n",
    "    \n",
    "    len_cur_gen = len( cur_gen )\n",
    "    cur_gen = cur_gen.ljust( len_cur_gen + 4, '.' ).rjust( len_cur_gen + 8, '.' )\n",
    "\n",
    "    index_offset -= 2\n",
    "\n",
    "    for i in range( len( cur_gen ) ):\n",
    "        substr = cur_gen[i:i+5]\n",
    "        for (rule,res) in rules:\n",
    "            if substr == rule:\n",
    "                next_gen += res\n",
    "                next\n",
    "        \n",
    "    cur_gen = next_gen\n",
    "    next_gen = \"\"\n",
    "    scores.append( sum( [i+index_offset for (i,l) in enumerate(cur_gen) if l == '#']) )\n",
    "\n",
    "display( sum( [i+index_offset for (i,l) in enumerate(cur_gen) if l == '#']) )"
   ]
  },
  {
   "cell_type": "markdown",
   "metadata": {},
   "source": [
    "# Day 12.2"
   ]
  },
  {
   "cell_type": "code",
   "execution_count": 77,
   "metadata": {},
   "outputs": [
    {
     "data": {
      "text/plain": [
       "(2823, 1, 37)"
      ]
     },
     "metadata": {},
     "output_type": "display_data"
    },
    {
     "data": {
      "text/plain": [
       "(2860, 2, -120)"
      ]
     },
     "metadata": {},
     "output_type": "display_data"
    },
    {
     "data": {
      "text/plain": [
       "(2740, 3, -71)"
      ]
     },
     "metadata": {},
     "output_type": "display_data"
    },
    {
     "data": {
      "text/plain": [
       "(2669, 4, 217)"
      ]
     },
     "metadata": {},
     "output_type": "display_data"
    },
    {
     "data": {
      "text/plain": [
       "(2886, 5, 129)"
      ]
     },
     "metadata": {},
     "output_type": "display_data"
    },
    {
     "data": {
      "text/plain": [
       "(3015, 6, -12)"
      ]
     },
     "metadata": {},
     "output_type": "display_data"
    },
    {
     "data": {
      "text/plain": [
       "(3003, 7, 8)"
      ]
     },
     "metadata": {},
     "output_type": "display_data"
    },
    {
     "data": {
      "text/plain": [
       "(3011, 8, 0)"
      ]
     },
     "metadata": {},
     "output_type": "display_data"
    },
    {
     "data": {
      "text/plain": [
       "(3011, 9, -253)"
      ]
     },
     "metadata": {},
     "output_type": "display_data"
    },
    {
     "data": {
      "text/plain": [
       "(2758, 10, 242)"
      ]
     },
     "metadata": {},
     "output_type": "display_data"
    },
    {
     "data": {
      "text/plain": [
       "(3000, 11, 348)"
      ]
     },
     "metadata": {},
     "output_type": "display_data"
    },
    {
     "data": {
      "text/plain": [
       "(3348, 12, -65)"
      ]
     },
     "metadata": {},
     "output_type": "display_data"
    },
    {
     "data": {
      "text/plain": [
       "(3283, 13, -359)"
      ]
     },
     "metadata": {},
     "output_type": "display_data"
    },
    {
     "data": {
      "text/plain": [
       "(2924, 14, 24)"
      ]
     },
     "metadata": {},
     "output_type": "display_data"
    },
    {
     "data": {
      "text/plain": [
       "(2948, 15, -91)"
      ]
     },
     "metadata": {},
     "output_type": "display_data"
    },
    {
     "data": {
      "text/plain": [
       "(2857, 16, 181)"
      ]
     },
     "metadata": {},
     "output_type": "display_data"
    },
    {
     "data": {
      "text/plain": [
       "(3038, 17, 251)"
      ]
     },
     "metadata": {},
     "output_type": "display_data"
    },
    {
     "data": {
      "text/plain": [
       "(3289, 18, -217)"
      ]
     },
     "metadata": {},
     "output_type": "display_data"
    },
    {
     "data": {
      "text/plain": [
       "(3072, 19, -501)"
      ]
     },
     "metadata": {},
     "output_type": "display_data"
    },
    {
     "data": {
      "text/plain": [
       "(2571, 20, 408)"
      ]
     },
     "metadata": {},
     "output_type": "display_data"
    },
    {
     "data": {
      "text/plain": [
       "(2979, 21, 61)"
      ]
     },
     "metadata": {},
     "output_type": "display_data"
    },
    {
     "data": {
      "text/plain": [
       "(3040, 22, 68)"
      ]
     },
     "metadata": {},
     "output_type": "display_data"
    },
    {
     "data": {
      "text/plain": [
       "(3108, 23, 195)"
      ]
     },
     "metadata": {},
     "output_type": "display_data"
    },
    {
     "data": {
      "text/plain": [
       "(3303, 24, 188)"
      ]
     },
     "metadata": {},
     "output_type": "display_data"
    },
    {
     "data": {
      "text/plain": [
       "(3491, 25, -96)"
      ]
     },
     "metadata": {},
     "output_type": "display_data"
    },
    {
     "data": {
      "text/plain": [
       "(3395, 26, -203)"
      ]
     },
     "metadata": {},
     "output_type": "display_data"
    },
    {
     "data": {
      "text/plain": [
       "(3192, 27, 176)"
      ]
     },
     "metadata": {},
     "output_type": "display_data"
    },
    {
     "data": {
      "text/plain": [
       "(3368, 28, 63)"
      ]
     },
     "metadata": {},
     "output_type": "display_data"
    },
    {
     "data": {
      "text/plain": [
       "(3431, 29, -333)"
      ]
     },
     "metadata": {},
     "output_type": "display_data"
    },
    {
     "data": {
      "text/plain": [
       "(3098, 30, 228)"
      ]
     },
     "metadata": {},
     "output_type": "display_data"
    },
    {
     "data": {
      "text/plain": [
       "(3326, 31, -76)"
      ]
     },
     "metadata": {},
     "output_type": "display_data"
    },
    {
     "data": {
      "text/plain": [
       "(3250, 32, 221)"
      ]
     },
     "metadata": {},
     "output_type": "display_data"
    },
    {
     "data": {
      "text/plain": [
       "(3471, 33, 47)"
      ]
     },
     "metadata": {},
     "output_type": "display_data"
    },
    {
     "data": {
      "text/plain": [
       "(3518, 34, -133)"
      ]
     },
     "metadata": {},
     "output_type": "display_data"
    },
    {
     "data": {
      "text/plain": [
       "(3385, 35, 22)"
      ]
     },
     "metadata": {},
     "output_type": "display_data"
    },
    {
     "data": {
      "text/plain": [
       "(3407, 36, 295)"
      ]
     },
     "metadata": {},
     "output_type": "display_data"
    },
    {
     "data": {
      "text/plain": [
       "(3702, 37, -321)"
      ]
     },
     "metadata": {},
     "output_type": "display_data"
    },
    {
     "data": {
      "text/plain": [
       "(3381, 38, 275)"
      ]
     },
     "metadata": {},
     "output_type": "display_data"
    },
    {
     "data": {
      "text/plain": [
       "(3656, 39, -41)"
      ]
     },
     "metadata": {},
     "output_type": "display_data"
    },
    {
     "data": {
      "text/plain": [
       "(3615, 40, 56)"
      ]
     },
     "metadata": {},
     "output_type": "display_data"
    },
    {
     "data": {
      "text/plain": [
       "(3671, 41, 8)"
      ]
     },
     "metadata": {},
     "output_type": "display_data"
    },
    {
     "data": {
      "text/plain": [
       "(3679, 42, 56)"
      ]
     },
     "metadata": {},
     "output_type": "display_data"
    },
    {
     "data": {
      "text/plain": [
       "(3735, 43, 55)"
      ]
     },
     "metadata": {},
     "output_type": "display_data"
    },
    {
     "data": {
      "text/plain": [
       "(3790, 44, 2)"
      ]
     },
     "metadata": {},
     "output_type": "display_data"
    },
    {
     "data": {
      "text/plain": [
       "(3792, 45, 237)"
      ]
     },
     "metadata": {},
     "output_type": "display_data"
    },
    {
     "data": {
      "text/plain": [
       "(4029, 46, 22)"
      ]
     },
     "metadata": {},
     "output_type": "display_data"
    },
    {
     "data": {
      "text/plain": [
       "(4051, 47, -52)"
      ]
     },
     "metadata": {},
     "output_type": "display_data"
    },
    {
     "data": {
      "text/plain": [
       "(3999, 48, 127)"
      ]
     },
     "metadata": {},
     "output_type": "display_data"
    },
    {
     "data": {
      "text/plain": [
       "(4126, 49, -23)"
      ]
     },
     "metadata": {},
     "output_type": "display_data"
    },
    {
     "data": {
      "text/plain": [
       "(4103, 50, -5)"
      ]
     },
     "metadata": {},
     "output_type": "display_data"
    },
    {
     "data": {
      "text/plain": [
       "(4098, 51, 194)"
      ]
     },
     "metadata": {},
     "output_type": "display_data"
    },
    {
     "data": {
      "text/plain": [
       "(4292, 52, 38)"
      ]
     },
     "metadata": {},
     "output_type": "display_data"
    },
    {
     "data": {
      "text/plain": [
       "(4330, 53, -63)"
      ]
     },
     "metadata": {},
     "output_type": "display_data"
    },
    {
     "data": {
      "text/plain": [
       "(4267, 54, 47)"
      ]
     },
     "metadata": {},
     "output_type": "display_data"
    },
    {
     "data": {
      "text/plain": [
       "(4314, 55, 184)"
      ]
     },
     "metadata": {},
     "output_type": "display_data"
    },
    {
     "data": {
      "text/plain": [
       "(4498, 56, -7)"
      ]
     },
     "metadata": {},
     "output_type": "display_data"
    },
    {
     "data": {
      "text/plain": [
       "(4491, 57, 35)"
      ]
     },
     "metadata": {},
     "output_type": "display_data"
    },
    {
     "data": {
      "text/plain": [
       "(4526, 58, 74)"
      ]
     },
     "metadata": {},
     "output_type": "display_data"
    },
    {
     "data": {
      "text/plain": [
       "(4600, 59, 105)"
      ]
     },
     "metadata": {},
     "output_type": "display_data"
    },
    {
     "data": {
      "text/plain": [
       "(4705, 60, -20)"
      ]
     },
     "metadata": {},
     "output_type": "display_data"
    },
    {
     "data": {
      "text/plain": [
       "(4685, 61, 157)"
      ]
     },
     "metadata": {},
     "output_type": "display_data"
    },
    {
     "data": {
      "text/plain": [
       "(4842, 62, 80)"
      ]
     },
     "metadata": {},
     "output_type": "display_data"
    },
    {
     "data": {
      "text/plain": [
       "(4922, 63, -131)"
      ]
     },
     "metadata": {},
     "output_type": "display_data"
    },
    {
     "data": {
      "text/plain": [
       "(4791, 64, 106)"
      ]
     },
     "metadata": {},
     "output_type": "display_data"
    },
    {
     "data": {
      "text/plain": [
       "(4897, 65, 178)"
      ]
     },
     "metadata": {},
     "output_type": "display_data"
    },
    {
     "data": {
      "text/plain": [
       "(5075, 66, -124)"
      ]
     },
     "metadata": {},
     "output_type": "display_data"
    },
    {
     "data": {
      "text/plain": [
       "(4951, 67, 0)"
      ]
     },
     "metadata": {},
     "output_type": "display_data"
    },
    {
     "data": {
      "text/plain": [
       "(4951, 68, 81)"
      ]
     },
     "metadata": {},
     "output_type": "display_data"
    },
    {
     "data": {
      "text/plain": [
       "(5032, 69, 120)"
      ]
     },
     "metadata": {},
     "output_type": "display_data"
    },
    {
     "data": {
      "text/plain": [
       "(5152, 70, 52)"
      ]
     },
     "metadata": {},
     "output_type": "display_data"
    },
    {
     "data": {
      "text/plain": [
       "(5204, 71, 54)"
      ]
     },
     "metadata": {},
     "output_type": "display_data"
    },
    {
     "data": {
      "text/plain": [
       "(5258, 72, 8)"
      ]
     },
     "metadata": {},
     "output_type": "display_data"
    },
    {
     "data": {
      "text/plain": [
       "(5266, 73, 143)"
      ]
     },
     "metadata": {},
     "output_type": "display_data"
    },
    {
     "data": {
      "text/plain": [
       "(5409, 74, 56)"
      ]
     },
     "metadata": {},
     "output_type": "display_data"
    },
    {
     "data": {
      "text/plain": [
       "(5465, 75, -43)"
      ]
     },
     "metadata": {},
     "output_type": "display_data"
    },
    {
     "data": {
      "text/plain": [
       "(5422, 76, 116)"
      ]
     },
     "metadata": {},
     "output_type": "display_data"
    },
    {
     "data": {
      "text/plain": [
       "(5538, 77, -18)"
      ]
     },
     "metadata": {},
     "output_type": "display_data"
    },
    {
     "data": {
      "text/plain": [
       "(5520, 78, 48)"
      ]
     },
     "metadata": {},
     "output_type": "display_data"
    },
    {
     "data": {
      "text/plain": [
       "(5568, 79, 63)"
      ]
     },
     "metadata": {},
     "output_type": "display_data"
    },
    {
     "data": {
      "text/plain": [
       "(5631, 80, 124)"
      ]
     },
     "metadata": {},
     "output_type": "display_data"
    },
    {
     "data": {
      "text/plain": [
       "(5755, 81, 15)"
      ]
     },
     "metadata": {},
     "output_type": "display_data"
    },
    {
     "data": {
      "text/plain": [
       "(5770, 82, 68)"
      ]
     },
     "metadata": {},
     "output_type": "display_data"
    },
    {
     "data": {
      "text/plain": [
       "(5838, 83, 94)"
      ]
     },
     "metadata": {},
     "output_type": "display_data"
    },
    {
     "data": {
      "text/plain": [
       "(5932, 84, 70)"
      ]
     },
     "metadata": {},
     "output_type": "display_data"
    },
    {
     "data": {
      "text/plain": [
       "(6002, 85, 56)"
      ]
     },
     "metadata": {},
     "output_type": "display_data"
    },
    {
     "data": {
      "text/plain": [
       "(6058, 86, 90)"
      ]
     },
     "metadata": {},
     "output_type": "display_data"
    },
    {
     "data": {
      "text/plain": [
       "(6148, 87, 44)"
      ]
     },
     "metadata": {},
     "output_type": "display_data"
    },
    {
     "data": {
      "text/plain": [
       "(6192, 88, 7)"
      ]
     },
     "metadata": {},
     "output_type": "display_data"
    },
    {
     "data": {
      "text/plain": [
       "(6199, 89, 88)"
      ]
     },
     "metadata": {},
     "output_type": "display_data"
    },
    {
     "data": {
      "text/plain": [
       "(6287, 90, 138)"
      ]
     },
     "metadata": {},
     "output_type": "display_data"
    },
    {
     "data": {
      "text/plain": [
       "(6425, 91, -56)"
      ]
     },
     "metadata": {},
     "output_type": "display_data"
    },
    {
     "data": {
      "text/plain": [
       "(6369, 92, 60)"
      ]
     },
     "metadata": {},
     "output_type": "display_data"
    },
    {
     "data": {
      "text/plain": [
       "(6429, 93, 60)"
      ]
     },
     "metadata": {},
     "output_type": "display_data"
    },
    {
     "data": {
      "text/plain": [
       "(6489, 94, 84)"
      ]
     },
     "metadata": {},
     "output_type": "display_data"
    },
    {
     "data": {
      "text/plain": [
       "(6573, 95, 38)"
      ]
     },
     "metadata": {},
     "output_type": "display_data"
    },
    {
     "data": {
      "text/plain": [
       "(6611, 96, 40)"
      ]
     },
     "metadata": {},
     "output_type": "display_data"
    },
    {
     "data": {
      "text/plain": [
       "(6651, 97, 80)"
      ]
     },
     "metadata": {},
     "output_type": "display_data"
    },
    {
     "data": {
      "text/plain": [
       "(6731, 98, 62)"
      ]
     },
     "metadata": {},
     "output_type": "display_data"
    },
    {
     "data": {
      "text/plain": [
       "(6793, 99, 62)"
      ]
     },
     "metadata": {},
     "output_type": "display_data"
    },
    {
     "data": {
      "text/plain": [
       "(6855, 100, 62)"
      ]
     },
     "metadata": {},
     "output_type": "display_data"
    },
    {
     "data": {
      "text/plain": [
       "(6917, 101, 62)"
      ]
     },
     "metadata": {},
     "output_type": "display_data"
    },
    {
     "data": {
      "text/plain": [
       "(6979, 102, 62)"
      ]
     },
     "metadata": {},
     "output_type": "display_data"
    },
    {
     "data": {
      "text/plain": [
       "(7041, 103, 62)"
      ]
     },
     "metadata": {},
     "output_type": "display_data"
    },
    {
     "data": {
      "text/plain": [
       "(7103, 104, 62)"
      ]
     },
     "metadata": {},
     "output_type": "display_data"
    },
    {
     "data": {
      "text/plain": [
       "(7165, 105, 62)"
      ]
     },
     "metadata": {},
     "output_type": "display_data"
    },
    {
     "data": {
      "text/plain": [
       "(7227, 106, 62)"
      ]
     },
     "metadata": {},
     "output_type": "display_data"
    },
    {
     "data": {
      "text/plain": [
       "(7289, 107, 62)"
      ]
     },
     "metadata": {},
     "output_type": "display_data"
    },
    {
     "data": {
      "text/plain": [
       "(7351, 108, 62)"
      ]
     },
     "metadata": {},
     "output_type": "display_data"
    },
    {
     "data": {
      "text/plain": [
       "(7413, 109, 62)"
      ]
     },
     "metadata": {},
     "output_type": "display_data"
    },
    {
     "data": {
      "text/plain": [
       "(7475, 110, 62)"
      ]
     },
     "metadata": {},
     "output_type": "display_data"
    },
    {
     "data": {
      "text/plain": [
       "(7537, 111, 62)"
      ]
     },
     "metadata": {},
     "output_type": "display_data"
    },
    {
     "data": {
      "text/plain": [
       "(7599, 112, 62)"
      ]
     },
     "metadata": {},
     "output_type": "display_data"
    },
    {
     "data": {
      "text/plain": [
       "(7661, 113, 62)"
      ]
     },
     "metadata": {},
     "output_type": "display_data"
    },
    {
     "data": {
      "text/plain": [
       "(7723, 114, 62)"
      ]
     },
     "metadata": {},
     "output_type": "display_data"
    },
    {
     "data": {
      "text/plain": [
       "(7785, 115, 62)"
      ]
     },
     "metadata": {},
     "output_type": "display_data"
    },
    {
     "data": {
      "text/plain": [
       "(7847, 116, 62)"
      ]
     },
     "metadata": {},
     "output_type": "display_data"
    },
    {
     "data": {
      "text/plain": [
       "(7909, 117, 62)"
      ]
     },
     "metadata": {},
     "output_type": "display_data"
    },
    {
     "data": {
      "text/plain": [
       "(7971, 118, 62)"
      ]
     },
     "metadata": {},
     "output_type": "display_data"
    },
    {
     "data": {
      "text/plain": [
       "(8033, 119, 62)"
      ]
     },
     "metadata": {},
     "output_type": "display_data"
    },
    {
     "data": {
      "text/plain": [
       "(8095, 120, 62)"
      ]
     },
     "metadata": {},
     "output_type": "display_data"
    },
    {
     "data": {
      "text/plain": [
       "(8157, 121, 62)"
      ]
     },
     "metadata": {},
     "output_type": "display_data"
    },
    {
     "data": {
      "text/plain": [
       "(8219, 122, 62)"
      ]
     },
     "metadata": {},
     "output_type": "display_data"
    },
    {
     "data": {
      "text/plain": [
       "(8281, 123, 62)"
      ]
     },
     "metadata": {},
     "output_type": "display_data"
    },
    {
     "data": {
      "text/plain": [
       "(8343, 124, 62)"
      ]
     },
     "metadata": {},
     "output_type": "display_data"
    },
    {
     "data": {
      "text/plain": [
       "(8405, 125, 62)"
      ]
     },
     "metadata": {},
     "output_type": "display_data"
    },
    {
     "data": {
      "text/plain": [
       "(8467, 126, 62)"
      ]
     },
     "metadata": {},
     "output_type": "display_data"
    },
    {
     "data": {
      "text/plain": [
       "(8529, 127, 62)"
      ]
     },
     "metadata": {},
     "output_type": "display_data"
    },
    {
     "data": {
      "text/plain": [
       "(8591, 128, 62)"
      ]
     },
     "metadata": {},
     "output_type": "display_data"
    },
    {
     "data": {
      "text/plain": [
       "(8653, 129, 62)"
      ]
     },
     "metadata": {},
     "output_type": "display_data"
    },
    {
     "data": {
      "text/plain": [
       "(8715, 130, 62)"
      ]
     },
     "metadata": {},
     "output_type": "display_data"
    },
    {
     "data": {
      "text/plain": [
       "(8777, 131, 62)"
      ]
     },
     "metadata": {},
     "output_type": "display_data"
    },
    {
     "data": {
      "text/plain": [
       "(8839, 132, 62)"
      ]
     },
     "metadata": {},
     "output_type": "display_data"
    },
    {
     "data": {
      "text/plain": [
       "(8901, 133, 62)"
      ]
     },
     "metadata": {},
     "output_type": "display_data"
    },
    {
     "data": {
      "text/plain": [
       "(8963, 134, 62)"
      ]
     },
     "metadata": {},
     "output_type": "display_data"
    },
    {
     "data": {
      "text/plain": [
       "(9025, 135, 62)"
      ]
     },
     "metadata": {},
     "output_type": "display_data"
    },
    {
     "data": {
      "text/plain": [
       "(9087, 136, 62)"
      ]
     },
     "metadata": {},
     "output_type": "display_data"
    },
    {
     "data": {
      "text/plain": [
       "(9149, 137, 62)"
      ]
     },
     "metadata": {},
     "output_type": "display_data"
    },
    {
     "data": {
      "text/plain": [
       "(9211, 138, 62)"
      ]
     },
     "metadata": {},
     "output_type": "display_data"
    },
    {
     "data": {
      "text/plain": [
       "(9273, 139, 62)"
      ]
     },
     "metadata": {},
     "output_type": "display_data"
    },
    {
     "data": {
      "text/plain": [
       "(9335, 140, 62)"
      ]
     },
     "metadata": {},
     "output_type": "display_data"
    },
    {
     "data": {
      "text/plain": [
       "(9397, 141, 62)"
      ]
     },
     "metadata": {},
     "output_type": "display_data"
    },
    {
     "data": {
      "text/plain": [
       "(9459, 142, 62)"
      ]
     },
     "metadata": {},
     "output_type": "display_data"
    },
    {
     "data": {
      "text/plain": [
       "(9521, 143, 62)"
      ]
     },
     "metadata": {},
     "output_type": "display_data"
    },
    {
     "data": {
      "text/plain": [
       "(9583, 144, 62)"
      ]
     },
     "metadata": {},
     "output_type": "display_data"
    },
    {
     "data": {
      "text/plain": [
       "(9645, 145, 62)"
      ]
     },
     "metadata": {},
     "output_type": "display_data"
    },
    {
     "data": {
      "text/plain": [
       "(9707, 146, 62)"
      ]
     },
     "metadata": {},
     "output_type": "display_data"
    },
    {
     "data": {
      "text/plain": [
       "(9769, 147, 62)"
      ]
     },
     "metadata": {},
     "output_type": "display_data"
    },
    {
     "data": {
      "text/plain": [
       "(9831, 148, 62)"
      ]
     },
     "metadata": {},
     "output_type": "display_data"
    },
    {
     "data": {
      "text/plain": [
       "(9893, 149, 62)"
      ]
     },
     "metadata": {},
     "output_type": "display_data"
    },
    {
     "data": {
      "text/plain": [
       "(9955, 150, 62)"
      ]
     },
     "metadata": {},
     "output_type": "display_data"
    },
    {
     "data": {
      "text/plain": [
       "(10017, 151, 62)"
      ]
     },
     "metadata": {},
     "output_type": "display_data"
    },
    {
     "data": {
      "text/plain": [
       "(10079, 152, 62)"
      ]
     },
     "metadata": {},
     "output_type": "display_data"
    },
    {
     "data": {
      "text/plain": [
       "(10141, 153, 62)"
      ]
     },
     "metadata": {},
     "output_type": "display_data"
    },
    {
     "data": {
      "text/plain": [
       "(10203, 154, 62)"
      ]
     },
     "metadata": {},
     "output_type": "display_data"
    },
    {
     "data": {
      "text/plain": [
       "(10265, 155, 62)"
      ]
     },
     "metadata": {},
     "output_type": "display_data"
    },
    {
     "data": {
      "text/plain": [
       "(10327, 156, 62)"
      ]
     },
     "metadata": {},
     "output_type": "display_data"
    },
    {
     "data": {
      "text/plain": [
       "(10389, 157, 62)"
      ]
     },
     "metadata": {},
     "output_type": "display_data"
    },
    {
     "data": {
      "text/plain": [
       "(10451, 158, 62)"
      ]
     },
     "metadata": {},
     "output_type": "display_data"
    },
    {
     "data": {
      "text/plain": [
       "(10513, 159, 62)"
      ]
     },
     "metadata": {},
     "output_type": "display_data"
    },
    {
     "data": {
      "text/plain": [
       "(10575, 160, 62)"
      ]
     },
     "metadata": {},
     "output_type": "display_data"
    },
    {
     "data": {
      "text/plain": [
       "(10637, 161, 62)"
      ]
     },
     "metadata": {},
     "output_type": "display_data"
    },
    {
     "data": {
      "text/plain": [
       "(10699, 162, 62)"
      ]
     },
     "metadata": {},
     "output_type": "display_data"
    },
    {
     "data": {
      "text/plain": [
       "(10761, 163, 62)"
      ]
     },
     "metadata": {},
     "output_type": "display_data"
    },
    {
     "data": {
      "text/plain": [
       "(10823, 164, 62)"
      ]
     },
     "metadata": {},
     "output_type": "display_data"
    },
    {
     "data": {
      "text/plain": [
       "(10885, 165, 62)"
      ]
     },
     "metadata": {},
     "output_type": "display_data"
    },
    {
     "data": {
      "text/plain": [
       "(10947, 166, 62)"
      ]
     },
     "metadata": {},
     "output_type": "display_data"
    },
    {
     "data": {
      "text/plain": [
       "(11009, 167, 62)"
      ]
     },
     "metadata": {},
     "output_type": "display_data"
    },
    {
     "data": {
      "text/plain": [
       "(11071, 168, 62)"
      ]
     },
     "metadata": {},
     "output_type": "display_data"
    },
    {
     "data": {
      "text/plain": [
       "(11133, 169, 62)"
      ]
     },
     "metadata": {},
     "output_type": "display_data"
    },
    {
     "data": {
      "text/plain": [
       "(11195, 170, 62)"
      ]
     },
     "metadata": {},
     "output_type": "display_data"
    },
    {
     "data": {
      "text/plain": [
       "(11257, 171, 62)"
      ]
     },
     "metadata": {},
     "output_type": "display_data"
    },
    {
     "data": {
      "text/plain": [
       "(11319, 172, 62)"
      ]
     },
     "metadata": {},
     "output_type": "display_data"
    },
    {
     "data": {
      "text/plain": [
       "(11381, 173, 62)"
      ]
     },
     "metadata": {},
     "output_type": "display_data"
    },
    {
     "data": {
      "text/plain": [
       "(11443, 174, 62)"
      ]
     },
     "metadata": {},
     "output_type": "display_data"
    },
    {
     "data": {
      "text/plain": [
       "(11505, 175, 62)"
      ]
     },
     "metadata": {},
     "output_type": "display_data"
    },
    {
     "data": {
      "text/plain": [
       "(11567, 176, 62)"
      ]
     },
     "metadata": {},
     "output_type": "display_data"
    },
    {
     "data": {
      "text/plain": [
       "(11629, 177, 62)"
      ]
     },
     "metadata": {},
     "output_type": "display_data"
    },
    {
     "data": {
      "text/plain": [
       "(11691, 178, 62)"
      ]
     },
     "metadata": {},
     "output_type": "display_data"
    },
    {
     "data": {
      "text/plain": [
       "(11753, 179, 62)"
      ]
     },
     "metadata": {},
     "output_type": "display_data"
    },
    {
     "data": {
      "text/plain": [
       "(11815, 180, 62)"
      ]
     },
     "metadata": {},
     "output_type": "display_data"
    },
    {
     "data": {
      "text/plain": [
       "(11877, 181, 62)"
      ]
     },
     "metadata": {},
     "output_type": "display_data"
    },
    {
     "data": {
      "text/plain": [
       "(11939, 182, 62)"
      ]
     },
     "metadata": {},
     "output_type": "display_data"
    },
    {
     "data": {
      "text/plain": [
       "(12001, 183, 62)"
      ]
     },
     "metadata": {},
     "output_type": "display_data"
    },
    {
     "data": {
      "text/plain": [
       "(12063, 184, 62)"
      ]
     },
     "metadata": {},
     "output_type": "display_data"
    },
    {
     "data": {
      "text/plain": [
       "(12125, 185, 62)"
      ]
     },
     "metadata": {},
     "output_type": "display_data"
    },
    {
     "data": {
      "text/plain": [
       "(12187, 186, 62)"
      ]
     },
     "metadata": {},
     "output_type": "display_data"
    },
    {
     "data": {
      "text/plain": [
       "(12249, 187, 62)"
      ]
     },
     "metadata": {},
     "output_type": "display_data"
    },
    {
     "data": {
      "text/plain": [
       "(12311, 188, 62)"
      ]
     },
     "metadata": {},
     "output_type": "display_data"
    },
    {
     "data": {
      "text/plain": [
       "(12373, 189, 62)"
      ]
     },
     "metadata": {},
     "output_type": "display_data"
    },
    {
     "data": {
      "text/plain": [
       "(12435, 190, 62)"
      ]
     },
     "metadata": {},
     "output_type": "display_data"
    },
    {
     "data": {
      "text/plain": [
       "(12497, 191, 62)"
      ]
     },
     "metadata": {},
     "output_type": "display_data"
    },
    {
     "data": {
      "text/plain": [
       "(12559, 192, 62)"
      ]
     },
     "metadata": {},
     "output_type": "display_data"
    },
    {
     "data": {
      "text/plain": [
       "(12621, 193, 62)"
      ]
     },
     "metadata": {},
     "output_type": "display_data"
    },
    {
     "data": {
      "text/plain": [
       "(12683, 194, 62)"
      ]
     },
     "metadata": {},
     "output_type": "display_data"
    },
    {
     "data": {
      "text/plain": [
       "(12745, 195, 62)"
      ]
     },
     "metadata": {},
     "output_type": "display_data"
    },
    {
     "data": {
      "text/plain": [
       "(12807, 196, 62)"
      ]
     },
     "metadata": {},
     "output_type": "display_data"
    },
    {
     "data": {
      "text/plain": [
       "(12869, 197, 62)"
      ]
     },
     "metadata": {},
     "output_type": "display_data"
    },
    {
     "data": {
      "text/plain": [
       "(12931, 198, 62)"
      ]
     },
     "metadata": {},
     "output_type": "display_data"
    },
    {
     "data": {
      "text/plain": [
       "(12993, 199, 62)"
      ]
     },
     "metadata": {},
     "output_type": "display_data"
    },
    {
     "data": {
      "text/plain": [
       "(13055, 200, 62)"
      ]
     },
     "metadata": {},
     "output_type": "display_data"
    },
    {
     "data": {
      "text/plain": [
       "(13117, 201, 62)"
      ]
     },
     "metadata": {},
     "output_type": "display_data"
    },
    {
     "data": {
      "text/plain": [
       "(13179, 202, 62)"
      ]
     },
     "metadata": {},
     "output_type": "display_data"
    },
    {
     "data": {
      "text/plain": [
       "(13241, 203, 62)"
      ]
     },
     "metadata": {},
     "output_type": "display_data"
    },
    {
     "data": {
      "text/plain": [
       "(13303, 204, 62)"
      ]
     },
     "metadata": {},
     "output_type": "display_data"
    },
    {
     "data": {
      "text/plain": [
       "(13365, 205, 62)"
      ]
     },
     "metadata": {},
     "output_type": "display_data"
    },
    {
     "data": {
      "text/plain": [
       "(13427, 206, 62)"
      ]
     },
     "metadata": {},
     "output_type": "display_data"
    },
    {
     "data": {
      "text/plain": [
       "(13489, 207, 62)"
      ]
     },
     "metadata": {},
     "output_type": "display_data"
    },
    {
     "data": {
      "text/plain": [
       "(13551, 208, 62)"
      ]
     },
     "metadata": {},
     "output_type": "display_data"
    },
    {
     "data": {
      "text/plain": [
       "(13613, 209, 62)"
      ]
     },
     "metadata": {},
     "output_type": "display_data"
    },
    {
     "data": {
      "text/plain": [
       "(13675, 210, 62)"
      ]
     },
     "metadata": {},
     "output_type": "display_data"
    },
    {
     "data": {
      "text/plain": [
       "(13737, 211, 62)"
      ]
     },
     "metadata": {},
     "output_type": "display_data"
    },
    {
     "data": {
      "text/plain": [
       "(13799, 212, 62)"
      ]
     },
     "metadata": {},
     "output_type": "display_data"
    },
    {
     "data": {
      "text/plain": [
       "(13861, 213, 62)"
      ]
     },
     "metadata": {},
     "output_type": "display_data"
    },
    {
     "data": {
      "text/plain": [
       "(13923, 214, 62)"
      ]
     },
     "metadata": {},
     "output_type": "display_data"
    },
    {
     "data": {
      "text/plain": [
       "(13985, 215, 62)"
      ]
     },
     "metadata": {},
     "output_type": "display_data"
    },
    {
     "data": {
      "text/plain": [
       "(14047, 216, 62)"
      ]
     },
     "metadata": {},
     "output_type": "display_data"
    },
    {
     "data": {
      "text/plain": [
       "(14109, 217, 62)"
      ]
     },
     "metadata": {},
     "output_type": "display_data"
    },
    {
     "data": {
      "text/plain": [
       "(14171, 218, 62)"
      ]
     },
     "metadata": {},
     "output_type": "display_data"
    },
    {
     "data": {
      "text/plain": [
       "(14233, 219, 62)"
      ]
     },
     "metadata": {},
     "output_type": "display_data"
    },
    {
     "data": {
      "text/plain": [
       "(14295, 220, 62)"
      ]
     },
     "metadata": {},
     "output_type": "display_data"
    },
    {
     "data": {
      "text/plain": [
       "(14357, 221, 62)"
      ]
     },
     "metadata": {},
     "output_type": "display_data"
    },
    {
     "data": {
      "text/plain": [
       "(14419, 222, 62)"
      ]
     },
     "metadata": {},
     "output_type": "display_data"
    },
    {
     "data": {
      "text/plain": [
       "(14481, 223, 62)"
      ]
     },
     "metadata": {},
     "output_type": "display_data"
    },
    {
     "data": {
      "text/plain": [
       "(14543, 224, 62)"
      ]
     },
     "metadata": {},
     "output_type": "display_data"
    },
    {
     "data": {
      "text/plain": [
       "(14605, 225, 62)"
      ]
     },
     "metadata": {},
     "output_type": "display_data"
    },
    {
     "data": {
      "text/plain": [
       "(14667, 226, 62)"
      ]
     },
     "metadata": {},
     "output_type": "display_data"
    },
    {
     "data": {
      "text/plain": [
       "(14729, 227, 62)"
      ]
     },
     "metadata": {},
     "output_type": "display_data"
    },
    {
     "data": {
      "text/plain": [
       "(14791, 228, 62)"
      ]
     },
     "metadata": {},
     "output_type": "display_data"
    },
    {
     "data": {
      "text/plain": [
       "(14853, 229, 62)"
      ]
     },
     "metadata": {},
     "output_type": "display_data"
    },
    {
     "data": {
      "text/plain": [
       "(14915, 230, 62)"
      ]
     },
     "metadata": {},
     "output_type": "display_data"
    },
    {
     "data": {
      "text/plain": [
       "(14977, 231, 62)"
      ]
     },
     "metadata": {},
     "output_type": "display_data"
    },
    {
     "data": {
      "text/plain": [
       "(15039, 232, 62)"
      ]
     },
     "metadata": {},
     "output_type": "display_data"
    },
    {
     "data": {
      "text/plain": [
       "(15101, 233, 62)"
      ]
     },
     "metadata": {},
     "output_type": "display_data"
    },
    {
     "data": {
      "text/plain": [
       "(15163, 234, 62)"
      ]
     },
     "metadata": {},
     "output_type": "display_data"
    },
    {
     "data": {
      "text/plain": [
       "(15225, 235, 62)"
      ]
     },
     "metadata": {},
     "output_type": "display_data"
    },
    {
     "data": {
      "text/plain": [
       "(15287, 236, 62)"
      ]
     },
     "metadata": {},
     "output_type": "display_data"
    },
    {
     "data": {
      "text/plain": [
       "(15349, 237, 62)"
      ]
     },
     "metadata": {},
     "output_type": "display_data"
    },
    {
     "data": {
      "text/plain": [
       "(15411, 238, 62)"
      ]
     },
     "metadata": {},
     "output_type": "display_data"
    },
    {
     "data": {
      "text/plain": [
       "(15473, 239, 62)"
      ]
     },
     "metadata": {},
     "output_type": "display_data"
    },
    {
     "data": {
      "text/plain": [
       "(15535, 240, 62)"
      ]
     },
     "metadata": {},
     "output_type": "display_data"
    },
    {
     "data": {
      "text/plain": [
       "(15597, 241, 62)"
      ]
     },
     "metadata": {},
     "output_type": "display_data"
    },
    {
     "data": {
      "text/plain": [
       "(15659, 242, 62)"
      ]
     },
     "metadata": {},
     "output_type": "display_data"
    },
    {
     "data": {
      "text/plain": [
       "(15721, 243, 62)"
      ]
     },
     "metadata": {},
     "output_type": "display_data"
    },
    {
     "data": {
      "text/plain": [
       "(15783, 244, 62)"
      ]
     },
     "metadata": {},
     "output_type": "display_data"
    },
    {
     "data": {
      "text/plain": [
       "(15845, 245, 62)"
      ]
     },
     "metadata": {},
     "output_type": "display_data"
    },
    {
     "data": {
      "text/plain": [
       "(15907, 246, 62)"
      ]
     },
     "metadata": {},
     "output_type": "display_data"
    },
    {
     "data": {
      "text/plain": [
       "(15969, 247, 62)"
      ]
     },
     "metadata": {},
     "output_type": "display_data"
    },
    {
     "data": {
      "text/plain": [
       "(16031, 248, 62)"
      ]
     },
     "metadata": {},
     "output_type": "display_data"
    },
    {
     "data": {
      "text/plain": [
       "(16093, 249, 62)"
      ]
     },
     "metadata": {},
     "output_type": "display_data"
    },
    {
     "data": {
      "text/plain": [
       "(16155, 250, 62)"
      ]
     },
     "metadata": {},
     "output_type": "display_data"
    },
    {
     "data": {
      "text/plain": [
       "(16217, 251, 62)"
      ]
     },
     "metadata": {},
     "output_type": "display_data"
    },
    {
     "data": {
      "text/plain": [
       "(16279, 252, 62)"
      ]
     },
     "metadata": {},
     "output_type": "display_data"
    },
    {
     "data": {
      "text/plain": [
       "(16341, 253, 62)"
      ]
     },
     "metadata": {},
     "output_type": "display_data"
    },
    {
     "data": {
      "text/plain": [
       "(16403, 254, 62)"
      ]
     },
     "metadata": {},
     "output_type": "display_data"
    },
    {
     "data": {
      "text/plain": [
       "(16465, 255, 62)"
      ]
     },
     "metadata": {},
     "output_type": "display_data"
    },
    {
     "data": {
      "text/plain": [
       "(16527, 256, 62)"
      ]
     },
     "metadata": {},
     "output_type": "display_data"
    },
    {
     "data": {
      "text/plain": [
       "(16589, 257, 62)"
      ]
     },
     "metadata": {},
     "output_type": "display_data"
    },
    {
     "data": {
      "text/plain": [
       "(16651, 258, 62)"
      ]
     },
     "metadata": {},
     "output_type": "display_data"
    },
    {
     "data": {
      "text/plain": [
       "(16713, 259, 62)"
      ]
     },
     "metadata": {},
     "output_type": "display_data"
    },
    {
     "data": {
      "text/plain": [
       "(16775, 260, 62)"
      ]
     },
     "metadata": {},
     "output_type": "display_data"
    },
    {
     "data": {
      "text/plain": [
       "(16837, 261, 62)"
      ]
     },
     "metadata": {},
     "output_type": "display_data"
    },
    {
     "data": {
      "text/plain": [
       "(16899, 262, 62)"
      ]
     },
     "metadata": {},
     "output_type": "display_data"
    },
    {
     "data": {
      "text/plain": [
       "(16961, 263, 62)"
      ]
     },
     "metadata": {},
     "output_type": "display_data"
    },
    {
     "data": {
      "text/plain": [
       "(17023, 264, 62)"
      ]
     },
     "metadata": {},
     "output_type": "display_data"
    },
    {
     "data": {
      "text/plain": [
       "(17085, 265, 62)"
      ]
     },
     "metadata": {},
     "output_type": "display_data"
    },
    {
     "data": {
      "text/plain": [
       "(17147, 266, 62)"
      ]
     },
     "metadata": {},
     "output_type": "display_data"
    },
    {
     "data": {
      "text/plain": [
       "(17209, 267, 62)"
      ]
     },
     "metadata": {},
     "output_type": "display_data"
    },
    {
     "data": {
      "text/plain": [
       "(17271, 268, 62)"
      ]
     },
     "metadata": {},
     "output_type": "display_data"
    },
    {
     "data": {
      "text/plain": [
       "(17333, 269, 62)"
      ]
     },
     "metadata": {},
     "output_type": "display_data"
    },
    {
     "data": {
      "text/plain": [
       "(17395, 270, 62)"
      ]
     },
     "metadata": {},
     "output_type": "display_data"
    },
    {
     "data": {
      "text/plain": [
       "(17457, 271, 62)"
      ]
     },
     "metadata": {},
     "output_type": "display_data"
    },
    {
     "data": {
      "text/plain": [
       "(17519, 272, 62)"
      ]
     },
     "metadata": {},
     "output_type": "display_data"
    },
    {
     "data": {
      "text/plain": [
       "(17581, 273, 62)"
      ]
     },
     "metadata": {},
     "output_type": "display_data"
    },
    {
     "data": {
      "text/plain": [
       "(17643, 274, 62)"
      ]
     },
     "metadata": {},
     "output_type": "display_data"
    },
    {
     "data": {
      "text/plain": [
       "(17705, 275, 62)"
      ]
     },
     "metadata": {},
     "output_type": "display_data"
    },
    {
     "data": {
      "text/plain": [
       "(17767, 276, 62)"
      ]
     },
     "metadata": {},
     "output_type": "display_data"
    },
    {
     "data": {
      "text/plain": [
       "(17829, 277, 62)"
      ]
     },
     "metadata": {},
     "output_type": "display_data"
    },
    {
     "data": {
      "text/plain": [
       "(17891, 278, 62)"
      ]
     },
     "metadata": {},
     "output_type": "display_data"
    },
    {
     "data": {
      "text/plain": [
       "(17953, 279, 62)"
      ]
     },
     "metadata": {},
     "output_type": "display_data"
    },
    {
     "data": {
      "text/plain": [
       "(18015, 280, 62)"
      ]
     },
     "metadata": {},
     "output_type": "display_data"
    },
    {
     "data": {
      "text/plain": [
       "(18077, 281, 62)"
      ]
     },
     "metadata": {},
     "output_type": "display_data"
    },
    {
     "data": {
      "text/plain": [
       "(18139, 282, 62)"
      ]
     },
     "metadata": {},
     "output_type": "display_data"
    },
    {
     "data": {
      "text/plain": [
       "(18201, 283, 62)"
      ]
     },
     "metadata": {},
     "output_type": "display_data"
    },
    {
     "data": {
      "text/plain": [
       "(18263, 284, 62)"
      ]
     },
     "metadata": {},
     "output_type": "display_data"
    },
    {
     "data": {
      "text/plain": [
       "(18325, 285, 62)"
      ]
     },
     "metadata": {},
     "output_type": "display_data"
    },
    {
     "data": {
      "text/plain": [
       "(18387, 286, 62)"
      ]
     },
     "metadata": {},
     "output_type": "display_data"
    },
    {
     "data": {
      "text/plain": [
       "(18449, 287, 62)"
      ]
     },
     "metadata": {},
     "output_type": "display_data"
    },
    {
     "data": {
      "text/plain": [
       "(18511, 288, 62)"
      ]
     },
     "metadata": {},
     "output_type": "display_data"
    },
    {
     "data": {
      "text/plain": [
       "(18573, 289, 62)"
      ]
     },
     "metadata": {},
     "output_type": "display_data"
    },
    {
     "data": {
      "text/plain": [
       "(18635, 290, 62)"
      ]
     },
     "metadata": {},
     "output_type": "display_data"
    },
    {
     "data": {
      "text/plain": [
       "(18697, 291, 62)"
      ]
     },
     "metadata": {},
     "output_type": "display_data"
    },
    {
     "data": {
      "text/plain": [
       "(18759, 292, 62)"
      ]
     },
     "metadata": {},
     "output_type": "display_data"
    },
    {
     "data": {
      "text/plain": [
       "(18821, 293, 62)"
      ]
     },
     "metadata": {},
     "output_type": "display_data"
    },
    {
     "data": {
      "text/plain": [
       "(18883, 294, 62)"
      ]
     },
     "metadata": {},
     "output_type": "display_data"
    },
    {
     "data": {
      "text/plain": [
       "(18945, 295, 62)"
      ]
     },
     "metadata": {},
     "output_type": "display_data"
    },
    {
     "data": {
      "text/plain": [
       "(19007, 296, 62)"
      ]
     },
     "metadata": {},
     "output_type": "display_data"
    },
    {
     "data": {
      "text/plain": [
       "(19069, 297, 62)"
      ]
     },
     "metadata": {},
     "output_type": "display_data"
    },
    {
     "data": {
      "text/plain": [
       "(19131, 298, 62)"
      ]
     },
     "metadata": {},
     "output_type": "display_data"
    },
    {
     "data": {
      "text/plain": [
       "(19193, 299, 62)"
      ]
     },
     "metadata": {},
     "output_type": "display_data"
    },
    {
     "data": {
      "text/plain": [
       "(19255, 300, 62)"
      ]
     },
     "metadata": {},
     "output_type": "display_data"
    },
    {
     "data": {
      "text/plain": [
       "(19317, 301, 62)"
      ]
     },
     "metadata": {},
     "output_type": "display_data"
    },
    {
     "data": {
      "text/plain": [
       "(19379, 302, 62)"
      ]
     },
     "metadata": {},
     "output_type": "display_data"
    },
    {
     "data": {
      "text/plain": [
       "(19441, 303, 62)"
      ]
     },
     "metadata": {},
     "output_type": "display_data"
    },
    {
     "data": {
      "text/plain": [
       "(19503, 304, 62)"
      ]
     },
     "metadata": {},
     "output_type": "display_data"
    },
    {
     "data": {
      "text/plain": [
       "(19565, 305, 62)"
      ]
     },
     "metadata": {},
     "output_type": "display_data"
    },
    {
     "data": {
      "text/plain": [
       "(19627, 306, 62)"
      ]
     },
     "metadata": {},
     "output_type": "display_data"
    },
    {
     "data": {
      "text/plain": [
       "(19689, 307, 62)"
      ]
     },
     "metadata": {},
     "output_type": "display_data"
    },
    {
     "data": {
      "text/plain": [
       "(19751, 308, 62)"
      ]
     },
     "metadata": {},
     "output_type": "display_data"
    },
    {
     "data": {
      "text/plain": [
       "(19813, 309, 62)"
      ]
     },
     "metadata": {},
     "output_type": "display_data"
    },
    {
     "data": {
      "text/plain": [
       "(19875, 310, 62)"
      ]
     },
     "metadata": {},
     "output_type": "display_data"
    },
    {
     "data": {
      "text/plain": [
       "(19937, 311, 62)"
      ]
     },
     "metadata": {},
     "output_type": "display_data"
    },
    {
     "data": {
      "text/plain": [
       "(19999, 312, 62)"
      ]
     },
     "metadata": {},
     "output_type": "display_data"
    },
    {
     "data": {
      "text/plain": [
       "(20061, 313, 62)"
      ]
     },
     "metadata": {},
     "output_type": "display_data"
    },
    {
     "data": {
      "text/plain": [
       "(20123, 314, 62)"
      ]
     },
     "metadata": {},
     "output_type": "display_data"
    },
    {
     "data": {
      "text/plain": [
       "(20185, 315, 62)"
      ]
     },
     "metadata": {},
     "output_type": "display_data"
    },
    {
     "data": {
      "text/plain": [
       "(20247, 316, 62)"
      ]
     },
     "metadata": {},
     "output_type": "display_data"
    },
    {
     "data": {
      "text/plain": [
       "(20309, 317, 62)"
      ]
     },
     "metadata": {},
     "output_type": "display_data"
    },
    {
     "data": {
      "text/plain": [
       "(20371, 318, 62)"
      ]
     },
     "metadata": {},
     "output_type": "display_data"
    },
    {
     "data": {
      "text/plain": [
       "(20433, 319, 62)"
      ]
     },
     "metadata": {},
     "output_type": "display_data"
    },
    {
     "data": {
      "text/plain": [
       "(20495, 320, 62)"
      ]
     },
     "metadata": {},
     "output_type": "display_data"
    },
    {
     "data": {
      "text/plain": [
       "(20557, 321, 62)"
      ]
     },
     "metadata": {},
     "output_type": "display_data"
    },
    {
     "data": {
      "text/plain": [
       "(20619, 322, 62)"
      ]
     },
     "metadata": {},
     "output_type": "display_data"
    },
    {
     "data": {
      "text/plain": [
       "(20681, 323, 62)"
      ]
     },
     "metadata": {},
     "output_type": "display_data"
    },
    {
     "data": {
      "text/plain": [
       "(20743, 324, 62)"
      ]
     },
     "metadata": {},
     "output_type": "display_data"
    },
    {
     "data": {
      "text/plain": [
       "(20805, 325, 62)"
      ]
     },
     "metadata": {},
     "output_type": "display_data"
    },
    {
     "data": {
      "text/plain": [
       "(20867, 326, 62)"
      ]
     },
     "metadata": {},
     "output_type": "display_data"
    },
    {
     "data": {
      "text/plain": [
       "(20929, 327, 62)"
      ]
     },
     "metadata": {},
     "output_type": "display_data"
    },
    {
     "data": {
      "text/plain": [
       "(20991, 328, 62)"
      ]
     },
     "metadata": {},
     "output_type": "display_data"
    },
    {
     "data": {
      "text/plain": [
       "(21053, 329, 62)"
      ]
     },
     "metadata": {},
     "output_type": "display_data"
    },
    {
     "data": {
      "text/plain": [
       "(21115, 330, 62)"
      ]
     },
     "metadata": {},
     "output_type": "display_data"
    },
    {
     "data": {
      "text/plain": [
       "(21177, 331, 62)"
      ]
     },
     "metadata": {},
     "output_type": "display_data"
    },
    {
     "data": {
      "text/plain": [
       "(21239, 332, 62)"
      ]
     },
     "metadata": {},
     "output_type": "display_data"
    },
    {
     "data": {
      "text/plain": [
       "(21301, 333, 62)"
      ]
     },
     "metadata": {},
     "output_type": "display_data"
    },
    {
     "data": {
      "text/plain": [
       "(21363, 334, 62)"
      ]
     },
     "metadata": {},
     "output_type": "display_data"
    },
    {
     "data": {
      "text/plain": [
       "(21425, 335, 62)"
      ]
     },
     "metadata": {},
     "output_type": "display_data"
    },
    {
     "data": {
      "text/plain": [
       "(21487, 336, 62)"
      ]
     },
     "metadata": {},
     "output_type": "display_data"
    },
    {
     "data": {
      "text/plain": [
       "(21549, 337, 62)"
      ]
     },
     "metadata": {},
     "output_type": "display_data"
    },
    {
     "data": {
      "text/plain": [
       "(21611, 338, 62)"
      ]
     },
     "metadata": {},
     "output_type": "display_data"
    },
    {
     "data": {
      "text/plain": [
       "(21673, 339, 62)"
      ]
     },
     "metadata": {},
     "output_type": "display_data"
    },
    {
     "data": {
      "text/plain": [
       "(21735, 340, 62)"
      ]
     },
     "metadata": {},
     "output_type": "display_data"
    },
    {
     "data": {
      "text/plain": [
       "(21797, 341, 62)"
      ]
     },
     "metadata": {},
     "output_type": "display_data"
    },
    {
     "data": {
      "text/plain": [
       "(21859, 342, 62)"
      ]
     },
     "metadata": {},
     "output_type": "display_data"
    },
    {
     "data": {
      "text/plain": [
       "(21921, 343, 62)"
      ]
     },
     "metadata": {},
     "output_type": "display_data"
    },
    {
     "data": {
      "text/plain": [
       "(21983, 344, 62)"
      ]
     },
     "metadata": {},
     "output_type": "display_data"
    },
    {
     "data": {
      "text/plain": [
       "(22045, 345, 62)"
      ]
     },
     "metadata": {},
     "output_type": "display_data"
    },
    {
     "data": {
      "text/plain": [
       "(22107, 346, 62)"
      ]
     },
     "metadata": {},
     "output_type": "display_data"
    },
    {
     "data": {
      "text/plain": [
       "(22169, 347, 62)"
      ]
     },
     "metadata": {},
     "output_type": "display_data"
    },
    {
     "data": {
      "text/plain": [
       "(22231, 348, 62)"
      ]
     },
     "metadata": {},
     "output_type": "display_data"
    },
    {
     "data": {
      "text/plain": [
       "(22293, 349, 62)"
      ]
     },
     "metadata": {},
     "output_type": "display_data"
    },
    {
     "data": {
      "text/plain": [
       "(22355, 350, 62)"
      ]
     },
     "metadata": {},
     "output_type": "display_data"
    },
    {
     "data": {
      "text/plain": [
       "(22417, 351, 62)"
      ]
     },
     "metadata": {},
     "output_type": "display_data"
    },
    {
     "data": {
      "text/plain": [
       "(22479, 352, 62)"
      ]
     },
     "metadata": {},
     "output_type": "display_data"
    },
    {
     "data": {
      "text/plain": [
       "(22541, 353, 62)"
      ]
     },
     "metadata": {},
     "output_type": "display_data"
    },
    {
     "data": {
      "text/plain": [
       "(22603, 354, 62)"
      ]
     },
     "metadata": {},
     "output_type": "display_data"
    },
    {
     "data": {
      "text/plain": [
       "(22665, 355, 62)"
      ]
     },
     "metadata": {},
     "output_type": "display_data"
    },
    {
     "data": {
      "text/plain": [
       "(22727, 356, 62)"
      ]
     },
     "metadata": {},
     "output_type": "display_data"
    },
    {
     "data": {
      "text/plain": [
       "(22789, 357, 62)"
      ]
     },
     "metadata": {},
     "output_type": "display_data"
    },
    {
     "data": {
      "text/plain": [
       "(22851, 358, 62)"
      ]
     },
     "metadata": {},
     "output_type": "display_data"
    },
    {
     "data": {
      "text/plain": [
       "(22913, 359, 62)"
      ]
     },
     "metadata": {},
     "output_type": "display_data"
    },
    {
     "data": {
      "text/plain": [
       "(22975, 360, 62)"
      ]
     },
     "metadata": {},
     "output_type": "display_data"
    },
    {
     "data": {
      "text/plain": [
       "(23037, 361, 62)"
      ]
     },
     "metadata": {},
     "output_type": "display_data"
    },
    {
     "data": {
      "text/plain": [
       "(23099, 362, 62)"
      ]
     },
     "metadata": {},
     "output_type": "display_data"
    },
    {
     "data": {
      "text/plain": [
       "(23161, 363, 62)"
      ]
     },
     "metadata": {},
     "output_type": "display_data"
    },
    {
     "data": {
      "text/plain": [
       "(23223, 364, 62)"
      ]
     },
     "metadata": {},
     "output_type": "display_data"
    },
    {
     "data": {
      "text/plain": [
       "(23285, 365, 62)"
      ]
     },
     "metadata": {},
     "output_type": "display_data"
    },
    {
     "data": {
      "text/plain": [
       "(23347, 366, 62)"
      ]
     },
     "metadata": {},
     "output_type": "display_data"
    },
    {
     "data": {
      "text/plain": [
       "(23409, 367, 62)"
      ]
     },
     "metadata": {},
     "output_type": "display_data"
    },
    {
     "data": {
      "text/plain": [
       "(23471, 368, 62)"
      ]
     },
     "metadata": {},
     "output_type": "display_data"
    },
    {
     "data": {
      "text/plain": [
       "(23533, 369, 62)"
      ]
     },
     "metadata": {},
     "output_type": "display_data"
    },
    {
     "data": {
      "text/plain": [
       "(23595, 370, 62)"
      ]
     },
     "metadata": {},
     "output_type": "display_data"
    },
    {
     "data": {
      "text/plain": [
       "(23657, 371, 62)"
      ]
     },
     "metadata": {},
     "output_type": "display_data"
    },
    {
     "data": {
      "text/plain": [
       "(23719, 372, 62)"
      ]
     },
     "metadata": {},
     "output_type": "display_data"
    },
    {
     "data": {
      "text/plain": [
       "(23781, 373, 62)"
      ]
     },
     "metadata": {},
     "output_type": "display_data"
    },
    {
     "data": {
      "text/plain": [
       "(23843, 374, 62)"
      ]
     },
     "metadata": {},
     "output_type": "display_data"
    },
    {
     "data": {
      "text/plain": [
       "(23905, 375, 62)"
      ]
     },
     "metadata": {},
     "output_type": "display_data"
    },
    {
     "data": {
      "text/plain": [
       "(23967, 376, 62)"
      ]
     },
     "metadata": {},
     "output_type": "display_data"
    },
    {
     "data": {
      "text/plain": [
       "(24029, 377, 62)"
      ]
     },
     "metadata": {},
     "output_type": "display_data"
    },
    {
     "data": {
      "text/plain": [
       "(24091, 378, 62)"
      ]
     },
     "metadata": {},
     "output_type": "display_data"
    },
    {
     "data": {
      "text/plain": [
       "(24153, 379, 62)"
      ]
     },
     "metadata": {},
     "output_type": "display_data"
    },
    {
     "data": {
      "text/plain": [
       "(24215, 380, 62)"
      ]
     },
     "metadata": {},
     "output_type": "display_data"
    },
    {
     "data": {
      "text/plain": [
       "(24277, 381, 62)"
      ]
     },
     "metadata": {},
     "output_type": "display_data"
    },
    {
     "data": {
      "text/plain": [
       "(24339, 382, 62)"
      ]
     },
     "metadata": {},
     "output_type": "display_data"
    },
    {
     "data": {
      "text/plain": [
       "(24401, 383, 62)"
      ]
     },
     "metadata": {},
     "output_type": "display_data"
    },
    {
     "data": {
      "text/plain": [
       "(24463, 384, 62)"
      ]
     },
     "metadata": {},
     "output_type": "display_data"
    },
    {
     "data": {
      "text/plain": [
       "(24525, 385, 62)"
      ]
     },
     "metadata": {},
     "output_type": "display_data"
    },
    {
     "data": {
      "text/plain": [
       "(24587, 386, 62)"
      ]
     },
     "metadata": {},
     "output_type": "display_data"
    },
    {
     "data": {
      "text/plain": [
       "(24649, 387, 62)"
      ]
     },
     "metadata": {},
     "output_type": "display_data"
    },
    {
     "data": {
      "text/plain": [
       "(24711, 388, 62)"
      ]
     },
     "metadata": {},
     "output_type": "display_data"
    },
    {
     "data": {
      "text/plain": [
       "(24773, 389, 62)"
      ]
     },
     "metadata": {},
     "output_type": "display_data"
    },
    {
     "data": {
      "text/plain": [
       "(24835, 390, 62)"
      ]
     },
     "metadata": {},
     "output_type": "display_data"
    },
    {
     "data": {
      "text/plain": [
       "(24897, 391, 62)"
      ]
     },
     "metadata": {},
     "output_type": "display_data"
    },
    {
     "data": {
      "text/plain": [
       "(24959, 392, 62)"
      ]
     },
     "metadata": {},
     "output_type": "display_data"
    },
    {
     "data": {
      "text/plain": [
       "(25021, 393, 62)"
      ]
     },
     "metadata": {},
     "output_type": "display_data"
    },
    {
     "data": {
      "text/plain": [
       "(25083, 394, 62)"
      ]
     },
     "metadata": {},
     "output_type": "display_data"
    },
    {
     "data": {
      "text/plain": [
       "(25145, 395, 62)"
      ]
     },
     "metadata": {},
     "output_type": "display_data"
    },
    {
     "data": {
      "text/plain": [
       "(25207, 396, 62)"
      ]
     },
     "metadata": {},
     "output_type": "display_data"
    },
    {
     "data": {
      "text/plain": [
       "(25269, 397, 62)"
      ]
     },
     "metadata": {},
     "output_type": "display_data"
    },
    {
     "data": {
      "text/plain": [
       "(25331, 398, 62)"
      ]
     },
     "metadata": {},
     "output_type": "display_data"
    },
    {
     "data": {
      "text/plain": [
       "(25393, 399, 62)"
      ]
     },
     "metadata": {},
     "output_type": "display_data"
    },
    {
     "data": {
      "text/plain": [
       "(25455, 400, 62)"
      ]
     },
     "metadata": {},
     "output_type": "display_data"
    },
    {
     "data": {
      "text/plain": [
       "(25517, 401, 62)"
      ]
     },
     "metadata": {},
     "output_type": "display_data"
    },
    {
     "data": {
      "text/plain": [
       "(25579, 402, 62)"
      ]
     },
     "metadata": {},
     "output_type": "display_data"
    },
    {
     "data": {
      "text/plain": [
       "(25641, 403, 62)"
      ]
     },
     "metadata": {},
     "output_type": "display_data"
    },
    {
     "data": {
      "text/plain": [
       "(25703, 404, 62)"
      ]
     },
     "metadata": {},
     "output_type": "display_data"
    },
    {
     "data": {
      "text/plain": [
       "(25765, 405, 62)"
      ]
     },
     "metadata": {},
     "output_type": "display_data"
    },
    {
     "data": {
      "text/plain": [
       "(25827, 406, 62)"
      ]
     },
     "metadata": {},
     "output_type": "display_data"
    },
    {
     "data": {
      "text/plain": [
       "(25889, 407, 62)"
      ]
     },
     "metadata": {},
     "output_type": "display_data"
    },
    {
     "data": {
      "text/plain": [
       "(25951, 408, 62)"
      ]
     },
     "metadata": {},
     "output_type": "display_data"
    },
    {
     "data": {
      "text/plain": [
       "(26013, 409, 62)"
      ]
     },
     "metadata": {},
     "output_type": "display_data"
    },
    {
     "data": {
      "text/plain": [
       "(26075, 410, 62)"
      ]
     },
     "metadata": {},
     "output_type": "display_data"
    },
    {
     "data": {
      "text/plain": [
       "(26137, 411, 62)"
      ]
     },
     "metadata": {},
     "output_type": "display_data"
    },
    {
     "data": {
      "text/plain": [
       "(26199, 412, 62)"
      ]
     },
     "metadata": {},
     "output_type": "display_data"
    },
    {
     "data": {
      "text/plain": [
       "(26261, 413, 62)"
      ]
     },
     "metadata": {},
     "output_type": "display_data"
    },
    {
     "data": {
      "text/plain": [
       "(26323, 414, 62)"
      ]
     },
     "metadata": {},
     "output_type": "display_data"
    },
    {
     "data": {
      "text/plain": [
       "(26385, 415, 62)"
      ]
     },
     "metadata": {},
     "output_type": "display_data"
    },
    {
     "data": {
      "text/plain": [
       "(26447, 416, 62)"
      ]
     },
     "metadata": {},
     "output_type": "display_data"
    },
    {
     "data": {
      "text/plain": [
       "(26509, 417, 62)"
      ]
     },
     "metadata": {},
     "output_type": "display_data"
    },
    {
     "data": {
      "text/plain": [
       "(26571, 418, 62)"
      ]
     },
     "metadata": {},
     "output_type": "display_data"
    },
    {
     "data": {
      "text/plain": [
       "(26633, 419, 62)"
      ]
     },
     "metadata": {},
     "output_type": "display_data"
    },
    {
     "data": {
      "text/plain": [
       "(26695, 420, 62)"
      ]
     },
     "metadata": {},
     "output_type": "display_data"
    },
    {
     "data": {
      "text/plain": [
       "(26757, 421, 62)"
      ]
     },
     "metadata": {},
     "output_type": "display_data"
    },
    {
     "data": {
      "text/plain": [
       "(26819, 422, 62)"
      ]
     },
     "metadata": {},
     "output_type": "display_data"
    },
    {
     "data": {
      "text/plain": [
       "(26881, 423, 62)"
      ]
     },
     "metadata": {},
     "output_type": "display_data"
    },
    {
     "data": {
      "text/plain": [
       "(26943, 424, 62)"
      ]
     },
     "metadata": {},
     "output_type": "display_data"
    },
    {
     "data": {
      "text/plain": [
       "(27005, 425, 62)"
      ]
     },
     "metadata": {},
     "output_type": "display_data"
    },
    {
     "data": {
      "text/plain": [
       "(27067, 426, 62)"
      ]
     },
     "metadata": {},
     "output_type": "display_data"
    },
    {
     "data": {
      "text/plain": [
       "(27129, 427, 62)"
      ]
     },
     "metadata": {},
     "output_type": "display_data"
    },
    {
     "data": {
      "text/plain": [
       "(27191, 428, 62)"
      ]
     },
     "metadata": {},
     "output_type": "display_data"
    },
    {
     "data": {
      "text/plain": [
       "(27253, 429, 62)"
      ]
     },
     "metadata": {},
     "output_type": "display_data"
    },
    {
     "data": {
      "text/plain": [
       "(27315, 430, 62)"
      ]
     },
     "metadata": {},
     "output_type": "display_data"
    },
    {
     "data": {
      "text/plain": [
       "(27377, 431, 62)"
      ]
     },
     "metadata": {},
     "output_type": "display_data"
    },
    {
     "data": {
      "text/plain": [
       "(27439, 432, 62)"
      ]
     },
     "metadata": {},
     "output_type": "display_data"
    },
    {
     "data": {
      "text/plain": [
       "(27501, 433, 62)"
      ]
     },
     "metadata": {},
     "output_type": "display_data"
    },
    {
     "data": {
      "text/plain": [
       "(27563, 434, 62)"
      ]
     },
     "metadata": {},
     "output_type": "display_data"
    },
    {
     "data": {
      "text/plain": [
       "(27625, 435, 62)"
      ]
     },
     "metadata": {},
     "output_type": "display_data"
    },
    {
     "data": {
      "text/plain": [
       "(27687, 436, 62)"
      ]
     },
     "metadata": {},
     "output_type": "display_data"
    },
    {
     "data": {
      "text/plain": [
       "(27749, 437, 62)"
      ]
     },
     "metadata": {},
     "output_type": "display_data"
    },
    {
     "data": {
      "text/plain": [
       "(27811, 438, 62)"
      ]
     },
     "metadata": {},
     "output_type": "display_data"
    },
    {
     "data": {
      "text/plain": [
       "(27873, 439, 62)"
      ]
     },
     "metadata": {},
     "output_type": "display_data"
    },
    {
     "data": {
      "text/plain": [
       "(27935, 440, 62)"
      ]
     },
     "metadata": {},
     "output_type": "display_data"
    },
    {
     "data": {
      "text/plain": [
       "(27997, 441, 62)"
      ]
     },
     "metadata": {},
     "output_type": "display_data"
    },
    {
     "data": {
      "text/plain": [
       "(28059, 442, 62)"
      ]
     },
     "metadata": {},
     "output_type": "display_data"
    },
    {
     "data": {
      "text/plain": [
       "(28121, 443, 62)"
      ]
     },
     "metadata": {},
     "output_type": "display_data"
    },
    {
     "data": {
      "text/plain": [
       "(28183, 444, 62)"
      ]
     },
     "metadata": {},
     "output_type": "display_data"
    },
    {
     "data": {
      "text/plain": [
       "(28245, 445, 62)"
      ]
     },
     "metadata": {},
     "output_type": "display_data"
    },
    {
     "data": {
      "text/plain": [
       "(28307, 446, 62)"
      ]
     },
     "metadata": {},
     "output_type": "display_data"
    },
    {
     "data": {
      "text/plain": [
       "(28369, 447, 62)"
      ]
     },
     "metadata": {},
     "output_type": "display_data"
    },
    {
     "data": {
      "text/plain": [
       "(28431, 448, 62)"
      ]
     },
     "metadata": {},
     "output_type": "display_data"
    },
    {
     "data": {
      "text/plain": [
       "(28493, 449, 62)"
      ]
     },
     "metadata": {},
     "output_type": "display_data"
    },
    {
     "data": {
      "text/plain": [
       "(28555, 450, 62)"
      ]
     },
     "metadata": {},
     "output_type": "display_data"
    },
    {
     "data": {
      "text/plain": [
       "(28617, 451, 62)"
      ]
     },
     "metadata": {},
     "output_type": "display_data"
    },
    {
     "data": {
      "text/plain": [
       "(28679, 452, 62)"
      ]
     },
     "metadata": {},
     "output_type": "display_data"
    },
    {
     "data": {
      "text/plain": [
       "(28741, 453, 62)"
      ]
     },
     "metadata": {},
     "output_type": "display_data"
    },
    {
     "data": {
      "text/plain": [
       "(28803, 454, 62)"
      ]
     },
     "metadata": {},
     "output_type": "display_data"
    },
    {
     "data": {
      "text/plain": [
       "(28865, 455, 62)"
      ]
     },
     "metadata": {},
     "output_type": "display_data"
    },
    {
     "data": {
      "text/plain": [
       "(28927, 456, 62)"
      ]
     },
     "metadata": {},
     "output_type": "display_data"
    },
    {
     "data": {
      "text/plain": [
       "(28989, 457, 62)"
      ]
     },
     "metadata": {},
     "output_type": "display_data"
    },
    {
     "data": {
      "text/plain": [
       "(29051, 458, 62)"
      ]
     },
     "metadata": {},
     "output_type": "display_data"
    },
    {
     "data": {
      "text/plain": [
       "(29113, 459, 62)"
      ]
     },
     "metadata": {},
     "output_type": "display_data"
    },
    {
     "data": {
      "text/plain": [
       "(29175, 460, 62)"
      ]
     },
     "metadata": {},
     "output_type": "display_data"
    },
    {
     "data": {
      "text/plain": [
       "(29237, 461, 62)"
      ]
     },
     "metadata": {},
     "output_type": "display_data"
    },
    {
     "data": {
      "text/plain": [
       "(29299, 462, 62)"
      ]
     },
     "metadata": {},
     "output_type": "display_data"
    },
    {
     "data": {
      "text/plain": [
       "(29361, 463, 62)"
      ]
     },
     "metadata": {},
     "output_type": "display_data"
    },
    {
     "data": {
      "text/plain": [
       "(29423, 464, 62)"
      ]
     },
     "metadata": {},
     "output_type": "display_data"
    },
    {
     "data": {
      "text/plain": [
       "(29485, 465, 62)"
      ]
     },
     "metadata": {},
     "output_type": "display_data"
    },
    {
     "data": {
      "text/plain": [
       "(29547, 466, 62)"
      ]
     },
     "metadata": {},
     "output_type": "display_data"
    },
    {
     "data": {
      "text/plain": [
       "(29609, 467, 62)"
      ]
     },
     "metadata": {},
     "output_type": "display_data"
    },
    {
     "data": {
      "text/plain": [
       "(29671, 468, 62)"
      ]
     },
     "metadata": {},
     "output_type": "display_data"
    },
    {
     "data": {
      "text/plain": [
       "(29733, 469, 62)"
      ]
     },
     "metadata": {},
     "output_type": "display_data"
    },
    {
     "data": {
      "text/plain": [
       "(29795, 470, 62)"
      ]
     },
     "metadata": {},
     "output_type": "display_data"
    },
    {
     "data": {
      "text/plain": [
       "(29857, 471, 62)"
      ]
     },
     "metadata": {},
     "output_type": "display_data"
    },
    {
     "data": {
      "text/plain": [
       "(29919, 472, 62)"
      ]
     },
     "metadata": {},
     "output_type": "display_data"
    },
    {
     "data": {
      "text/plain": [
       "(29981, 473, 62)"
      ]
     },
     "metadata": {},
     "output_type": "display_data"
    },
    {
     "data": {
      "text/plain": [
       "(30043, 474, 62)"
      ]
     },
     "metadata": {},
     "output_type": "display_data"
    },
    {
     "data": {
      "text/plain": [
       "(30105, 475, 62)"
      ]
     },
     "metadata": {},
     "output_type": "display_data"
    },
    {
     "data": {
      "text/plain": [
       "(30167, 476, 62)"
      ]
     },
     "metadata": {},
     "output_type": "display_data"
    },
    {
     "data": {
      "text/plain": [
       "(30229, 477, 62)"
      ]
     },
     "metadata": {},
     "output_type": "display_data"
    },
    {
     "data": {
      "text/plain": [
       "(30291, 478, 62)"
      ]
     },
     "metadata": {},
     "output_type": "display_data"
    },
    {
     "data": {
      "text/plain": [
       "(30353, 479, 62)"
      ]
     },
     "metadata": {},
     "output_type": "display_data"
    },
    {
     "data": {
      "text/plain": [
       "(30415, 480, 62)"
      ]
     },
     "metadata": {},
     "output_type": "display_data"
    },
    {
     "data": {
      "text/plain": [
       "(30477, 481, 62)"
      ]
     },
     "metadata": {},
     "output_type": "display_data"
    },
    {
     "data": {
      "text/plain": [
       "(30539, 482, 62)"
      ]
     },
     "metadata": {},
     "output_type": "display_data"
    },
    {
     "data": {
      "text/plain": [
       "(30601, 483, 62)"
      ]
     },
     "metadata": {},
     "output_type": "display_data"
    },
    {
     "data": {
      "text/plain": [
       "(30663, 484, 62)"
      ]
     },
     "metadata": {},
     "output_type": "display_data"
    },
    {
     "data": {
      "text/plain": [
       "(30725, 485, 62)"
      ]
     },
     "metadata": {},
     "output_type": "display_data"
    },
    {
     "data": {
      "text/plain": [
       "(30787, 486, 62)"
      ]
     },
     "metadata": {},
     "output_type": "display_data"
    },
    {
     "data": {
      "text/plain": [
       "(30849, 487, 62)"
      ]
     },
     "metadata": {},
     "output_type": "display_data"
    },
    {
     "data": {
      "text/plain": [
       "(30911, 488, 62)"
      ]
     },
     "metadata": {},
     "output_type": "display_data"
    },
    {
     "data": {
      "text/plain": [
       "(30973, 489, 62)"
      ]
     },
     "metadata": {},
     "output_type": "display_data"
    },
    {
     "data": {
      "text/plain": [
       "(31035, 490, 62)"
      ]
     },
     "metadata": {},
     "output_type": "display_data"
    },
    {
     "data": {
      "text/plain": [
       "(31097, 491, 62)"
      ]
     },
     "metadata": {},
     "output_type": "display_data"
    },
    {
     "data": {
      "text/plain": [
       "(31159, 492, 62)"
      ]
     },
     "metadata": {},
     "output_type": "display_data"
    },
    {
     "data": {
      "text/plain": [
       "(31221, 493, 62)"
      ]
     },
     "metadata": {},
     "output_type": "display_data"
    },
    {
     "data": {
      "text/plain": [
       "(31283, 494, 62)"
      ]
     },
     "metadata": {},
     "output_type": "display_data"
    },
    {
     "data": {
      "text/plain": [
       "(31345, 495, 62)"
      ]
     },
     "metadata": {},
     "output_type": "display_data"
    },
    {
     "data": {
      "text/plain": [
       "(31407, 496, 62)"
      ]
     },
     "metadata": {},
     "output_type": "display_data"
    },
    {
     "data": {
      "text/plain": [
       "(31469, 497, 62)"
      ]
     },
     "metadata": {},
     "output_type": "display_data"
    },
    {
     "data": {
      "text/plain": [
       "(31531, 498, 62)"
      ]
     },
     "metadata": {},
     "output_type": "display_data"
    },
    {
     "data": {
      "text/plain": [
       "(31593, 499, 62)"
      ]
     },
     "metadata": {},
     "output_type": "display_data"
    }
   ],
   "source": [
    "for i in range(len(scores)-1):\n",
    "    display( (scores[i], i+1,scores[i+1] - scores[i]))"
   ]
  },
  {
   "cell_type": "code",
   "execution_count": 72,
   "metadata": {},
   "outputs": [
    {
     "data": {
      "text/plain": [
       "3100000000655"
      ]
     },
     "execution_count": 72,
     "metadata": {},
     "output_type": "execute_result"
    }
   ],
   "source": [
    "6731 + (50_000_000_000 - 98) * 62"
   ]
  },
  {
   "cell_type": "markdown",
   "metadata": {},
   "source": [
    "# Day 13.1"
   ]
  },
  {
   "cell_type": "code",
   "execution_count": 35,
   "metadata": {},
   "outputs": [],
   "source": [
    "track_map = \"\"\"                           /-------------------------------------------------------------------------------------------------\\\\                        \n",
    " /-------------------------+--\\\\/---------------------------------------------------------------------------------------------+----------\\\\             \n",
    " |                       /-+--++---------------------------------------------------------------------------------------------+------\\\\   |             \n",
    " |                /------+-+--++-------------------------------------------------------------------------<-\\\\                 |      |   |             \n",
    " |           /----+------+-+--++----------------\\\\                                                          |                 |      |   |             \n",
    " |           |    |      | |  ||                |                   /----------------\\\\                     |                 |      |   |             \n",
    " |           |    |      | | /++---------\\\\      |                   |                |                     |        /--------+------+---+-----------\\\\ \n",
    " |           |   /+------+-+-+++---------+------+-------------------+-------\\\\   /----+---------------------+--------+--------+------+--\\\\|           | \n",
    " |           |   ||      | | |||         |      |  /----------------+-------+---+----+---------------------+\\\\       |        |      |  ||           | \n",
    " | /---------+\\\\  ||      | | |||         |      |  |       /--------+-------+---+----+---------------------++-------+--------+------+--++--------\\\\  | \n",
    " | |         ||  ||      | | |||         |      |  |       | /------+-\\\\     |   |    |                     ||       |   /----+------+--++------\\\\ |  | \n",
    " | |         ||  ||      | | ||| /-------+---\\\\  |  |       | |      | |     |   |    |                     ||       |   |    |      |  ||      | |  | \n",
    " | |         ||  ||   /--+-+-+++-+--\\\\    |   |  |  |       | |      | |     |   |    |          /----------++-------+---+----+------+--++------+-+-\\\\| \n",
    " | |         ||  ||   |  | | ||| |  |    |   |  |  |       | |      | |     |  /+----+----------+----------++-------+---+----+------+--++------+-+\\\\|| \n",
    " | |         \\\\+--++---+--+-+-+++-+--+----+---+--/  |       | |      | |     |  ||    |          |          ||       |   |    |      |  ||      | |||| \n",
    " | |          |  ||   |  | | ||| |  |    |   |     |       | |      | |     |  ||    |          |          ||      /+---+----+------+--++-----\\\\| |||| \n",
    " | |          |  ||   |  | | ||| |/-+----+---+-----+-------+-+------+-+-----+--++----+----------+----------++------++---+----+---\\\\  |  ||     || |||| \n",
    "/+-+----------+--++---+--+-+-+++-++-+----+---+-----+-------+-+------+-+-----+--++----+---------\\\\|          ||      ||   |    | /-+--+--++---\\\\ || |||| \n",
    "|| |          |  ||   |  | | ||| || |/---+---+-----+-------+-+------+-+-----+--++----+---------++----------++------++-\\\\ |    | | |  |  ||   | || |||| \n",
    "|| |         /+--++---+--+-+-+++-++-++---+---+-----+\\\\      | |      | |     |  ||    |         ||          ||      || | |    | | |  |  ||   | || |||| \n",
    "|| |         || /++---+--+-+-+++-++-++---+---+-----++------+-+------+-+-----+--++----+--\\\\      ||          ||      || | |    | | |  |  ||   | || |||| \n",
    "|| |  /------++-+++---+--+\\\\| \\\\++-++-++---/   |     ||      | |   /--+-+-----+--++----+--+------++---------\\\\||      || | \\\\----+-+-+--+--++---+-+/ |||| \n",
    "|| |  |      || |||   |  ||\\\\--++-++-++-------+-----++------+-+---+--+-+-----+--++----+--+------++-------->+++------++-+------/ | |  |  ||   | |  |||| \n",
    "|| |  |      || |||   |  ||   || || ||       |     ||      | |   |  | |     |  || /--+--+------++---------+++------++-+--------+-+--+--++\\\\  | |  |||| \n",
    "|| |  |      || |||   |  \\\\+---++-++-++-------+-----++------+-+---+--+-+-----+--++-+--+--+------++---------+++------++-+--------+-+--/  |||  | |  |||| \n",
    "|| |  |      || |||   | /-+---++-++-++-------+-----++------+-+---+--+-+-----+--++-+--+--+------++---------+++------++-+\\\\       |/+-----+++--+-+--++++\\\\\n",
    "|| \\\\--+------+/ |||   | | |   || || ||       |     ||      | |   |  | |     |  || |  |  |      ||         |||      || ||       |||     |||  | |  |||||\n",
    "||    |      |  ||| /-+-+-+---++-++-++-------+-----++------+-+---+--+-+-----+--++-+--+\\\\ |      ||         |||      ||/++-------+++-----+++--+-+-\\\\|||||\n",
    "||    |      |  ||| | | | |   || || ||       | /---++------+-+---+--+-+-----+--++-+\\\\ || |      ||   /-----+++------+++++---\\\\   |||     |||  | | ||||||\n",
    "||    |    /-+--+++-+-+-+-+---++-++-++-------+-+---++------+-+---+--+-+-----+--++-++-++-+------++---+----\\\\|||      |||||   |   |||     |||  | | ||||||\n",
    "||/---+----+-+--+++-+-+-+-+---++-++-++-------+-+---++---\\\\  | |   |  \\\\-+-----+--++-++-/| |      ||   |    ||||      |||||   |   |||     |||  | | ||||||\n",
    "|||   |    | |  ||| | | | |   || || ||       | |   ||   |  | |   |    |     |  || ||  | |      ||   |    ||||      |||||   |   |||     |||  | | ||||||\n",
    "|||   |    | |  ||| | | | |/--++-++-++-------+-+---++---+--+-+---+----+-----+--++-++--+-+------++---+----++++\\\\     |||||   |   |||     |||  | | ||||||\n",
    "|||   |    | |  ||| | | | ||  || || ||       | |/--++---+--+-+---+----+-----+--++-++--+-+------++---+----+++++-----+++++-\\\\ |   |||     |||  | | ||||||\n",
    "|||   |    | |  ||| |/+-+-++--++-++-++-------+-++--++---+--+-+---+----+-----+--++-++--+-+------++---+----+++++-----+++++-+\\\\|   |||     |||  | | ||||||\n",
    "|||   |    | |  ||| ||| | ||  || || ||       | ||  ||   |  |/+---+----+--\\\\  |  || ||  | |      ||   |    |||||    /+++++-+++-\\\\ |||     |||  | | ||||||\n",
    "|||   |    | |  ||| ||| | ||  || \\\\+-++-------/ ||  ||   |  |||   |    |  |  |  \\\\+-++--+-+------++---+----+++++----++++++-+++-+-+++-----+++--+-+-++/|||\n",
    "|||   |   /+-+--+++-+++-+-++--++--+-++---------++--++---+--+++--\\\\|    |  |  |   | ||  | |      ||   | /--+++++----++++++-+++-+-+++--\\\\  |||  | | || |||\n",
    "|||   |   || |  ||| ||| | ||  || /+-++---------++--++---+--+++--++----+--+--+---+-++--+-+------++---+-+--+++++-\\\\  |||||| ||| | |||  |  |||  | | || |||\n",
    "|||   |   || |  ||| ||| \\\\-++--++-++-++---------++--++---+--+++--++----+--+--+---+-++--+-+------++---+-+--+++++-+--+++++/ ||| | |||  |  |||  | | || |||\n",
    "|||   |   || |  ||| |||   ||  || || ||  /------++--++---+--+++--++----+--+--+---+-++--+-+-<----++---+-+--+++++\\\\|  |||||  ||| | |||  |  |||  | | || |||\n",
    "|||   |   || |  ||| |||   ||  || || ||  |/-----++--++---+--+++--++----+--+--+---+-++--+-+\\\\     ||   | |  |||||||  |||||  ||| | |||  |  |||  | | || |||\n",
    "|||   |   || |  ||| |||   |^  || || ||  ||     |\\\\--++---+--+++--++----+--+--+---+-++--+-++-----++---+-+--+++++++--+++++--/|| | |||  |  |||  | | || |||\n",
    "|||   |   || |  ||| |||/--++--++-++-++--++-----+---++---+--+++--++----+--+--+---+\\\\||  | ||     ||   | |  |||||||  |||||   || | |\\\\+--+--+++--+-+-++-++/\n",
    "|||   |   || |  ||| ||||/-++--++-++-++--++-----+---++---+--+++--++----+--+--+-\\\\ ||||  | ||     ||   \\\\-+--+++++++--+++++---+/ | | |  |  |||  | | || || \n",
    "|||   |   ||/+--+++-+++++-++--++-++-++--++----\\\\|   ||   |  |||  ||    |  |  | | ||||  | ||     ||   /-+--+++++++--+++++---+--+-+-+--+--+++\\\\ | | || || \n",
    "||\\\\---+---++++--+++-+++++-++--++-++-++--++----++---++---/  |||  ||    |  |  | | ||||  | ||     ||   | |  |||||||  |||\\\\+---+--+-+-+<-+--++++-+-+-/| || \n",
    "||    |   ||||  ||| ||||| ||  || ||/++--++----++---++------+++--++----+--+--+-+-++++--+-++-----++---+-+-\\\\|||||||  ||| |   |  | | |  |  |||| | |  | || \n",
    "||    |   ||||  ||| ||||| ||  || |||||  ||    ||   ||      |||  ||    |  |  | | ||\\\\+--+-++-----++---+-+-++++++++--+++-+---+--+-+-+--+--++/| | |  | || \n",
    "||   /+---++++--+++-+++++-++--++\\\\|||||  || /--++---++------+++--++----+--+--+-+-++-+--+-++-----++---+-+-++++++++--+++-+---+--+-+-+--+--++-+-+-+--+-++\\\\\n",
    "||   ||   ||||  ||| ||||| ||  |||||||| /++-+--++---++------+++--++----+--+--+-+-++-+--+-++-----++---+-+-++++++++--+++-+---+--+-+-+--+-\\\\|| | | |  | |||\n",
    "||   ||   ||||  ||| \\\\++++-++--++++++++-+++-+--++---++------+++--++----+--+--+-+-++-+--/ ||     |\\\\---+-+-++++++++--+++-+---+--+-+-+--+-+++-+-+-+--+-/||\n",
    "||   ||   ||||  |||/-++++-++--++++++++-+++-+--++---++------+++--++----+--+--+-+-++-+----++-\\\\   |    | | ||||||||  ||| |   |  | | |  | ||| | | |  |  ||\n",
    "||   ||   ||||  |||| \\\\+++-++--++++++++-+++-+--++---++------+++--++----+--+--+-+-++-+----++-+---+----+-+-++++++++--+++-+---/  | | |  | ||| | | |  |  ||\n",
    "||   ||   ||||  ||||  ||| ||  |||||||| |||/+--++---++------+++--++----+--+\\\\ | | || |    || |   |    | | ||||||||  ||| |      | | |  | ||| | | |  |  ||\n",
    "||   ||   ||||  ||||  ||| ||  |||||||| |||||  ||  /++------+++--++----+--++-+-+-++-+\\\\   || |   |    | | ||||||||  ||| |      | | |  |/+++-+-+-+-\\\\|  ||\n",
    "||   || /-++++--++++--+++-++--++++++++-+++++--++--+++------+++--++----+--++-+-+-++-++---++-+---+----+-+-++++++++-\\\\||| |      | | |  ||||| | | | ||  ||\n",
    "|| /-++-+-++++--++++--+++-++--++++++++-+++++--++--+++------+++--++----+-\\\\|| | | || ||   || |   |    | | |||||||| |||| |      | | |  ||||| | | | ||  ||\n",
    "|| | || | ||||  ||||  ||| ||  |||||||| |||||  ||  |||      |||  ||    | ||| | | || ||   || |   |    | | |||||||| |||| |      | | |  ||||| | | | ||  ||\n",
    "|| | || | ||||  ||||  ||| ||  |||||||| |||||  || /+++------+++--++----+-+++-+-+-++-++---++-+---+----+-+-++++++++\\\\|||| |      | | |  ||||| | | | ||  ||\n",
    "|| | || | |||\\\\--++++--+++-++--++++++++-+++++--++-+++/      |||/-++----+-+++-+-+-++-++---++-+---+----+-+\\\\||||||||||||| |      | | |  ||||| | | | ||  ||\n",
    "|| | || | |||   |||| /+++-++--++++++++-+++++--++\\\\|||       |||| ||    | ||| | | || ||   || |   |    | ||||||||||||||| |      | | |  ||||| | | | ||  ||\n",
    "||/+-++-+-+++---++++-++++-++--++++++++-+++++--++++++-------++++-++----+-+++\\\\| | || ||   || |   |    | ||||||||||||||| |      | \\\\-+--+++++-+-/ | ||  ||\n",
    "|||| || | |||   |||| |||| ||  |||||||| |||||  ||||||       |||| ||/---+-+++++-+-++-++---++-+---+-\\\\  | ||||||||||||||| |      |   |  ||||| |   | ||  ||\n",
    "|||| || | |||   |||| |||| ||  |||||||| |||||  ||||||       ||\\\\+-+++---/ ||||| | || ||   || |   | |  | ||||||||||||||| |      |   |  ||||| |   | ||  ||\n",
    "|||| || | |||   |||| |||| ||  |||||||| |||||  ||||||       || | |||     ||||| | || ||   || |   | |  | ||||||||||||||| |      |   |  ||||| |   | ||  ||\n",
    "|||| || | ||\\\\---++++-++++-++--++++++++-+++++--/|||||       || | |||  /--+++++-+-++-++---++-+---+-+--+-+++++++++++++++-+------+--\\\\|  ||||| |   | ||  ||\n",
    "|||| || \\\\-++----++++-++++-++--++++++++-+++++---+++++-------++-+-+++--+--+++++-+-++>++---++-+---+-+>-+-+++++++++++/||| |      |  ||  ||||| |   | ||  ||\n",
    "||||/++---++---\\\\||\\\\+-++++-++--++++++++-+++++---+++++-------++-+-+++--+--+++++-+-++-++---++-+---+-+--+-+++++/||||| ||| |      |  ||  ||||| |   | ||  ||\n",
    "|||||||   ||   ||| | |||\\\\-++--++++++++-+++++---+++++-------++-+-+++--+--+++++-/ || ||   ||/+---+-+-\\\\| ||||| ||||| ||| |   /--+--++--+++++-+---+-++-\\\\||\n",
    "|||||||  /++---+++-+-+++-\\\\||  |||||||| |||||   |||||       || | |||  |  |||||   || ||   ||||   | | || ||||| ||||| ||| |   |  |  ||  ||||| |   | || |||\n",
    "|||||||  |||   ||| | ||| |||  |||||||| |||||   |||||       || | ||v  |  |||||   || ||   ||||   | | || ||||| ||||| ||| |   |  |  ||  ||||| |   | || |||\n",
    "|||||||  |||   ||| | ||| |||  |||||||| |||||   |||||     /-++-+-+++--+--+++++---++-++---++++---+-+-++-+++++-+++++-+++-+-\\\\ |  |  ||  ||||| |   | || |||\n",
    "|||||||  |||   ||| | ||| |||  |||||||| ||\\\\++---+++++-----+-++-+-+++--+--+++++---++-++---+/||   | | || ||||| ||||| ||| | | |  |  ||  ||||| |   | || |||\n",
    "|||||||  ||| /-+++-+-+++-+++--++++++++-++-++---+++++-\\\\   | || | |\\\\+--+--+++++---++-++---+-++---+-+-++-++++/ ||||| ||| | | |  |  ||  ||||| |   | || |||\n",
    "|||||||  ||| | ||| | ||| ||| /++++++++-++-++---+++++-+---+-++-+\\\\| |  |  |||||   || ||   | ||   | | || ||||  ||||| ||| | | |  |  || /+++++-+--\\\\| || |||\n",
    "|||||||  ||| | ||| | ||| ||| ||||||||| || ||   ||||| |/--+-++-+++-+--+--+++++---++-++-\\\\ | ||   | | || ||||  ||||| ||| | | |  |  || |||||| |  || || |||\n",
    "|||||||  ||| | ||| | ||| ||| ||||||||| || ||   ||||| ||  | || ||| |  |  |||||   || || | | ||   | | || ||||  ||||| ||| | | |  |  || |||||| |  || || |||\n",
    "|||||||  ||| | ||| | ||| ||| ||||||||| || ||   ||||| ||  | || ||| |  |  |||||   || || | | \\\\+---+-+-/| ||||  ||||| ||| | | |  |  || |||||| |  || || |||\n",
    "|||||||  ||| | ||| | ||| ||| |||||\\\\+++-++-++---+++++-++--+-++-+++-+--+--+++++---++-++-+-+--+---+-+--+-++++--+++++-+++-+-+-+--+--+/ |||||| |  || || |||\n",
    "|||||||  ||| | ||| | ||| |||/+++++-+++-++-++---+++++-++--+-++-+++-+--+--+++++---++-++-+-+--+---+-+--+-++++--+++++-+++-+-+-+--+-\\\\|  |||||| |  || || |||\n",
    "|||||||  ||| | ||| | ||| ||||||||| |||/++-++---+++++-++--+-++-+++-+--+--+++++---++-++-+-+--+--\\\\| |  | ||||  ||||| ||| | | |  | ||  |||||| |  || || |||\n",
    "|||||||  ||| | ||| | ||| ||||||||| |||||| ||   ||||| ||  | || ||| |  |  |||||   || || | |  |  || |  | ||||  ||||| ||| | | |  | ||  |||||| |  || || |||\n",
    "|||||||  ||| | ||| | ||| ||||||||| |||||| ||   ||||| ||  | || ||| |  |  |||||   || || | |  |  || |  | ||||  ||||| ||\\\\-+-+-+--+-++--++++++-+--++-++-+/|\n",
    "|||||||  ||| | ||| | ||| ||||||||| |||||| ||   ||||| ||  | || ||| |/-+--+++++---++-++-+-+--+--++-+--+-++++--+++++-++--+-+-+--+-++--++++++-+\\\\ || || | |\n",
    "|||||||  ||| | ||| | |\\\\+-+++++++++-+/|||| ||   ||||| ||  | || ||| || |  |||||   || || | |  |  || |  | ||||  ||||| ||  | | |  | ||  \\\\+++++-++-/| || | |\n",
    "|||||||  ||| | ||| | | | ||||||||| | |||| ||   ||||| |\\\\--+-++-+++-++-+--+++++---++-++-/ |  |  || |  | ||||  ||||| |\\\\--+-+-+--+-++---+++++-++--/ || | |\n",
    "|||||||  ||| | ||| | | | ||||||||| | ||\\\\+-++---+++++-+---+-++-+++-++-+--+++++---++-++---+--+--++-+--+-++++--+++++-+---+-+-+--+-++---++/|| ||    || | |\n",
    "|\\\\+++++--+++-+-+++-+-+-+-+++++/||| | || | ||   ||||| |   | || ||| || |/-+++++---++-++---+--+--++\\\\|  | ||||  ||||| |   | | |  | ||   || || ||    || | |\n",
    "| |||||  ||| | ||| | | | ||||| ||| | || | ||   ||||| |   | || ||| || || |||||   || ||   |  |  ||||  | ||||  ||||| |   | | |  | ||   || || ||    || | |\n",
    "| ||\\\\++--+++-+-/|| | | | ||||| ||| | || | ||/--+++++-+---+-++-+++-++-++\\\\|||||   || ||   |  |  ||||  | ||||  ||||| |   | | |  | ||   || || ||    || | |\n",
    "| || ||  ||| |  || | | | ||||| ||| | || | |||  ||||\\\\-+---+-++-+++-++-++++++++---++-++---+--+--++++--+-++++--/|||| |   | | |  | ||   || || ||    || | |\n",
    "| || ||  ||| |  || | | | ||||| ||| |/++-+-+++--++++--+---+-++-+++-++-++++++++---++-++---+--+--++++-\\\\| ||||   |||| |   | | |  | ||   || |v ||    || | |\n",
    "| || ||  |||/+--++-+-+-+-+++++-+++-++++-+-+++--++++--+---+-++-+++-++-++++++++---++-++---+--+--++++\\\\|| ||||   |||| |   | | |  | ||   || || ||    || | |\n",
    "| || ||  |||||  || | | | ||||| ||| ||\\\\+-+-+++--++++--+---+-++-+++-++-++++++++---++-++---+--+--+++++++-++++---++++-+---/ | |  | ||   v| || ||    || | |\n",
    "| ||/++--+++++--++-+-+-+-+++++-+++-++-+-+-+++--++++--+---+-++-+++-++-++++++++---++-++--\\\\|  |  ||||||| ||||   |||| |     | |  | ||   || || ||    || | |\n",
    "| |||||  |||||  |\\\\-+-+-+-+++++-+++-++-+-+-+++--++++--+---+-++-+++-++-+++++++/   || ||  ||  |  ||||||| ||||   |||| |     | |  | ||   || || ||    || | |\n",
    "| |||||  |||||  |  | | | ||||| ||| || | | |||  ||||  |   | || ||| || |||||||  /-++-++--++--+-\\\\||||||| ||||   |||| |     | |  | ||   || || ||    || | |\n",
    "| |||||  |||||  |/-+-+-+-+++++-+++-++-+-+\\\\|||  ||||  |   | || \\\\++-++-+++++++--+-++-++--++--+-++++++++-+/||   |||| \\\\-----+-+--/ ||   || || ||    || | |\n",
    "| |||||  |||||  || | | | |v||| ||| || | |||||  ||||/-+---+-++--++-++-+++++++--+-++-++--++--+-++++++++-+-++---++++-------+-+----++---++-++-++----++-+\\\\|\n",
    "| |||||  |||||  || | | | ||||| ||| || | |||||  ||||| |   | ||  || || |||||||  | || ||  ||  | |^||||||/+-++---++++------\\\\| |    ||   || || ||    || |||\n",
    "| |||||  |||||  || | | | ||||\\\\-+++-++-+-+++++--+++++-+---+-++--/| || |||||||  | || ||  ||  | |||||||||| ||   ||||      || |    ||   || || ||    || |||\n",
    "| |||||  |||||  || | | | ||||  \\\\++-++-+-+++++--+++++-+---+-++---+-++-+++++++--+-++-++--++--+-++++++++++-++---++++------++-+----++---++-+/ ||    || |||\n",
    "| |||||  |||||  || | | | ||||   || || | |||||  ||||| |   | ||   | |\\\\-+++++++--+-++-++--++--+-++++++++++-++---++++------++-+----++---++-+--+/    || |||\n",
    "| |||||  |||||/-++-+-+-+-++++---++-++-+-+++++--+++++-+---+-++---+-+>-+++++++--+-++-++--++--+-++++++++++-++---++++----\\\\ || |    ||   || |  |     || |||\n",
    "| |||||  |||||| || | | | ||||   || || | |||||  ||||| |   | ||   | |  |||||||  | |^ ||  ||  | |||||||||| ||   ||||    | || |   /++-<-++-+--+---\\\\ || |||\n",
    "| |||||  |||||| || | | | ||||   || || \\\\-+++++--+++++-+---+-++---+-+--+++++++--+-++-++--++--+-+/|||||||| ||   ||||    | || |   |||   || |  |   | || |||\n",
    "| |||||  |||||| || | | | ||\\\\+---++-++---+++++--+++++-+---+-++---+-+--+++++++--+-++-++--++--+-+-++++++++-++---/|||    | || |   |||   || |  |   | || |||\n",
    "| ||||\\\\--++++++-++-+-+-+-+/ |   || ||   |||||  ||||| |   | ||   | |  |||||||  | || ||  ||  | | |||||||| ||    |||    | || |   |||   || |  |   | || |||\n",
    "| ||||   |||||| || | | \\\\-+--+---++-++---+++++--+++++-+---+-++---+-+--+++++++--+-+/ ||  ||  | | |||||||| ||    |||    | || \\\\---+++---++-+--+---+-++-/||\n",
    "| ||||   |||||| || | |   |  |   || ||   \\\\++++--+++++-+---+-++---+-+--+++++++--+-+--++--++--+-+-++++++++-++----/||    | ||     |||   || |  |   | ||  ||\n",
    "| ||||   |||||| |\\\\-+-+---+--+---++-++----/||\\\\--+++++-+---+-++---+-+--++/||||  | |  ||  ||  | | |||||||| ||     ||/---+-++-\\\\   |||   || |  |   | ||  ||\n",
    "| ||||   |||||| |  | |   |  |   || ||     ||   ||||| |   | \\\\+---+-+--++-++++--+-+--++--++--+-+-++++++++-++-----+++---+-++-+---+++---++-+--+---+-+/  ||\n",
    "| ||\\\\+---++++++-+--+-+---+--+---++-++-----++---+++++-+---+--+---+-+--++-++++--+-+--++--/|  | | |||||||| ||     |||   | || |   |||   || |  |   | |   ||\n",
    "| || |   |||||| |  | |   |  |   || ||     ||   ||||| |   |  |   | |  || ||||  | \\\\--++---+--+-+-++++++++-++-----+++---+-++-+---+++---++-/  |   | |   ||\n",
    "| || |   |||||| |  | |   |  |   || ||     ||   ||||| |   |  |   | |  || ||||  |    ||   |  | | |||||||| ||     |||   | || |   |||   ||/---+---+-+-\\\\ ||\n",
    "| || |   \\\\+++++-+--+-+---/  |   || ||     ||   ||||\\\\-+---+--+---+-+--++-++++--+----++---+--+-+-++++++++-++-----+++---+-++-+---+++---+++---+---+-+-+-/|\n",
    "| \\\\+-+----+++++-+--+-+------+---++-++-----++---++++--+---+--+---+-+--++-+++/  |    ||/--+--+-+-++++++++-++-----+++---+-++-+\\\\  |||   |||   |   | | |  |\n",
    "|  | |    ||||| |  | |      |   || ||     ||   ||||  |   |  |   | |  || |||   |    |||  |  | | |||||||| ||     |||   | || ||  ||| /-+++---+\\\\  | | |  |\n",
    "|  | |    ||||| |  | |  /---+---++-++-----++---++++\\\\ |   |  |   | |  || |||   |    |||  |  | | |||||||| ||     |||   | || ||  ||| | |||   ||  | | |  |\n",
    "|  | |    ||||| |  | |  |   |   || ||     ||   \\\\++++-+---+--+---+-+--++-+++---+----/||  |  | | |||||||| ||     |||   | || ||  ||| | |||   ||  | | |  |\n",
    "\\\\--+-+----+++++-+--+-+--+---+---++-++-----++----++++-+---+--+---+-+--++-+++---+-----++--+--+-+-/||||\\\\++-++-----+++---+-++-++--+++-+-+++---/|  | | |  |\n",
    "   | |    ||\\\\++-+--+-+--+---+---++-++-----++----++++-+---+--+---+-+--++-+++---+-----++--+--+-+--++/| || ||     |||   | || ||  ||| | |||    |  | | |  |\n",
    "   | |    |\\\\-++-+--+-+--+---+---++-++-----++----++++-+---+--+---+-+--++-+++---+-----++--+--+-+--++-+-++-+/     |||   | || ||  ||| | |||    |  | | |  |\n",
    "   | |    |  || |  | |  |   |   |\\\\-++-----++----++++-+---+--+---+-+--++-+++---+-----++--+--+-+--++-+-++-+------/||   | || ||  ||| | |||    |  | | |  |\n",
    "   | |    |  || |  | |  |   |   |  ||     ||    |||| |   |  |   | |/-++-+++---+-----++--+--+-+--++-+-++>+-------++---+-++-++--+++-+\\\\|||    |  | | |  |\n",
    "   | |    |  || \\\\--+-+--+---+---+--++-----++----++++-+---+--+---+-++-++-+++---+-----++--/  | |  || | || |       ||   |/++-++--+++-+++++----+--+-+\\\\|  |\n",
    "   | |    |  ||    | |  |   |   |  ||     ||    |\\\\++-+---+--+---+-++-++-+++---+-----++-----+-+--++-+-++-+-------/|   |||| ||  ||| |||||    |  | |||  |\n",
    "   \\\\-+----+--++----+-+--+---+---+--++-----++----+-++-+---+--+---+-++-++-/||   |     ||     | |  || | || |        |   |||| ||  ||| |||||    |  | |||  |\n",
    "     |    |  ||    | |  |   |   |  ||     ||    | || |   |  |   | \\\\+-++--++---+-----++-----+-+--+/ | || |        |   |||| ||  ||| |||||    |  | |||  |\n",
    "     |    |  ||    | |  |   |   |  \\\\+-----++----+-++-+---+--+---+--+-++--++---+-----++-----+-+--+--+-++-//-------+---++++\\\\||  ||| |||||    |  | |||  |\n",
    "     |    |  ||  /-+-+--+---+---+---+\\\\    ||    | || |   |  |   |  | |\\\\--++---+-----++-----+-+--/  | ||  |       |   |||||||  ||| |||||    |  | |||  |\n",
    "     |    \\\\--++--+-+-+--+---+---+---++----++----+-++-+---+--+---/  | |   ||   |     ||     | |     | ||  |       |   |||||||  ||| |||\\\\+----+--+-/||  |\n",
    "     |       ||  | | |  |   |   |   ||    |\\\\----+-++-+---+--+------+-+---++---+-----++-----+-+-----+-++--+-------+---+++++++--+++-+++-+----+--+--++--/\n",
    "     |       ||  | | |  \\\\---+---+---++----+-----+-+/ |   |  |      | |   ||   |     ||     | |     | ||  |       |   |||||||  ||| ||| |    |  |  ||   \n",
    "     |       ||  | | |      |   |   ||    |     | |  |   |  |      | |   ||   |     |\\\\-----+-+-----+-++--+-------+---++++++/  ||| ||| |    |  |  ||   \n",
    "     |       ||  | | \\\\------+---+---++----+-----/ |  |   |  |      \\\\-+---++---+-----+------+-+-----+-++--+-------+---++++++---+++-+/| |    |  |  ||   \n",
    "     |       ||  | |        |   |   ||    |       |  |   |  |        |   ||   \\\\-----+------+-/     | |\\\\--+-------+---++++++---+++-+-/ |    |  |  ||   \n",
    "     |       \\\\+--+-+--------+---+---++----+-------+--/   |  |        |   ||         |      |       | \\\\---+-------+---++/|||   ||| |   |    |  |  ||   \n",
    "     |        |  | \\\\--------+---+---++----+-------+------+--+--------+---++---------+------/       |     |       |   || |||   ||| |   |    |  |  ||   \n",
    "     |        |  |          |   |   ||    |       |      |  \\\\--------+---/| /-------+--------------+-----+-------+\\\\  |\\\\-+++-<-+++-+---+----+--+--/|   \n",
    "     |        |  |          |   |   ||    |       |      \\\\-----------+----+-+-------+--------------+-----+-------++--+--/||   ||| |   |    |  |   |   \n",
    "     |        |  |          |   |   \\\\+----+-------+------------------+----+-+-------+--------------/     |       ||  |   ||   ||| |   |    |  |   |   \n",
    "     |        |  |          |   |    |    |       |                  \\\\----+-+-------+--------------------+-------++--+---++---++/ |   |    |  |   |   \n",
    "     |        |  \\\\----------+---+----/    |       \\\\-----------------------+-+-------/                    |       \\\\+--+---+/   \\\\+--+---+----+--/   |   \n",
    "     \\\\--------+-------------+---/         |                               | |                            \\\\--------+--+---/     |  \\\\---+----/      |   \n",
    "              |             \\\\-------------+-------------------------------+-+-------------------------------------+--+---------/      |           |   \n",
    "              \\\\---------------------------+-------------------------------+-+-------------------------------------+--/                |           |   \n",
    "                                          |                               | |                                     |                   \\\\-----------/   \n",
    "                                          \\\\-------------------------------/ \\\\-------------------------------------/\n",
    "\"\"\""
   ]
  },
  {
   "cell_type": "code",
   "execution_count": 38,
   "metadata": {},
   "outputs": [
    {
     "data": {
      "text/plain": [
       "17"
      ]
     },
     "execution_count": 38,
     "metadata": {},
     "output_type": "execute_result"
    }
   ],
   "source": [
    "import re\n",
    "\n",
    "# track_map = \"\"\"/->-\\\\        \n",
    "# |   |  /----\\\\\n",
    "# ^ /-+--+-\\  |\n",
    "# | | |  | v  |\n",
    "# \\\\-+-/  \\\\-+--/\n",
    "#   \\\\-<----/   \"\"\"\n",
    "\n",
    "# track_map = \"\"\"\n",
    "# /->--\\\\        \n",
    "# |    |  \n",
    "# | /--+-\\\\\n",
    "# v |  | |\n",
    "# \\-+--/ ^\n",
    "#   |    | \n",
    "#   \\----/\n",
    "# \"\"\"\n",
    "\n",
    "# track_map = \"\"\"/>-<\\\\  \n",
    "# |   |  \n",
    "# | /<+-\\\\\n",
    "# | | | v\n",
    "# \\>+</ |\n",
    "#   |   ^\n",
    "#   \\<->/\"\"\"\n",
    "\n",
    "m = [list(r) for r in track_map.splitlines()]\n",
    "\n",
    "tracks = [[c for c in r] for r in m]\n",
    "\n",
    "class Cart:\n",
    "    def __init__(self, x, y, direction):\n",
    "        self.x = x\n",
    "        self.y = y\n",
    "        self.direction = direction\n",
    "        self.turn_index = 0\n",
    "        self.turns = ['l', 's', 'r']\n",
    "        \n",
    "    def move(self):\n",
    "        if self.direction == 'v':\n",
    "            self.y += 1\n",
    "        elif self.direction == '^':\n",
    "            self.y -= 1\n",
    "        elif self.direction == '>':\n",
    "            self.x += 1\n",
    "        elif self.direction == '<':\n",
    "            self.x -= 1\n",
    "            \n",
    "    def turn(self, track):\n",
    "        turns = {'l': {'v':'>', '>':'^', '^':'<', '<':'v'}\n",
    "                , 'r': {'v':'<', '<':'^', '^':'>', '>':'v'}\n",
    "                , 's': {'v':'v', '<':'<', '^':'^', '>':'>'}\n",
    "                , '/': {'<':'v', '^':'>', 'v':'<', '>':'^'}\n",
    "                , '\\\\': {'>':'v', '^':'<', 'v':'>', '<':'^'}}\n",
    "        \n",
    "        if track == '+':\n",
    "            turn = self.turns[self.turn_index]\n",
    "            self.direction = turns[turn][self.direction]\n",
    "            self.turn_index = (self.turn_index + 1) % 3\n",
    "        else:\n",
    "            self.direction = turns[track][self.direction]\n",
    "            \n",
    "        \n",
    "    def describe(self):\n",
    "        return (self.x, self.y, self.direction, self.turn_index)\n",
    "    \n",
    "def detect_collision( carts ):\n",
    "    locs = {}\n",
    "    collisions = []\n",
    "    \n",
    "    for c in carts:\n",
    "        if (c.x,c.y) in locs.keys():\n",
    "            collisions.append( c )\n",
    "            collisions.append( locs[(c.x, c.y)] )\n",
    "        else:\n",
    "            locs[(c.x,c.y)] = c\n",
    "            \n",
    "    return collisions\n",
    "            \n",
    "    \n",
    "def sort_carts( carts ):\n",
    "    carts.sort( key=lambda c: (c.y, c.x) )\n",
    "    \n",
    "def tick( tracks, carts, remove_collisions = False ):\n",
    "    sort_carts(carts)\n",
    "    collisions = set()\n",
    "    for c in carts:\n",
    "        x,y = (c.x, c.y)\n",
    "        track = tracks[y][x]\n",
    "        if track == '/' or track == '\\\\' or track == '+':\n",
    "            c.turn(track)\n",
    "            \n",
    "        c.move()\n",
    "        collisions.update( detect_collision( carts ) )\n",
    "\n",
    "    if remove_collisions:\n",
    "        for cart in collisions:\n",
    "            carts.remove( cart )\n",
    "\n",
    "    return collisions\n",
    "        \n",
    "def draw_track( tracks, carts ):\n",
    "    track_copy = [[str(c) for c in r] for r in tracks]\n",
    "    for c in carts:\n",
    "        track_copy[c.y][c.x] = c.direction\n",
    "    \n",
    "    print( '\\n'.join([''.join(str(c) for c in r) for r in track_copy]) )\n",
    "\n",
    "carts = []\n",
    "        \n",
    "for y in range( len(m) ):\n",
    "    r = m[y]\n",
    "    for x in range( len( m[y] )):\n",
    "        c = r[x]\n",
    "        \n",
    "        if c == '>' or c == '<':\n",
    "            carts.append( Cart(x,y,c) )\n",
    "            tracks[y][x] = '-'\n",
    "        elif c == '^' or c == 'v':\n",
    "            carts.append( Cart(x,y,c) )\n",
    "            tracks[y][x] = '|'\n",
    "            \n",
    "len( [c.describe() for c in carts] )"
   ]
  },
  {
   "cell_type": "code",
   "execution_count": 24,
   "metadata": {
    "scrolled": true
   },
   "outputs": [
    {
     "data": {
      "text/plain": [
       "[(64, 58, 'v', 0), (64, 57, 'v', 2)]"
      ]
     },
     "execution_count": 24,
     "metadata": {},
     "output_type": "execute_result"
    }
   ],
   "source": [
    "collision = detect_collision( carts )\n",
    "while not collision:\n",
    "    collision = tick( tracks, carts )\n",
    "    \n",
    "[c.describe() for c in collision]"
   ]
  },
  {
   "cell_type": "markdown",
   "metadata": {},
   "source": [
    "# Day 13.2"
   ]
  },
  {
   "cell_type": "code",
   "execution_count": 40,
   "metadata": {},
   "outputs": [
    {
     "data": {
      "text/plain": [
       "(136, 8, 'v', 1)"
      ]
     },
     "metadata": {},
     "output_type": "display_data"
    }
   ],
   "source": [
    "while True:\n",
    "    tick( tracks, carts, True )\n",
    "    if len( carts ) < 2:\n",
    "        display( carts[0].describe() )\n",
    "        break"
   ]
  },
  {
   "cell_type": "code",
   "execution_count": null,
   "metadata": {},
   "outputs": [],
   "source": []
  }
 ],
 "metadata": {
  "kernelspec": {
   "display_name": "Python 3",
   "language": "python",
   "name": "python3"
  },
  "language_info": {
   "codemirror_mode": {
    "name": "ipython",
    "version": 3
   },
   "file_extension": ".py",
   "mimetype": "text/x-python",
   "name": "python",
   "nbconvert_exporter": "python",
   "pygments_lexer": "ipython3",
   "version": "3.6.6"
  }
 },
 "nbformat": 4,
 "nbformat_minor": 2
}
